{
 "cells": [
  {
   "attachments": {},
   "cell_type": "markdown",
   "metadata": {},
   "source": [
    "# SSMR: generate SSM model from trajectory data"
   ]
  },
  {
   "cell_type": "code",
   "execution_count": 1,
   "metadata": {},
   "outputs": [],
   "source": [
    "import numpy as np\n",
    "from scipy.io import loadmat\n",
    "from copy import deepcopy\n",
    "import os"
   ]
  },
  {
   "cell_type": "code",
   "execution_count": 2,
   "metadata": {},
   "outputs": [],
   "source": [
    "%matplotlib qt\n",
    "import matplotlib.pyplot as plt"
   ]
  },
  {
   "cell_type": "code",
   "execution_count": 3,
   "metadata": {},
   "outputs": [],
   "source": [
    "%load_ext autoreload\n",
    "%autoreload 2\n",
    "import utils as utils\n",
    "import plot_utils as plot"
   ]
  },
  {
   "cell_type": "code",
   "execution_count": 4,
   "metadata": {},
   "outputs": [],
   "source": [
    "np.set_printoptions(linewidth=300)"
   ]
  },
  {
   "cell_type": "code",
   "execution_count": 5,
   "metadata": {},
   "outputs": [],
   "source": [
    "use_data = \"mine\" # \"mine\", \"john\""
   ]
  },
  {
   "cell_type": "code",
   "execution_count": 10,
   "metadata": {},
   "outputs": [],
   "source": [
    "if use_data == \"mine\":\n",
    "    diamond_dir = \"../../../soft-robot-control/examples/diamond\"\n",
    "    decayData_dir = os.path.join(diamond_dir, \"dataCollection/origin\")\n",
    "    rest_file = os.path.join(diamond_dir, 'rest.pkl')\n",
    "\n",
    "    output_node = 1354\n",
    "    t_in = 2\n",
    "    t_out = 5\n",
    "\n",
    "    oData = utils.import_pos_data(decayData_dir, rest_file, output_node, t_in, t_out)"
   ]
  },
  {
   "attachments": {},
   "cell_type": "markdown",
   "metadata": {},
   "source": [
    "## Import and inspect data\n",
    "See mat file in URL"
   ]
  },
  {
   "cell_type": "code",
   "execution_count": 11,
   "metadata": {},
   "outputs": [
    {
     "name": "stdout",
     "output_type": "stream",
     "text": [
      "nTRAJ: 80\n"
     ]
    }
   ],
   "source": [
    "dataDecayObs = loadmat(\"../dataDecayObs.mat\") # , simplify_cells=True)\n",
    "\n",
    "Data = {}\n",
    "if use_data == \"john\":\n",
    "    Data['oData'] = dataDecayObs['oData'].tolist()\n",
    "    # Data['yData'] = dataDecayObs['yData'].tolist()\n",
    "    # Xsnapshots = dataDecayObs['Xsnapshots']\n",
    "    for i in range(len(Data['oData'])):\n",
    "        Data['oData'][i][0] = Data['oData'][i][0].squeeze()\n",
    "        # Data['yData'][i][0] = Data['yData'][i][0].squeeze()\n",
    "else: # use my data\n",
    "    Data['oData'] = oData\n",
    "\n",
    "rDOF = 3\n",
    "oDOF = 3\n",
    "nTRAJ = len(Data['oData'])\n",
    "SSMDim = 6\n",
    "\n",
    "print(\"nTRAJ:\", nTRAJ)"
   ]
  },
  {
   "attachments": {},
   "cell_type": "markdown",
   "metadata": {},
   "source": [
    "### Plot trajectories in an observable of interest"
   ]
  },
  {
   "cell_type": "code",
   "execution_count": 13,
   "metadata": {},
   "outputs": [],
   "source": [
    "outdofs = [0, 1, 2]\n",
    "plt.close('all')\n",
    "# plot trajectories in 3D [x, y, z] space\n",
    "plot.traj_3D(Data,\n",
    "             xyz_idx=[('oData', 0), ('oData', 1), ('oData', 2)],\n",
    "             xyz_names=[r'$x$', r'$y$', r'$z$'])\n",
    "# plot evolution of x, y and z in time, separately in 3 subplots\n",
    "highlight_traj = [] # [48, 49, 50, 51, 54, 55, 56, 57, 58, 59]\n",
    "plot.traj_xyz(Data,\n",
    "             xyz_idx=[('oData', 0), ('oData', 1), ('oData', 2)],\n",
    "             xyz_names=[r'$x$', r'$y$', r'$z$'],\n",
    "             highlight_idx=highlight_traj)\n",
    "# plot trajectories in 3D [x, x_dot, z] space / NB: x_dot = v_x\n",
    "# plot.traj_3D(Data,\n",
    "#              xyz_idx=[('oData', 0), ('oData', 0+oDOF), ('oData', 2)],\n",
    "#              xyz_names=[r'$x$', r'$\\dot{x}$', r'$z$'])"
   ]
  },
  {
   "cell_type": "markdown",
   "metadata": {},
   "source": [
    "Downsample data to $dt = 0.01$"
   ]
  },
  {
   "cell_type": "code",
   "execution_count": 14,
   "metadata": {},
   "outputs": [],
   "source": [
    "if use_data == 'john':\n",
    "    for i in range(nTRAJ):\n",
    "        Data['oData'][i][0] = Data['oData'][i][0][::10]\n",
    "        Data['oData'][i][1] = Data['oData'][i][1][:, ::10]"
   ]
  },
  {
   "attachments": {},
   "cell_type": "markdown",
   "metadata": {},
   "source": [
    "Compute reduced coordinates using delay embedding on the available oData"
   ]
  },
  {
   "cell_type": "code",
   "execution_count": 15,
   "metadata": {},
   "outputs": [],
   "source": [
    "N_DELAY = 4"
   ]
  },
  {
   "cell_type": "code",
   "execution_count": 16,
   "metadata": {},
   "outputs": [],
   "source": [
    "Data['yData'] = deepcopy(Data['oData'])\n",
    "for i in range(nTRAJ):\n",
    "    delay_embedded_traj = utils.delayEmbedding(Data['oData'][i][1], up_to_delay=N_DELAY)\n",
    "    Data['yData'][i][1] = delay_embedded_traj[:, :-4]\n",
    "    Data['yData'][i][0] = Data['yData'][i][0][4:]"
   ]
  },
  {
   "cell_type": "code",
   "execution_count": 19,
   "metadata": {},
   "outputs": [],
   "source": [
    "t_interval = [0.08, 2.6]\n",
    "Data['oDataTrunc'] = utils.slice_trajectories(Data['oData'], t_interval)\n",
    "Data['yDataTrunc'] = utils.slice_trajectories(Data['yData'], t_interval)"
   ]
  },
  {
   "cell_type": "code",
   "execution_count": 20,
   "metadata": {},
   "outputs": [],
   "source": [
    "# print(Data['yDataTrunc'][0][1].shape)\n",
    "# Data['yDataTrunc'][0][1][:, :5]"
   ]
  },
  {
   "attachments": {},
   "cell_type": "markdown",
   "metadata": {},
   "source": [
    "## Obtain reduced-order coordinates"
   ]
  },
  {
   "attachments": {},
   "cell_type": "markdown",
   "metadata": {},
   "source": [
    "### Perform PCA on delay-embedded coordinates to obtain reduced coordinates"
   ]
  },
  {
   "cell_type": "code",
   "execution_count": 21,
   "metadata": {},
   "outputs": [],
   "source": [
    "# Perform SVD on displacement field\n",
    "# if use_data == \"mine\":\n",
    "from scipy.sparse.linalg import svds\n",
    "\n",
    "Xsnapshots = np.hstack([yDataTrunc[1] for yDataTrunc in Data['yDataTrunc']])\n",
    "# subsample dt=0.01\n",
    "Xsnapshots = Xsnapshots[:, :]\n",
    "\n",
    "# print(Xsnapshots.shape)\n",
    "# print(Xsnapshots[:, 0:10])\n",
    "\n",
    "v, s, u = svds(Xsnapshots, k=SSMDim, which=\"LM\")\n",
    "ind = np.argsort(s)[::-1]\n",
    "s = s[ind]\n",
    "v = v[:, ind]\n",
    "# v, s, _ = np.linalg.svd(Xsnapshots, compute_uv=True)\n",
    "# print(s)\n",
    "# print(v)\n",
    "l2vals = s**2"
   ]
  },
  {
   "cell_type": "code",
   "execution_count": 23,
   "metadata": {},
   "outputs": [],
   "source": [
    "# Plot variance description: we expect three modes to capture almost all variance.\n",
    "# Note we assume data centered around the origin, which is the fixed point of our system.\n",
    "plt.close('all')\n",
    "plot.pca_modes(l2vals, up_to_mode=9)"
   ]
  },
  {
   "attachments": {},
   "cell_type": "markdown",
   "metadata": {},
   "source": [
    "### Project delay-embedded data onto dominant modes"
   ]
  },
  {
   "cell_type": "code",
   "execution_count": 24,
   "metadata": {},
   "outputs": [],
   "source": [
    "from copy import deepcopy\n",
    "Data['etaDataTrunc'] = deepcopy(Data['yDataTrunc'])\n",
    "Vde = v[:, :SSMDim]\n",
    "for i in range(nTRAJ):\n",
    "    Data['etaDataTrunc'][i][1] = Vde.T @ Data['yDataTrunc'][i][1]"
   ]
  },
  {
   "cell_type": "code",
   "execution_count": 25,
   "metadata": {},
   "outputs": [],
   "source": [
    "plt.close('all')\n",
    "# plot first three reduced coordinates\n",
    "plot.traj_xyz(Data,\n",
    "              xyz_idx=[('etaDataTrunc', 0), ('etaDataTrunc', 1), ('etaDataTrunc', 2)],\n",
    "              xyz_names=[r'$u_1$', r'$u_2$', r'$u_3$'])"
   ]
  },
  {
   "attachments": {},
   "cell_type": "markdown",
   "metadata": {},
   "source": [
    "### Train and test data (train/test split)"
   ]
  },
  {
   "cell_type": "code",
   "execution_count": 26,
   "metadata": {},
   "outputs": [],
   "source": [
    "indTest = [0, 4] # [0, 2, 4, 6, 8, 10, 12, 14]\n",
    "indTrain = [i for i in range(nTRAJ) if i not in indTest]"
   ]
  },
  {
   "attachments": {},
   "cell_type": "markdown",
   "metadata": {},
   "source": [
    "## SSMLearn"
   ]
  },
  {
   "attachments": {},
   "cell_type": "markdown",
   "metadata": {},
   "source": [
    "Start Matlab engine and install/run SSMLearn"
   ]
  },
  {
   "cell_type": "code",
   "execution_count": 27,
   "metadata": {},
   "outputs": [
    {
     "name": "stdout",
     "output_type": "stream",
     "text": [
      "SSMLearn: Data-driven Reduced Order Models for Nonlinear Dynamical Systems\n",
      "Maintained by Mattia Cenedese (mattiac@ethz.ch) and Joar Ax\u001as (jgoeransson@ethz.ch)\n",
      "License: GNUv3.0\n",
      "Warning: Name is nonexistent or not a directory: /home/jonas/Projects/stanford/SSMR-for-control/modal_trajectory_data/check_model\n",
      "> In path (line 109)\n",
      "In addpath (line 86)\n",
      "In install (line 20)\n"
     ]
    },
    {
     "data": {
      "text/plain": [
       "'/home/jonas/Projects/stanford/SSMR-for-control'"
      ]
     },
     "execution_count": 27,
     "metadata": {},
     "output_type": "execute_result"
    }
   ],
   "source": [
    "import matlab.engine\n",
    "eng = matlab.engine.start_matlab()\n",
    "eng.cd(\"../..\", nargout=0)\n",
    "eng.install(nargout=0)\n",
    "eng.cd(\"ROM/\")"
   ]
  },
  {
   "attachments": {},
   "cell_type": "markdown",
   "metadata": {},
   "source": [
    "Bring data in a format that is accepted by the (slightly modified) version of SSMLearn (requires a specific cell array structure for input data)"
   ]
  },
  {
   "cell_type": "code",
   "execution_count": 28,
   "metadata": {},
   "outputs": [],
   "source": [
    "# make data ready for Matlab\n",
    "yDataTruncTrain_matlab = [[], []]\n",
    "etaDataTruncTrain_matlab = [[], []]\n",
    "for i in indTrain:\n",
    "    yDataTruncTrain_matlab[0].append(matlab.double(initializer=Data['yDataTrunc'][i][0].tolist()))\n",
    "    yDataTruncTrain_matlab[1].append(matlab.double(initializer=Data['yDataTrunc'][i][1].tolist()))\n",
    "    etaDataTruncTrain_matlab[0].append(matlab.double(initializer=Data['etaDataTrunc'][i][0].tolist()))\n",
    "    etaDataTruncTrain_matlab[1].append(matlab.double(initializer=Data['etaDataTrunc'][i][1].tolist()))\n"
   ]
  },
  {
   "attachments": {},
   "cell_type": "markdown",
   "metadata": {},
   "source": [
    "### Learn geometry of the SSM"
   ]
  },
  {
   "attachments": {},
   "cell_type": "markdown",
   "metadata": {},
   "source": [
    "Find parametrization of SSM using SSMLearn"
   ]
  },
  {
   "cell_type": "code",
   "execution_count": 29,
   "metadata": {},
   "outputs": [
    {
     "name": "stdout",
     "output_type": "stream",
     "text": [
      "(6, 253)\n",
      "Data seems to have been fed from Python!\n"
     ]
    }
   ],
   "source": [
    "SSMOrder = 3\n",
    "\n",
    "print(Data['etaDataTrunc'][0][1].shape)\n",
    "\n",
    "IMInfo = eng.IMGeometry(yDataTruncTrain_matlab, SSMDim, SSMOrder,\n",
    "                        'reducedCoordinates', etaDataTruncTrain_matlab)\n",
    "# IMInfoInv = eng.IMGeometry(yDataTruncTrain_matlab, obsDim, SSMOrder,\n",
    "#                            'reducedCoordinates', oDataTruncTrain_matlab)\n"
   ]
  },
  {
   "attachments": {},
   "cell_type": "markdown",
   "metadata": {},
   "source": [
    "### Learn dynamics on the SSM (reduced dynamics)"
   ]
  },
  {
   "attachments": {},
   "cell_type": "markdown",
   "metadata": {},
   "source": [
    "Find parametrization of reduced dynamics using SSMLearn"
   ]
  },
  {
   "cell_type": "code",
   "execution_count": 30,
   "metadata": {},
   "outputs": [
    {
     "name": "stdout",
     "output_type": "stream",
     "text": [
      "Data seems to have been fed from Python!\n",
      "Estimation of the reduced dynamics... \n",
      "\b Done. \n"
     ]
    }
   ],
   "source": [
    "ROMOrder = 3\n",
    "RDInfo = eng.IMDynamicsFlow(etaDataTruncTrain_matlab, 'R_PolyOrd', ROMOrder, 'style', 'default')"
   ]
  },
  {
   "attachments": {},
   "cell_type": "markdown",
   "metadata": {},
   "source": [
    "Stop Matlab engine -- not needed anymore"
   ]
  },
  {
   "cell_type": "code",
   "execution_count": 31,
   "metadata": {},
   "outputs": [],
   "source": [
    "eng.quit()"
   ]
  },
  {
   "cell_type": "markdown",
   "metadata": {},
   "source": [
    "Convert all matlab double arrays to numpy arrays"
   ]
  },
  {
   "cell_type": "code",
   "execution_count": 32,
   "metadata": {},
   "outputs": [],
   "source": [
    "def convert_matlab_arrays_to_numpy_arrays(info_dict):\n",
    "  for k,v in info_dict.items():        \n",
    "     if isinstance(v, dict):\n",
    "         convert_matlab_arrays_to_numpy_arrays(v)\n",
    "     else:            \n",
    "        if isinstance(v, matlab.double):\n",
    "           info_dict[k] = np.array(v)\n",
    "\n",
    "convert_matlab_arrays_to_numpy_arrays(IMInfo)\n",
    "convert_matlab_arrays_to_numpy_arrays(RDInfo)"
   ]
  },
  {
   "attachments": {},
   "cell_type": "markdown",
   "metadata": {},
   "source": [
    "## Analyze the obtained mappings of SSM geometry and reduced dynamics"
   ]
  },
  {
   "attachments": {},
   "cell_type": "markdown",
   "metadata": {},
   "source": [
    "### SSM geometry (parametrization)"
   ]
  },
  {
   "cell_type": "code",
   "execution_count": 33,
   "metadata": {},
   "outputs": [],
   "source": [
    "yRec = {}\n",
    "errorGeo = {}\n",
    "meanErrorGeo = {}"
   ]
  },
  {
   "attachments": {},
   "cell_type": "markdown",
   "metadata": {},
   "source": [
    "#### Train error"
   ]
  },
  {
   "cell_type": "code",
   "execution_count": 34,
   "metadata": {},
   "outputs": [
    {
     "name": "stdout",
     "output_type": "stream",
     "text": [
      "Average parametrization train error: 2.4568e-03\n"
     ]
    }
   ],
   "source": [
    "yRec['Train'] = utils.lift_trajectories(IMInfo, [Data['etaDataTrunc'][i] for i in indTrain])\n",
    "errorGeo['Train'] = utils.compute_trajectory_errors(yRec['Train'], [Data['yDataTrunc'][i] for i in indTrain])[0] * 100\n",
    "\n",
    "meanErrorGeo['Train'] = np.mean(errorGeo['Train'])\n",
    "print(f\"Average parametrization train error: {meanErrorGeo['Train']:.4e}\")"
   ]
  },
  {
   "attachments": {},
   "cell_type": "markdown",
   "metadata": {},
   "source": [
    "#### Test error"
   ]
  },
  {
   "cell_type": "code",
   "execution_count": 35,
   "metadata": {},
   "outputs": [
    {
     "name": "stdout",
     "output_type": "stream",
     "text": [
      "Average parametrization test error: 2.8593e-03\n"
     ]
    }
   ],
   "source": [
    "yRec['Test'] = utils.lift_trajectories(IMInfo, [Data['etaDataTrunc'][i] for i in indTest])\n",
    "errorGeo['Test'] = utils.compute_trajectory_errors(yRec['Test'], [Data['yDataTrunc'][i] for i in indTest])[0] * 100\n",
    "\n",
    "meanErrorGeo['Test'] = np.mean(errorGeo['Test'])\n",
    "print(f\"Average parametrization test error: {meanErrorGeo['Test']:.4e}\")"
   ]
  },
  {
   "attachments": {},
   "cell_type": "markdown",
   "metadata": {},
   "source": [
    "Plot comparison of SSM-predicted vs. actual test trajectories"
   ]
  },
  {
   "cell_type": "code",
   "execution_count": 36,
   "metadata": {},
   "outputs": [
    {
     "name": "stdout",
     "output_type": "stream",
     "text": [
      "(15, 296)\n",
      "(15, 253)\n"
     ]
    }
   ],
   "source": [
    "print(Data['yData'][0][1].shape)\n",
    "print(yRec['Test'][0][1].shape)"
   ]
  },
  {
   "cell_type": "code",
   "execution_count": 37,
   "metadata": {},
   "outputs": [],
   "source": [
    "plt.close('all')\n",
    "axs = plot.traj_xyz(Data,\n",
    "                    xyz_idx=[('yData', 0), ('yData', 1), ('yData', 2)],\n",
    "                    xyz_names=[r'$x$', r'$y$', r'$z$'],\n",
    "                    traj_idx=indTest,\n",
    "                    show=False)\n",
    "plot.traj_xyz(yRec,\n",
    "              xyz_idx=[('Test', 0), ('Test', 1), ('Test', 2)],\n",
    "              xyz_names=[r'$x$', r'$y$', r'$z$'],\n",
    "              axs=axs, ls=':', color='darkblue')"
   ]
  },
  {
   "attachments": {},
   "cell_type": "markdown",
   "metadata": {},
   "source": [
    "### Reduced dynamics"
   ]
  },
  {
   "cell_type": "code",
   "execution_count": 38,
   "metadata": {},
   "outputs": [
    {
     "name": "stdout",
     "output_type": "stream",
     "text": [
      "Average dynamics train error: 0.1114\n",
      "Average dynamics test error: 0.1317\n"
     ]
    }
   ],
   "source": [
    "etaRec = {}\n",
    "etaRec['RD'] = utils.advectRD(RDInfo, Data['etaDataTrunc'])[0]\n",
    "meanErrorDyn = {}\n",
    "\n",
    "for i in range(nTRAJ):\n",
    "    if etaRec['RD'][i][1].shape[1] != Data['etaDataTrunc'][i][1].shape[1]:\n",
    "        print(i)\n",
    "\n",
    "normedTrajDist = utils.compute_trajectory_errors(etaRec['RD'], Data['etaDataTrunc'])[0]\n",
    "meanErrorDyn['Train'] = np.mean(normedTrajDist[indTrain]) * 100\n",
    "meanErrorDyn['Test'] = np.mean(normedTrajDist[indTest]) * 100\n",
    "\n",
    "print(f\"Average dynamics train error: {meanErrorDyn['Train']:.4f}\")\n",
    "print(f\"Average dynamics test error: {meanErrorDyn['Test']:.4f}\")"
   ]
  },
  {
   "cell_type": "code",
   "execution_count": 39,
   "metadata": {},
   "outputs": [],
   "source": [
    "plot_all = False\n",
    "if plot_all:\n",
    "    vPlot = range(nTRAJ)\n",
    "else:\n",
    "    vPlot = indTest\n",
    "\n",
    "plt.close('all')\n",
    "axs = plot.traj_xyz(Data,\n",
    "                    xyz_idx=[('etaDataTrunc', 0), ('etaDataTrunc', 1), ('etaDataTrunc', 2)],\n",
    "                    xyz_names=[r'$u_1$', r'$u_2$', r'$u_3$'],\n",
    "                    traj_idx=vPlot,\n",
    "                    show=False)\n",
    "plot.traj_xyz(etaRec,\n",
    "              xyz_idx=[('RD', 0), ('RD', 1), ('RD', 2)],\n",
    "              xyz_names=[r'$u_1$', r'$u_2$', r'$u_3$'],\n",
    "              traj_idx=vPlot,\n",
    "              axs=axs, ls=':', color='darkblue')\n"
   ]
  },
  {
   "attachments": {},
   "cell_type": "markdown",
   "metadata": {},
   "source": [
    "### Global error"
   ]
  },
  {
   "cell_type": "code",
   "execution_count": 40,
   "metadata": {},
   "outputs": [],
   "source": [
    "errorGlo = {}\n",
    "meanErrorGlo = {}"
   ]
  },
  {
   "attachments": {},
   "cell_type": "markdown",
   "metadata": {},
   "source": [
    "#### Train error"
   ]
  },
  {
   "cell_type": "code",
   "execution_count": 41,
   "metadata": {},
   "outputs": [
    {
     "name": "stdout",
     "output_type": "stream",
     "text": [
      "Average global train error: 0.1117\n"
     ]
    }
   ],
   "source": [
    "yRec['RDTrain'] = utils.lift_trajectories(IMInfo, [etaRec['RD'][i] for i in indTrain])\n",
    "errorGlo['Train'] = utils.compute_trajectory_errors(yRec['RDTrain'], [Data['yDataTrunc'][i] for i in indTrain])[0] * 100\n",
    "\n",
    "meanErrorGlo['Train'] = np.mean(errorGlo['Train'])\n",
    "print(f\"Average global train error: {meanErrorGlo['Train']:.4f}\")"
   ]
  },
  {
   "attachments": {},
   "cell_type": "markdown",
   "metadata": {},
   "source": [
    "#### Test error"
   ]
  },
  {
   "cell_type": "code",
   "execution_count": 42,
   "metadata": {},
   "outputs": [
    {
     "name": "stdout",
     "output_type": "stream",
     "text": [
      "Average global test error: 0.1322\n"
     ]
    }
   ],
   "source": [
    "yRec['RDTest'] = utils.lift_trajectories(IMInfo, [etaRec['RD'][i] for i in indTest])\n",
    "errorGlo['Test'] = utils.compute_trajectory_errors(yRec['RDTest'], [Data['yDataTrunc'][i] for i in indTest])[0] * 100\n",
    "\n",
    "meanErrorGlo['Test'] = np.mean(errorGlo['Test'])\n",
    "print(f\"Average global test error: {meanErrorGlo['Test']:.4f}\")"
   ]
  },
  {
   "cell_type": "code",
   "execution_count": 43,
   "metadata": {},
   "outputs": [],
   "source": [
    "plt.close('all')\n",
    "axs = plot.traj_xyz(Data,\n",
    "                    xyz_idx=[('yData', 0), ('yData', 1), ('yData', 2)],\n",
    "                    xyz_names=[r'$x$', r'$y$', r'$z$'],\n",
    "                    traj_idx=indTest,\n",
    "                    show=False)\n",
    "plot.traj_xyz(yRec,\n",
    "              xyz_idx=[('RDTest', 0), ('RDTest', 1), ('RDTest', 2)],\n",
    "              xyz_names=[r'$x$', r'$y$', r'$z$'],\n",
    "              axs=axs, ls=':', color='darkblue')"
   ]
  },
  {
   "attachments": {},
   "cell_type": "markdown",
   "metadata": {},
   "source": [
    "## Control"
   ]
  },
  {
   "attachments": {},
   "cell_type": "markdown",
   "metadata": {},
   "source": [
    "### Setup model for control"
   ]
  },
  {
   "cell_type": "code",
   "execution_count": 44,
   "metadata": {},
   "outputs": [],
   "source": [
    "from scipy.integrate import solve_ivp\n",
    "from scipy.interpolate import interp1d "
   ]
  },
  {
   "cell_type": "code",
   "execution_count": 45,
   "metadata": {},
   "outputs": [],
   "source": [
    "Rauton = utils.Rauton(RDInfo)\n",
    "Vauton = lambda x: IMInfo['parametrization']['H'] @ utils.multivariate_polynomial(x, IMInfo['parametrization']['polynomialOrder'])\n",
    "Wauton = lambda y: Vde.T @ y"
   ]
  },
  {
   "attachments": {},
   "cell_type": "markdown",
   "metadata": {},
   "source": [
    "### Learn control matrix $B$"
   ]
  },
  {
   "attachments": {},
   "cell_type": "markdown",
   "metadata": {},
   "source": [
    "Use figure8 trajectory as the training data"
   ]
  },
  {
   "cell_type": "code",
   "execution_count": 46,
   "metadata": {},
   "outputs": [
    {
     "name": "stdout",
     "output_type": "stream",
     "text": [
      "[-7.07686434  1.2132194  97.04053866]\n"
     ]
    }
   ],
   "source": [
    "# Load the controls and actual trajectories for figure8\n",
    "u_train = np.loadtxt(\"../../system_data/u_big.csv\", delimiter=',').T\n",
    "z_train = np.loadtxt(\"../../system_data/z_big.csv\", delimiter=',').T\n",
    "z_eq_train = np.loadtxt(\"../../system_data/z_equilibrium.csv\", delimiter=',')\n",
    "print(z_eq_train)\n",
    "\n",
    "# tip position, normalized using resting position\n",
    "z_shift_train = (z_train[-3:, :].T - z_eq_train).T\n",
    "\n",
    "# original spacing of inputs\n",
    "T = 10.01\n",
    "dt = 0.01\n",
    "N = int(T / dt)\n",
    "t_train = np.linspace(0, T, N+1)"
   ]
  },
  {
   "attachments": {},
   "cell_type": "markdown",
   "metadata": {},
   "source": [
    "Use randomly sampled (step) inputs as the training data"
   ]
  },
  {
   "cell_type": "code",
   "execution_count": 47,
   "metadata": {},
   "outputs": [
    {
     "name": "stdout",
     "output_type": "stream",
     "text": [
      "(6, 8692)\n"
     ]
    }
   ],
   "source": [
    "diamond_train_full = loadmat(\"../diamond_train_full.mat\", simplify_cells=True)\n",
    "z_train, u_train, _ = diamond_train_full['y'].T, diamond_train_full['u'].T, diamond_train_full['t']\n",
    "print(z_train.shape)\n",
    "\n",
    "# tip position, normalized using resting position\n",
    "z_shift_train = (z_train[-3:, :].T - z_train[-3:, 0]).T\n",
    "dt = 0.01\n",
    "t_train = np.arange(z_train.shape[1]) * dt"
   ]
  },
  {
   "attachments": {},
   "cell_type": "markdown",
   "metadata": {},
   "source": [
    "Plot the training data"
   ]
  },
  {
   "cell_type": "code",
   "execution_count": 48,
   "metadata": {},
   "outputs": [],
   "source": [
    "plt.close('all')\n",
    "plot.traj_xyz_txyz(t=t_train,\n",
    "                   x=z_shift_train[0, :], y=z_shift_train[1, :], z=z_shift_train[2, :])\n",
    "plot.inputs(t_train, u_train)"
   ]
  },
  {
   "attachments": {},
   "cell_type": "markdown",
   "metadata": {},
   "source": [
    "Do delay embedding on the tip position (and optionally, on the inputs). Then, compute reduced coordinates and gradient as predicted by reduced dynamics, as well as the numerical (true) gradient"
   ]
  },
  {
   "cell_type": "code",
   "execution_count": 49,
   "metadata": {},
   "outputs": [
    {
     "name": "stdout",
     "output_type": "stream",
     "text": [
      "y.shape: (15, 8692), u.shape: (4, 8692)\n",
      "[0.   0.01 0.02 0.03 0.04]\n",
      "[0.10504803 0.1624417  0.22091606 0.28590054 0.37056534]\n",
      "(8692,)\n"
     ]
    }
   ],
   "source": [
    "# delay-embed tip position (as well as inputs?)\n",
    "y_train = utils.delayEmbedding(z_shift_train, embed_coords=[0, 1, 2], up_to_delay=N_DELAY)\n",
    "print(f\"y.shape: {y_train.shape}, u.shape: {u_train.shape}\")\n",
    "# reduced coordinates\n",
    "print(t_train[:5])\n",
    "x_train = Wauton(y_train)\n",
    "print(x_train[0, :5])\n",
    "dxDt = np.gradient(x_train, dt, axis=1)\n",
    "dxDt_ROM = Rauton(x_train)\n",
    "\n",
    "# optionally, throw away some of the training data\n",
    "# keep_indices = np.s_[4000:-100]\n",
    "keep_indices = np.s_[30:-20]\n",
    "t_train_trunc = t_train[keep_indices]\n",
    "u_train_trunc = u_train[:, keep_indices]\n",
    "x_train_trunc = x_train[:, keep_indices]\n",
    "y_train_trunc = y_train[:, keep_indices]\n",
    "dxDt = dxDt[:, keep_indices]\n",
    "dxDt_ROM = dxDt_ROM[:, keep_indices]\n",
    "\n",
    "print(t_train.shape)"
   ]
  },
  {
   "cell_type": "code",
   "execution_count": 50,
   "metadata": {},
   "outputs": [],
   "source": [
    "plt.close('all')\n",
    "ax = plot.traj_3D_xyz(y_train_trunc[outdofs[0], :],\n",
    "                      y_train_trunc[outdofs[1], :],\n",
    "                      y_train_trunc[outdofs[2], :], show=True)"
   ]
  },
  {
   "attachments": {},
   "cell_type": "markdown",
   "metadata": {},
   "source": [
    "Plot gradients (numerical differentiation and reduced dynamics)"
   ]
  },
  {
   "cell_type": "code",
   "execution_count": 51,
   "metadata": {},
   "outputs": [
    {
     "name": "stdout",
     "output_type": "stream",
     "text": [
      "(6, 8642)\n"
     ]
    }
   ],
   "source": [
    "print(dxDt.shape)\n",
    "plot.reduced_coordinates_gradient(t_train_trunc, [dxDt, dxDt_ROM], labels=[\"true numerical\", \"predicted autonomous\"], how=\"all\")"
   ]
  },
  {
   "cell_type": "code",
   "execution_count": 52,
   "metadata": {},
   "outputs": [],
   "source": [
    "plt.close('all')\n",
    "plot.dependence_of_xdot_on_inputs(dxDt, u_train_trunc)"
   ]
  },
  {
   "attachments": {},
   "cell_type": "markdown",
   "metadata": {},
   "source": [
    "Learn $B$ matrix"
   ]
  },
  {
   "cell_type": "code",
   "execution_count": 53,
   "metadata": {},
   "outputs": [
    {
     "name": "stdout",
     "output_type": "stream",
     "text": [
      "(4, 8642)\n",
      "(6, 4)\n"
     ]
    }
   ],
   "source": [
    "from sklearn.linear_model import Ridge\n",
    "\n",
    "polyUorder = 1\n",
    "# assemble_features = lambda u, x: utils.multivariate_polynomial(np.vstack([u, x]), order=polyUorder)\n",
    "assemble_features = lambda u, x: utils.multivariate_polynomial(u, order=polyUorder)\n",
    "\n",
    "X = assemble_features(u_train_trunc, x_train_trunc)\n",
    "print(X.shape)\n",
    "\n",
    "ridgeModel = Ridge(alpha=1000, fit_intercept=False)\n",
    "ridgeModel.fit(X.T, (dxDt - dxDt_ROM).T)\n",
    "B_learn = ridgeModel.coef_\n",
    "print(B_learn.shape)"
   ]
  },
  {
   "attachments": {},
   "cell_type": "markdown",
   "metadata": {},
   "source": [
    "Frobenius norm of $B_{learn}$ to estimate how much influence inputs have on dynamics"
   ]
  },
  {
   "cell_type": "code",
   "execution_count": 54,
   "metadata": {},
   "outputs": [
    {
     "name": "stdout",
     "output_type": "stream",
     "text": [
      "Frobenius norm of B_learn: 0.3200\n"
     ]
    }
   ],
   "source": [
    "print(f\"Frobenius norm of B_learn: {np.linalg.norm(B_learn, ord='fro'):.4f}\")"
   ]
  },
  {
   "attachments": {},
   "cell_type": "markdown",
   "metadata": {},
   "source": [
    "Plot gradients again, but this time, using the learned influence of inputs for the prediction"
   ]
  },
  {
   "cell_type": "code",
   "execution_count": 55,
   "metadata": {},
   "outputs": [],
   "source": [
    "plt.close('all')\n",
    "plot_reduced_coords = np.s_[:] # [3, 4, 5]\n",
    "dxDt_ROM_with_B = Rauton(x_train_trunc) + B_learn @ assemble_features(u_train_trunc, x_train_trunc) # utils.multivariate_polynomial(u_train_trunc, order=polyUorder)\n",
    "plot.reduced_coordinates_gradient(t_train_trunc, [dxDt[plot_reduced_coords, :], dxDt_ROM[plot_reduced_coords, :], dxDt_ROM_with_B[plot_reduced_coords, :]], labels=[\"true numerical\", \"predicted autonomous\", \"predicted with inputs\"], how=\"all\")"
   ]
  },
  {
   "cell_type": "code",
   "execution_count": 56,
   "metadata": {},
   "outputs": [],
   "source": [
    "# # home-brewed ridge regression\n",
    "# alpha = 0\n",
    "# X, y = U.T, (dXbarDt - dXbarDt_ROM).T\n",
    "# B_learn = np.linalg.solve(X.T @ X + alpha * np.eye(X.shape[0]), X.T @ y)"
   ]
  },
  {
   "attachments": {},
   "cell_type": "markdown",
   "metadata": {},
   "source": [
    "### Integrate model with inputs (big amplitude) -- and using learned influence of control"
   ]
  },
  {
   "attachments": {},
   "cell_type": "markdown",
   "metadata": {},
   "source": [
    "Try to predict the training trajectory using reduced dynamics"
   ]
  },
  {
   "cell_type": "code",
   "execution_count": 57,
   "metadata": {},
   "outputs": [
    {
     "name": "stdout",
     "output_type": "stream",
     "text": [
      "(6, 1002)\n"
     ]
    }
   ],
   "source": [
    "# Load the controls and actual trajectories for figure8\n",
    "u_test = np.loadtxt(\"../../system_data/u_big.csv\", delimiter=',').T\n",
    "z_test = np.loadtxt(\"../../system_data/z_big.csv\", delimiter=',').T\n",
    "z_eq_test = np.loadtxt(\"../../system_data/z_equilibrium.csv\", delimiter=',')\n",
    "print(z_test.shape)\n",
    "# tip position, normalized using resting position\n",
    "z_shift_test = (z_test[-3:, :].T - z_eq_test).T\n",
    "# delay-embed tip position (as well as inputs?)\n",
    "y_test = utils.delayEmbedding(z_shift_test, embed_coords=[0, 1, 2], up_to_delay=N_DELAY)\n",
    "# reduced coordinates\n",
    "x_test = Wauton(y_test)\n",
    "\n",
    "# original spacing of inputs\n",
    "T = 10.01\n",
    "dt = 0.01\n",
    "N = int(T / dt)\n",
    "t_test = np.linspace(0, T, N+1)\n",
    "\n",
    "slice_traj = np.s_[30:-20]\n",
    "t_test = t_test[slice_traj]\n",
    "u_test = u_test[:, slice_traj]\n",
    "x_test = x_test[:, slice_traj]\n",
    "z_test = z_test[:, slice_traj]"
   ]
  },
  {
   "cell_type": "code",
   "execution_count": 58,
   "metadata": {},
   "outputs": [
    {
     "name": "stdout",
     "output_type": "stream",
     "text": [
      "(3, 952)\n"
     ]
    }
   ],
   "source": [
    "uInterpFun = interp1d(t_test, u_test, axis=1, fill_value=\"extrapolate\")\n",
    "uFun = lambda t: uInterpFun(t).reshape(-1, 1)\n",
    "# print(t_test.shape, dxDt.shape)\n",
    "# dxDtInterpFun = interp1d(t_test, dxDt_ROM, axis=1, fill_value=\"extrapolate\")\n",
    "def R(t, y):\n",
    "    return Rauton(np.atleast_2d(y)) + B_learn @ assemble_features(uFun(t), y) # utils.multivariate_polynomial(uFun(t), order=polyUorder)\n",
    "    # return dxDtInterpFun(t)\n",
    "\n",
    "# solve IVP of reduced dynamics using open-loop figure8 inputs\n",
    "sol = solve_ivp(R,\n",
    "                t_span=[t_test[0], t_test[-1]],\n",
    "                t_eval=t_test,\n",
    "                y0=x_test[:, 0], # np.zeros(2*rDOF),\n",
    "                method='RK45',\n",
    "                vectorized=True,\n",
    "                rtol=1e-3,\n",
    "                atol=1e-3)\n",
    "# resulting (predicted) open-loop trajectory in reduced coordinates\n",
    "xTraj = sol.y\n",
    "yTraj = Vauton(xTraj)\n",
    "zTraj = (yTraj[:3, :].T + z_eq_test).T\n",
    "print(zTraj.shape)\n",
    "\n",
    "plt.close('all')\n",
    "ax = plot.traj_3D_xyz(zTraj[outdofs[0], :],\n",
    "                      zTraj[outdofs[1], :],\n",
    "                      zTraj[outdofs[2], :], show=False)\n",
    "ax = plot.traj_3D_xyz(z_test[3, :],\n",
    "                      z_test[4, :],\n",
    "                      z_test[5, :], color=\"tab:orange\", ax=ax, show=False)\n",
    "ax.legend([\"Predicted trajectory\", \"Actual trajectory\"])\n",
    "plt.show()\n"
   ]
  },
  {
   "cell_type": "code",
   "execution_count": 59,
   "metadata": {},
   "outputs": [
    {
     "name": "stdout",
     "output_type": "stream",
     "text": [
      "RMSE = 0.4962\n"
     ]
    }
   ],
   "source": [
    "RMSE = np.sum(np.sqrt(np.mean((zTraj[0:3, :] - z_test[-3:])**2, axis=0))) / zTraj.shape[1]\n",
    "print(f\"RMSE = {RMSE:.4f}\")"
   ]
  },
  {
   "attachments": {},
   "cell_type": "markdown",
   "metadata": {},
   "source": [
    "## Save SSM model"
   ]
  },
  {
   "attachments": {},
   "cell_type": "markdown",
   "metadata": {},
   "source": [
    "Continuous model"
   ]
  },
  {
   "cell_type": "code",
   "execution_count": 60,
   "metadata": {},
   "outputs": [
    {
     "name": "stdout",
     "output_type": "stream",
     "text": [
      "6\n"
     ]
    }
   ],
   "source": [
    "SSM_model = {'model': {}, 'params': {}}\n",
    "\n",
    "SSM_model['model']['w_coeff'] = IMInfo['parametrization']['H']\n",
    "SSM_model['model']['v_coeff'] = None # Vde # IMInfo['chart']['H']\n",
    "SSM_model['model']['r_coeff'] = RDInfo['reducedDynamics']['coefficients']\n",
    "SSM_model['model']['B'] = B_learn\n",
    "SSM_model['model']['V'] = Vde\n",
    "\n",
    "SSM_model['params']['SSM_order'] = SSMOrder\n",
    "SSM_model['params']['ROM_order'] = ROMOrder\n",
    "SSM_model['params']['state_dim'] = 2 * rDOF\n",
    "print(2*rDOF)\n",
    "\n",
    "SSM_model['params']['input_dim'] = B_learn.shape[1]\n",
    "SSM_model['params']['output_dim'] = 3 # 2 * oDOF\n",
    "SSM_model['params']['delays'] = N_DELAY\n",
    "SSM_model['params']['obs_dim'] = 3 * (1 + N_DELAY)"
   ]
  },
  {
   "cell_type": "code",
   "execution_count": 61,
   "metadata": {},
   "outputs": [],
   "source": [
    "import pickle\n",
    "# save dictionary to person_data.pkl file\n",
    "with open('../../../soft-robot-control/examples/hardware/SSMmodels/SSM_model_delayEmbedding.pkl', 'wb') as f:\n",
    "    pickle.dump(SSM_model, f)"
   ]
  },
  {
   "cell_type": "code",
   "execution_count": null,
   "metadata": {},
   "outputs": [],
   "source": []
  }
 ],
 "metadata": {
  "kernelspec": {
   "display_name": "soft",
   "language": "python",
   "name": "python3"
  },
  "language_info": {
   "codemirror_mode": {
    "name": "ipython",
    "version": 3
   },
   "file_extension": ".py",
   "mimetype": "text/x-python",
   "name": "python",
   "nbconvert_exporter": "python",
   "pygments_lexer": "ipython3",
   "version": "3.8.16"
  },
  "orig_nbformat": 4,
  "vscode": {
   "interpreter": {
    "hash": "5103b5dc615bcda33cb54d9b91143b3686f5f995c24adceaa9e3ace35345f8c5"
   }
  }
 },
 "nbformat": 4,
 "nbformat_minor": 2
}
