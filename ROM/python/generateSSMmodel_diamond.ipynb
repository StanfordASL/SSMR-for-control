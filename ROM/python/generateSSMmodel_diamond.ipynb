{
 "cells": [
  {
   "attachments": {},
   "cell_type": "markdown",
   "metadata": {},
   "source": [
    "# SSMR: generate SSM model from trajectory data"
   ]
  },
  {
   "cell_type": "code",
   "execution_count": 189,
   "metadata": {},
   "outputs": [],
   "source": [
    "import numpy as np\n",
    "from scipy.io import loadmat\n",
    "from copy import deepcopy\n",
    "import os\n",
    "from os.path import join, exists, isdir\n",
    "import pickle"
   ]
  },
  {
   "cell_type": "code",
   "execution_count": 190,
   "metadata": {},
   "outputs": [],
   "source": [
    "%matplotlib qt\n",
    "import matplotlib.pyplot as plt"
   ]
  },
  {
   "cell_type": "code",
   "execution_count": 191,
   "metadata": {},
   "outputs": [
    {
     "name": "stdout",
     "output_type": "stream",
     "text": [
      "The autoreload extension is already loaded. To reload it, use:\n",
      "  %reload_ext autoreload\n"
     ]
    }
   ],
   "source": [
    "%load_ext autoreload\n",
    "%autoreload 2\n",
    "import utils as utils\n",
    "import plot_utils as plot"
   ]
  },
  {
   "cell_type": "code",
   "execution_count": 192,
   "metadata": {},
   "outputs": [],
   "source": [
    "np.set_printoptions(linewidth=300)"
   ]
  },
  {
   "cell_type": "code",
   "execution_count": 193,
   "metadata": {},
   "outputs": [],
   "source": [
    "use_data = \"john\" # \"mine\", \"john\"\n",
    "observables = \"delay embedding\" #\"pos-vel\" # \"delay embedding\"\n",
    "TIP_NODE = 1354"
   ]
  },
  {
   "attachments": {},
   "cell_type": "markdown",
   "metadata": {},
   "source": [
    "## Import and inspect data\n",
    "See mat file in URL"
   ]
  },
  {
   "cell_type": "code",
   "execution_count": 194,
   "metadata": {},
   "outputs": [
    {
     "name": "stdout",
     "output_type": "stream",
     "text": [
      "nTRAJ: 52\n"
     ]
    }
   ],
   "source": [
    "Data = {}\n",
    "if use_data == \"john\":\n",
    "    dataDecayObs = loadmat(\"../dataDecayObs.mat\") # , simplify_cells=True)\n",
    "    Data['oData'] = dataDecayObs['oData'].tolist()\n",
    "    Data['etaData'] = dataDecayObs['yData'].tolist()\n",
    "    # Xsnapshots = dataDecayObs['Xsnapshots']\n",
    "    for i in range(len(Data['oData'])):\n",
    "        Data['oData'][i][0] = Data['oData'][i][0].squeeze()\n",
    "        # Data['yData'][i][0] = Data['yData'][i][0].squeeze()\n",
    "    data_dir = \"/home/jalora/Desktop/diamond\"\n",
    "    with open(join(data_dir, \"rest_q.pkl\"), \"rb\") as f:\n",
    "        q_eq = np.array(pickle.load(f))\n",
    "    \n",
    "    # diamond_dir = \"/home/jalora/Desktop/diamond\"\n",
    "    # with open(join(diamond_dir, \"rest_q.pkl\"), \"rb\") as f:\n",
    "    #     q_eq = np.array(pickle.load(f))\n",
    "\n",
    "    # decayData_dir = os.path.join(diamond_dir, \"decay\")\n",
    "    # Data['oData'] = utils.import_pos_data(decayData_dir, q_rest=q_eq, output_node=TIP_NODE, \n",
    "    #                                       file_type='mat', subsample=1, return_velocity=True)\n",
    "elif use_data == \"john_full\":\n",
    "    pass\n",
    "elif use_data == \"mine\":\n",
    "    diamond_dir = \"../../../soft-robot-control/examples/diamond\"\n",
    "    decayData_dir = os.path.join(diamond_dir, \"dataCollection/origin\")\n",
    "    rest_file = os.path.join(diamond_dir, 'rest.pkl')\n",
    "    Data['oData'] = utils.import_pos_data(decayData_dir, rest_file, output_node='all', t_in=2, t_out=5)\n",
    "\n",
    "rDOF = 3\n",
    "oDOF = 3\n",
    "nTRAJ = len(Data['oData'])\n",
    "SSMDim = 6\n",
    "\n",
    "print(\"nTRAJ:\", nTRAJ)"
   ]
  },
  {
   "cell_type": "code",
   "execution_count": 195,
   "metadata": {},
   "outputs": [
    {
     "data": {
      "text/plain": [
       "array([[-5.45392047e-01, -5.41038065e-01, -5.36691867e-01, ..., -2.79422117e-05, -1.94690695e-05, -1.10524528e-05],\n",
       "       [ 6.50401955e+01,  6.47968882e+01,  6.44540634e+01, ...,  1.05313446e-03,  1.03745066e-03,  1.02156337e-03],\n",
       "       [-2.19193508e+01, -2.21081819e+01, -2.23069720e+01, ...,  9.33464275e-05,  8.58758604e-05,  7.84392052e-05],\n",
       "       [ 0.00000000e+00,  4.35398182e+00,  4.34619781e+00, ...,  8.52736312e-03,  8.47314220e-03,  8.41661673e-03],\n",
       "       [ 0.00000000e+00, -2.43307287e+02, -3.42824832e+02, ..., -1.54741008e-02, -1.56838000e-02, -1.58872951e-02],\n",
       "       [ 0.00000000e+00, -1.88831037e+02, -1.98790155e+02, ..., -7.50214218e-03, -7.47056704e-03, -7.43665525e-03]])"
      ]
     },
     "execution_count": 195,
     "metadata": {},
     "output_type": "execute_result"
    }
   ],
   "source": [
    "Data['oData'][0][1]\n",
    "# q_eq"
   ]
  },
  {
   "cell_type": "code",
   "execution_count": 196,
   "metadata": {},
   "outputs": [],
   "source": [
    "if use_data == 'john':\n",
    "    for i in range(nTRAJ):\n",
    "        Data['oData'][i][0] = Data['oData'][i][0][::10]\n",
    "        Data['oData'][i][1] = Data['oData'][i][1][:, ::10]"
   ]
  },
  {
   "attachments": {},
   "cell_type": "markdown",
   "metadata": {},
   "source": [
    "## Observables"
   ]
  },
  {
   "attachments": {},
   "cell_type": "markdown",
   "metadata": {},
   "source": [
    "EITHER compute reduced coordinates using delay embedding on the available oData"
   ]
  },
  {
   "cell_type": "code",
   "execution_count": 197,
   "metadata": {},
   "outputs": [],
   "source": [
    "if observables == \"delay embedding\":\n",
    "    N_DELAY = 4\n",
    "    Data['yData'] = deepcopy(Data['oData'])\n",
    "    for i in range(nTRAJ):\n",
    "        delay_embedded_traj = utils.delayEmbedding(Data['oData'][i][1], up_to_delay=N_DELAY)\n",
    "        Data['yData'][i][1] = delay_embedded_traj[:, :-4]\n",
    "        Data['yData'][i][0] = Data['yData'][i][0][4:]"
   ]
  },
  {
   "attachments": {},
   "cell_type": "markdown",
   "metadata": {},
   "source": [
    "OR use position and velocity of all nodes as observables"
   ]
  },
  {
   "cell_type": "code",
   "execution_count": 198,
   "metadata": {},
   "outputs": [],
   "source": [
    "if observables == \"pos-vel\":\n",
    "    Data['yData'] = deepcopy(Data['oData'])\n",
    "    for i in range(nTRAJ):\n",
    "        # observables y are pos and vel of tip\n",
    "        # Data['yData'][i][1] = np.vstack((Data['oData'][i][1][3*TIP_NODE:3*TIP_NODE+3, :], np.gradient(Data['oData'][i][1][3*TIP_NODE:3*TIP_NODE+3, :], 0.01, axis=1)))\n",
    "        # do SVD on full state + full velocity\n",
    "        Data['oData'][i][1] = np.vstack((Data['oData'][i][1], np.gradient(Data['oData'][i][1], axis=1)))\n",
    "    print(Data['yData'][0][1].shape)"
   ]
  },
  {
   "attachments": {},
   "cell_type": "markdown",
   "metadata": {},
   "source": [
    "### Plot observables of interest"
   ]
  },
  {
   "cell_type": "code",
   "execution_count": 199,
   "metadata": {},
   "outputs": [],
   "source": [
    "outdofs = [0, 1, 2]\n",
    "plt.close('all')\n",
    "# plot trajectories in 3D [x, y, z] space\n",
    "plot.traj_3D(Data,\n",
    "             xyz_idx=[('yData', outdofs[0]), ('yData', outdofs[1]), ('yData', outdofs[2])],\n",
    "             xyz_names=[r'$x$', r'$y$', r'$z$'])\n",
    "# plot evolution of x, y and z in time, separately in 3 subplots\n",
    "highlight_traj = [] # [14, 16, 18, 31, 35, 44] # []\n",
    "plot.traj_xyz(Data,\n",
    "             xyz_idx=[('yData', outdofs[0]), ('yData', outdofs[1]), ('yData', outdofs[2])],\n",
    "             xyz_names=[r'$x$', r'$y$', r'$z$'],\n",
    "             highlight_idx=highlight_traj)\n",
    "# plot trajectories in 3D [x, x_dot, z] space / NB: x_dot = v_x\n",
    "plot.traj_3D(Data,\n",
    "             xyz_idx=[('yData', outdofs[0]), ('yData', outdofs[0]+oDOF), ('yData', outdofs[2])],\n",
    "             xyz_names=[r'$x$', r'$\\dot{x}$', r'$z$'])"
   ]
  },
  {
   "cell_type": "code",
   "execution_count": 200,
   "metadata": {},
   "outputs": [],
   "source": [
    "t_interval = [0.08, 2.6]\n",
    "Data['oDataTrunc'] = utils.slice_trajectories(Data['oData'], t_interval)\n",
    "Data['yDataTrunc'] = utils.slice_trajectories(Data['yData'], t_interval)"
   ]
  },
  {
   "cell_type": "code",
   "execution_count": 201,
   "metadata": {},
   "outputs": [],
   "source": [
    "# print(Data['yDataTrunc'][0][1].shape)\n",
    "# Data['yDataTrunc'][0][1][:, :5]"
   ]
  },
  {
   "attachments": {},
   "cell_type": "markdown",
   "metadata": {},
   "source": [
    "## Obtain reduced-order coordinates"
   ]
  },
  {
   "attachments": {},
   "cell_type": "markdown",
   "metadata": {},
   "source": [
    "### Perform PCA on delay-embedded coordinates to obtain reduced coordinates"
   ]
  },
  {
   "cell_type": "code",
   "execution_count": 202,
   "metadata": {},
   "outputs": [],
   "source": [
    "# Perform SVD on displacement field\n",
    "from scipy.sparse.linalg import svds\n",
    "\n",
    "if observables == \"pos-vel\":\n",
    "    svd_data = 'oDataTrunc'\n",
    "elif observables == \"delay embedding\":\n",
    "    svd_data = 'yDataTrunc'\n",
    "\n",
    "Xsnapshots = np.hstack([DataTrunc[1] for DataTrunc in Data[svd_data]])\n",
    "Xsnapshots = Xsnapshots[:, :]\n",
    "\n",
    "# print(Xsnapshots.shape)\n",
    "# print(Xsnapshots[:, 0:10])\n",
    "\n",
    "show_modes = 9\n",
    "v, s, u = svds(Xsnapshots, k=max(SSMDim, show_modes), which=\"LM\")\n",
    "ind = np.argsort(s)[::-1]\n",
    "s = s[ind]\n",
    "v = v[:, ind]\n",
    "# v, s, _ = np.linalg.svd(Xsnapshots, compute_uv=True)\n",
    "# print(s)\n",
    "# print(v)\n",
    "l2vals = s**2"
   ]
  },
  {
   "cell_type": "code",
   "execution_count": 203,
   "metadata": {},
   "outputs": [],
   "source": [
    "# Plot variance description: we expect three modes to capture almost all variance.\n",
    "# Note we assume data centered around the origin, which is the fixed point of our system.\n",
    "plt.close('all')\n",
    "plot.pca_modes(l2vals, up_to_mode=9)"
   ]
  },
  {
   "attachments": {},
   "cell_type": "markdown",
   "metadata": {},
   "source": [
    "### Project delay-embedded data onto dominant modes"
   ]
  },
  {
   "cell_type": "code",
   "execution_count": 204,
   "metadata": {},
   "outputs": [],
   "source": [
    "from copy import deepcopy\n",
    "Data['etaDataTrunc'] = deepcopy(Data[svd_data])\n",
    "if observables == \"delay embedding\":\n",
    "    Vde = v[:, :SSMDim]\n",
    "    for i in range(nTRAJ):\n",
    "        Data['etaDataTrunc'][i][1] = Vde.T @ Data[svd_data][i][1]\n",
    "elif observables == \"pos-vel\":\n",
    "    assert SSMDim % 2 == 0\n",
    "    Vde = np.kron(np.eye(2), v[:, :SSMDim//2])\n",
    "    for i in range(nTRAJ):\n",
    "        Data['etaDataTrunc'][i][1] = Vde.T @ np.vstack((Data['oDataTrunc'][i][1], np.gradient(Data['oDataTrunc'][i][1], 0.01, axis=1))) # np.vstack((np.gradient(Data['oData'][i][1], axis=1), Data['oData'][i][1])) # Vde.T @ np.vstack((Data[svd_data][i][1], np.gradient(Data[svd_data][i][1], axis=1))) # "
   ]
  },
  {
   "cell_type": "code",
   "execution_count": 205,
   "metadata": {},
   "outputs": [],
   "source": [
    "plt.close('all')\n",
    "# plot first three reduced coordinates\n",
    "plot.traj_3D(Data,\n",
    "              xyz_idx=[('etaDataTrunc', 0), ('etaDataTrunc', 3), ('etaDataTrunc', 1)],\n",
    "              xyz_names=[r'$x_1$', r'$\\dot{x_1}$', r'$x_2$'])"
   ]
  },
  {
   "attachments": {},
   "cell_type": "markdown",
   "metadata": {},
   "source": [
    "### Train and test data (train/test split)"
   ]
  },
  {
   "cell_type": "code",
   "execution_count": 206,
   "metadata": {},
   "outputs": [],
   "source": [
    "indTest = [0, 4] #[0, 2, 4, 6, 8, 10, 12, 14]\n",
    "indTrain = [i for i in range(nTRAJ) if i not in indTest]"
   ]
  },
  {
   "attachments": {},
   "cell_type": "markdown",
   "metadata": {},
   "source": [
    "## SSMLearn"
   ]
  },
  {
   "attachments": {},
   "cell_type": "markdown",
   "metadata": {},
   "source": [
    "Start Matlab engine and install/run SSMLearn"
   ]
  },
  {
   "cell_type": "code",
   "execution_count": 207,
   "metadata": {},
   "outputs": [
    {
     "name": "stdout",
     "output_type": "stream",
     "text": [
      "SSMLearn: Data-driven Reduced Order Models for Nonlinear Dynamical Systems\n",
      "Maintained by Mattia Cenedese (mattiac@ethz.ch) and Joar Ax\u001as (jgoeransson@ethz.ch)\n",
      "License: GNUv3.0\n",
      "Warning: Name is nonexistent or not a directory: /home/jalora/SSMR-for-control/modal_trajectory_data/check_model\n",
      "> In path (line 109)\n",
      "In addpath (line 86)\n",
      "In install (line 20)\n"
     ]
    },
    {
     "data": {
      "text/plain": [
       "'/home/jalora/SSMR-for-control'"
      ]
     },
     "execution_count": 207,
     "metadata": {},
     "output_type": "execute_result"
    }
   ],
   "source": [
    "import matlab.engine\n",
    "eng = matlab.engine.start_matlab()\n",
    "eng.cd(\"../..\", nargout=0)\n",
    "eng.install(nargout=0)\n",
    "eng.cd(\"ROM/\")"
   ]
  },
  {
   "attachments": {},
   "cell_type": "markdown",
   "metadata": {},
   "source": [
    "Bring data in a format that is accepted by the (slightly modified) version of SSMLearn (requires a specific cell array structure for input data)"
   ]
  },
  {
   "cell_type": "code",
   "execution_count": 208,
   "metadata": {},
   "outputs": [],
   "source": [
    "# make data ready for Matlab\n",
    "yDataTruncTrain_matlab = [[], []]\n",
    "etaDataTruncTrain_matlab = [[], []]\n",
    "for i in indTrain:\n",
    "    yDataTruncTrain_matlab[0].append(matlab.double(initializer=Data['yDataTrunc'][i][0].tolist()))\n",
    "    yDataTruncTrain_matlab[1].append(matlab.double(initializer=Data['yDataTrunc'][i][1].tolist()))\n",
    "    etaDataTruncTrain_matlab[0].append(matlab.double(initializer=Data['etaDataTrunc'][i][0].tolist()))\n",
    "    etaDataTruncTrain_matlab[1].append(matlab.double(initializer=Data['etaDataTrunc'][i][1].tolist()))\n"
   ]
  },
  {
   "attachments": {},
   "cell_type": "markdown",
   "metadata": {},
   "source": [
    "### Learn geometry of the SSM"
   ]
  },
  {
   "attachments": {},
   "cell_type": "markdown",
   "metadata": {},
   "source": [
    "Find parametrization of SSM using SSMLearn"
   ]
  },
  {
   "cell_type": "code",
   "execution_count": 209,
   "metadata": {},
   "outputs": [
    {
     "name": "stdout",
     "output_type": "stream",
     "text": [
      "Data seems to have been fed from Python!\n"
     ]
    }
   ],
   "source": [
    "SSMOrder = 3\n",
    "obsDim = 2*oDOF\n",
    "\n",
    "IMInfo = eng.IMGeometry(yDataTruncTrain_matlab, SSMDim, SSMOrder,\n",
    "                        'reducedCoordinates', etaDataTruncTrain_matlab) # , 'l_vals', 1.)\n",
    "if observables == \"pos-vel\":\n",
    "    IMInfoInv = eng.IMGeometry(etaDataTruncTrain_matlab, obsDim, SSMOrder,\n",
    "                            'reducedCoordinates', yDataTruncTrain_matlab)\n",
    "    for key in ['map', 'polynomialOrder', 'dimension', 'nonlinearCoefficients', 'phi', 'exponents', 'H']:\n",
    "        IMInfo['chart'][key] = IMInfoInv['parametrization'][key]\n"
   ]
  },
  {
   "attachments": {},
   "cell_type": "markdown",
   "metadata": {},
   "source": [
    "### Learn dynamics on the SSM (reduced dynamics)"
   ]
  },
  {
   "attachments": {},
   "cell_type": "markdown",
   "metadata": {},
   "source": [
    "Find parametrization of reduced dynamics using SSMLearn"
   ]
  },
  {
   "cell_type": "code",
   "execution_count": 210,
   "metadata": {},
   "outputs": [
    {
     "name": "stdout",
     "output_type": "stream",
     "text": [
      "Data seems to have been fed from Python!\n",
      "Estimation of the reduced dynamics... \n",
      "\b Done. \n"
     ]
    }
   ],
   "source": [
    "ROMOrder = 3\n",
    "RDInfo = eng.IMDynamicsFlow(etaDataTruncTrain_matlab, 'R_PolyOrd', ROMOrder, 'style', 'default')"
   ]
  },
  {
   "attachments": {},
   "cell_type": "markdown",
   "metadata": {},
   "source": [
    "Stop Matlab engine -- not needed anymore"
   ]
  },
  {
   "cell_type": "code",
   "execution_count": 211,
   "metadata": {},
   "outputs": [],
   "source": [
    "eng.quit()"
   ]
  },
  {
   "attachments": {},
   "cell_type": "markdown",
   "metadata": {},
   "source": [
    "Convert all matlab double arrays to numpy arrays"
   ]
  },
  {
   "cell_type": "code",
   "execution_count": 212,
   "metadata": {},
   "outputs": [],
   "source": [
    "def convert_matlab_arrays_to_numpy_arrays(info_dict):\n",
    "  for k,v in info_dict.items():        \n",
    "     if isinstance(v, dict):\n",
    "         convert_matlab_arrays_to_numpy_arrays(v)\n",
    "     else:\n",
    "        if isinstance(v, matlab.double):\n",
    "           info_dict[k] = np.array(v)\n",
    "\n",
    "convert_matlab_arrays_to_numpy_arrays(IMInfo)\n",
    "convert_matlab_arrays_to_numpy_arrays(RDInfo)"
   ]
  },
  {
   "attachments": {},
   "cell_type": "markdown",
   "metadata": {},
   "source": [
    "Stability analysis of reduced dynamics"
   ]
  },
  {
   "cell_type": "code",
   "execution_count": 213,
   "metadata": {},
   "outputs": [
    {
     "data": {
      "text/plain": [
       "array([[-3.63442053+16.74040193j],\n",
       "       [-3.75848629+17.07569491j],\n",
       "       [-3.6287267 +18.15614517j],\n",
       "       [-3.63442053-16.74040193j],\n",
       "       [-3.75848629-17.07569491j],\n",
       "       [-3.6287267 -18.15614517j]])"
      ]
     },
     "execution_count": 213,
     "metadata": {},
     "output_type": "execute_result"
    }
   ],
   "source": [
    "assert np.all(np.real(RDInfo['eigenvaluesLinPartFlow']) < 0)\n",
    "RDInfo['eigenvaluesLinPartFlow']"
   ]
  },
  {
   "attachments": {},
   "cell_type": "markdown",
   "metadata": {},
   "source": [
    "## Analyze the obtained mappings of SSM geometry and reduced dynamics"
   ]
  },
  {
   "attachments": {},
   "cell_type": "markdown",
   "metadata": {},
   "source": [
    "### SSM geometry (parametrization)"
   ]
  },
  {
   "cell_type": "code",
   "execution_count": 214,
   "metadata": {},
   "outputs": [],
   "source": [
    "yRec = {}\n",
    "errorGeo = {}\n",
    "meanErrorGeo = {}"
   ]
  },
  {
   "attachments": {},
   "cell_type": "markdown",
   "metadata": {},
   "source": [
    "#### Train error"
   ]
  },
  {
   "cell_type": "code",
   "execution_count": 215,
   "metadata": {},
   "outputs": [
    {
     "name": "stdout",
     "output_type": "stream",
     "text": [
      "Average parametrization train error: 2.2757e-02\n"
     ]
    }
   ],
   "source": [
    "yRec['Train'] = utils.lift_trajectories(IMInfo, [Data['etaDataTrunc'][i] for i in indTrain])\n",
    "errorGeo['Train'] = utils.compute_trajectory_errors(yRec['Train'], [Data['yDataTrunc'][i] for i in indTrain])[0] * 100\n",
    "\n",
    "meanErrorGeo['Train'] = np.mean(errorGeo['Train'])\n",
    "print(f\"Average parametrization train error: {meanErrorGeo['Train']:.4e}\")"
   ]
  },
  {
   "attachments": {},
   "cell_type": "markdown",
   "metadata": {},
   "source": [
    "#### Test error"
   ]
  },
  {
   "cell_type": "code",
   "execution_count": 216,
   "metadata": {},
   "outputs": [
    {
     "name": "stdout",
     "output_type": "stream",
     "text": [
      "Average parametrization test error: 2.5965e-02\n"
     ]
    }
   ],
   "source": [
    "yRec['Test'] = utils.lift_trajectories(IMInfo, [Data['etaDataTrunc'][i] for i in indTest])\n",
    "errorGeo['Test'] = utils.compute_trajectory_errors(yRec['Test'], [Data['yDataTrunc'][i] for i in indTest])[0] * 100\n",
    "\n",
    "meanErrorGeo['Test'] = np.mean(errorGeo['Test'])\n",
    "print(f\"Average parametrization test error: {meanErrorGeo['Test']:.4e}\")"
   ]
  },
  {
   "attachments": {},
   "cell_type": "markdown",
   "metadata": {},
   "source": [
    "Plot comparison of SSM-predicted vs. actual test trajectories"
   ]
  },
  {
   "cell_type": "code",
   "execution_count": 217,
   "metadata": {},
   "outputs": [
    {
     "name": "stdout",
     "output_type": "stream",
     "text": [
      "(15, 296)\n",
      "(15, 252)\n"
     ]
    }
   ],
   "source": [
    "print(Data['yData'][0][1].shape)\n",
    "print(yRec['Test'][0][1].shape)"
   ]
  },
  {
   "cell_type": "code",
   "execution_count": 218,
   "metadata": {},
   "outputs": [],
   "source": [
    "plt.close('all')\n",
    "axs = plot.traj_xyz(Data,\n",
    "                    xyz_idx=[('yData', 0), ('yData', 1), ('yData', 2)],\n",
    "                    xyz_names=[r'$x$', r'$y$', r'$z$'],\n",
    "                    traj_idx=indTest,\n",
    "                    show=False)\n",
    "plot.traj_xyz(yRec,\n",
    "              xyz_idx=[('Test', 0), ('Test', 1), ('Test', 2)],\n",
    "              xyz_names=[r'$x$', r'$y$', r'$z$'],\n",
    "              axs=axs, ls=':', color='darkblue')"
   ]
  },
  {
   "attachments": {},
   "cell_type": "markdown",
   "metadata": {},
   "source": [
    "### Reduced dynamics"
   ]
  },
  {
   "cell_type": "code",
   "execution_count": 219,
   "metadata": {},
   "outputs": [
    {
     "name": "stdout",
     "output_type": "stream",
     "text": [
      "5\n",
      "Average dynamics train error: inf\n",
      "Average dynamics test error: 2.3174\n"
     ]
    }
   ],
   "source": [
    "etaRec = {}\n",
    "etaRec['RD'] = utils.advectRD(RDInfo, Data['etaDataTrunc'])[0]\n",
    "meanErrorDyn = {}\n",
    "\n",
    "for i in range(nTRAJ):\n",
    "    if etaRec['RD'][i][1].shape[1] != Data['etaDataTrunc'][i][1].shape[1]:\n",
    "        print(i)\n",
    "\n",
    "normedTrajDist = utils.compute_trajectory_errors(etaRec['RD'], Data['etaDataTrunc'])[0]\n",
    "meanErrorDyn['Train'] = np.mean(normedTrajDist[indTrain]) * 100\n",
    "meanErrorDyn['Test'] = np.mean(normedTrajDist[indTest]) * 100\n",
    "\n",
    "print(f\"Average dynamics train error: {meanErrorDyn['Train']:.4f}\")\n",
    "print(f\"Average dynamics test error: {meanErrorDyn['Test']:.4f}\")"
   ]
  },
  {
   "cell_type": "code",
   "execution_count": 220,
   "metadata": {},
   "outputs": [],
   "source": [
    "plot_all = False\n",
    "if plot_all:\n",
    "    vPlot = range(nTRAJ)\n",
    "else:\n",
    "    vPlot = indTest\n",
    "\n",
    "plt.close('all')\n",
    "axs = plot.traj_xyz(Data,\n",
    "                    xyz_idx=[('etaDataTrunc', 0), ('etaDataTrunc', 1), ('etaDataTrunc', 2)],\n",
    "                    xyz_names=[r'$u_1$', r'$u_2$', r'$u_3$'],\n",
    "                    traj_idx=vPlot,\n",
    "                    show=False)\n",
    "plot.traj_xyz(etaRec,\n",
    "              xyz_idx=[('RD', 0), ('RD', 1), ('RD', 2)],\n",
    "              xyz_names=[r'$u_1$', r'$u_2$', r'$u_3$'],\n",
    "              traj_idx=vPlot,\n",
    "              axs=axs, ls=':', color='darkblue')\n"
   ]
  },
  {
   "attachments": {},
   "cell_type": "markdown",
   "metadata": {},
   "source": [
    "### Global error"
   ]
  },
  {
   "cell_type": "code",
   "execution_count": 221,
   "metadata": {},
   "outputs": [],
   "source": [
    "errorGlo = {}\n",
    "meanErrorGlo = {}"
   ]
  },
  {
   "attachments": {},
   "cell_type": "markdown",
   "metadata": {},
   "source": [
    "#### Train error"
   ]
  },
  {
   "cell_type": "code",
   "execution_count": 222,
   "metadata": {},
   "outputs": [
    {
     "name": "stdout",
     "output_type": "stream",
     "text": [
      "Average global train error: inf\n"
     ]
    }
   ],
   "source": [
    "yRec['RDTrain'] = utils.lift_trajectories(IMInfo, [etaRec['RD'][i] for i in indTrain])\n",
    "errorGlo['Train'] = utils.compute_trajectory_errors(yRec['RDTrain'], [Data['yDataTrunc'][i] for i in indTrain])[0] * 100\n",
    "\n",
    "meanErrorGlo['Train'] = np.mean(errorGlo['Train'])\n",
    "print(f\"Average global train error: {meanErrorGlo['Train']:.4f}\")"
   ]
  },
  {
   "attachments": {},
   "cell_type": "markdown",
   "metadata": {},
   "source": [
    "#### Test error"
   ]
  },
  {
   "cell_type": "code",
   "execution_count": 223,
   "metadata": {},
   "outputs": [
    {
     "name": "stdout",
     "output_type": "stream",
     "text": [
      "Average global test error: 2.3198\n"
     ]
    }
   ],
   "source": [
    "yRec['RDTest'] = utils.lift_trajectories(IMInfo, [etaRec['RD'][i] for i in indTest])\n",
    "errorGlo['Test'] = utils.compute_trajectory_errors(yRec['RDTest'], [Data['yDataTrunc'][i] for i in indTest])[0] * 100\n",
    "\n",
    "meanErrorGlo['Test'] = np.mean(errorGlo['Test'])\n",
    "print(f\"Average global test error: {meanErrorGlo['Test']:.4f}\")"
   ]
  },
  {
   "cell_type": "code",
   "execution_count": 224,
   "metadata": {},
   "outputs": [],
   "source": [
    "plt.close('all')\n",
    "axs = plot.traj_xyz(Data,\n",
    "                    xyz_idx=[('yData', 0), ('yData', 1), ('yData', 2)],\n",
    "                    xyz_names=[r'$x$', r'$y$', r'$z$'],\n",
    "                    traj_idx=indTest,\n",
    "                    show=False)\n",
    "plot.traj_xyz(yRec,\n",
    "              xyz_idx=[('RDTest', 0), ('RDTest', 1), ('RDTest', 2)],\n",
    "              xyz_names=[r'$x$', r'$y$', r'$z$'],\n",
    "              axs=axs, ls=':', color='darkblue')"
   ]
  },
  {
   "attachments": {},
   "cell_type": "markdown",
   "metadata": {},
   "source": [
    "## Control"
   ]
  },
  {
   "attachments": {},
   "cell_type": "markdown",
   "metadata": {},
   "source": [
    "### Setup model for control"
   ]
  },
  {
   "cell_type": "code",
   "execution_count": 225,
   "metadata": {},
   "outputs": [],
   "source": [
    "from scipy.integrate import solve_ivp\n",
    "from scipy.interpolate import interp1d "
   ]
  },
  {
   "cell_type": "code",
   "execution_count": 226,
   "metadata": {},
   "outputs": [],
   "source": [
    "Rauton = utils.Rauton(RDInfo)\n",
    "Vauton = lambda x: IMInfo['parametrization']['H'] @ utils.multivariate_polynomial(x, IMInfo['parametrization']['polynomialOrder'])\n",
    "if observables == \"pos-vel\":\n",
    "    Wauton = lambda y: IMInfo['chart']['H'] @ utils.multivariate_polynomial(y, IMInfo['chart']['polynomialOrder'])\n",
    "elif observables == \"delay embedding\":\n",
    "    Wauton = lambda y: Vde.T @ y"
   ]
  },
  {
   "attachments": {},
   "cell_type": "markdown",
   "metadata": {},
   "source": [
    "### Learn control matrix $B$"
   ]
  },
  {
   "attachments": {},
   "cell_type": "markdown",
   "metadata": {},
   "source": [
    "Use figure8 trajectory as the training data"
   ]
  },
  {
   "cell_type": "code",
   "execution_count": 227,
   "metadata": {},
   "outputs": [],
   "source": [
    "# # Load the controls and actual trajectories for figure8\n",
    "# u_train = np.loadtxt(\"../../system_data/u_big.csv\", delimiter=',').T\n",
    "# z_train = np.loadtxt(\"../../system_data/z_big.csv\", delimiter=',').T\n",
    "# z_eq_train = np.loadtxt(\"../../system_data/z_equilibrium.csv\", delimiter=',')\n",
    "# print(z_eq_train)\n",
    "\n",
    "# # tip position, normalized using resting position\n",
    "# z_shift_train = (z_train[-3:, :].T - z_eq_train).T\n",
    "\n",
    "# # original spacing of inputs\n",
    "# T = 10.01\n",
    "# dt = 0.01\n",
    "# N = int(T / dt)\n",
    "# t_train = np.linspace(0, T, N+1)"
   ]
  },
  {
   "attachments": {},
   "cell_type": "markdown",
   "metadata": {},
   "source": [
    "Use randomly sampled (step) inputs as the training data"
   ]
  },
  {
   "cell_type": "code",
   "execution_count": 228,
   "metadata": {},
   "outputs": [],
   "source": [
    "# diamond_train_full = loadmat(\"../diamond_train_full.mat\", simplify_cells=True)\n",
    "# z_train, u_train, _ = diamond_train_full['y'].T, diamond_train_full['u'].T, diamond_train_full['t']\n",
    "# print(z_train.shape)\n",
    "\n",
    "# # tip position, normalized using resting position\n",
    "# z_shift_train = (z_train[-3:, :].T - z_train[-3:, 0]).T\n",
    "# dt = 0.01\n",
    "# t_train = np.arange(z_train.shape[1]) * dt"
   ]
  },
  {
   "attachments": {},
   "cell_type": "markdown",
   "metadata": {},
   "source": [
    "Use randomly sampled inputs as the training and test data"
   ]
  },
  {
   "cell_type": "code",
   "execution_count": 229,
   "metadata": {},
   "outputs": [],
   "source": [
    "testInputDir = \"/home/jalora/Desktop/diamond/open-loop/\"\n",
    "# (t, z_shift), u = utils.import_pos_data(data_dir=testInputDir,\n",
    "#                                     q_rest=q_eq, # join(SETTINGS['robot_dir'], SETTINGS['rest_file']),\n",
    "#                                     output_node=1354, return_inputs=True, file_type='mat')\n",
    "(t, z_shift), u = utils.import_pos_data(data_dir=testInputDir,\n",
    "                                    q_rest=q_eq, # join(SETTINGS['robot_dir'], SETTINGS['rest_file']),\n",
    "                                    output_node=1354, return_inputs=True, file_type='mat', shift=True)\n",
    "# print(u_train)\n",
    "dt = 0.01"
   ]
  },
  {
   "cell_type": "code",
   "execution_count": 230,
   "metadata": {},
   "outputs": [
    {
     "data": {
      "text/plain": [
       "array([[-5.55494645e-02, -6.77601212e-02, -7.70146124e-02, ...,  1.61640545e+01,  1.61800223e+01,  1.61926820e+01],\n",
       "       [-1.60974059e-02, -2.03868015e-02, -2.37351185e-02, ...,  6.36577021e+00,  6.38442399e+00,  6.40103204e+00],\n",
       "       [-1.70808826e-01, -1.44267736e-01, -1.16073175e-01, ...,  1.67718865e+01,  1.67698602e+01,  1.67684268e+01]])"
      ]
     },
     "execution_count": 230,
     "metadata": {},
     "output_type": "execute_result"
    }
   ],
   "source": [
    "z_shift"
   ]
  },
  {
   "attachments": {},
   "cell_type": "markdown",
   "metadata": {},
   "source": [
    "Train/test split"
   ]
  },
  {
   "cell_type": "code",
   "execution_count": 231,
   "metadata": {},
   "outputs": [],
   "source": [
    "train_ratio = 0.8\n",
    "split_idx = int(train_ratio * len(t))\n",
    "t_train, t_test = t[:split_idx], t[split_idx:]\n",
    "z_shift_train, z_shift_test = z_shift[:, :split_idx], z_shift[:, split_idx:]\n",
    "u_train, u_test = u[:, :split_idx], u[:, split_idx:]"
   ]
  },
  {
   "attachments": {},
   "cell_type": "markdown",
   "metadata": {},
   "source": [
    "Plot the training data"
   ]
  },
  {
   "cell_type": "code",
   "execution_count": 232,
   "metadata": {},
   "outputs": [],
   "source": [
    "plt.close('all')\n",
    "plot.traj_xyz_txyz(t=t_train,\n",
    "                   x=z_shift_train[0, :], y=z_shift_train[1, :], z=z_shift_train[2, :])\n",
    "plot.inputs(t_train, u_train)"
   ]
  },
  {
   "attachments": {},
   "cell_type": "markdown",
   "metadata": {},
   "source": [
    "Plot the test data"
   ]
  },
  {
   "cell_type": "code",
   "execution_count": 233,
   "metadata": {},
   "outputs": [],
   "source": [
    "plt.close('all')\n",
    "plot.traj_xyz_txyz(t=t_test,\n",
    "                   x=z_shift_test[0, :], y=z_shift_test[1, :], z=z_shift_test[2, :])\n",
    "plot.inputs(t_test, u_test)"
   ]
  },
  {
   "cell_type": "code",
   "execution_count": 234,
   "metadata": {},
   "outputs": [
    {
     "data": {
      "text/plain": [
       "(3, 6953)"
      ]
     },
     "execution_count": 234,
     "metadata": {},
     "output_type": "execute_result"
    }
   ],
   "source": [
    "z_shift_train.shape"
   ]
  },
  {
   "attachments": {},
   "cell_type": "markdown",
   "metadata": {},
   "source": [
    "Do delay embedding on the tip position. Then, compute reduced coordinates and gradient as predicted by reduced dynamics, as well as the numerical (true) gradient"
   ]
  },
  {
   "cell_type": "code",
   "execution_count": 235,
   "metadata": {},
   "outputs": [
    {
     "name": "stdout",
     "output_type": "stream",
     "text": [
      "y.shape: (15, 6953), u.shape: (4, 6953)\n",
      "(6933,)\n"
     ]
    }
   ],
   "source": [
    "if observables == \"delay embedding\":\n",
    "    # delay-embed tip position\n",
    "    y_train = utils.delayEmbedding(z_shift_train, embed_coords=[0, 1, 2], up_to_delay=N_DELAY)\n",
    "elif observables == \"pos-vel\":\n",
    "    # y_train = np.vstack((z_shift_train, np.gradient(z_shift_train, 0.01, axis=1)))\n",
    "    y_train = z_shift_train\n",
    "\n",
    "print(f\"y.shape: {y_train.shape}, u.shape: {u_train.shape}\")\n",
    "# reduced coordinates\n",
    "x_train = Wauton(y_train)\n",
    "dxDt = np.gradient(x_train, dt, axis=1)\n",
    "dxDt_ROM = Rauton(x_train)\n",
    "\n",
    "# optionally, throw away some of the training data\n",
    "keep_indices = np.s_[10:-10]\n",
    "t_train_trunc = t_train[keep_indices]\n",
    "u_train_trunc = u_train[:, keep_indices]\n",
    "x_train_trunc = x_train[:, keep_indices]\n",
    "y_train_trunc = y_train[:, keep_indices]\n",
    "dxDt = dxDt[:, keep_indices]\n",
    "dxDt_ROM = dxDt_ROM[:, keep_indices]\n",
    "\n",
    "print(t_train_trunc.shape)"
   ]
  },
  {
   "cell_type": "code",
   "execution_count": 236,
   "metadata": {},
   "outputs": [],
   "source": [
    "plt.close('all')\n",
    "ax = plot.traj_3D_xyz(y_train_trunc[outdofs[0], :],\n",
    "                      y_train_trunc[outdofs[1], :],\n",
    "                      y_train_trunc[outdofs[2], :], show=True)"
   ]
  },
  {
   "attachments": {},
   "cell_type": "markdown",
   "metadata": {},
   "source": [
    "Plot gradients (numerical differentiation and reduced dynamics)"
   ]
  },
  {
   "cell_type": "code",
   "execution_count": 237,
   "metadata": {},
   "outputs": [
    {
     "name": "stdout",
     "output_type": "stream",
     "text": [
      "(6, 6933)\n"
     ]
    }
   ],
   "source": [
    "print(dxDt.shape)\n",
    "plot.reduced_coordinates_gradient(t_train_trunc, [dxDt, dxDt_ROM], labels=[\"true numerical\", \"predicted autonomous\"], how=\"all\")"
   ]
  },
  {
   "cell_type": "code",
   "execution_count": 238,
   "metadata": {},
   "outputs": [],
   "source": [
    "plt.close('all')\n",
    "plot.dependence_of_xdot_on_inputs(dxDt, u_train_trunc)"
   ]
  },
  {
   "attachments": {},
   "cell_type": "markdown",
   "metadata": {},
   "source": [
    "Learn $B$ matrix"
   ]
  },
  {
   "cell_type": "code",
   "execution_count": 239,
   "metadata": {},
   "outputs": [
    {
     "name": "stdout",
     "output_type": "stream",
     "text": [
      "(4, 6933)\n",
      "(6, 4)\n"
     ]
    }
   ],
   "source": [
    "from sklearn.linear_model import Ridge\n",
    "\n",
    "polyUorder = 1\n",
    "# assemble_features = lambda u, x: utils.multivariate_polynomial(np.vstack([u, x]), order=polyUorder)\n",
    "assemble_features = lambda u, x: utils.multivariate_polynomial(u, order=polyUorder)\n",
    "\n",
    "X = assemble_features(u_train_trunc, x_train_trunc)\n",
    "print(X.shape)\n",
    "\n",
    "ridgeModel = Ridge(alpha=0, fit_intercept=False)\n",
    "ridgeModel.fit(X.T, (dxDt - dxDt_ROM).T)\n",
    "B_learn = ridgeModel.coef_\n",
    "print(B_learn.shape)"
   ]
  },
  {
   "attachments": {},
   "cell_type": "markdown",
   "metadata": {},
   "source": [
    "Frobenius norm of $B_{learn}$ to estimate how much influence inputs have on dynamics"
   ]
  },
  {
   "cell_type": "code",
   "execution_count": 240,
   "metadata": {},
   "outputs": [
    {
     "name": "stdout",
     "output_type": "stream",
     "text": [
      "Frobenius norm of B_learn: 0.3390\n"
     ]
    }
   ],
   "source": [
    "print(f\"Frobenius norm of B_learn: {np.linalg.norm(B_learn, ord='fro'):.4f}\")"
   ]
  },
  {
   "attachments": {},
   "cell_type": "markdown",
   "metadata": {},
   "source": [
    "Plot gradients again, but this time, using the learned influence of inputs for the prediction"
   ]
  },
  {
   "cell_type": "code",
   "execution_count": 241,
   "metadata": {},
   "outputs": [],
   "source": [
    "plt.close('all')\n",
    "plot_reduced_coords = np.s_[:] # [3, 4, 5]\n",
    "dxDt_ROM_with_B = Rauton(x_train_trunc) + B_learn @ assemble_features(u_train_trunc, x_train_trunc) # utils.multivariate_polynomial(u_train_trunc, order=polyUorder)\n",
    "plot.reduced_coordinates_gradient(t_train_trunc, [dxDt[plot_reduced_coords, :], dxDt_ROM[plot_reduced_coords, :], dxDt_ROM_with_B[plot_reduced_coords, :]], labels=[\"true numerical\", \"predicted autonomous\", \"predicted with inputs\"], how=\"all\")"
   ]
  },
  {
   "attachments": {},
   "cell_type": "markdown",
   "metadata": {},
   "source": [
    "### Integrate model with inputs (big amplitude) -- and using learned influence of control"
   ]
  },
  {
   "attachments": {},
   "cell_type": "markdown",
   "metadata": {},
   "source": [
    "Try to predict the test trajectory using reduced dynamics"
   ]
  },
  {
   "cell_type": "code",
   "execution_count": 242,
   "metadata": {},
   "outputs": [],
   "source": [
    "if observables == \"delay embedding\":\n",
    "    # delay-embed tip position\n",
    "    y_test = utils.delayEmbedding(z_shift_test, embed_coords=[0, 1, 2], up_to_delay=N_DELAY)\n",
    "elif observables == \"pos-vel\":\n",
    "    y_test = np.vstack((z_shift_test, np.gradient(z_shift_test, 0.01, axis=1)))\n",
    "\n",
    "# reduced coordinates\n",
    "x_test = Wauton(y_test)\n",
    "\n",
    "slice_traj = np.s_[:]\n",
    "t_test = t_test[slice_traj]\n",
    "u_test = u_test[:, slice_traj]\n",
    "x_test = x_test[:, slice_traj]\n",
    "z_shift_test = z_shift_test[:, slice_traj]"
   ]
  },
  {
   "cell_type": "code",
   "execution_count": 243,
   "metadata": {},
   "outputs": [
    {
     "name": "stdout",
     "output_type": "stream",
     "text": [
      "(6, 1002)\n"
     ]
    }
   ],
   "source": [
    "# Load the controls and actual trajectories for figure8\n",
    "u_test = np.loadtxt(\"../../system_data/u_big.csv\", delimiter=',').T\n",
    "z_test = np.loadtxt(\"../../system_data/z_big.csv\", delimiter=',').T\n",
    "z_eq_test = np.loadtxt(\"../../system_data/z_equilibrium.csv\", delimiter=',')\n",
    "print(z_test.shape)\n",
    "# tip position, normalized using resting position\n",
    "z_shift_test = (z_test[-3:, :].T - z_eq_test).T\n",
    "# delay-embed tip position (as well as inputs?)\n",
    "if observables == \"delay embedding\":\n",
    "    # delay-embed tip position\n",
    "    y_test = utils.delayEmbedding(z_shift_test, embed_coords=[0, 1, 2], up_to_delay=N_DELAY)\n",
    "elif observables == \"pos-vel\":\n",
    "    y_test = np.vstack((z_shift_test, np.gradient(z_shift_test, 0.01, axis=1)))# reduced coordinates\n",
    "x_test = Wauton(y_test)\n",
    "\n",
    "# original spacing of inputs\n",
    "T = 10.01\n",
    "dt = 0.01\n",
    "N = int(T / dt)\n",
    "t_test = np.linspace(0, T, N+1)\n",
    "\n",
    "slice_traj = np.s_[:]\n",
    "t_test = t_test[slice_traj]\n",
    "u_test = u_test[:, slice_traj]\n",
    "x_test = x_test[:, slice_traj]\n",
    "z_test = z_test[:, slice_traj]"
   ]
  },
  {
   "cell_type": "code",
   "execution_count": 244,
   "metadata": {},
   "outputs": [],
   "source": [
    "uInterpFun = interp1d(t_test, u_test, axis=1, fill_value=\"extrapolate\")\n",
    "uFun = lambda t: uInterpFun(t).reshape(-1, 1)\n",
    "# print(t_test.shape, dxDt.shape)\n",
    "# dxDtInterpFun = interp1d(t_test, dxDt_ROM, axis=1, fill_value=\"extrapolate\")\n",
    "def R(t, y):\n",
    "    return Rauton(np.atleast_2d(y)) + B_learn @ assemble_features(uFun(t), y) # utils.multivariate_polynomial(uFun(t), order=polyUorder)\n",
    "    # return dxDtInterpFun(t)\n",
    "\n",
    "# solve IVP of reduced dynamics using open-loop figure8 inputs\n",
    "sol = solve_ivp(R,\n",
    "                t_span=[t_test[0], t_test[-1]],\n",
    "                t_eval=t_test,\n",
    "                y0=x_test[:, 0], # np.zeros(2*rDOF),\n",
    "                method='RK45',\n",
    "                vectorized=True,\n",
    "                rtol=1e-3,\n",
    "                atol=1e-3)\n",
    "# resulting (predicted) open-loop trajectory in reduced coordinates\n",
    "xTraj = sol.y\n",
    "yTraj = Vauton(xTraj)\n",
    "zTraj = yTraj[-3:, :] # .T + z_eq_test).T\n",
    "\n",
    "plt.close('all')\n",
    "axs = plot.traj_xyz_txyz(t_test,\n",
    "                    zTraj[outdofs[0], :],\n",
    "                    zTraj[outdofs[1], :],\n",
    "                    zTraj[outdofs[2], :], show=False)\n",
    "ax = plot.traj_3D_xyz(z_test[3, :],\n",
    "                      z_test[4, :],\n",
    "                      z_test[5, :], color=\"tab:orange\", ax=ax, show=False)\n",
    "axs = plot.traj_xyz_txyz(t_test,\n",
    "                    z_shift_test[outdofs[0], :],\n",
    "                    z_shift_test[outdofs[1], :],\n",
    "                    z_shift_test[outdofs[2], :], color=\"tab:orange\", axs=axs, show=False)\n",
    "axs[2].legend([\"Predicted trajectory\", \"Actual trajectory\"])\n",
    "plt.show()\n"
   ]
  },
  {
   "cell_type": "code",
   "execution_count": 245,
   "metadata": {},
   "outputs": [
    {
     "data": {
      "text/plain": [
       "array([[-0.20483557, -0.31154295, -0.43606197, ..., -0.46180222, -0.51768371, -0.57632252],\n",
       "       [ 0.05844582,  0.0853253 ,  0.1444097 , ..., -0.93527597, -0.71708137, -0.49501766],\n",
       "       [ 1.30198535,  2.02338924,  2.84057162, ...,  6.33001957,  6.25917056,  6.18546678]])"
      ]
     },
     "execution_count": 245,
     "metadata": {},
     "output_type": "execute_result"
    }
   ],
   "source": [
    "zTraj"
   ]
  },
  {
   "cell_type": "code",
   "execution_count": 246,
   "metadata": {},
   "outputs": [
    {
     "name": "stdout",
     "output_type": "stream",
     "text": [
      "RMSE = 0.5464\n"
     ]
    }
   ],
   "source": [
    "RMSE = np.sum(np.sqrt(np.mean((zTraj[0:3, :] - z_shift_test[-3:])**2, axis=0))) / zTraj.shape[1]\n",
    "print(f\"RMSE = {RMSE:.4f}\")"
   ]
  },
  {
   "attachments": {},
   "cell_type": "markdown",
   "metadata": {},
   "source": [
    "## Save SSM model"
   ]
  },
  {
   "attachments": {},
   "cell_type": "markdown",
   "metadata": {},
   "source": [
    "Continuous model"
   ]
  },
  {
   "cell_type": "code",
   "execution_count": 75,
   "metadata": {},
   "outputs": [
    {
     "name": "stdout",
     "output_type": "stream",
     "text": [
      "6\n"
     ]
    }
   ],
   "source": [
    "SSM_model = {'model': {}, 'params': {}}\n",
    "\n",
    "SSM_model['model']['w_coeff'] = IMInfo['parametrization']['H']\n",
    "if observables == \"delay embedding\":\n",
    "    SSM_model['model']['v_coeff'] = None\n",
    "else:\n",
    "    SSM_model['model']['v_coeff'] = IMInfo['chart']['H']\n",
    "\n",
    "SSM_model['model']['r_coeff'] = RDInfo['reducedDynamics']['coefficients']\n",
    "SSM_model['model']['B'] = B_learn\n",
    "if observables == \"delay embedding\":\n",
    "    SSM_model['model']['V'] = Vde\n",
    "else:\n",
    "    SSM_model['model']['V'] = None\n",
    "\n",
    "SSM_model['params']['SSM_order'] = SSMOrder\n",
    "SSM_model['params']['ROM_order'] = ROMOrder\n",
    "SSM_model['params']['state_dim'] = SSMDim # 2 * rDOF\n",
    "print(SSMDim)\n",
    "# print(2*rDOF)\n",
    "SSM_model['params']['input_dim'] = B_learn.shape[1]\n",
    "\n",
    "if observables == \"delay embedding\":\n",
    "    SSM_model['params']['delays'] = N_DELAY\n",
    "    SSM_model['params']['obs_dim'] = 3 * (1 + N_DELAY)\n",
    "    SSM_model['params']['delay_embedding'] = True\n",
    "    SSM_model['params']['output_dim'] = oDOF\n",
    "elif observables == \"pos-vel\":\n",
    "    SSM_model['params']['delays'] = 0\n",
    "    SSM_model['params']['obs_dim'] = 6\n",
    "    SSM_model['params']['delay_embedding'] = False\n",
    "    SSM_model['params']['output_dim'] = oDOF * 2\n",
    "\n",
    "\n",
    "# print(Data['yData'][0][1].shape[0])"
   ]
  },
  {
   "cell_type": "code",
   "execution_count": 76,
   "metadata": {},
   "outputs": [],
   "source": [
    "import pickle\n",
    "# save dictionary to person_data.pkl file\n",
    "with open('../../../soft-robot-control/examples/hardware/SSMmodels/SSM_model.pkl', 'wb') as f:\n",
    "    pickle.dump(SSM_model, f)"
   ]
  },
  {
   "cell_type": "code",
   "execution_count": 74,
   "metadata": {},
   "outputs": [
    {
     "data": {
      "text/plain": [
       "True"
      ]
     },
     "execution_count": 74,
     "metadata": {},
     "output_type": "execute_result"
    }
   ],
   "source": [
    "SSM_model['params']['delay_embedding']\n"
   ]
  },
  {
   "cell_type": "code",
   "execution_count": null,
   "metadata": {},
   "outputs": [],
   "source": []
  }
 ],
 "metadata": {
  "kernelspec": {
   "display_name": "soft",
   "language": "python",
   "name": "python3"
  },
  "language_info": {
   "codemirror_mode": {
    "name": "ipython",
    "version": 3
   },
   "file_extension": ".py",
   "mimetype": "text/x-python",
   "name": "python",
   "nbconvert_exporter": "python",
   "pygments_lexer": "ipython3",
   "version": "3.8.13"
  },
  "orig_nbformat": 4,
  "vscode": {
   "interpreter": {
    "hash": "5103b5dc615bcda33cb54d9b91143b3686f5f995c24adceaa9e3ace35345f8c5"
   }
  }
 },
 "nbformat": 4,
 "nbformat_minor": 2
}
