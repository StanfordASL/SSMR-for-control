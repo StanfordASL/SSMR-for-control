{
 "cells": [
  {
   "cell_type": "markdown",
   "metadata": {},
   "source": [
    "# Adiabatic SSM model"
   ]
  },
  {
   "attachments": {},
   "cell_type": "markdown",
   "metadata": {},
   "source": [
    "This notebook takes multiple local SSM models which have been identified at pre-tensioned equilibria and interpolates them using scattered interpolation to obtain one adiabatic SSM model. The model performance is evaluated by its ability to predict open-loop trajectories."
   ]
  },
  {
   "cell_type": "code",
   "execution_count": 1,
   "metadata": {},
   "outputs": [],
   "source": [
    "from os import listdir\n",
    "from os.path import join, isdir\n",
    "import pickle\n",
    "import yaml\n",
    "import numpy as np\n",
    "np.set_printoptions(linewidth=100)"
   ]
  },
  {
   "cell_type": "code",
   "execution_count": 2,
   "metadata": {},
   "outputs": [],
   "source": [
    "%load_ext autoreload\n",
    "%autoreload 2\n",
    "import utils as utils\n",
    "import plot_utils as plot\n",
    "from interpolators import InterpolatorFactory"
   ]
  },
  {
   "cell_type": "code",
   "execution_count": 3,
   "metadata": {},
   "outputs": [],
   "source": [
    "%matplotlib qt\n",
    "import matplotlib.pyplot as plt"
   ]
  },
  {
   "cell_type": "code",
   "execution_count": 4,
   "metadata": {},
   "outputs": [],
   "source": [
    "# Adiabatic SSM settings\n",
    "ROMOrder = 3\n",
    "# N_samples = 100\n",
    "DT = 0.01\n",
    "INTERPOLATE = \"reduced_coords\" # \"xyz\" # \"xy\" # \"reduced_coords\""
   ]
  },
  {
   "cell_type": "code",
   "execution_count": 5,
   "metadata": {},
   "outputs": [],
   "source": [
    "observables = \"delay-embedding\" # \"delay-embedding\" # \"pos-vel\" # \n",
    "N_DELAY = 4 # only relevant if observables is \"delay-embedding\"\n",
    "TIP_NODE = 51\n",
    "N_NODES = 709\n",
    "INPUT_DIM = 8\n",
    "DT = 0.01\n",
    "\n",
    "rDOF = 3\n",
    "oDOF = 3\n",
    "SSMDim = 6\n",
    "\n",
    "robot_dir = \"../../../soft-robot-control/examples/trunk\"\n",
    "rest_file = join(robot_dir, 'rest_qv.pkl')\n",
    "\n",
    "# load rest position\n",
    "with open(rest_file, 'rb') as f:\n",
    "    rest_data = pickle.load(f)\n",
    "    rest_q = rest_data['q'][0]"
   ]
  },
  {
   "cell_type": "code",
   "execution_count": 7,
   "metadata": {},
   "outputs": [
    {
     "name": "stdout",
     "output_type": "stream",
     "text": [
      "['000', '001', '002', '003', '004', '005', '006', '007', '008', '009', '010', '011', '012', '013', '014', '015', '016', '017', '018', '019', '020', '021', '022', '023', '024', '025', '026', '027', '028', '029', '030', '031', '032', '033', '034', '035', '036', '037', '038', '039', '040', '041', '042', '043', '044', '045', '046', '047', '048', '049', '050', '051', '052', '053', '054', '055', '056', '057', '058', '059', '060', '061', '062', '063', '064', '065', '066', '067', '068', '069', '070', '071', '072', '073', '074', '075', '076', '077', '078', '079', '080', '081', '082', '083', '084', '085', '086', '087', '088', '089', '090', '091', '092', '093', '094', '095', '096', '097', '098', '099']\n",
      "['000', '001', '002', '003', '004', '005', '006', '007', '008']\n",
      "N_models: 109\n"
     ]
    }
   ],
   "source": [
    "model_dir = \"/media/jonas/Backup Plus/jonas_soft_robot_data/trunk_adiabatic_10ms_N=100_sparsity=0.95\" # 9\" # 147\" # 33_handcrafted\" #  # \n",
    "model_names = [name for name in sorted(listdir(model_dir)) if isdir(join(model_dir, name))]\n",
    "print(model_names)\n",
    "\n",
    "USE_DEFAULT_MODELS = True\n",
    "\n",
    "default_model_dir = \"/media/jonas/Backup Plus/jonas_soft_robot_data/trunk_adiabatic_10ms_N=9\"\n",
    "default_model_names = [name for name in sorted(listdir(default_model_dir)) if isdir(join(default_model_dir, name))]\n",
    "print(default_model_names)\n",
    "\n",
    "N_models = len(model_names) + USE_DEFAULT_MODELS * len(default_model_names)\n",
    "print(\"N_models:\", N_models)"
   ]
  },
  {
   "cell_type": "markdown",
   "metadata": {},
   "source": [
    "Compute observables (delay embedding)"
   ]
  },
  {
   "cell_type": "code",
   "execution_count": 8,
   "metadata": {},
   "outputs": [],
   "source": [
    "if observables == \"delay-embedding\":\n",
    "    N_DELAY = 4\n",
    "    # observables are position of tip + n_delay delay embeddings of the tip position\n",
    "    assemble_observables = lambda oData: utils.delayEmbedding(oData, up_to_delay=N_DELAY)\n",
    "elif observables == \"pos-vel\":\n",
    "    # observables is position and velocity of tip node\n",
    "    def assemble_observables(oData):\n",
    "        if oData.shape[0] > 6:\n",
    "            tip_node_slice = np.s_[3*TIP_NODE:3*TIP_NODE+3]\n",
    "        else:\n",
    "            tip_node_slice = np.s_[:3]\n",
    "        return np.vstack((oData[tip_node_slice, :], np.gradient(oData[tip_node_slice, :], DT, axis=1)))"
   ]
  },
  {
   "cell_type": "markdown",
   "metadata": {},
   "source": [
    "Load local SSM models"
   ]
  },
  {
   "cell_type": "code",
   "execution_count": 9,
   "metadata": {},
   "outputs": [],
   "source": [
    "models = []\n",
    "test_results = []\n",
    "\n",
    "if USE_DEFAULT_MODELS:\n",
    "    for model_name in default_model_names:\n",
    "        dir = join(default_model_dir, model_name, f\"SSMmodel_{observables}_ROMOrder=3_globalV_fixed-delay\")\n",
    "        with open(join(dir, \"SSM_model.pkl\"), \"rb\") as f:\n",
    "            model = pickle.load(f)\n",
    "            models.append(model)\n",
    "        with open(join(dir, \"test_results.yaml\"), \"rb\") as f:\n",
    "            test_results_dict = yaml.safe_load(f)\n",
    "            test_results.append([test_results_dict['like training data']['RMSE'], test_results_dict['open-loop_circle']['RMSE']])\n",
    "\n",
    "for model_name in model_names:\n",
    "    dir = join(model_dir, model_name, f\"SSMmodel_{observables}_globalV\")\n",
    "    with open(join(dir, \"SSM_model.pkl\"), \"rb\") as f:\n",
    "        model = pickle.load(f)\n",
    "        models.append(model)\n",
    "    with open(join(dir, \"test_results.yaml\"), \"rb\") as f:\n",
    "        test_results_dict = yaml.safe_load(f)\n",
    "        test_results.append([test_results_dict['like training data']['RMSE'], test_results_dict['open-loop_circle']['RMSE']])\n",
    "\n",
    "V = [model['model']['V'] for model in models]\n",
    "r_coeff = [model['model']['r_coeff'] for model in models]\n",
    "w_coeff = [model['model']['w_coeff'] for model in models]\n",
    "v_coeff = [model['model']['v_coeff'] for model in models]\n",
    "B_r = [model['model']['B'] for model in models]\n",
    "q_bar = [(model['model']['q_eq'] - rest_q)[TIP_NODE*3:TIP_NODE*3+3] for model in models]\n",
    "u_bar = [model['model']['u_eq'] for model in models]\n",
    "ROMOrder = models[0]['params']['ROM_order']\n",
    "SSMOrder = models[0]['params']['SSM_order']\n",
    "for model in models:\n",
    "    assert model['params']['ROM_order'] == ROMOrder\n",
    "    assert model['params']['SSM_order'] == SSMOrder\n",
    "test_results = np.array(test_results)"
   ]
  },
  {
   "cell_type": "code",
   "execution_count": 10,
   "metadata": {},
   "outputs": [
    {
     "name": "stdout",
     "output_type": "stream",
     "text": [
      "[array([ 0.0116741 ,  0.09136295,  0.0383846 ,  0.00076458, -0.00433124,  0.00074858]), array([ 72.9267292 , -20.04814538, -28.61369534,   3.39920343,   1.74130791,  -1.4508973 ]), array([-32.36741758, -62.47260605, -37.32622321,  -1.50355753,   2.99363918,  -1.87813233]), array([-73.89207721,  33.43785334,   3.89146107,  -3.11097681,  -1.89676717,  -1.53847375]), array([29.37044068, 73.49785929, 12.97434427,  1.68149513, -3.06984472, -1.00990627]), array([ 41.81167278, -82.87095552, -66.49121622,   1.95456372,   4.76607361,  -3.35980064]), array([-108.11923851,  -27.69264586,  -34.11427275,   -4.68187634,    1.04114646,   -3.55186094]), array([-44.18260968, 106.98101026,  15.62895123,  -1.40198947,  -4.94621196,  -2.6718042 ]), array([101.23388332,  54.22021898, -16.27941313,   5.04466878,  -1.35641969,  -2.5637134 ]), array([ 0.0116741 ,  0.09136295,  0.0383846 ,  0.00076458, -0.00433124,  0.00074858]), array([ 39.53022762, -11.34864734, -13.69727102,   1.82163678,   0.93417083,  -0.5857871 ]), array([-15.31205843,   6.20443405,   2.74726613,  -0.66846745,  -0.39480553,  -0.09651147]), array([43.49023049, 75.82506523,  3.73946841,  2.41758432, -2.92893898, -1.88602623]), array([ 62.71156395, -52.44199278, -53.8832769 ,   2.97043868,   3.43032279,  -2.95765089]), array([-17.30499653, -34.22183813, -17.63821502,  -0.83199786,   1.59661038,  -0.74021516]), array([-2.65600637e+00,  2.07169044e+01,  2.71289569e+00, -5.02870705e-03, -9.16672844e-01, -4.89954537e-01]), array([-36.29344068, -65.4333049 , -43.64903776,  -1.63724555,   3.1952776 ,  -2.45214618]), array([-4.11526967, -5.28012444, -4.7862764 , -0.17277878,  0.27123872, -0.33774319]), array([-39.83048277,  17.36040312,   3.73372767,  -1.69735282,  -1.02171508,  -0.64001923]), array([29.47162316, 80.3821407 ,  7.51960376,  1.78567094, -3.26463463, -1.80631918]), array([-30.96758269,  12.76120138,   4.64965668,  -1.34165759,  -0.79247058,  -0.29454957]), array([ -6.54061834, -13.77534982,  -6.77159306,  -0.31912105,   0.63991979,  -0.260455  ]), array([ 0.16038896,  0.79893178, -1.43052389,  0.02649573, -0.00867261, -0.17166724]), array([ 30.66201362, -10.40183879,  -9.35963082,   1.38984332,   0.77002749,  -0.26936873]), array([-57.99671045, -16.33173484, -14.04419168,  -2.5628612 ,   0.55002599,  -1.42188607]), array([13.23240225, 30.28402767,  9.95523558,  0.69841498, -1.33327256,  0.06184056]), array([-79.92774203,  38.9445566 ,  -1.39125568,  -3.29177201,  -2.07492406,  -2.32997241]), array([57.5691982 , 71.69165894, -0.86722335,  3.06310786, -2.59688328, -2.06389485]), array([15.32558077, -5.30996012, -4.22419034,  0.68950377,  0.38204528, -0.08472983]), array([ 40.1669598 ,  -9.58836713, -16.18037673,   1.88614979,   0.90587088,  -0.8934763 ]), array([-13.25072625, -27.46498896, -14.51607481,  -0.63575179,   1.29115193,  -0.62415325]), array([ 6.56032479, 14.84134548,  5.37547948,  0.34080513, -0.66105036,  0.08134688]), array([52.86543064, 18.16760888, -4.17008833,  2.52362392, -0.35975392, -0.53890043]), array([15.74699974, 38.99839245,  7.88258714,  0.88975673, -1.64418775, -0.43316337]), array([-49.45520185,  26.30736927,  -4.64313805,  -1.98499586,  -1.31343158,  -1.90330427]), array([-33.56064093,  31.97814141,   8.97782075,  -1.36974753,  -1.67315326,  -0.56692257]), array([ 70.04082154, -20.41811339, -26.05565188,   3.24293739,   1.69718931,  -1.20771113]), array([-50.09929102, 117.65437618,   2.43468951,  -1.4654848 ,  -5.20794245,  -4.44706777]), array([ 78.48190451, -18.21215972, -35.98706749,   3.73146053,   1.81979392,  -2.20699968]), array([29.11527602, 25.93234186,  5.11123959,  1.42531309, -0.97730143, -0.11417776]), array([29.0310252 , 70.48797823, 14.74651593,  1.62873894, -2.97647666, -0.72669372]), array([-111.06059231,   54.18926142,   -3.01692811,   -4.56289088,   -2.86854471,   -3.34992224]), array([-0.17916021,  2.30748724, -2.02145612,  0.02728637, -0.06343741, -0.28863194]), array([67.6908485 , 69.69923285, -6.61399062,  3.5575256 , -2.35885791, -2.47314427]), array([104.70941458,  62.4349942 , -30.56947282,   5.39456333,  -1.44127803,  -4.26810208]), array([15.54761389, -4.28735073, -5.54228266,  0.71916769,  0.3626693 , -0.25236417]), array([ 77.40582437, -56.75159415, -61.38221945,   3.67041953,   3.82065612,  -3.41586522]), array([ -7.59636339, -75.4403998 , -52.83329292,  -0.33417051,   3.93412495,  -2.73753584]), array([36.29619871, 97.50485195,  9.14866929,  2.19018772, -3.95716145, -2.18285001]), array([-98.66058891,   6.73745635, -19.5320185 ,  -4.1690086 ,  -0.56208821,  -3.20715399]), array([ 2.87095948e+01,  2.51206028e+01,  5.75941877e+00,  1.39540133e+00, -9.56820252e-01, -2.37154400e-02]), array([-37.79192811,  -1.1960791 ,  -2.20539801,  -1.67386215,  -0.14540238,  -0.55981991]), array([ 48.16490661,  -8.60422349, -25.78297446,   2.34342948,   1.07089031,  -1.82040172]), array([ 44.51009122, -83.20775479, -80.09317812,   2.20527736,   5.0186296 ,  -4.69771607]), array([ 87.52427488, -34.70393492, -49.54283013,   4.15580001,   2.77796267,  -2.90114256]), array([ 66.21375069, -43.34994382, -49.51879569,   3.14571168,   3.00469766,  -2.80454128]), array([-28.84690883, -21.45002724, -11.85322097,  -1.31736218,   0.90381957,  -0.72531164]), array([ 0.85570446, 45.0011335 , 10.47905416,  0.24018107, -2.02562503, -0.53353501]), array([-23.19934749, -38.04055374, -27.82105747,  -1.02175599,   1.88472744,  -1.69418141]), array([16.49686117, 51.08908012, -0.90627639,  1.09055495, -1.99571891, -1.74605029]), array([36.0099441 , 96.32134459,  9.76436279,  2.1634124 , -3.9200566 , -2.08123562]), array([-118.16307827,  -21.96842981,  -46.77454009,   -4.96827686,    0.95001088,   -5.13818245]), array([ -6.60881714, -13.41946495,  -8.40885687,  -0.30381038,   0.65153666,  -0.4395633 ]), array([-29.80027063, -52.09829451, -35.39142103,  -1.3376956 ,   2.54899479,  -2.02604554]), array([ 54.04090667,  41.28327238, -14.52354474,   2.83316163,  -1.13874616,  -2.39862217]), array([-42.98020043, -78.02912514, -53.54511258,  -1.92448148,   3.83659048,  -3.07238755]), array([ 9.2243803 , 24.66115103,  2.56852839,  0.5534428 , -1.00474267, -0.52587047]), array([ 84.78186722,  -4.7315505 , -31.29977186,   4.05815166,   1.22462628,  -2.14946279]), array([-1.00193831,  4.96324777, -3.88288563,  0.02663186, -0.14781262, -0.57992669]), array([46.10856922,  3.07446401, -8.53917602,  2.16253817,  0.29406477, -0.51136855]), array([-15.42783863,   6.62249664,   2.04518162,  -0.66397183,  -0.40132269,  -0.1836397 ]), array([-23.94097533, -47.53993443, -25.95228976,  -1.13725937,   2.24224396,  -1.17406656]), array([ 0.01086047,  0.58148477, -0.61374913,  0.01039327, -0.01393985, -0.08273626]), array([-64.72486834,  32.46337055,  -2.58831897,  -2.64515186,  -1.69466723,  -2.06776463]), array([ 42.70375813, 112.99462761,  11.05189686,   2.56238175,  -4.58923117,  -2.47764424]), array([-0.02153037,  1.11868968, -1.24508368,  0.01872767, -0.02602678, -0.16610943]), array([30.71148502, 33.90870071,  3.80209909,  1.56322728, -1.27579797, -0.51481449]), array([ 12.98844548, -44.73739786, -27.10608156,   0.5416762 ,   2.37085382,  -1.02018812]), array([15.58791483, -5.00878694, -5.01271439,  0.71093307,  0.38408014, -0.17265148]), array([ 33.06159347, -24.90671768, -20.37498853,   1.50628312,   1.56401788,  -0.84375606]), array([37.37732121,  4.57592039, -3.94136496,  1.73807273,  0.10358764, -0.1869946 ]), array([ 68.49336622, -39.42891627, -47.55329148,   3.25483318,   2.82448183,  -2.72236235]), array([108.59228806, -25.57256896, -51.44044032,   5.1765937 ,   2.5602888 ,  -3.20713574]), array([-65.8653382 , -53.91307197, -39.8549854 ,  -2.91664058,   2.47659057,  -2.77510565]), array([  4.05431399, -77.33386901, -57.48306232,   0.21849377,   4.15948414,  -3.02391574]), array([ 24.17967647, -24.47246261, -16.33247544,   1.07328983,   1.42579264,  -0.53909478]), array([-52.96462972,  -9.72605054, -10.57600235,  -2.32735235,   0.2511356 ,  -1.25559727]), array([ 72.3732383 , -30.85928243, -42.26747106,   3.43446247,   2.40770515,  -2.45358366]), array([-29.87925042, -51.54612715, -35.99363285,  -1.33162384,   2.53552929,  -2.10747089]), array([-1.16365115,  4.18184807, -4.00631949,  0.0153347 , -0.11449257, -0.56621109]), array([ 54.78583528, -16.04613495, -19.4149201 ,   2.52670474,   1.31486978,  -0.84422478]), array([-23.96527209,  56.26782548,  11.21630283,  -0.79903603,  -2.65488814,  -1.10925115]), array([-71.02101395,  31.30814437,   5.37275942,  -3.01161629,  -1.81541102,  -1.28384925]), array([ 1.4535239 , 92.27682262, 11.39638067,  0.57737129, -3.9906558 , -2.11865301]), array([ 91.29462418,   9.39773625, -27.43519915,   4.40674156,   0.61738859,  -2.19618493]), array([ 6.84617059, 16.03247201,  4.07038725,  0.37433005, -0.68721295, -0.09033383]), array([-8.81532838, 21.92870146,  7.58092751, -0.31925719, -1.08388246, -0.10210329]), array([-9.81494829, 97.48298562, 10.03010443,  0.12276501, -4.25232245, -2.55546837]), array([ 8.77003362, -0.09220432, -6.29488403,  0.45225273,  0.16019322, -0.54598503]), array([-27.41353948, -27.51106551, -20.21867338,  -1.21282221,   1.29968075,  -1.34190482]), array([ -2.15224419, -39.61254289, -21.9156823 ,  -0.15023677,   1.98180692,  -0.82919626]), array([-64.26700618,  77.31189352,   5.12955639,  -2.3968637 ,  -3.67131873,  -2.87938116]), array([-17.83534998,  43.46891338,  14.65337571,  -0.64532436,  -2.14465593,  -0.24389763]), array([-50.88125853, -59.85171836, -41.30305557,  -2.27367747,   2.83718965,  -2.55982901]), array([ 92.95024868,  20.86848222, -29.05502639,   4.57394645,   0.17992134,  -2.75214932]), array([-21.99729201,  -7.71522264,  -4.07935161,  -0.99448402,   0.25109315,  -0.35884749]), array([23.06986012, 65.66913266,  3.76208867,  1.43704937, -2.63434477, -1.72685313]), array([-14.35276917,  51.51053688,  12.29144644,  -0.41249319,  -2.41713204,  -0.73451168]), array([ 93.55175757, -22.07163469, -43.21624438,   4.44862346,   2.1894138 ,  -2.65016989])]\n"
     ]
    }
   ],
   "source": [
    "if INTERPOLATE == \"xyz\":\n",
    "    psi_eq = [q_bar[i][:3] for i in range(N_models)]\n",
    "elif INTERPOLATE == \"xy\":\n",
    "    psi_eq = [q_bar[i][:2] for i in range(N_models)]\n",
    "elif INTERPOLATE == \"reduced_coords\":\n",
    "    psi_eq = [V[i].T @ np.tile(q_bar[i], 5) for i in range(N_models)]\n",
    "# psi_eq\n",
    "# print(u_bar)\n",
    "# print(np.sum([u == 0 for u in u_bar], axis=1))\n",
    "# print(np.mean(np.sum([u == 0 for u in u_bar], axis=1)))\n",
    "print(psi_eq)"
   ]
  },
  {
   "cell_type": "markdown",
   "metadata": {},
   "source": [
    "Interpolate local models to obtain adiabatic SSM model"
   ]
  },
  {
   "cell_type": "code",
   "execution_count": 11,
   "metadata": {},
   "outputs": [],
   "source": [
    "interpolation_methods = [\"origin_only\", \"nn\", \"modified_idw\", \"qp\"]\n",
    "coeff_dict = {\n",
    "            'w_coeff': w_coeff,\n",
    "            'V': V,\n",
    "            'r_coeff': r_coeff,\n",
    "            'B_r': B_r,\n",
    "            'u_bar': u_bar,\n",
    "        }\n",
    "# if INTERPOLATE in [\"xyz\", \"xy\"]:\n",
    "coeff_dict['q_bar'] = q_bar\n",
    "if INTERPOLATE == \"reduced_coords\":\n",
    "    coeff_dict['x_bar'] = [V[i].T @ np.tile(q_bar[i], 5) for i in range(len(q_bar))]\n",
    "\n",
    "interpolators = {}\n",
    "for interpolation_method in interpolation_methods:\n",
    "    if interpolation_method == \"qp\":\n",
    "        interp_slice = np.s_[:2]\n",
    "    else:\n",
    "        interp_slice = np.s_[:]\n",
    "    interpolators[interpolation_method] = InterpolatorFactory(interpolation_method, [psi_eq[interp_slice] for psi_eq in psi_eq], coeff_dict).get_interpolator()"
   ]
  },
  {
   "attachments": {},
   "cell_type": "markdown",
   "metadata": {},
   "source": [
    "If interpolation is based on Delaunay triangulation, visualize the triangulation scheme"
   ]
  },
  {
   "cell_type": "code",
   "execution_count": 12,
   "metadata": {},
   "outputs": [],
   "source": [
    "# if INTERPOLATION_METHOD in [\"linear\", \"ct\"] and len(xyz_rest[0]) == 2:\n",
    "#     fig, ax = plt.subplots(1, 1, dpi=150)\n",
    "#     ax.triplot(xyz_rest[:, 0], xyz_rest[:, 1], interpolator.tri.simplices.copy(), color=\"black\", ls=\"-\", lw=0.8)\n",
    "#     ax.set_aspect(\"equal\")\n",
    "#     ax.set_xlabel(r\"$x$ [mm]\")\n",
    "#     ax.set_ylabel(r\"$y$ [mm]\")\n",
    "#     fig.suptitle(\"Delaunay triangulation\")\n",
    "#     fig.show()"
   ]
  },
  {
   "attachments": {},
   "cell_type": "markdown",
   "metadata": {},
   "source": [
    "For linear interpolation, visualize weights"
   ]
  },
  {
   "cell_type": "code",
   "execution_count": 13,
   "metadata": {},
   "outputs": [],
   "source": [
    "# if INTERPOLATION_METHOD == \"linear\" and N_samples == 9:\n",
    "#     nx, ny = (100, 100)\n",
    "#     grid_lims = (-40, 40)\n",
    "#     x = np.linspace(grid_lims[0], grid_lims[1], nx)\n",
    "#     y = np.linspace(grid_lims[0], grid_lims[1], ny)\n",
    "#     # xv, yv = np.meshgrid(x, y, sparse=False)\n",
    "\n",
    "#     model_weights = np.zeros((N_models, nx, ny))\n",
    "#     for i in range(nx):\n",
    "#         for j in range(ny):\n",
    "#             p = [x[i], y[j]]\n",
    "#             simplex = interpolator.tri.find_simplex(p)\n",
    "#             if simplex == -1:\n",
    "#                 # extrapolation would be necessary\n",
    "#                 model_weights[:, j, i] = np.nan\n",
    "#             else:\n",
    "#                 b = interpolator.tri.transform[simplex, :2] @ (p - interpolator.tri.transform[simplex, 2])\n",
    "#                 c = np.r_[b, 1 - b.sum()]\n",
    "#                 point_idx = interpolator.tri.simplices[simplex]\n",
    "#                 model_weights[point_idx, j, i] = c\n",
    "#     fig, axs = plt.subplots(3, 3, figsize=(10, 10), dpi=100, sharey=True, sharex=True, constrained_layout=True)\n",
    "#     im = None\n",
    "#     axs = axs.ravel()\n",
    "#     for i, model in enumerate(model_names):\n",
    "#         ax = axs[i]\n",
    "#         im = ax.contourf(x, y, model_weights[i, :, :],\n",
    "#                         vmin=0, vmax=1, levels=100) # cmap=mpl.colormaps[colormaps[i]])\n",
    "#         # ax.set_title(model)\n",
    "#         ax.set_xlabel(r\"$x$ [mm]\")\n",
    "#         ax.set_aspect(\"equal\")\n",
    "#     for ax in axs[[0, 3, 6]]:\n",
    "#         ax.set_ylabel(r\"$y$ [mm]\")\n",
    "#     fig.colorbar(im, ax=axs.ravel().tolist(), fraction=0.03, aspect=35)\n",
    "#     plt.show()"
   ]
  },
  {
   "attachments": {},
   "cell_type": "markdown",
   "metadata": {},
   "source": [
    "## Open-loop prediction"
   ]
  },
  {
   "cell_type": "code",
   "execution_count": 14,
   "metadata": {},
   "outputs": [],
   "source": [
    "ALPHA = 0.7\n",
    "traj_dir = \"/media/jonas/Backup Plus/jonas_soft_robot_data/autonomous_ASSM_tests\""
   ]
  },
  {
   "attachments": {},
   "cell_type": "markdown",
   "metadata": {},
   "source": [
    "Import the two open-loop trajectories:\n",
    "- unperturbed: should be close to ideal\n",
    "- perturbed: ground truth; compare against advection"
   ]
  },
  {
   "cell_type": "code",
   "execution_count": 15,
   "metadata": {},
   "outputs": [
    {
     "name": "stdout",
     "output_type": "stream",
     "text": [
      "y.shape: (15, 899)\n",
      "z.shape: (3, 899)\n",
      "u.shape: (8, 899)\n",
      "y.shape: (15, 899)\n",
      "z.shape: (3, 899)\n",
      "u.shape: (8, 899)\n"
     ]
    }
   ],
   "source": [
    "# unperturbed\n",
    "(t_unperturbed, z_unperturbed), u_unperturbed = utils.import_pos_data(data_dir=join(traj_dir, \"OL_sim_ideal\", f\"alpha={ALPHA:.1f}\"),\n",
    "                                  rest_file=rest_file,\n",
    "                                  output_node=TIP_NODE, return_inputs=True, t_in=3)\n",
    "y_unperturbed = assemble_observables(z_unperturbed)\n",
    "print(\"y.shape:\", y_unperturbed.shape)\n",
    "print(\"z.shape:\", z_unperturbed.shape)\n",
    "print(\"u.shape:\", u_unperturbed.shape)\n",
    "# perturbed\n",
    "(t_perturbed, z_perturbed), u_perturbed = utils.import_pos_data(data_dir=join(traj_dir, \"OL_sim_perturbed\", f\"alpha={ALPHA:.1f}\"),\n",
    "                                  rest_file=rest_file,\n",
    "                                  output_node=TIP_NODE, return_inputs=True, t_in=3)\n",
    "y_perturbed = assemble_observables(z_perturbed)\n",
    "print(\"y.shape:\", y_perturbed.shape)\n",
    "print(\"z.shape:\", z_perturbed.shape)\n",
    "print(\"u.shape:\", u_perturbed.shape)"
   ]
  },
  {
   "cell_type": "markdown",
   "metadata": {},
   "source": [
    "Ideal target trajectory: circle starting at $\\varphi=\\frac{\\pi}{2}$"
   ]
  },
  {
   "cell_type": "code",
   "execution_count": 16,
   "metadata": {},
   "outputs": [],
   "source": [
    "z_eq = np.array([3.54595786, 0.30603326, -195.61577293])\n",
    "\n",
    "M = 1\n",
    "T = len(t_unperturbed) * DT # 9 # 10\n",
    "N = len(t_unperturbed) # 1000\n",
    "radius = 30.\n",
    "t_target = np.linspace(0, M * T, M * N + 1)\n",
    "th = np.linspace(0, M * 2 * np.pi, M * N + 1) + np.pi/2\n",
    "zf_target = np.tile(z_eq, (M * N + 1, 1))\n",
    "# zf_target = np.zeros((M*N+1, 6))\n",
    "zf_target[:, 0] += radius * np.cos(th)\n",
    "zf_target[:, 1] += radius * np.sin(th)\n",
    "\n",
    "z_target = zf_target - z_eq\n",
    "y_target = assemble_observables(z_target.T)"
   ]
  },
  {
   "attachments": {},
   "cell_type": "markdown",
   "metadata": {},
   "source": [
    "Plot: (a) ideal target, (b) unperturbed open-loop sim, (c) perturbed open-loop sim"
   ]
  },
  {
   "cell_type": "code",
   "execution_count": 17,
   "metadata": {},
   "outputs": [],
   "source": [
    "plt.close(\"all\")\n",
    "# Trajectories xyz vs. t\n",
    "axs = plot.traj_xyz_txyz(t_unperturbed,\n",
    "                         y_unperturbed[0, :], y_unperturbed[1, :], y_unperturbed[2, :],\n",
    "                         show=False)\n",
    "axs = plot.traj_xyz_txyz(t_perturbed,\n",
    "                         y_perturbed[0, :], y_perturbed[1, :], y_perturbed[2, :],\n",
    "                         color=\"tab:orange\", axs=axs, show=False)\n",
    "axs = plot.traj_xyz_txyz(t_target,\n",
    "                         z_target[:, 0], z_target[:, 1], z_target[:, 2],\n",
    "                         color=\"k\", ls=\"--\", axs=axs, show=False)\n",
    "axs[-1].legend([\"Unperturbed\", \"Perturbed\", \"Target\"])\n",
    "plt.suptitle(r\"Trajectories\")\n",
    "plt.tight_layout()\n",
    "plt.show()\n",
    "\n",
    "# Trajectories 2D (predicted vs. actual)\n",
    "ax = plot.traj_2D_xy(y_unperturbed[0, :], y_unperturbed[1, :],\n",
    "                     show=False)\n",
    "ax = plot.traj_2D_xy(y_perturbed[0, :], y_perturbed[1, :],\n",
    "                     color=\"tab:orange\", ax=ax, show=False)\n",
    "ax = plot.traj_2D_xy(z_target[:, 0], z_target[:, 1],\n",
    "                     color=\"k\", ls=\"--\", ax=ax, show=False)\n",
    "ax.legend([\"Unperturbed\", \"Perturbed\", \"Target\"])\n",
    "plt.suptitle(r\"Trajectories\")\n",
    "plt.show()"
   ]
  },
  {
   "cell_type": "markdown",
   "metadata": {},
   "source": [
    "### Predict by advecting SSM models"
   ]
  },
  {
   "attachments": {},
   "cell_type": "markdown",
   "metadata": {},
   "source": [
    "Then advect the perturbed case using the different SSM models"
   ]
  },
  {
   "cell_type": "code",
   "execution_count": 31,
   "metadata": {},
   "outputs": [
    {
     "name": "stdout",
     "output_type": "stream",
     "text": [
      "========== origin_only ==========\n",
      "9.804190515121029\n",
      "RMSE = 9.8042\n",
      "========== nn ==========\n",
      "1.9592320645118404\n",
      "RMSE = 1.9592\n",
      "========== modified_idw ==========\n",
      "1.2655493132740823\n",
      "RMSE = 1.2655\n",
      "========== qp ==========\n",
      "0.951058036996236\n",
      "RMSE = 0.9511\n"
     ]
    }
   ],
   "source": [
    "for interpolation_method in interpolation_methods:\n",
    "    print(f\"========== {interpolation_method} ==========\")\n",
    "    if interpolation_method == \"qp\":\n",
    "        interp_slice = np.s_[:2]\n",
    "    else:\n",
    "        interp_slice = None\n",
    "    t, x, y_pred, xdot, y_bar, u_bar, weights = utils.advect_adiabaticRD_with_inputs(t_unperturbed, y_perturbed[:, 0], u_unperturbed, y_unperturbed,\n",
    "                                                                                     interpolator=interpolators[interpolation_method], know_target=True, ROMOrder=ROMOrder,\n",
    "                                                                                     interpolate=INTERPOLATE, interp_slice=interp_slice)\n",
    "    assert len(t) == len(t_perturbed)\n",
    "    # compute RMSE\n",
    "    z_pred = y_pred[-3:, :]\n",
    "    rmse = np.sqrt(np.mean(np.linalg.norm(z_pred - z_perturbed, axis=0)**2))\n",
    "    print(rmse)\n",
    "    print(f\"RMSE = {rmse:.4f}\")\n",
    "    # save the predicted trajectory\n",
    "    with open(join(traj_dir, \"predicted_trajectories\", f\"alpha={ALPHA:.1f}\", f\"z_pred_{interpolation_method}.pkl\"), \"wb\") as f:\n",
    "        pickle.dump(z_pred, f)"
   ]
  },
  {
   "cell_type": "markdown",
   "metadata": {},
   "source": [
    "### Predict by advecting baseline models (TPWL, Koopman)"
   ]
  },
  {
   "cell_type": "markdown",
   "metadata": {},
   "source": [
    "#### Koopman"
   ]
  },
  {
   "cell_type": "code",
   "execution_count": 32,
   "metadata": {},
   "outputs": [],
   "source": [
    "from scipy.io import loadmat\n",
    "from sofacontrol.baselines.koopman import koopman_utils"
   ]
  },
  {
   "cell_type": "code",
   "execution_count": 33,
   "metadata": {},
   "outputs": [],
   "source": [
    "koopman_data = loadmat(\"/home/jonas/Projects/stanford/soft-robot-control/examples/trunk/koopman_model.mat\")['py_data'][0, 0]\n",
    "raw_model = koopman_data['model']\n",
    "raw_params = koopman_data['params']\n",
    "model = koopman_utils.KoopmanModel(raw_model, raw_params)\n",
    "scaling = koopman_utils.KoopmanScaling(scale=model.scale)"
   ]
  },
  {
   "cell_type": "markdown",
   "metadata": {},
   "source": [
    "Advect Koopman model and evaluate model accuracy"
   ]
  },
  {
   "cell_type": "code",
   "execution_count": 34,
   "metadata": {},
   "outputs": [
    {
     "name": "stdout",
     "output_type": "stream",
     "text": [
      "========== Koopman ==========\n",
      "RMSE = 8.2679\n"
     ]
    }
   ],
   "source": [
    "z_perturbed_koopman = (z_perturbed.T + rest_q[3*TIP_NODE:3*(TIP_NODE+1)]).T\n",
    "z_perturbed_koopman = scaling.scale_down(y=z_perturbed_koopman.T).T\n",
    "u_unperturbed_koopman = scaling.scale_down(u=utils.delayEmbedding(u_unperturbed, up_to_delay=1, embed_coords=list(range(8)))[:8, :].T).T\n",
    "y_perturbed_koopman = np.vstack([z_perturbed_koopman, utils.delayEmbedding(z_perturbed_koopman, up_to_delay=1)[:3, :], u_unperturbed_koopman])\n",
    "\n",
    "y0 = y_perturbed_koopman[:, 0]\n",
    "N = len(t_perturbed) - 1\n",
    "x = np.full((model.A_d.shape[0], N+1), np.nan)\n",
    "xdot = np.full((model.A_d.shape[0], N), np.nan)\n",
    "y_pred = np.full((len(y0), N+1), np.nan)\n",
    "y_pred[:, 0] = y0\n",
    "# advect for horizon N\n",
    "for i in range(N):\n",
    "    # lift the observables\n",
    "    if i == 0:\n",
    "        x[:, i] = model.lift_data(*y_pred[:, i])\n",
    "    # compute the Koopman prediction\n",
    "    # xdot[:, i]\n",
    "    x[:, i+1] = model.A_d @ x[:, i] + model.B_d @ u_unperturbed_koopman[:, i]\n",
    "    # forward Euler: x[i+1] = x[i] + dt * xdot[i]\n",
    "    # x[:, i+1] = x[:, i] + DT * xdot[:, i]\n",
    "    y_pred[:, i+1] = np.concatenate([model.C @ x[:, i+1], y_pred[:3, i], u_unperturbed_koopman[:, i]])\n",
    "# compute RMSE\n",
    "z_pred = (scaling.scale_up(y=y_pred[:3, :].T) - rest_q[3*TIP_NODE:3*(TIP_NODE+1)]).T\n",
    "rmse = np.sqrt(np.mean(np.linalg.norm(z_pred - z_perturbed, axis=0)**2))\n",
    "print(f\"========== Koopman ==========\")\n",
    "print(f\"RMSE = {rmse:.4f}\")\n",
    "# save the predicted trajectory\n",
    "with open(join(traj_dir, \"predicted_trajectories\", f\"z_pred_koopman.pkl\"), \"wb\") as f:\n",
    "    pickle.dump(z_pred, f)"
   ]
  },
  {
   "cell_type": "markdown",
   "metadata": {},
   "source": [
    "#### TPWL"
   ]
  },
  {
   "cell_type": "code",
   "execution_count": 35,
   "metadata": {},
   "outputs": [
    {
     "name": "stdout",
     "output_type": "stream",
     "text": [
      "TPWL num linearization points 2305\n",
      "Performing pre-discretization using implicit Euler of TPWL model with dt = 0.010\n"
     ]
    }
   ],
   "source": [
    "from sofacontrol.tpwl import tpwl, tpwl_config\n",
    "from sofacontrol.measurement_models import linearModel, MeasurementModel\n",
    "\n",
    "# Specify a measurement and output model\n",
    "cov_q = 0.0 * np.eye(3 * len([TIP_NODE]))\n",
    "cov_v = 0.0 * np.eye(3 * len([TIP_NODE]))\n",
    "measurement_model = linearModel(nodes=[TIP_NODE], num_nodes=N_NODES)\n",
    "output_model = MeasurementModel(nodes=[TIP_NODE], num_nodes=N_NODES, pos=True, vel=True, S_q=cov_q, S_v=cov_v)\n",
    "# Load and configure the TPWL model from data saved\n",
    "tpwl_model_file = \"/home/jonas/Projects/stanford/soft-robot-control/examples/trunk/tpwl_model_snapshots.pkl\"\n",
    "config = tpwl_config.tpwl_dynamics_config()\n",
    "model = tpwl.TPWLATV(data=tpwl_model_file, params=config.constants_sim, Hf=output_model.C,\n",
    "                     Cf=measurement_model.C)\n",
    "model.pre_discretize(dt=DT)"
   ]
  },
  {
   "cell_type": "code",
   "execution_count": 36,
   "metadata": {},
   "outputs": [
    {
     "name": "stdout",
     "output_type": "stream",
     "text": [
      "(6, 4254)\n",
      "(6, 28)\n"
     ]
    }
   ],
   "source": [
    "print(measurement_model.C.shape)\n",
    "print(model.C.shape)"
   ]
  },
  {
   "cell_type": "markdown",
   "metadata": {},
   "source": [
    "Import trajectories (pos and vel) of all FEM nodes"
   ]
  },
  {
   "cell_type": "code",
   "execution_count": 37,
   "metadata": {},
   "outputs": [
    {
     "name": "stdout",
     "output_type": "stream",
     "text": [
      "z.shape: (4254, 902)\n",
      "u.shape: (8, 902)\n"
     ]
    }
   ],
   "source": [
    "# unperturbed\n",
    "(t_unperturbed_tpwl, qv_unperturbed_tpwl), u_unperturbed_tpwl = utils.import_pos_data(data_dir=join(traj_dir, \"OL_sim_ideal\"),\n",
    "                                  rest_file=rest_file,\n",
    "                                  output_node=\"all\", return_inputs=True, return_velocity=True, t_in=2)\n",
    "print(\"z.shape:\", qv_unperturbed_tpwl.shape)\n",
    "print(\"u.shape:\", u_unperturbed_tpwl.shape)\n",
    "# perturbed\n",
    "(t_perturbed_tpwl, qv_perturbed_tpwl), u_perturbed_tpwl = utils.import_pos_data(data_dir=join(traj_dir, \"OL_sim_perturbed\"),\n",
    "                                  rest_file=rest_file,\n",
    "                                  output_node=\"all\", return_inputs=True, return_velocity=True, t_in=2)\n",
    "\n",
    "q_perturbed_tpwl = qv_perturbed_tpwl[:3*N_NODES, :]\n",
    "v_perturbed_tpwl = qv_perturbed_tpwl[3*N_NODES:, :]\n",
    "q_unperturbed_tpwl = qv_unperturbed_tpwl[:3*N_NODES, :]\n",
    "v_unperturbed_tpwl = qv_unperturbed_tpwl[3*N_NODES:, :]"
   ]
  },
  {
   "cell_type": "markdown",
   "metadata": {},
   "source": [
    "Advect TWPL model and evaluate model accuracy"
   ]
  },
  {
   "cell_type": "code",
   "execution_count": 38,
   "metadata": {},
   "outputs": [
    {
     "name": "stdout",
     "output_type": "stream",
     "text": [
      "========== TPWL ==========\n",
      "RMSE = 9.0324\n"
     ]
    }
   ],
   "source": [
    "xf = np.vstack([v_perturbed_tpwl, q_perturbed_tpwl]) + model.rom.x_ref[:, None]\n",
    "# print(xf.shape)\n",
    "x0 = model.rom.compute_RO_state(xf=xf[:, 0])\n",
    "x = np.full((model.state_dim, N+1), np.nan)\n",
    "xdot = np.full((model.state_dim, N), np.nan)\n",
    "x[:, 0] = x0\n",
    "z0 = model.x_to_zy(x0, z=True)\n",
    "# print(z0)\n",
    "# print(z_tot[:, start_idx])\n",
    "# advect for horizon N\n",
    "for i in range(N):\n",
    "    # compute the TPWL prediction\n",
    "    A, B, d = model.get_jacobians(x=x[:, i], u=u_unperturbed_tpwl[:, i], dt=DT)\n",
    "    # xdot[i] = R(x[i]) + B[i] @ (u[i] - u_bar[i])\n",
    "    # xdot[:, i] = A @ x[:, i] + B @ u[:, i] + d\n",
    "    # print(np.linalg.eig(A))\n",
    "    # forward Euler: x[i+1] = x[i] + dt * xdot[i]\n",
    "    x[:, i+1] = A @ x[:, i] + B @ u_unperturbed_tpwl[:, i] + d\n",
    "    # x[:, i+1] = x[:, i] + DT * xdot[:, i]\n",
    "# compute RMSE\n",
    "z_pred = model.x_to_zy(x.T, z=True).T[3:, :]\n",
    "rmse = np.sqrt(np.mean(np.linalg.norm(z_pred - z_perturbed, axis=0)**2))\n",
    "\n",
    "print(f\"========== TPWL ==========\")\n",
    "print(f\"RMSE = {rmse:.4f}\")\n",
    "# save the predicted trajectory\n",
    "with open(join(traj_dir, \"predicted_trajectories\", f\"z_pred_tpwl.pkl\"), \"wb\") as f:\n",
    "    pickle.dump(z_pred, f)"
   ]
  },
  {
   "cell_type": "markdown",
   "metadata": {},
   "source": [
    "## Plot results"
   ]
  },
  {
   "cell_type": "code",
   "execution_count": 36,
   "metadata": {},
   "outputs": [],
   "source": [
    "display_names = {\n",
    "    \"origin_only\": \"Origin SSM\",\n",
    "    # \"linear\": \"Adiabatic SSM (linear)\",\n",
    "    \"ct\": \"Clough-Tocher\",\n",
    "    \"nn\": \"NN\",\n",
    "    \"idw\": \"IDW\", # (inverse distance weighting)\n",
    "    \"modified_idw\": \"MIDW\",\n",
    "    \"qp\": \"Adiabatic SSM\", # \"QPR\", # (quadratic polynomial regression)\n",
    "    \"tpwl\": \"TPWL\",\n",
    "    \"koopman\": \"Koopman\",\n",
    "}\n",
    "colors = {\n",
    "    \"origin_only\": \"tab:blue\",\n",
    "    # \"linear\": \"tab:orange\",\n",
    "    \"ct\": \"tab:pink\",\n",
    "    \"idw\": \"tab:pink\",\n",
    "    \"modified_idw\": \"tab:red\",\n",
    "    \"nn\": \"tab:brown\",\n",
    "    \"qp\": \"tab:purple\",\n",
    "    \"tpwl\": \"tab:green\",\n",
    "    \"koopman\": \"tab:orange\",\n",
    "}\n",
    "\n",
    "lw = {\n",
    "    \"origin_only\": .8,\n",
    "    # \"linear\": 1,\n",
    "    \"ct\": 2,\n",
    "    \"idw\": 2,\n",
    "    \"modified_idw\": 2,\n",
    "    \"nn\": 2,\n",
    "    \"qp\": 4,\n",
    "    \"tpwl\": .8,\n",
    "    \"koopman\": .8,\n",
    "}\n",
    "\n",
    "markers = {\n",
    "    \"origin_only\": (\"o\", None),\n",
    "    # \"linear\": None,\n",
    "    \"ct\": (None, None),\n",
    "    \"idw\": (None, None),\n",
    "    \"modified_idw\": (\"v\", None),\n",
    "    \"nn\": (\"^\", None),\n",
    "    \"qp\": (\"D\", 7),\n",
    "    \"tpwl\": (\"v\", None),\n",
    "    \"koopman\": (\"^\", None),\n",
    "}"
   ]
  },
  {
   "attachments": {},
   "cell_type": "markdown",
   "metadata": {},
   "source": [
    "### Plot trajectories predicted by different SSM models and baselines"
   ]
  },
  {
   "cell_type": "markdown",
   "metadata": {},
   "source": [
    "Plot for current alpha = ALPHA"
   ]
  },
  {
   "cell_type": "code",
   "execution_count": 37,
   "metadata": {},
   "outputs": [
    {
     "name": "stderr",
     "output_type": "stream",
     "text": [
      "WARNING:matplotlib.backends.backend_ps:The PostScript backend does not support transparency; partially transparent artists will be rendered opaque.\n"
     ]
    }
   ],
   "source": [
    "plt.close('all')\n",
    "\n",
    "axs = plot.traj_xyz_txyz(t_perturbed,\n",
    "                         y_perturbed[0, :], y_perturbed[1, :], y_perturbed[2, :],\n",
    "                         show=False, color=\"k\", ls=\"--\", label=\"Perturbed trajectory\") # (ground truth)\n",
    "ax = plot.traj_2D_xy(y_perturbed[0, :], y_perturbed[1, :],\n",
    "                     show=False, color=\"k\", ls=\"--\", label=\"Perturbed trajectory\") # (ground truth)\n",
    "axs = plot.traj_xyz_txyz(t_perturbed,\n",
    "                         y_unperturbed[0, :], y_unperturbed[1, :], y_unperturbed[2, :],\n",
    "                         axs=axs, show=False, color=\"#8a8a8a\", ls=\"--\", label=\"Unperturbed trajectory\") # (ground truth)\n",
    "ax = plot.traj_2D_xy(y_unperturbed[0, :], y_unperturbed[1, :],\n",
    "                     ax=ax, show=False, color=\"#8a8a8a\", ls=\"--\", label=\"Unperturbed trajectory\") # (ground truth)\n",
    "ax.plot(y_perturbed[0, 0], y_perturbed[1, 0], 'o', markersize=8, color=\"k\")\n",
    "\n",
    "for model in [\"origin_only\", \"qp\", \"tpwl\", \"koopman\"]:\n",
    "        # Trajectory xyz vs. t (predicted vs. actual)\n",
    "        with open(join(traj_dir, \"predicted_trajectories\", f\"alpha={ALPHA:.1f}\", f\"z_pred_{model}.pkl\"), \"rb\") as f:\n",
    "            y_pred = pickle.load(f)\n",
    "        axs = plot.traj_xyz_txyz(t_unperturbed,\n",
    "                                y_pred[0, :], y_pred[1, :], y_pred[2, :],\n",
    "                                color=colors[model], axs=axs, show=False,\n",
    "                                lw=lw[model], marker=markers[model][0], markersize=markers[model][1], label=display_names[model])\n",
    "        # Trajectory 2D (predicted vs. actual)\n",
    "        ax = plot.traj_2D_xy(y_pred[0, :], y_pred[1, :],\n",
    "                             color=colors[model], ax=ax, show=False,\n",
    "                             lw=lw[model], marker=markers[model][0], markersize=markers[model][1], label=display_names[model])\n",
    "# axs[-1].legend()\n",
    "# axs[-1].get_figure().suptitle(rf\"Trajectories (true vs. predicted) -- ROMOrder={rom_order}\")\n",
    "axs[-1].get_figure().savefig(join(traj_dir, f\"open-loop-prediction-xyz-vs-t.svg\"), dpi=300, bbox_inches='tight')\n",
    "axs[-1].get_figure().savefig(join(traj_dir, f\"open-loop-prediction-xyz-vs-t.eps\"), dpi=300, bbox_inches='tight')\n",
    "axs[-1].get_figure().show()\n",
    "ax.legend(loc=\"lower left\")\n",
    "ax.grid(True, color=\"#cccccc\")\n",
    "ax.set_xlim(-45, 45)\n",
    "ax.set_ylim(-45, 45)\n",
    "# ax.get_figure().suptitle(rf\"Trajectories (true vs. predicted) -- ROMOrder={rom_order}\")\n",
    "ax.get_figure().savefig(join(traj_dir, f\"open-loop-prediction_x-vs-y.svg\"), dpi=300, bbox_inches='tight')\n",
    "ax.get_figure().savefig(join(traj_dir, f\"open-loop-prediction_x-vs-y.eps\"), dpi=300, bbox_inches='tight')\n",
    "ax.get_figure().show()"
   ]
  },
  {
   "cell_type": "markdown",
   "metadata": {},
   "source": [
    "### Plot trajectories predicted by Adiabatic SSM (QP) for different alphas"
   ]
  },
  {
   "cell_type": "code",
   "execution_count": 20,
   "metadata": {},
   "outputs": [],
   "source": [
    "model = \"qp\""
   ]
  },
  {
   "cell_type": "code",
   "execution_count": 21,
   "metadata": {},
   "outputs": [],
   "source": [
    "plt.close('all')\n",
    "\n",
    "fig, (ax1, ax2) = plt.subplots(1, 2, figsize=(12, 6))\n",
    "\n",
    "plot.traj_2D_xy(y_unperturbed[0, :], y_unperturbed[1, :], ax=ax1,\n",
    "                show=False, color=\"#8a8a8a\", ls=\"--\") # (ground truth)\n",
    "plot.traj_2D_xy(y_unperturbed[0, :], y_unperturbed[1, :], ax=ax2,\n",
    "                show=False, color=\"#8a8a8a\", ls=\"--\") # (ground truth)\n",
    "\n",
    "# discretize magma cmap into 5 colors\n",
    "cmap = plt.cm.magma\n",
    "clrs = [cmap(i) for i in np.linspace(0.2, .8, 5)]\n",
    "\n",
    "for i, alpha in enumerate([0.1, 0.2, 0.7, 1.5, 3.0]):\n",
    "        (t_perturbed, z_perturbed), u_perturbed = utils.import_pos_data(data_dir=join(traj_dir, \"OL_sim_perturbed\", f\"alpha={alpha:.1f}\"),\n",
    "                                  rest_file=rest_file,\n",
    "                                  output_node=TIP_NODE, return_inputs=True, t_in=3)\n",
    "        plot.traj_2D_xy(z_perturbed[0, :], z_perturbed[1, :], ax=ax1,\n",
    "                        show=False, color=clrs[i], alpha=1, ls=\"--\") # label=\"Perturbed trajectory\" # (ground truth)\n",
    "        # ax.plot(z_perturbed[0, 0], z_perturbed[1, 0], 'o', markersize=8, color=\"k\")\n",
    "        plot.traj_2D_xy(z_perturbed[0, :], z_perturbed[1, :], ax=ax2,\n",
    "                        show=False, color=clrs[i], alpha=1, ls=\"--\") # label=\"Perturbed trajectory\" # (ground truth)\n",
    "        with open(join(traj_dir, \"predicted_trajectories\", f\"alpha={alpha:.1f}\", f\"z_pred_{model}.pkl\"), \"rb\") as f:\n",
    "            z_pred = pickle.load(f)\n",
    "        # Trajectory 2D (predicted vs. actual)\n",
    "        plot.traj_2D_xy(z_pred[0, :], z_pred[1, :],\n",
    "                        color=clrs[i], ax=ax1, show=False,\n",
    "                        lw=2, marker=\"\", label=rf\"$\\alpha={alpha:.1f}$\")\n",
    "        plot.traj_2D_xy(z_pred[0, :], z_pred[1, :],\n",
    "                        color=clrs[i], ax=ax2, show=False,\n",
    "                        lw=2, marker=\"\", label=rf\"$\\alpha={alpha:.1f}$\")\n",
    "# ax1.legend(loc=\"lower left\")\n",
    "ax1.grid(True, color=\"#cccccc\")\n",
    "ax1.set_xlim(-35, 35)\n",
    "ax1.set_ylim(-35, 41)\n",
    "ax2.legend(loc=\"upper left\")\n",
    "ax2.grid(True, color=\"#cccccc\")\n",
    "ax2.set_xlim(-19, 1)\n",
    "ax2.set_ylim(20, 40)\n",
    "\n",
    "fig.savefig(join(traj_dir, f\"open-loop-prediction_{model}_different-alphas_x-vs-y.png\"), dpi=300, bbox_inches='tight')\n",
    "fig.show()"
   ]
  },
  {
   "cell_type": "code",
   "execution_count": 22,
   "metadata": {},
   "outputs": [],
   "source": [
    "plt.close(\"all\")\n",
    "# plot RSMEs for each alpha\n",
    "fig, ax = plt.subplots(1, 1, figsize=(12, 5))\n",
    "\n",
    "alphas = [0.1, 0.2, 0.4, 0.7, 1.0, 1.5, 2.0, 3.0]\n",
    "for model in [\"origin_only\", \"qp\", \"modified_idw\", \"nn\"]:\n",
    "    rmses = []\n",
    "    for alpha in alphas:\n",
    "        with open(join(traj_dir, \"predicted_trajectories\", f\"alpha={alpha:.1f}\", f\"z_pred_{model}.pkl\"), \"rb\") as f:\n",
    "            z_pred = pickle.load(f)\n",
    "        (t_perturbed, z_perturbed), u_perturbed = utils.import_pos_data(data_dir=join(traj_dir, \"OL_sim_perturbed\", f\"alpha={alpha:.1f}\"),\n",
    "                                    rest_file=rest_file,\n",
    "                                    output_node=TIP_NODE, return_inputs=True, t_in=3)\n",
    "        rmse = np.sqrt(np.mean(np.linalg.norm(z_pred - z_perturbed, axis=0)**2))\n",
    "        rmses.append(rmse)\n",
    "    ax.plot(alphas, rmses, lw=2, ls='-', marker=markers[model], color=colors[model], label=display_names[model])\n",
    "\n",
    "# make it a loglog plot\n",
    "ax.set_xscale(\"log\")\n",
    "ax.set_yscale(\"log\")\n",
    "from matplotlib.ticker import ScalarFormatter\n",
    "ax.xaxis.set_major_formatter(ScalarFormatter())\n",
    "ax.yaxis.set_major_formatter(ScalarFormatter())\n",
    "ax.set_xticks(alphas)\n",
    "ax.set_yticks([.6, .8, 1.0, 2.0, 3.0, 4.0])\n",
    "# ax.set_xlim([0.1, 3])\n",
    "# ax.set_ylim([0.6, 4.5])\n",
    "ax.grid(True, color=\"#cccccc\")\n",
    "ax.legend(loc=\"best\")\n",
    "ax.set_ylabel(\"RMSE [mm]\")\n",
    "ax.set_xlabel(r\"$\\alpha\\ =\\ \\frac{2 \\pi}{T}$\")\n",
    "\n",
    "fig.savefig(join(traj_dir, f\"open-loop-prediction_different-alphas_rmses.png\"), dpi=300, bbox_inches='tight')\n",
    "fig.show()"
   ]
  },
  {
   "cell_type": "code",
   "execution_count": null,
   "metadata": {},
   "outputs": [],
   "source": []
  }
 ],
 "metadata": {
  "kernelspec": {
   "display_name": "soft",
   "language": "python",
   "name": "python3"
  },
  "language_info": {
   "codemirror_mode": {
    "name": "ipython",
    "version": 3
   },
   "file_extension": ".py",
   "mimetype": "text/x-python",
   "name": "python",
   "nbconvert_exporter": "python",
   "pygments_lexer": "ipython3",
   "version": "3.8.16"
  },
  "orig_nbformat": 4
 },
 "nbformat": 4,
 "nbformat_minor": 2
}
