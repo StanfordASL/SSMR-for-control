{
 "cells": [
  {
   "attachments": {},
   "cell_type": "markdown",
   "metadata": {},
   "source": [
    "# Adiabatic SSM model"
   ]
  },
  {
   "attachments": {},
   "cell_type": "markdown",
   "metadata": {},
   "source": [
    "## Towards closed-loop"
   ]
  },
  {
   "attachments": {},
   "cell_type": "markdown",
   "metadata": {},
   "source": [
    "This notebook attempts to do finite-horizon predictions using an adiabatic SSM model which has been interpolated from local SSMs on a grid."
   ]
  },
  {
   "cell_type": "code",
   "execution_count": 3,
   "metadata": {},
   "outputs": [],
   "source": [
    "from os import listdir\n",
    "from os.path import join\n",
    "import pickle\n",
    "import yaml\n",
    "import numpy as np\n",
    "np.set_printoptions(linewidth=100)"
   ]
  },
  {
   "cell_type": "code",
   "execution_count": 4,
   "metadata": {},
   "outputs": [],
   "source": [
    "%load_ext autoreload\n",
    "%autoreload 2\n",
    "import utils as utils\n",
    "import plot_utils as plot"
   ]
  },
  {
   "cell_type": "code",
   "execution_count": 5,
   "metadata": {},
   "outputs": [],
   "source": [
    "%matplotlib qt\n",
    "import matplotlib.pyplot as plt"
   ]
  },
  {
   "attachments": {},
   "cell_type": "markdown",
   "metadata": {},
   "source": [
    "Load local SSM models"
   ]
  },
  {
   "cell_type": "code",
   "execution_count": 1,
   "metadata": {},
   "outputs": [],
   "source": [
    "# directory containing the SSM models\n",
    "model_dir = \"/media/jonas/Backup Plus/jonas_soft_robot_data/trunk_adiabatic\"\n",
    "model_names = [\"northwest\", \"north\", \"northeast\", \"west\", \"origin\", \"east\", \"southwest\", \"south\", \"southeast\"] # [\"north\",\"west\", \"origin\", \"east\", \"south\"] # \n",
    "N_models = len(model_names)"
   ]
  },
  {
   "attachments": {},
   "cell_type": "markdown",
   "metadata": {},
   "source": [
    "Load the pre-tensioned equilibrium of each model and plot adiabatic SSM map"
   ]
  },
  {
   "cell_type": "code",
   "execution_count": 6,
   "metadata": {},
   "outputs": [
    {
     "name": "stdout",
     "output_type": "stream",
     "text": [
      "[array([-34.87879219,  35.84572228, -10.60406392]), array([ 0.54467017, 35.57246381, -6.34727727]), array([ 35.552736  ,  34.86109908, -14.7558155 ]), array([-35.30795769,  -0.42439489,  -4.08499071]), array([ 0.03909428, -0.08913968, -0.00175868]), array([34.95441827, -0.27574755, -7.94720868]), array([-35.09507886, -37.14043854, -10.94062807]), array([  0.27917007, -35.77321019,  -6.25407621]), array([ 35.12892494, -35.8256824 , -14.73033781])]\n",
      "[array([200, 200,   0,   0, 200, 200,   0,   0]), array([200,   0,   0,   0, 200,   0,   0,   0]), array([200,   0,   0, 200, 200,   0,   0, 200]), array([  0, 200,   0,   0,   0, 200,   0,   0]), array([0, 0, 0, 0, 0, 0, 0, 0]), array([  0,   0,   0, 200,   0,   0,   0, 200]), array([  0, 200, 200,   0,   0, 200, 200,   0]), array([  0,   0, 200,   0,   0,   0, 200,   0]), array([  0,   0, 200, 200,   0,   0, 200, 200])]\n"
     ]
    }
   ],
   "source": [
    "q_eq, u_eq = [], []\n",
    "for model in model_names:\n",
    "    with open(join(model_dir, model, \"SSMmodel\", \"pre-tensioned_rest_q.pkl\"), \"rb\") as f:\n",
    "        q_eq.append(pickle.load(f))\n",
    "    with open(join(model_dir, model, \"decay\", \"info.yaml\"), \"r\") as f:\n",
    "        info = yaml.safe_load(f)\n",
    "    u_eq.append(np.array(info['pre_tensioning']))\n",
    "print(q_eq)\n",
    "print(u_eq)\n",
    "xy_rest = np.array([q_eq[i][:2] for i in range(N_models)])"
   ]
  },
  {
   "cell_type": "code",
   "execution_count": 7,
   "metadata": {},
   "outputs": [],
   "source": [
    "models = []\n",
    "for model_name in model_names:\n",
    "    with open(join(model_dir, model_name, \"SSMmodel\", \"SSM_model.pkl\"), \"rb\") as f:\n",
    "        model = pickle.load(f)\n",
    "        models.append(model)\n",
    "Vde = [model['model']['V'] for model in models]\n",
    "r_coeff = [model['model']['r_coeff'] for model in models]\n",
    "w_coeff = [model['model']['w_coeff'] for model in models]\n",
    "B = [model['model']['B'] for model in models]\n",
    "ROMOrder = [model['params']['ROM_order'] for model in models]\n",
    "SSMOrder = [model['params']['SSM_order'] for model in models]"
   ]
  },
  {
   "attachments": {},
   "cell_type": "markdown",
   "metadata": {},
   "source": [
    "Compute interpolations: Delaunay triangulation, Barycentric linear interpolation"
   ]
  },
  {
   "cell_type": "code",
   "execution_count": 8,
   "metadata": {},
   "outputs": [],
   "source": [
    "from scipy.interpolate import NearestNDInterpolator\n",
    "from scipy.interpolate import LinearNDInterpolator\n",
    "from scipy.interpolate import CloughTocher2DInterpolator\n",
    "from scipy.spatial import Delaunay\n",
    "\n",
    "interpolator = NearestNDInterpolator\n",
    "# compute delauny triangulation attached to the pre-tensioned equilibria\n",
    "tri = Delaunay(xy_rest)\n",
    "# create interpolants for the different coefficient matrices\n",
    "interpolation = {}\n",
    "for name, coeffs in [('W', w_coeff), ('V', Vde), ('R', r_coeff), ('B', B), ('u_bar', u_eq), ('q_bar', q_eq)]:\n",
    "    interpolation[name] = interpolator(tri, coeffs)"
   ]
  },
  {
   "attachments": {},
   "cell_type": "markdown",
   "metadata": {},
   "source": [
    "Trunk settings"
   ]
  },
  {
   "cell_type": "code",
   "execution_count": 9,
   "metadata": {},
   "outputs": [],
   "source": [
    "observables = \"delay-embedding\" # \"pos-vel\" # \n",
    "N_DELAY = 4 # only relevant if observables is \"delay-embedding\"\n",
    "TIP_NODE = 51\n",
    "N_NODES = 709\n",
    "INPUT_DIM = 8\n",
    "DT = 0.01\n",
    "\n",
    "rDOF = 3\n",
    "oDOF = 3\n",
    "SSMDim = 6\n",
    "\n",
    "robot_dir = \"../../../soft-robot-control/examples/trunk\"\n",
    "data_dir = \"/media/jonas/Backup Plus/jonas_soft_robot_data/trunk_adiabatic/origin\"\n",
    "rest_file = join(robot_dir, 'rest_qv.pkl')"
   ]
  },
  {
   "attachments": {},
   "cell_type": "markdown",
   "metadata": {},
   "source": [
    "Compute observables (delay embedding)"
   ]
  },
  {
   "cell_type": "code",
   "execution_count": 10,
   "metadata": {},
   "outputs": [],
   "source": [
    "N_DELAY = 4\n",
    "assemble_observables = lambda oData: utils.delayEmbedding(oData, up_to_delay=N_DELAY)"
   ]
  },
  {
   "attachments": {},
   "cell_type": "markdown",
   "metadata": {},
   "source": [
    "Load test trajectory (circle)"
   ]
  },
  {
   "cell_type": "code",
   "execution_count": 11,
   "metadata": {},
   "outputs": [
    {
     "name": "stdout",
     "output_type": "stream",
     "text": [
      "y.shape: (15, 1002)\n",
      "u.shape: (8, 1002)\n"
     ]
    }
   ],
   "source": [
    "test_results = {}\n",
    "test_trajectory_folders = ['open-loop_circle']\n",
    "test_trajectories = []\n",
    "for test_traj in test_trajectory_folders:\n",
    "    traj_dir = join(robot_dir, \"dataCollection\", test_traj)\n",
    "    (t, z), u = utils.import_pos_data(data_dir=traj_dir,\n",
    "                                      rest_file=rest_file,\n",
    "                                      output_node=TIP_NODE, return_inputs=True, traj_index=0)\n",
    "    # z = (z.T - q_eq).T\n",
    "    # u = (u.T - u_eq).T\n",
    "    y = assemble_observables(z)\n",
    "    print(\"y.shape:\", y.shape)\n",
    "    print(\"u.shape:\", u.shape)\n",
    "\n",
    "    test_trajectories.append({\n",
    "            'name': test_traj,\n",
    "            't': t,\n",
    "            'z': z,\n",
    "            'u': u,\n",
    "            'y': y\n",
    "        })"
   ]
  },
  {
   "cell_type": "code",
   "execution_count": 71,
   "metadata": {},
   "outputs": [],
   "source": [
    "N_horizon = np.inf"
   ]
  },
  {
   "cell_type": "code",
   "execution_count": 72,
   "metadata": {},
   "outputs": [],
   "source": [
    "def interpolate_coeffs(xy, coeff_name):\n",
    "    if coeff_name not in interpolation.keys():\n",
    "        raise RuntimeError(\"No interpolation available for these coefficents: {coeff_name}\")\n",
    "    return interpolation[coeff_name](xy).squeeze()\n",
    "\n",
    "origin_idx = model_names.index(\"origin\")\n",
    "use_origin_only = False\n",
    "\n",
    "def advect_adiabaticRD_with_inputs(t, y0, u, y):\n",
    "    dt = 0.01\n",
    "    N = len(t)-1\n",
    "    x = np.full((6, N+1), np.nan)\n",
    "    y_pred = np.full((15, N+1), np.nan)\n",
    "    y_pred[:, 0] = y0\n",
    "    y_bar = np.full((15, N+1), np.nan)\n",
    "    u_bar = np.full((8, N+1), np.nan)\n",
    "    xdot = np.full((6, N+1), np.nan)\n",
    "    weights = np.full((N_models, N+1), np.nan)\n",
    "\n",
    "    # initialize interpolated model\n",
    "    y_bar_current, u_bar_current, W_current, R_current, V_current, B_current, weights_current = None, None, None, None, None, None, None\n",
    "\n",
    "    for i in range(N):\n",
    "        if i % N_horizon == 0:\n",
    "            # make observation\n",
    "            y_pred[:, i] = y[:, i]\n",
    "            # update model\n",
    "            if use_origin_only:\n",
    "                y_bar_current = np.zeros(15)\n",
    "                u_bar_current = np.zeros(8)\n",
    "                V_current = Vde[origin_idx]\n",
    "                R_current = r_coeff[origin_idx]\n",
    "                W_current = w_coeff[origin_idx]\n",
    "                B_current = B[origin_idx]\n",
    "            else:\n",
    "                y_bar_current = np.tile(interpolate_coeffs(y[:2, i], 'q_bar'), 1 + N_DELAY)\n",
    "                u_bar_current = interpolate_coeffs(y[:2, i], 'u_bar')\n",
    "                W_current = interpolate_coeffs(y[:2, i], 'W')\n",
    "                R_current = interpolate_coeffs(y[:2, i], 'R')\n",
    "                V_current = interpolate_coeffs(y[:2, i], 'V')\n",
    "                B_current = interpolate_coeffs(y[:2, i], 'B')\n",
    "            # x[i] = V[i]^T @ (y[i] - y_bar[i])\n",
    "            x[:, i] = V_current.T @ (y_pred[:, i].T - y_bar_current) # y[:, i]) # \n",
    "            # compute weights used for this finite-horizon rollout\n",
    "            simplex = tri.find_simplex(y[:2, i])\n",
    "            b = tri.transform[simplex,:2] @ (y[:2, i] - tri.transform[simplex,2])\n",
    "            c = np.r_[b, 1 - b.sum()]\n",
    "            point_idx = tri.simplices[simplex]\n",
    "            weights_current = np.zeros(N_models)\n",
    "            if use_origin_only:\n",
    "                weights_current[origin_idx] = 1\n",
    "            elif interpolator is NearestNDInterpolator:\n",
    "                weights_current[point_idx[np.argmax(c)]] = 1\n",
    "                print(weights_current)\n",
    "            elif interpolator is LinearNDInterpolator:\n",
    "                weights_current[point_idx] = c\n",
    "            else:\n",
    "                weights_current[:] = np.nan\n",
    "        try:\n",
    "            # compute and integrate the dynamics at this timestep\n",
    "            y_bar[:, i] = y_bar_current\n",
    "            u_bar[:, i] = u_bar_current\n",
    "            weights[:, i] = weights_current\n",
    "            # xdot[i] = R(x[i]) + B[i] @ (u[i] - u_bar[i])\n",
    "            xdot[:, i] = (R_current @ utils.phi(x[:, i].reshape(-1, 1), ROMOrder[0])).flatten() + B_current @ (u[:, i] - u_bar_current)\n",
    "            # forward Euler: x[i+1] = x[i] + dt * xdot[i]\n",
    "            x[:, i+1] = x[:, i] + dt * xdot[:, i]\n",
    "            # y[i+1] = W(x[i+1]) + y_bar[i]\n",
    "            y_pred[:, i+1] = (W_current @ utils.phi(x[:, i+1].reshape(-1, 1), SSMOrder[0])).T + y_bar_current\n",
    "        except Exception as e:\n",
    "            print(\"i =\", i)\n",
    "            print(\"y_pred[i-1]:\", y_pred[:, i-1])\n",
    "            print(\"y[i-1]:\", y[:, i-1])\n",
    "            print(\"x[i-1]:\", x[:, i-1])\n",
    "            print(\"=======================================\")\n",
    "            print(\"y_pred[i]:\", y_pred[:, i])\n",
    "            print(\"y[i]:\", y[:, i])\n",
    "            print(\"x[i]:\", x[:, i])\n",
    "            print(\"=======================================\")\n",
    "            print(\"y_pred[i+1]:\", y_pred[:, i+1])\n",
    "            print(\"y[i+1]:\", y[:, i+1])\n",
    "            print(\"x[i+1]:\", x[:, i+1])\n",
    "            print(\"=======================================\")\n",
    "            print(e)\n",
    "            break\n",
    "            raise e\n",
    "    return t, x, y_pred, xdot, y_bar, u_bar, weights"
   ]
  },
  {
   "cell_type": "code",
   "execution_count": 73,
   "metadata": {},
   "outputs": [
    {
     "name": "stdout",
     "output_type": "stream",
     "text": [
      "open-loop_circle\n",
      "[0. 0. 0. 0. 1. 0. 0. 0. 0.]\n"
     ]
    }
   ],
   "source": [
    "traj = test_trajectories[0]\n",
    "print(traj['name'])\n",
    "t, x, y_pred, xdot, y_bar, u_bar, weights = advect_adiabaticRD_with_inputs(traj['t'], traj['y'][:, 0], traj['u'], traj['y'])"
   ]
  },
  {
   "cell_type": "code",
   "execution_count": 74,
   "metadata": {},
   "outputs": [],
   "source": [
    "plt.close('all')\n",
    "# Trajectory xyz vs. t (predicted vs. actual)\n",
    "axs = plot.traj_xyz_txyz(t,\n",
    "                            y_pred[0, :], y_pred[1, :], y_pred[2, :],\n",
    "                            show=False)\n",
    "axs = plot.traj_xyz_txyz(traj['t'],\n",
    "                        traj['z'][0, :], traj['z'][1, :], traj['z'][2, :],\n",
    "                        color=\"tab:orange\", axs=axs, show=False)\n",
    "axs[-1].legend([\"Predicted trajectory\", \"Actual trajectory\"])\n",
    "# for ax in axs:\n",
    "#     ax.set_ylim(-35, 35)\n",
    "plt.suptitle(r\"Trajectory (predicted vs. actual)\")\n",
    "plt.tight_layout()\n",
    "plt.show()\n",
    "\n",
    "# Trajectory 2D (predicted vs. actual)\n",
    "ax = plot.traj_2D_xy(y_pred[0, :], y_pred[1, :],\n",
    "                      show=False)\n",
    "ax = plot.traj_2D_xy(traj['z'][0, :], traj['z'][1, :],\n",
    "                        color=\"tab:orange\", ax=ax, show=False)\n",
    "ax.set_xlim(-35, 35)\n",
    "ax.set_ylim(-35, 35)\n",
    "ax.legend([\"Predicted trajectory\", \"Actual trajectory\"])\n",
    "plt.suptitle(r\"Trajectory (predicted vs. actual)\")\n",
    "plt.show()\n",
    "\n",
    "# weights\n",
    "axs = plot.adiabatic_model_weights(t, weights, model_names)\n",
    "\n",
    "# psi_bar\n",
    "axs = plot.traj_xyz_txyz(t,\n",
    "                         y_bar[0, :], y_bar[1, :], y_bar[2, :],\n",
    "                         xyz_names=[r\"$\\bar{\\psi}_1(t)$\", r\"$\\bar{\\psi}_2(t)$\", r\"$\\bar{\\psi}_3(t)$\"],\n",
    "                         show=False, rotate_yticks=True)\n",
    "plt.suptitle(r\"$\\bar{\\psi}(t)$\")\n",
    "plt.show()\n",
    "\n",
    "# xi_dot\n",
    "axs = plot.traj_xyz_txyz(t,\n",
    "                        xdot[0, :], xdot[1, :], xdot[2, :],\n",
    "                        xyz_names=[r\"$\\dot{\\xi}_1(t)$\", r\"$\\dot{\\xi}_2(t)$\", r\"$\\dot{\\xi}_3(t)$\"],\n",
    "                        show=False, rotate_yticks=True)\n",
    "for ax in axs:\n",
    "    ax.set_ylim(-100, 100)\n",
    "plt.suptitle(r\"$\\dot{\\xi}(t)$\")\n",
    "plt.show()\n",
    "\n",
    "# xi\n",
    "axs = plot.traj_xyz_txyz(t,\n",
    "                        x[0, :], x[1, :], x[2, :],\n",
    "                        xyz_names=[r\"$\\xi_1(t)$\", r\"$\\xi_2(t)$\", r\"$\\xi_3(t)$\"],\n",
    "                        show=False, rotate_yticks=True)\n",
    "for ax in axs:\n",
    "    ax.set_ylim(-100, 100)\n",
    "plt.suptitle(r\"$\\xi(t)$\")\n",
    "plt.show()\n"
   ]
  },
  {
   "cell_type": "code",
   "execution_count": null,
   "metadata": {},
   "outputs": [],
   "source": []
  }
 ],
 "metadata": {
  "kernelspec": {
   "display_name": "soft",
   "language": "python",
   "name": "python3"
  },
  "language_info": {
   "codemirror_mode": {
    "name": "ipython",
    "version": 3
   },
   "file_extension": ".py",
   "mimetype": "text/x-python",
   "name": "python",
   "nbconvert_exporter": "python",
   "pygments_lexer": "ipython3",
   "version": "3.8.16"
  },
  "orig_nbformat": 4
 },
 "nbformat": 4,
 "nbformat_minor": 2
}
