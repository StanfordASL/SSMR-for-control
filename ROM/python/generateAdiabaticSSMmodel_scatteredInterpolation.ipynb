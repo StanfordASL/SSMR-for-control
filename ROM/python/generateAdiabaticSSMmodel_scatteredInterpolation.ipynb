{
 "cells": [
  {
   "cell_type": "markdown",
   "metadata": {},
   "source": [
    "# Adiabatic SSM model"
   ]
  },
  {
   "attachments": {},
   "cell_type": "markdown",
   "metadata": {},
   "source": [
    "## 2. Scattered interpolation"
   ]
  },
  {
   "attachments": {},
   "cell_type": "markdown",
   "metadata": {},
   "source": [
    "This notebook takes multiple local SSM models which have been identified at pre-tensioned equilibria and interpolates them using scattered interpolation to obtain one adiabatic SSM model. The model performance is evaluated by its ability to predict open-loop trajectories."
   ]
  },
  {
   "cell_type": "code",
   "execution_count": 1,
   "metadata": {},
   "outputs": [],
   "source": [
    "from os import listdir\n",
    "from os.path import join\n",
    "import pickle\n",
    "import yaml\n",
    "import numpy as np\n",
    "np.set_printoptions(linewidth=100)"
   ]
  },
  {
   "cell_type": "code",
   "execution_count": 2,
   "metadata": {},
   "outputs": [],
   "source": [
    "%load_ext autoreload\n",
    "%autoreload 2\n",
    "import utils as utils\n",
    "import plot_utils as plot"
   ]
  },
  {
   "cell_type": "code",
   "execution_count": 3,
   "metadata": {},
   "outputs": [],
   "source": [
    "%matplotlib qt\n",
    "import matplotlib.pyplot as plt"
   ]
  },
  {
   "cell_type": "code",
   "execution_count": 40,
   "metadata": {},
   "outputs": [
    {
     "name": "stdout",
     "output_type": "stream",
     "text": [
      "['northwest', 'north', 'northeast', 'west', 'origin', 'east', 'southwest', 'south', 'southeast']\n"
     ]
    }
   ],
   "source": [
    "# directory containing the SSM models\n",
    "model_dir = \"/media/jonas/Backup Plus/jonas_soft_robot_data/trunk_adiabatic\"\n",
    "# model_names = sorted(listdir(model_dir))\n",
    "# model_names = [\"north\",\"west\", \"origin\", \"east\", \"south\"]\n",
    "model_names = [\"northwest\", \"north\", \"northeast\", \"west\", \"origin\", \"east\", \"southwest\", \"south\", \"southeast\"] # [\"north\",\"west\", \"origin\", \"east\", \"south\"] # \n",
    "print(model_names)\n",
    "N_models = len(model_names)"
   ]
  },
  {
   "cell_type": "markdown",
   "metadata": {},
   "source": [
    "Load the pre-tensioned equilibrium of each model and plot adiabatic SSM map"
   ]
  },
  {
   "cell_type": "code",
   "execution_count": 41,
   "metadata": {},
   "outputs": [
    {
     "name": "stdout",
     "output_type": "stream",
     "text": [
      "[array([-34.87879219,  35.84572228, -10.60406392]), array([ 0.54467017, 35.57246381, -6.34727727]), array([ 35.552736  ,  34.86109908, -14.7558155 ]), array([-35.30795769,  -0.42439489,  -4.08499071]), array([ 0.03909428, -0.08913968, -0.00175868]), array([34.95441827, -0.27574755, -7.94720868]), array([-35.09507886, -37.14043854, -10.94062807]), array([  0.27917007, -35.77321019,  -6.25407621]), array([ 35.12892494, -35.8256824 , -14.73033781])]\n",
      "[array([200, 200,   0,   0, 200, 200,   0,   0]), array([200,   0,   0,   0, 200,   0,   0,   0]), array([200,   0,   0, 200, 200,   0,   0, 200]), array([  0, 200,   0,   0,   0, 200,   0,   0]), array([0, 0, 0, 0, 0, 0, 0, 0]), array([  0,   0,   0, 200,   0,   0,   0, 200]), array([  0, 200, 200,   0,   0, 200, 200,   0]), array([  0,   0, 200,   0,   0,   0, 200,   0]), array([  0,   0, 200, 200,   0,   0, 200, 200])]\n"
     ]
    }
   ],
   "source": [
    "q_eq, u_eq = [], []\n",
    "for model in model_names:\n",
    "    with open(join(model_dir, model, \"SSMmodel\", \"pre-tensioned_rest_q.pkl\"), \"rb\") as f:\n",
    "        q_eq.append(pickle.load(f))\n",
    "    with open(join(model_dir, model, \"decay\", \"info.yaml\"), \"r\") as f:\n",
    "        info = yaml.safe_load(f)\n",
    "    u_eq.append(np.array(info['pre_tensioning']))\n",
    "print(q_eq)\n",
    "print(u_eq)\n",
    "xy_rest = np.array([q_eq[i][:2] for i in range(N_models)])"
   ]
  },
  {
   "cell_type": "code",
   "execution_count": 42,
   "metadata": {},
   "outputs": [],
   "source": [
    "models = []\n",
    "for model_name in model_names:\n",
    "    with open(join(model_dir, model_name, \"SSMmodel\", \"SSM_model.pkl\"), \"rb\") as f:\n",
    "        model = pickle.load(f)\n",
    "        models.append(model)\n",
    "Vde = [model['model']['V'] for model in models]\n",
    "r_coeff = [model['model']['r_coeff'] for model in models]\n",
    "w_coeff = [model['model']['w_coeff'] for model in models]\n",
    "B = [model['model']['B'] for model in models]\n",
    "ROMOrder = models[0]['params']['ROM_order']\n",
    "SSMOrder = models[0]['params']['SSM_order']\n",
    "for model in models:\n",
    "    assert model['params']['ROM_order'] == ROMOrder\n",
    "    assert model['params']['SSM_order'] == SSMOrder"
   ]
  },
  {
   "attachments": {},
   "cell_type": "markdown",
   "metadata": {},
   "source": [
    "Compute interpolations: Delaunay triangulation, Barycentric linear interpolation"
   ]
  },
  {
   "cell_type": "code",
   "execution_count": 62,
   "metadata": {},
   "outputs": [],
   "source": [
    "from scipy.interpolate import NearestNDInterpolator\n",
    "from scipy.interpolate import LinearNDInterpolator\n",
    "from scipy.interpolate import CloughTocher2DInterpolator\n",
    "from scipy.spatial import Delaunay\n",
    "\n",
    "interpolator = CloughTocher2DInterpolator\n",
    "\n",
    "# xy_rest[0][0] -= 2\n",
    "\n",
    "# compute delauny triangulation attached to the pre-tensioned equilibria\n",
    "tri = Delaunay(xy_rest)\n",
    "# create interpolants for the different coefficient matrices\n",
    "interpolation = {}\n",
    "for name, coeffs in [('W', w_coeff), ('V', Vde), ('R', r_coeff), ('B', B), ('u_bar', u_eq), ('q_bar', q_eq)]:\n",
    "    interpolation[name] = interpolator(tri, coeffs)"
   ]
  },
  {
   "cell_type": "markdown",
   "metadata": {},
   "source": [
    "Visualize the interpolation scheme"
   ]
  },
  {
   "cell_type": "code",
   "execution_count": 63,
   "metadata": {},
   "outputs": [],
   "source": [
    "fig, ax = plt.subplots(1, 1, dpi=150)\n",
    "ax.triplot(xy_rest[:,0], xy_rest[:,1], tri.simplices.copy(), color=\"black\", ls=\"-\", lw=0.8)\n",
    "for i in range(N_models):\n",
    "    ax.plot(xy_rest[i,0], xy_rest[i,1], marker=\"D\", markersize=8, ls=\"\", color=\"tab:blue\")\n",
    "ax.set_aspect(\"equal\")\n",
    "ax.set_xlabel(r\"$x$ [mm]\")\n",
    "ax.set_ylabel(r\"$y$ [mm]\")\n",
    "# fig.suptitle(\"Delaunay triangulation\")\n",
    "plt.show()"
   ]
  },
  {
   "cell_type": "code",
   "execution_count": 64,
   "metadata": {},
   "outputs": [],
   "source": [
    "nx, ny = (100, 100)\n",
    "grid_lims = (-40, 40)\n",
    "x = np.linspace(grid_lims[0], grid_lims[1], nx)\n",
    "y = np.linspace(grid_lims[0], grid_lims[1], ny)\n",
    "# xv, yv = np.meshgrid(x, y, sparse=False)\n",
    "\n",
    "model_weights = np.zeros((N_models, nx, ny))\n",
    "for i in range(nx):\n",
    "    for j in range(ny):\n",
    "        p = [x[i], y[j]]\n",
    "        simplex = tri.find_simplex(p)\n",
    "        if simplex == -1:\n",
    "            # extrapolation would be necessary\n",
    "            model_weights[:, j, i] = np.nan\n",
    "        else:\n",
    "            b = tri.transform[simplex,:2] @ (p - tri.transform[simplex,2])\n",
    "            c = np.r_[b, 1 - b.sum()]\n",
    "            point_idx = tri.simplices[simplex]\n",
    "            model_weights[point_idx, j, i] = c"
   ]
  },
  {
   "cell_type": "code",
   "execution_count": 65,
   "metadata": {},
   "outputs": [
    {
     "data": {
      "text/plain": [
       "(9, 100, 100)"
      ]
     },
     "execution_count": 65,
     "metadata": {},
     "output_type": "execute_result"
    }
   ],
   "source": [
    "model_weights.shape"
   ]
  },
  {
   "cell_type": "code",
   "execution_count": 66,
   "metadata": {},
   "outputs": [],
   "source": [
    "fig, axs = plt.subplots(3, 3, figsize=(10, 10), dpi=100, sharey=True, sharex=True, constrained_layout=True)\n",
    "im = None\n",
    "axs = axs.ravel()\n",
    "for i, model in enumerate(model_names):\n",
    "    ax = axs[i]\n",
    "    im = ax.contourf(x, y, model_weights[i, :, :],\n",
    "                    vmin=0, vmax=1, levels=100) # cmap=mpl.colormaps[colormaps[i]])\n",
    "    # ax.set_title(model)\n",
    "    ax.set_xlabel(r\"$x$ [mm]\")\n",
    "    ax.set_aspect(\"equal\")\n",
    "for ax in axs[[0, 3, 6]]:\n",
    "    ax.set_ylabel(r\"$y$ [mm]\")\n",
    "fig.colorbar(im, ax=axs.ravel().tolist(), fraction=0.03, aspect=35)\n",
    "plt.show()"
   ]
  },
  {
   "cell_type": "code",
   "execution_count": 67,
   "metadata": {},
   "outputs": [],
   "source": [
    "observables = \"delay-embedding\" # \"pos-vel\" # \n",
    "N_DELAY = 4 # only relevant if observables is \"delay-embedding\"\n",
    "TIP_NODE = 51\n",
    "N_NODES = 709\n",
    "INPUT_DIM = 8\n",
    "DT = 0.01\n",
    "\n",
    "rDOF = 3\n",
    "oDOF = 3\n",
    "SSMDim = 6\n",
    "\n",
    "robot_dir = \"../../../soft-robot-control/examples/trunk\"\n",
    "data_dir = \"/media/jonas/Backup Plus/jonas_soft_robot_data/trunk_adiabatic/origin\"\n",
    "rest_file = join(robot_dir, 'rest_qv.pkl')"
   ]
  },
  {
   "cell_type": "markdown",
   "metadata": {},
   "source": [
    "Compute observables (delay embedding)"
   ]
  },
  {
   "cell_type": "code",
   "execution_count": 68,
   "metadata": {},
   "outputs": [],
   "source": [
    "N_DELAY = 4\n",
    "assemble_observables = lambda oData: utils.delayEmbedding(oData, up_to_delay=N_DELAY)"
   ]
  },
  {
   "cell_type": "markdown",
   "metadata": {},
   "source": [
    "Predict open-loop trajectories using the interpolated adiabatic SSM model"
   ]
  },
  {
   "cell_type": "code",
   "execution_count": 69,
   "metadata": {},
   "outputs": [
    {
     "name": "stdout",
     "output_type": "stream",
     "text": [
      "q_rest: [ 1.18616278e+01  1.73091668e-02  2.75127778e+01 ... -4.83685413e+00  1.57972770e+00\n",
      "  8.69078237e+01]\n",
      "q_rest: [  3.54595786   0.30603326 195.61577293]\n",
      "y.shape: (15, 1002)\n",
      "u.shape: (8, 1002)\n"
     ]
    }
   ],
   "source": [
    "test_results = {}\n",
    "test_trajectory_folders = ['open-loop_circle']\n",
    "test_trajectories = []\n",
    "for test_traj in test_trajectory_folders:\n",
    "    traj_dir = join(robot_dir, \"dataCollection\", test_traj)\n",
    "    (t, z), u = utils.import_pos_data(data_dir=traj_dir,\n",
    "                                      rest_file=rest_file,\n",
    "                                      output_node=TIP_NODE, return_inputs=True, traj_index=0)\n",
    "    # z = (z.T - q_eq).T\n",
    "    # u = (u.T - u_eq).T\n",
    "    y = assemble_observables(z)\n",
    "    print(\"y.shape:\", y.shape)\n",
    "    print(\"u.shape:\", u.shape)\n",
    "\n",
    "    test_trajectories.append({\n",
    "            'name': test_traj,\n",
    "            't': t,\n",
    "            'z': z,\n",
    "            'u': u,\n",
    "            'y': y\n",
    "        })"
   ]
  },
  {
   "cell_type": "code",
   "execution_count": 70,
   "metadata": {},
   "outputs": [],
   "source": [
    "use_origin_only = False\n",
    "origin_idx = model_names.index(\"origin\")\n",
    "def interpolate_coeffs(xy, coeff_name):\n",
    "    if use_origin_only:\n",
    "        if coeff_name == \"W\":\n",
    "            return w_coeff[origin_idx]\n",
    "        elif coeff_name == \"R\":\n",
    "            return r_coeff[origin_idx]\n",
    "        elif coeff_name == \"V\":\n",
    "            return Vde[origin_idx]\n",
    "        elif coeff_name == \"B\":\n",
    "            return B[origin_idx]\n",
    "        elif coeff_name == \"u_bar\":\n",
    "            return np.zeros(8)\n",
    "        elif coeff_name == \"q_bar\":\n",
    "            return np.zeros(3)\n",
    "        else:\n",
    "            raise RuntimeError(\"No interpolation available for these coefficents: {coeff_name}\")\n",
    "    else:\n",
    "        if coeff_name not in interpolation.keys():\n",
    "            raise RuntimeError(\"No interpolation available for these coefficents: {coeff_name}\")\n",
    "        else:\n",
    "            return interpolation[coeff_name](xy).squeeze()"
   ]
  },
  {
   "cell_type": "code",
   "execution_count": 71,
   "metadata": {},
   "outputs": [],
   "source": [
    "def advect_adiabaticRD_with_inputs(t, y0, u, y, know_target=True):\n",
    "    dt = 0.01\n",
    "    N = len(t)-1\n",
    "    x = np.full((6, N+1), np.nan)\n",
    "    y_pred = np.full((15, N+1), np.nan)\n",
    "    y_pred[:, 0] = y0\n",
    "    y_bar = np.full((15, N+1), np.nan)\n",
    "    u_bar = np.full((8, N+1), np.nan)\n",
    "    xdot = np.full((6, N+1), np.nan)\n",
    "    weights = np.full((N_models, N+1), np.nan)\n",
    "\n",
    "    for i in range(N):\n",
    "        # compute the weights used at this timestep\n",
    "        try:\n",
    "            simplex = tri.find_simplex(y[:2, i])\n",
    "            b = tri.transform[simplex,:2] @ (y[:2, i] - tri.transform[simplex,2])\n",
    "            c = np.r_[b, 1 - b.sum()]\n",
    "            point_idx = tri.simplices[simplex]\n",
    "            weights[point_idx, i] = c\n",
    "            # assert np.all(c > 0)\n",
    "            # compute and integrate the dynamics at this timestep\n",
    "            y_bar[:, i] = np.tile(interpolate_coeffs(y[:2, i], 'q_bar'), 1 + N_DELAY)\n",
    "            u_bar[:, i] = interpolate_coeffs(y[:2, i], 'u_bar')\n",
    "            # x[i] = V[i]^T @ (y[i] - y_bar[i])\n",
    "            # if i == 0:\n",
    "            x[:, i] = interpolate_coeffs(y[:2, i], 'V').T @ (y_pred[:, i].T - y_bar[:, i]) # y[:, i]) # \n",
    "            # xdot[i] = R(x[i]) + B[i] @ (u[i] - u_bar[i])\n",
    "            xdot[:, i] = (interpolate_coeffs(y[:2, i], 'R') @ utils.phi(x[:, i].reshape(-1, 1), ROMOrder)).flatten() + interpolate_coeffs(y[:2, i], 'B') @ (u[:, i] - u_bar[:, i]) # -0.5 * np.eye(6) @ x[:, i] # -0.001 * np.ones(6) # \n",
    "            # forward Euler: x[i+1] = x[i] + dt * xdot[i]\n",
    "            x[:, i+1] = x[:, i] + dt * xdot[:, i]\n",
    "            # y[i+1] = W(x[i+1]) + y_bar[i]\n",
    "            y_pred[:, i+1] = (interpolate_coeffs(y[:2, i], 'W') @ utils.phi(x[:, i+1].reshape(-1, 1), SSMOrder)).T + y_bar[:, i]\n",
    "            if not know_target:\n",
    "                y[:, i+1] = y_pred[:, i+1]\n",
    "        except Exception as e:\n",
    "            print(\"i =\", i)\n",
    "            print(\"y_pred[i-1]:\", y_pred[:, i-1])\n",
    "            print(\"y[i-1]:\", y[:, i-1])\n",
    "            print(\"x[i-1]:\", x[:, i-1])\n",
    "            print(\"=======================================\")\n",
    "            print(\"y_pred[i]:\", y_pred[:, i])\n",
    "            print(\"y[i]:\", y[:, i])\n",
    "            print(\"x[i]:\", x[:, i])\n",
    "            print(\"=======================================\")\n",
    "            print(\"y_pred[i+1]:\", y_pred[:, i+1])\n",
    "            print(\"y[i+1]:\", y[:, i+1])\n",
    "            print(\"x[i+1]:\", x[:, i+1])\n",
    "            print(\"=======================================\")\n",
    "            print(e)\n",
    "            break\n",
    "            # raise e\n",
    "    return t, x, y_pred, xdot, y_bar, u_bar, weights"
   ]
  },
  {
   "cell_type": "code",
   "execution_count": 72,
   "metadata": {},
   "outputs": [],
   "source": [
    "from scipy.interpolate import interp1d\n",
    "from scipy.integrate import solve_ivp\n",
    "\n",
    "global t_prev\n",
    "t_prev = 0\n",
    "\n",
    "def advect_adiabaticRD_with_inputs_RK45(t, y0, u, y_target):\n",
    "    uInterpFun = interp1d(t, u, axis=1, fill_value=\"extrapolate\")\n",
    "    yTargetInterpFun = interp1d(t, y_target, axis=1, fill_value=\"extrapolate\")\n",
    "    def R_t(t, x):\n",
    "        global t_prev\n",
    "        print(\"t:\", t, \", t_prev:\", t_prev)\n",
    "        x = np.atleast_2d(x)\n",
    "        y_target_prev = yTargetInterpFun(t_prev)\n",
    "        y_target = yTargetInterpFun(t)\n",
    "        y_bar_prev = np.tile(interpolate_coeffs(y_target_prev[:2], 'q_bar'), 1 + N_DELAY)\n",
    "        y_bar = np.tile(interpolate_coeffs(y_target[:2], 'q_bar'), 1 + N_DELAY)\n",
    "        y = ((interpolate_coeffs(y_target_prev[:2], 'W') @ utils.phi(x, SSMOrder)).T + y_bar_prev).T\n",
    "        # x[i] = V[i]^T @ (y[i] - y_bar[i])\n",
    "        x = interpolate_coeffs(y_target[:2], 'V').T @ (y.T - y_bar).T\n",
    "        u_bar = interpolate_coeffs(y_target[:2], 'u_bar')\n",
    "        xdot = ((interpolate_coeffs(y_target[:2], 'R') @ utils.phi(x, ROMOrder)).T + interpolate_coeffs(y_target[:2], 'B') @ (uInterpFun(t) - u_bar)).T\n",
    "        # print(x)\n",
    "        t_prev = t\n",
    "        return xdot\n",
    "    # solve IVP of reduced dynamics using open-loop inputs\n",
    "    x0 = interpolate_coeffs(y0[:2], 'V').T @ (y0.T - np.tile(interpolate_coeffs(y0[:2], 'q_bar'), 1 + N_DELAY))\n",
    "    print(\"x0:\", x0)\n",
    "    sol = solve_ivp(R_t,\n",
    "                    t_span=[t[0], t[-1]],\n",
    "                    t_eval=t,\n",
    "                    y0=x0,\n",
    "                    method=\"RK45\",\n",
    "                    vectorized=True,\n",
    "                    rtol=1e-3,\n",
    "                    atol=1e-3)\n",
    "    # resulting (predicted) open-loop trajectory in reduced coordinates\n",
    "    xTraj = sol.y\n",
    "    yTraj = np.zeros_like(y_target)\n",
    "    for i in range(xTraj.shape[1]):\n",
    "        yTraj[:, i] = (interpolate_coeffs(y_target[:2, i], 'W') @ utils.phi(xTraj[:, i].reshape(-1, 1), SSMOrder)).T + np.tile(interpolate_coeffs(y_target[:2, i], 'q_bar'), 1 + N_DELAY)\n",
    "    return t, yTraj"
   ]
  },
  {
   "cell_type": "code",
   "execution_count": 76,
   "metadata": {},
   "outputs": [
    {
     "name": "stdout",
     "output_type": "stream",
     "text": [
      "open-loop_circle\n",
      "i = 305\n",
      "y_pred[i-1]: [-4.33002154e+50 -5.31712472e+51  2.18258586e+50  2.29897836e+50  3.09366581e+51  7.82947144e+48\n",
      "  4.24088688e+50  5.31096455e+51 -2.76018561e+49  1.92831235e+50  2.18493592e+51 -9.37043271e+49\n",
      " -4.29728571e+50 -5.43720922e+51 -2.68476709e+50]\n",
      "y[i-1]: [-8.88180449 30.18302405 -5.29426655 -9.07629065 30.1329251  -5.28736087 -9.27058468 30.08178077\n",
      " -5.28061264 -9.46474833 30.02992768 -5.27412361 -9.65840454 29.97671544 -5.26743414]\n",
      "x[i-1]: [ 8.92750974e+48  1.95187833e+48 -5.41978897e+48 -5.80868148e+48  3.17143950e+48 -2.23085916e+50]\n",
      "=======================================\n",
      "y_pred[i]: [nan nan nan nan nan nan nan nan nan nan nan nan nan nan nan]\n",
      "y[i]: [-9.07629065 30.1329251  -5.28736087 -9.27058468 30.08178077 -5.28061264 -9.46474833 30.02992768\n",
      " -5.27412361 -9.65840454 29.97671544 -5.26743414 -9.85145638 29.92180465 -5.26043844]\n",
      "x[i]: [nan nan nan nan nan nan]\n",
      "=======================================\n",
      "y_pred[i+1]: [nan nan nan nan nan nan nan nan nan nan nan nan nan nan nan]\n",
      "y[i+1]: [ -9.27058468  30.08178077  -5.28061264  -9.46474833  30.02992768  -5.27412361  -9.65840454\n",
      "  29.97671544  -5.26743414  -9.85145638  29.92180465  -5.26043844 -10.0442669   29.86585073\n",
      "  -5.25359905]\n",
      "x[i+1]: [nan nan nan nan nan nan]\n",
      "=======================================\n",
      "Input X contains NaN.\n",
      "PolynomialFeatures does not accept missing values encoded as NaN natively. For supervised learning, you might want to consider sklearn.ensemble.HistGradientBoostingClassifier and Regressor which accept missing values encoded as NaNs natively. Alternatively, it is possible to preprocess the data, for instance by using an imputer transformer in a pipeline or drop samples with missing values. See https://scikit-learn.org/stable/modules/impute.html You can find a list of all estimators that handle NaN values at the following page: https://scikit-learn.org/stable/modules/impute.html#estimators-that-handle-nan-values\n"
     ]
    },
    {
     "name": "stderr",
     "output_type": "stream",
     "text": [
      "/home/jonas/miniconda3/envs/soft/lib/python3.8/site-packages/sklearn/preprocessing/_polynomial.py:440: RuntimeWarning: overflow encountered in multiply\n",
      "  np.multiply(\n",
      "/tmp/ipykernel_24913/4033144024.py:32: RuntimeWarning: invalid value encountered in matmul\n",
      "  y_pred[:, i+1] = (interpolate_coeffs(y[:2, i], 'W') @ utils.phi(x[:, i+1].reshape(-1, 1), SSMOrder)).T + y_bar[:, i]\n"
     ]
    }
   ],
   "source": [
    "traj = test_trajectories[0]\n",
    "print(traj['name'])\n",
    "t, x, y_pred, xdot, y_bar, u_bar, weights = advect_adiabaticRD_with_inputs(traj['t'], traj['y'][:, 0], traj['u'], traj['y'], know_target=True)\n",
    "# slice_traj = np.s_[:650]\n",
    "# t, y_pred = advect_adiabaticRD_with_inputs_RK45(traj['t'][slice_traj], traj['y'][:, 0], traj['u'][:, slice_traj], y_target=traj['y'][:, slice_traj])"
   ]
  },
  {
   "cell_type": "code",
   "execution_count": 78,
   "metadata": {},
   "outputs": [],
   "source": [
    "plt.close('all')\n",
    "# Trajectory xyz vs. t (predicted vs. actual)\n",
    "axs = plot.traj_xyz_txyz(t,\n",
    "                            y_pred[0, :], y_pred[1, :], y_pred[2, :],\n",
    "                            show=False)\n",
    "axs = plot.traj_xyz_txyz(traj['t'],\n",
    "                        traj['z'][0, :], traj['z'][1, :], traj['z'][2, :],\n",
    "                        color=\"tab:orange\", axs=axs, show=False)\n",
    "axs[-1].legend([\"Predicted trajectory\", \"Actual trajectory\"])\n",
    "for ax in axs:\n",
    "    ax.set_ylim(-35, 35)\n",
    "plt.suptitle(r\"Trajectory (predicted vs. actual)\")\n",
    "plt.tight_layout()\n",
    "plt.show()\n",
    "\n",
    "# Trajectory 2D (predicted vs. actual)\n",
    "ax = plot.traj_2D_xy(y_pred[0, :], y_pred[1, :],\n",
    "                      show=False)\n",
    "ax = plot.traj_2D_xy(traj['z'][0, :], traj['z'][1, :],\n",
    "                        color=\"tab:orange\", ax=ax, show=False)\n",
    "ax.set_xlim(-35, 35)\n",
    "ax.set_ylim(-35, 35)\n",
    "ax.legend([\"Predicted trajectory\", \"Actual trajectory\"])\n",
    "plt.suptitle(r\"Trajectory (predicted vs. actual)\")\n",
    "plt.show()\n",
    "\n",
    "# weights\n",
    "axs = plot.adiabatic_model_weights(t, weights, model_names)\n",
    "\n",
    "# psi_bar\n",
    "axs = plot.traj_xyz_txyz(t,\n",
    "                        y_bar[0, :], y_bar[1, :], y_bar[2, :],\n",
    "                        xyz_names=[r\"$\\bar{\\psi}_1(t)$\", r\"$\\bar{\\psi}_2(t)$\", r\"$\\bar{\\psi}_3(t)$\"],\n",
    "                        show=False, rotate_yticks=True)\n",
    "plt.suptitle(r\"$\\bar{\\psi}(t)$\")\n",
    "plt.show()\n",
    "\n",
    "# xi_dot\n",
    "axs = plot.traj_xyz_txyz(t,\n",
    "                        xdot[0, :], xdot[1, :], xdot[2, :],\n",
    "                        xyz_names=[r\"$\\dot{\\xi}_1(t)$\", r\"$\\dot{\\xi}_2(t)$\", r\"$\\dot{\\xi}_3(t)$\"],\n",
    "                        show=False, rotate_yticks=True)\n",
    "# for ax in axs:\n",
    "#     ax.set_ylim(-100, 100)\n",
    "plt.suptitle(r\"$\\dot{\\xi}(t)$\")\n",
    "plt.show()\n",
    "\n",
    "# xi\n",
    "axs = plot.traj_xyz_txyz(t,\n",
    "                        x[0, :], x[1, :], x[2, :],\n",
    "                        xyz_names=[r\"$\\xi_1(t)$\", r\"$\\xi_2(t)$\", r\"$\\xi_3(t)$\"],\n",
    "                        show=False, rotate_yticks=True)\n",
    "# for ax in axs:\n",
    "#     ax.set_ylim(-100, 100)\n",
    "plt.suptitle(r\"$\\xi(t)$\")\n",
    "plt.show()\n"
   ]
  },
  {
   "cell_type": "code",
   "execution_count": null,
   "metadata": {},
   "outputs": [],
   "source": []
  },
  {
   "cell_type": "code",
   "execution_count": null,
   "metadata": {},
   "outputs": [],
   "source": []
  },
  {
   "cell_type": "code",
   "execution_count": null,
   "metadata": {},
   "outputs": [],
   "source": []
  },
  {
   "cell_type": "code",
   "execution_count": null,
   "metadata": {},
   "outputs": [],
   "source": []
  }
 ],
 "metadata": {
  "kernelspec": {
   "display_name": "soft",
   "language": "python",
   "name": "python3"
  },
  "language_info": {
   "codemirror_mode": {
    "name": "ipython",
    "version": 3
   },
   "file_extension": ".py",
   "mimetype": "text/x-python",
   "name": "python",
   "nbconvert_exporter": "python",
   "pygments_lexer": "ipython3",
   "version": "3.8.16"
  },
  "orig_nbformat": 4
 },
 "nbformat": 4,
 "nbformat_minor": 2
}
