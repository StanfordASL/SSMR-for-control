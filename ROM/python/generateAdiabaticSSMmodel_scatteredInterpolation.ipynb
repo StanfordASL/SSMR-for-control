{
 "cells": [
  {
   "cell_type": "markdown",
   "metadata": {},
   "source": [
    "# Adiabatic SSM model"
   ]
  },
  {
   "attachments": {},
   "cell_type": "markdown",
   "metadata": {},
   "source": [
    "## 2. Scattered interpolation"
   ]
  },
  {
   "attachments": {},
   "cell_type": "markdown",
   "metadata": {},
   "source": [
    "This notebook takes multiple local SSM models which have been identified at pre-tensioned equilibria and interpolates them using scattered interpolation to obtain one adiabatic SSM model. The model performance is evaluated by its ability to predict open-loop trajectories."
   ]
  },
  {
   "cell_type": "code",
   "execution_count": 1,
   "metadata": {},
   "outputs": [],
   "source": [
    "from os import listdir\n",
    "from os.path import join, isdir\n",
    "import pickle\n",
    "import yaml\n",
    "import numpy as np\n",
    "np.set_printoptions(linewidth=100)"
   ]
  },
  {
   "cell_type": "code",
   "execution_count": 2,
   "metadata": {},
   "outputs": [],
   "source": [
    "%load_ext autoreload\n",
    "%autoreload 2\n",
    "import utils as utils\n",
    "import plot_utils as plot"
   ]
  },
  {
   "cell_type": "code",
   "execution_count": 3,
   "metadata": {},
   "outputs": [],
   "source": [
    "%matplotlib qt\n",
    "import matplotlib.pyplot as plt"
   ]
  },
  {
   "cell_type": "code",
   "execution_count": 12,
   "metadata": {},
   "outputs": [],
   "source": [
    "# SETTINGS\n",
    "ROMOrder = 1\n",
    "N_samples = 100\n",
    "DT = 0.01\n",
    "INTERPOLATION_METHOD = \"linear\" #  \"idw\" # \"nn\" # \"origin_only\", \"linear\", \"ct\", \"nn\"\n",
    "ORIGIN_ONLY = (INTERPOLATION_METHOD == \"origin_only\")"
   ]
  },
  {
   "cell_type": "code",
   "execution_count": 13,
   "metadata": {},
   "outputs": [],
   "source": [
    "observables = \"delay-embedding\" # \"pos-vel\" # \n",
    "N_DELAY = 4 # only relevant if observables is \"delay-embedding\"\n",
    "TIP_NODE = 51\n",
    "N_NODES = 709\n",
    "INPUT_DIM = 8\n",
    "DT = 0.01\n",
    "\n",
    "rDOF = 3\n",
    "oDOF = 3\n",
    "SSMDim = 6\n",
    "\n",
    "robot_dir = \"../../../soft-robot-control/examples/trunk\"\n",
    "rest_file = join(robot_dir, 'rest_qv.pkl')"
   ]
  },
  {
   "cell_type": "code",
   "execution_count": 14,
   "metadata": {},
   "outputs": [
    {
     "name": "stdout",
     "output_type": "stream",
     "text": [
      "['000', '001', '002', '003', '004', '005', '006', '007', '008', '009', '010', '011', '012', '013', '014', '015', '016', '017']\n"
     ]
    }
   ],
   "source": [
    "# directory containing the SSM models\n",
    "data_dir = f\"/media/jonas/Backup Plus/jonas_soft_robot_data/trunk_adiabatic_N={N_samples}\" # {int(DT*1000)}ms_\n",
    "model_names = [name for name in sorted(listdir(data_dir)) if isdir(join(data_dir, name))]\n",
    "print(model_names)\n",
    "N_models = len(model_names)"
   ]
  },
  {
   "cell_type": "markdown",
   "metadata": {},
   "source": [
    "Load the pre-tensioned equilibrium of each model and plot adiabatic SSM map"
   ]
  },
  {
   "cell_type": "code",
   "execution_count": 88,
   "metadata": {},
   "outputs": [],
   "source": [
    "models = []\n",
    "test_results = []\n",
    "observables = \"delay-embedding\"\n",
    "for model_name in model_names:\n",
    "    model_dir = join(data_dir, model_name, f\"SSMmodel_{observables}\") # _ROMOrder={ROMOrder}\")\n",
    "    with open(join(model_dir, \"SSM_model.pkl\"), \"rb\") as f:\n",
    "        model = pickle.load(f)\n",
    "        models.append(model)\n",
    "    with open(join(model_dir, \"test_results.yaml\"), \"rb\") as f:\n",
    "        test_results_dict = yaml.safe_load(f)\n",
    "        test_results.append([test_results_dict['like training data']['RMSE'], test_results_dict['open-loop_circle']['RMSE']])\n",
    "V = [model['model']['V'] for model in models]\n",
    "r_coeff = [model['model']['r_coeff'] for model in models]\n",
    "w_coeff = [model['model']['w_coeff'] for model in models]\n",
    "B_r = [model['model']['B'] for model in models]\n",
    "q_bar = [model['model']['q_eq'] for model in models]\n",
    "u_bar = [model['model']['u_eq'] for model in models]\n",
    "ROMOrder = models[0]['params']['ROM_order']\n",
    "SSMOrder = models[0]['params']['SSM_order']\n",
    "for model in models:\n",
    "    assert model['params']['ROM_order'] == ROMOrder\n",
    "    assert model['params']['SSM_order'] == SSMOrder\n",
    "test_results = np.array(test_results)"
   ]
  },
  {
   "cell_type": "code",
   "execution_count": 90,
   "metadata": {},
   "outputs": [],
   "source": [
    "# for model in models:\n",
    "#     print(model['model']['V'][2, 5])"
   ]
  },
  {
   "cell_type": "code",
   "execution_count": 21,
   "metadata": {},
   "outputs": [
    {
     "data": {
      "text/plain": [
       "array([[  3.58879936,   0.29345365, 195.6144321 ],\n",
       "       [-27.40050589, -36.68798979, 180.09842115],\n",
       "       [-14.60346578,   7.4295816 , 183.85632844],\n",
       "       [ -6.11980062,   7.53423251, 187.14710148],\n",
       "       [ 10.64656293, -44.13471862, 177.24710812],\n",
       "       [ 61.75544639, -59.81437188, 157.74698746],\n",
       "       [-14.46030436,  16.95554575, 182.76490951],\n",
       "       [-41.06139362,  57.11783935, 173.95550417],\n",
       "       [-28.74410817,  56.64576793, 170.93730663],\n",
       "       [ 29.39531707, -60.74868375, 173.81116797],\n",
       "       [ 23.79314212,  59.47637974, 150.17543467],\n",
       "       [  6.36561914,  86.79224203, 150.04646726],\n",
       "       [-56.14350794, -58.57027772, 134.67263502],\n",
       "       [-75.2799343 ,  -7.4447859 , 159.33011031],\n",
       "       [ 30.93280333, -13.10131213, 188.959437  ],\n",
       "       [ 42.31195702,  34.3957865 , 145.08682448],\n",
       "       [-26.64640245, -24.82785272, 181.4297449 ],\n",
       "       [-13.80538936, -25.04052192, 181.5684651 ],\n",
       "       [ 30.98541103,  21.00993603, 177.33147113],\n",
       "       [ 22.10301809, -20.1873733 , 181.06687742],\n",
       "       [-58.07198431, -40.19100691, 157.30222821],\n",
       "       [-34.46318078,  75.9267744 , 152.86804787],\n",
       "       [ 35.57856669, -44.69067785, 175.1392158 ],\n",
       "       [ -1.93282579, -41.76724789, 174.02701459],\n",
       "       [ 23.93926874,  18.61609959, 178.38530379],\n",
       "       [ 25.70393143, -58.18865677, 168.10435258],\n",
       "       [-33.18466954, -71.29268627, 144.51488287],\n",
       "       [-59.99168998, -76.68977509, 124.49186742],\n",
       "       [ 25.09009959, -27.44797547, 178.37893222],\n",
       "       [ 73.53248194,  31.18539121, 146.23768751],\n",
       "       [ -5.41497448,  58.23874949, 174.47907114],\n",
       "       [-35.18324615, -13.73591246, 179.04860214],\n",
       "       [ 33.95515806,  60.40992855, 155.35793304],\n",
       "       [-63.73123376, -85.15396319, 114.12751272],\n",
       "       [ 19.20693212,  -2.1456803 , 189.45836779],\n",
       "       [ 70.07350465, -20.4408286 , 146.98759068],\n",
       "       [-50.98334786, -14.610321  , 173.74878378],\n",
       "       [ 21.90599257,   6.42874057, 182.12621833],\n",
       "       [-60.32445094, -46.05648078, 160.57724924],\n",
       "       [ 18.26207466,   6.7398452 , 182.27290692],\n",
       "       [-15.33709804,  31.7845134 , 178.62150448],\n",
       "       [-52.15659081,  21.52062256, 177.66837039],\n",
       "       [  7.08631992,  32.18581633, 178.58974073],\n",
       "       [-27.29347004, -37.07720842, 179.86833712],\n",
       "       [ 53.45225226, -60.94451068, 132.42179057],\n",
       "       [  4.64696784, -13.72135949, 191.3053241 ],\n",
       "       [-28.31895209,  -1.39693437, 189.47540823],\n",
       "       [ -5.44131299, -75.16117337, 161.17089111],\n",
       "       [ -2.97381339,  75.56228465, 148.60653817],\n",
       "       [  4.20346722,  24.96792356, 190.56083754],\n",
       "       [ 62.98733539, -51.05575484, 150.50491435],\n",
       "       [-47.0693614 , -55.66201672, 142.63976933],\n",
       "       [ 51.56865921, -15.61087429, 175.14473591],\n",
       "       [-39.5022231 ,  20.5661486 , 182.31316854],\n",
       "       [-56.77435882, -82.2857896 , 121.46725714],\n",
       "       [-85.61997796,   7.06974809, 160.90010553],\n",
       "       [-70.81663679,  74.40722696, 121.18937757],\n",
       "       [-34.55998939,  26.83745482, 167.73904171],\n",
       "       [-10.67894901, -93.88076663, 128.9063648 ],\n",
       "       [ 35.34518977, -12.60401457, 184.82423988],\n",
       "       [ 55.0733703 , -69.44542415, 126.88652907],\n",
       "       [ 10.62082514,  22.69698476, 182.69675953],\n",
       "       [-41.83317711,   8.57031262, 182.68641825],\n",
       "       [-86.30770044,  16.36461927, 158.09740533],\n",
       "       [  6.38835598,  23.351123  , 187.74596551],\n",
       "       [ 17.60618267, -20.00394634, 187.60262401],\n",
       "       [-15.01868548, -33.87648571, 184.32706848],\n",
       "       [ 36.1419659 , -58.72328439, 167.4343152 ],\n",
       "       [ -0.74386924,  -9.23421126, 185.88729017],\n",
       "       [  4.8182345 , -64.84304627, 171.95142467],\n",
       "       [-15.42193254, -14.43839692, 188.77574278],\n",
       "       [ 50.75557923,  52.95120581, 144.29983483],\n",
       "       [ 35.78234543, -34.74531666, 174.82572145],\n",
       "       [  5.73054532,  74.85355269, 161.05263772],\n",
       "       [ -3.40466332,  43.67960667, 176.49929004],\n",
       "       [-29.04829993,  -7.04893267, 183.90932313],\n",
       "       [ 75.74733195, -21.38156883, 153.45794697],\n",
       "       [-35.61954515,  87.28565994, 145.09180965],\n",
       "       [-14.10806899, -21.7050331 , 185.60877094],\n",
       "       [-28.41298439,  11.65100575, 190.6767922 ],\n",
       "       [ 18.20153279,  20.36401166, 182.628977  ],\n",
       "       [ -1.03811621,  -2.31777024, 188.65558074],\n",
       "       [ 38.93041018, -40.90518228, 161.01933557],\n",
       "       [ -8.59192842,  -6.86634344, 189.23170869],\n",
       "       [ 71.84555094,  10.26062932, 153.4228609 ],\n",
       "       [-27.49036387, -34.37271731, 182.69202047],\n",
       "       [-48.19277749,  -4.68793612, 173.28280954],\n",
       "       [ 51.87806191,  52.32805942, 151.69519131],\n",
       "       [ 35.43010814,  71.87835915, 149.13038251],\n",
       "       [-15.68394747,  38.11153035, 165.40179871],\n",
       "       [-24.46557625,  63.64495098, 155.08397417],\n",
       "       [-73.9403021 , -22.31731532, 165.41691462],\n",
       "       [ -7.12031847,  23.42718507, 187.00732068],\n",
       "       [-39.89680939,   8.42528835, 179.72575849],\n",
       "       [ 23.42233092,  10.77078961, 184.16035558],\n",
       "       [  6.17219463,  45.61191001, 180.50717518],\n",
       "       [  4.44570336,  12.32145728, 192.06929436],\n",
       "       [-68.54337603, -41.23330535, 153.27650838],\n",
       "       [ 47.61864489, -36.47182793, 171.04741278],\n",
       "       [  9.90374408, -41.57784878, 155.80527031]])"
      ]
     },
     "execution_count": 21,
     "metadata": {},
     "output_type": "execute_result"
    }
   ],
   "source": [
    "# xyz_rest = np.array([q_bar[i][:2] for i in range(N_models)])\n",
    "with open(join(data_dir, \"rest_qs.pkl\"), \"rb\") as f:\n",
    "    xyz_rest = pickle.load(f)\n",
    "xyz_rest = np.array(xyz_rest)[:, 3*TIP_NODE:3*TIP_NODE+3]\n",
    "xyz_rest"
   ]
  },
  {
   "attachments": {},
   "cell_type": "markdown",
   "metadata": {},
   "source": [
    "Compute interpolations"
   ]
  },
  {
   "cell_type": "code",
   "execution_count": 92,
   "metadata": {},
   "outputs": [],
   "source": [
    "from interpolators import InterpolatorFactory\n",
    "coeff_dict = {\n",
    "            'w_coeff': w_coeff,\n",
    "            'V': V,\n",
    "            'r_coeff': r_coeff,\n",
    "            'B_r': B_r,\n",
    "            'u_bar': u_bar,\n",
    "            'q_bar': q_bar\n",
    "        }\n",
    "interpolator = InterpolatorFactory(INTERPOLATION_METHOD, xyz_rest, coeff_dict).get_interpolator()"
   ]
  },
  {
   "attachments": {},
   "cell_type": "markdown",
   "metadata": {},
   "source": [
    "If not nearest neighbor interpolation, visualize the triangulation scheme"
   ]
  },
  {
   "cell_type": "code",
   "execution_count": 20,
   "metadata": {},
   "outputs": [],
   "source": [
    "if INTERPOLATION_METHOD in [\"linear\", \"ct\"]:\n",
    "    fig, ax = plt.subplots(1, 1, dpi=150)\n",
    "    ax.triplot(xyz_rest[:, 0], xyz_rest[:, 1], interpolator.tri.simplices.copy(), color=\"black\", ls=\"-\", lw=0.8)\n",
    "    ax.set_aspect(\"equal\")\n",
    "    ax.set_xlabel(r\"$x$ [mm]\")\n",
    "    ax.set_ylabel(r\"$y$ [mm]\")\n",
    "    fig.suptitle(\"Delaunay triangulation\")\n",
    "    fig.show()"
   ]
  },
  {
   "attachments": {},
   "cell_type": "markdown",
   "metadata": {},
   "source": [
    "For linear interpolation, visualize weights"
   ]
  },
  {
   "cell_type": "code",
   "execution_count": null,
   "metadata": {},
   "outputs": [
    {
     "ename": "ValueError",
     "evalue": "wrong dimensionality in xi",
     "output_type": "error",
     "traceback": [
      "\u001b[0;31m---------------------------------------------------------------------------\u001b[0m",
      "\u001b[0;31mValueError\u001b[0m                                Traceback (most recent call last)",
      "Cell \u001b[0;32mIn[56], line 12\u001b[0m\n\u001b[1;32m     10\u001b[0m \u001b[39mfor\u001b[39;00m j \u001b[39min\u001b[39;00m \u001b[39mrange\u001b[39m(ny):\n\u001b[1;32m     11\u001b[0m     p \u001b[39m=\u001b[39m [x[i], y[j]]\n\u001b[0;32m---> 12\u001b[0m     simplex \u001b[39m=\u001b[39m interpolator\u001b[39m.\u001b[39;49mtri\u001b[39m.\u001b[39;49mfind_simplex(p)\n\u001b[1;32m     13\u001b[0m     \u001b[39mif\u001b[39;00m simplex \u001b[39m==\u001b[39m \u001b[39m-\u001b[39m\u001b[39m1\u001b[39m:\n\u001b[1;32m     14\u001b[0m         \u001b[39m# extrapolation would be necessary\u001b[39;00m\n\u001b[1;32m     15\u001b[0m         model_weights[:, j, i] \u001b[39m=\u001b[39m np\u001b[39m.\u001b[39mnan\n",
      "File \u001b[0;32m_qhull.pyx:2085\u001b[0m, in \u001b[0;36mscipy.spatial._qhull.Delaunay.find_simplex\u001b[0;34m()\u001b[0m\n",
      "\u001b[0;31mValueError\u001b[0m: wrong dimensionality in xi"
     ]
    }
   ],
   "source": [
    "if INTERPOLATION_METHOD == \"linear\" and N_samples == 9:\n",
    "    nx, ny = (100, 100)\n",
    "    grid_lims = (-40, 40)\n",
    "    x = np.linspace(grid_lims[0], grid_lims[1], nx)\n",
    "    y = np.linspace(grid_lims[0], grid_lims[1], ny)\n",
    "    # xv, yv = np.meshgrid(x, y, sparse=False)\n",
    "\n",
    "    model_weights = np.zeros((N_models, nx, ny))\n",
    "    for i in range(nx):\n",
    "        for j in range(ny):\n",
    "            p = [x[i], y[j]]\n",
    "            simplex = interpolator.tri.find_simplex(p)\n",
    "            if simplex == -1:\n",
    "                # extrapolation would be necessary\n",
    "                model_weights[:, j, i] = np.nan\n",
    "            else:\n",
    "                b = interpolator.tri.transform[simplex, :2] @ (p - interpolator.tri.transform[simplex, 2])\n",
    "                c = np.r_[b, 1 - b.sum()]\n",
    "                point_idx = interpolator.tri.simplices[simplex]\n",
    "                model_weights[point_idx, j, i] = c\n",
    "    fig, axs = plt.subplots(3, 3, figsize=(10, 10), dpi=100, sharey=True, sharex=True, constrained_layout=True)\n",
    "    im = None\n",
    "    axs = axs.ravel()\n",
    "    for i, model in enumerate(model_names):\n",
    "        ax = axs[i]\n",
    "        im = ax.contourf(x, y, model_weights[i, :, :],\n",
    "                        vmin=0, vmax=1, levels=100) # cmap=mpl.colormaps[colormaps[i]])\n",
    "        # ax.set_title(model)\n",
    "        ax.set_xlabel(r\"$x$ [mm]\")\n",
    "        ax.set_aspect(\"equal\")\n",
    "    for ax in axs[[0, 3, 6]]:\n",
    "        ax.set_ylabel(r\"$y$ [mm]\")\n",
    "    fig.colorbar(im, ax=axs.ravel().tolist(), fraction=0.03, aspect=35)\n",
    "    plt.show()"
   ]
  },
  {
   "cell_type": "markdown",
   "metadata": {},
   "source": [
    "Compute observables (delay embedding)"
   ]
  },
  {
   "cell_type": "code",
   "execution_count": null,
   "metadata": {},
   "outputs": [],
   "source": [
    "assemble_observables = lambda oData: utils.delayEmbedding(oData, up_to_delay=N_DELAY)"
   ]
  },
  {
   "cell_type": "markdown",
   "metadata": {},
   "source": [
    "Predict open-loop trajectories using the interpolated adiabatic SSM model"
   ]
  },
  {
   "cell_type": "code",
   "execution_count": null,
   "metadata": {},
   "outputs": [],
   "source": [
    "# test_results = {}\n",
    "# test_trajectory_folders = ['open-loop_circle']\n",
    "# test_trajectories = []\n",
    "# for test_traj in test_trajectory_folders:\n",
    "#     traj_dir = join(robot_dir, \"dataCollection\", test_traj)\n",
    "#     (t, z), u = utils.import_pos_data(data_dir=traj_dir,\n",
    "#                                       rest_file=rest_file,\n",
    "#                                       output_node=TIP_NODE, return_inputs=True, traj_index=0)\n",
    "#     # z = (z.T - q_eq).T\n",
    "#     # u = (u.T - u_eq).T\n",
    "#     y = assemble_observables(z)\n",
    "#     print(\"y.shape:\", y.shape)\n",
    "#     print(\"u.shape:\", u.shape)\n",
    "\n",
    "#     test_trajectories.append({\n",
    "#             'name': test_traj,\n",
    "#             't': t,\n",
    "#             'z': z,\n",
    "#             'u': u,\n",
    "#             'y': y\n",
    "#         })"
   ]
  },
  {
   "cell_type": "code",
   "execution_count": null,
   "metadata": {},
   "outputs": [],
   "source": [
    "# from scipy.interpolate import interp1d\n",
    "# from scipy.integrate import solve_ivp\n",
    "\n",
    "# # global t_prev\n",
    "# # t_prev = 0\n",
    "\n",
    "# def advect_adiabaticRD_with_inputs_RK45(t, y0, u, y_target):\n",
    "#     uInterpFun = interp1d(t, u, axis=1, fill_value=\"extrapolate\")\n",
    "#     yTargetInterpFun = interp1d(t, y_target, axis=1, fill_value=\"extrapolate\")\n",
    "#     def R_t(t, x):\n",
    "#         # global t_prev\n",
    "#         # print(\"t:\", t, \", t_prev:\", t_prev)\n",
    "#         x = np.atleast_2d(x)\n",
    "#         # y_target_prev = yTargetInterpFun(t_prev)\n",
    "#         y_target = yTargetInterpFun(t)\n",
    "#         # y_bar_prev = np.tile(interpolate_coeffs(y_target_prev[-3:-1], 'q_bar'), 1 + N_DELAY)\n",
    "#         y_bar = np.tile(interpolate_coeffs(y_target[-3:-1], 'q_bar'), 1 + N_DELAY)\n",
    "#         # y = ((interpolate_coeffs(y_target_prev[-3:-1], 'W') @ utils.phi(x, SSMOrder)).T + y_bar_prev).T\n",
    "#         # x[i] = V[i]^T @ (y[i] - y_bar[i])\n",
    "#         # x = interpolate_coeffs(y_target[-3:-1], 'V').T @ (y.T - y_bar).T\n",
    "#         u_bar = interpolate_coeffs(y_target[-3:-1], 'u_bar')\n",
    "#         xdot = (interpolate_coeffs(y_target[-3:-1], 'R') @ utils.phi(x, ROMOrder))# .T + # interpolate_coeffs(y_target[-3:-1], 'B') @ (uInterpFun(t) - u_bar)).T\n",
    "#         # print(x)\n",
    "#         # t_prev = t\n",
    "#         return xdot\n",
    "#     # solve IVP of reduced dynamics using open-loop inputs\n",
    "#     x0 = interpolate_coeffs(y0[-3:-1], 'V').T @ (y0.T - np.tile(interpolate_coeffs(y0[-3:-1], 'q_bar'), 1 + N_DELAY))\n",
    "#     print(\"x0:\", x0)\n",
    "#     sol = solve_ivp(R_t,\n",
    "#                     t_span=[t[0], t[-1]],\n",
    "#                     t_eval=t,\n",
    "#                     y0=x0,\n",
    "#                     method=\"RK45\",\n",
    "#                     vectorized=True,\n",
    "#                     rtol=1e-3,\n",
    "#                     atol=1e-3)\n",
    "#     # resulting (predicted) open-loop trajectory in reduced coordinates\n",
    "#     xTraj = sol.y\n",
    "#     yTraj = np.zeros_like(y_target)\n",
    "#     for i in range(xTraj.shape[1]):\n",
    "#         yTraj[:, i] = (interpolate_coeffs(y_target[-3:-1, i], 'W') @ utils.phi(xTraj[:, i].reshape(-1, 1), SSMOrder)).T + np.tile(interpolate_coeffs(y_target[-3:-1, i], 'q_bar'), 1 + N_DELAY)\n",
    "#     return t, yTraj"
   ]
  },
  {
   "cell_type": "code",
   "execution_count": null,
   "metadata": {},
   "outputs": [],
   "source": [
    "# traj = test_trajectories[0]\n",
    "# print(traj['name'])\n",
    "# t, x, y_pred, xdot, y_bar, u_bar, weights = advect_adiabaticRD_with_inputs(traj['t'], traj['y'][:, 0], traj['u'], traj['y'], know_target=True)\n",
    "# # slice_traj = np.s_[:]\n",
    "# # t, y_pred = advect_adiabaticRD_with_inputs_RK45(traj['t'][slice_traj], traj['y'][:, 0], traj['u'][:, slice_traj], y_target=traj['y'][:, slice_traj])"
   ]
  },
  {
   "cell_type": "code",
   "execution_count": null,
   "metadata": {},
   "outputs": [],
   "source": [
    "# plt.close('all')\n",
    "# # Trajectory xyz vs. t (predicted vs. actual)\n",
    "# axs = plot.traj_xyz_txyz(t,\n",
    "#                             y_pred[0, :], y_pred[1, :], y_pred[2, :],\n",
    "#                             show=False)\n",
    "# axs = plot.traj_xyz_txyz(traj['t'],\n",
    "#                         traj['z'][0, :], traj['z'][1, :], traj['z'][2, :],\n",
    "#                         color=\"tab:orange\", axs=axs, show=False)\n",
    "# axs[-1].legend([\"Predicted trajectory\", \"Actual trajectory\"])\n",
    "# for ax in axs:\n",
    "#     ax.set_ylim(-35, 35)\n",
    "# plt.suptitle(r\"Trajectory (predicted vs. actual)\")\n",
    "# plt.tight_layout()\n",
    "# plt.show()\n",
    "\n",
    "# # Trajectory 2D (predicted vs. actual)\n",
    "# ax = plot.traj_2D_xy(y_pred[0, :], y_pred[1, :],\n",
    "#                       show=False)\n",
    "# ax = plot.traj_2D_xy(traj['z'][0, :], traj['z'][1, :],\n",
    "#                         color=\"tab:orange\", ax=ax, show=False)\n",
    "# ax.set_xlim(-35, 35)\n",
    "# ax.set_ylim(-35, 35)\n",
    "# ax.legend([\"Predicted trajectory\", \"Actual trajectory\"])\n",
    "# plt.suptitle(r\"Trajectory (predicted vs. actual)\")\n",
    "# plt.show()\n",
    "\n",
    "# # weights\n",
    "# axs = plot.adiabatic_model_weights(t, weights, model_names)\n",
    "\n",
    "# # psi_bar\n",
    "# axs = plot.traj_xyz_txyz(t,\n",
    "#                         y_bar[0, :], y_bar[1, :], y_bar[2, :],\n",
    "#                         xyz_names=[r\"$\\bar{\\psi}_1(t)$\", r\"$\\bar{\\psi}_2(t)$\", r\"$\\bar{\\psi}_3(t)$\"],\n",
    "#                         show=False, rotate_yticks=True)\n",
    "# plt.suptitle(r\"$\\bar{\\psi}(t)$\")\n",
    "# plt.show()\n",
    "\n",
    "# # xi_dot\n",
    "# axs = plot.traj_xyz_txyz(t,\n",
    "#                         xdot[0, :], xdot[1, :], xdot[2, :],\n",
    "#                         xyz_names=[r\"$\\dot{\\xi}_1(t)$\", r\"$\\dot{\\xi}_2(t)$\", r\"$\\dot{\\xi}_3(t)$\"],\n",
    "#                         show=False, rotate_yticks=True)\n",
    "# # for ax in axs:\n",
    "# #     ax.set_ylim(-100, 100)\n",
    "# plt.suptitle(r\"$\\dot{\\xi}(t)$\")\n",
    "# plt.show()\n",
    "\n",
    "# # xi\n",
    "# axs = plot.traj_xyz_txyz(t,\n",
    "#                         x[0, :], x[1, :], x[2, :],\n",
    "#                         xyz_names=[r\"$\\xi_1(t)$\", r\"$\\xi_2(t)$\", r\"$\\xi_3(t)$\"],\n",
    "#                         show=False, rotate_yticks=True)\n",
    "# # for ax in axs:\n",
    "# #     ax.set_ylim(-100, 100)\n",
    "# plt.suptitle(r\"$\\xi(t)$\")\n",
    "# plt.show()\n"
   ]
  },
  {
   "cell_type": "code",
   "execution_count": null,
   "metadata": {},
   "outputs": [],
   "source": [
    "# plt.close('all')"
   ]
  },
  {
   "attachments": {},
   "cell_type": "markdown",
   "metadata": {},
   "source": [
    "## Test \"autonomous\" Adiabatic SSM"
   ]
  },
  {
   "attachments": {},
   "cell_type": "markdown",
   "metadata": {},
   "source": [
    "Ideal target trajectory: circle starting at $\\varphi=\\frac{\\pi}{2}$"
   ]
  },
  {
   "cell_type": "code",
   "execution_count": null,
   "metadata": {},
   "outputs": [],
   "source": [
    "z_eq = np.array([3.54595786, 0.30603326, -195.61577293])\n",
    "\n",
    "M = 1\n",
    "T = 9 # 10\n",
    "N = 900 # 1000\n",
    "radius = 30.\n",
    "t_target = np.linspace(0, M * T, M * N + 1)\n",
    "th = np.linspace(0, M * 2 * np.pi, M * N + 1) + np.pi/2\n",
    "zf_target = np.tile(z_eq, (M * N + 1, 1))\n",
    "# zf_target = np.zeros((M*N+1, 6))\n",
    "zf_target[:, 0] += radius * np.cos(th)\n",
    "zf_target[:, 1] += radius * np.sin(th)\n",
    "# zf_target[:, 2] += -np.ones(len(t)) * 20\n",
    "# print(zf_target[0, :].shape)\n",
    "# idle = np.repeat(np.atleast_2d(zf_target[0, :]), int(1/0.01), axis=0)\n",
    "# print(idle.shape)\n",
    "# zf_target = np.vstack([idle, zf_target])\n",
    "# print(zf_target.shape)\n",
    "# t = np.linspace(0, M * 10, M * 1000 + 1)\n",
    "\n",
    "z_target = zf_target - z_eq\n",
    "y_target = assemble_observables(z_target.T)"
   ]
  },
  {
   "cell_type": "code",
   "execution_count": null,
   "metadata": {},
   "outputs": [],
   "source": [
    "fig, ax = plt.subplots(1, 1, figsize=(10, 10), dpi=100)\n",
    "ax.plot(z_target[:, 0], z_target[:, 1], color=\"k\", ls=\"--\", lw=2)\n",
    "ax.plot(z_target[0, 0], z_target[0, 1], marker=\"D\", markersize=10, ls=\"\", color=\"k\")\n",
    "ax.grid()\n",
    "fig.show()"
   ]
  },
  {
   "attachments": {},
   "cell_type": "markdown",
   "metadata": {},
   "source": [
    "Track an ideal circle using a previous controller (SSMR)."
   ]
  },
  {
   "cell_type": "code",
   "execution_count": null,
   "metadata": {},
   "outputs": [
    {
     "name": "stdout",
     "output_type": "stream",
     "text": [
      "y.shape: (15, 1102)\n",
      "z.shape: (3, 1102)\n",
      "u.shape: (8, 1102)\n"
     ]
    }
   ],
   "source": [
    "traj_dir = \"/media/jonas/Backup Plus/jonas_soft_robot_data/autonomous_ASSM_tests\"\n",
    "(t, z), u = utils.import_pos_data(data_dir=join(traj_dir, \"circle_ideal_using-ssmr-controller\"),\n",
    "                                  rest_file=rest_file,\n",
    "                                  output_node=TIP_NODE, return_inputs=True)\n",
    "y = assemble_observables(z)\n",
    "print(\"y.shape:\", y.shape)\n",
    "print(\"z.shape:\", z.shape)\n",
    "print(\"u.shape:\", u.shape)"
   ]
  },
  {
   "attachments": {},
   "cell_type": "markdown",
   "metadata": {},
   "source": [
    "Smoothen inputs"
   ]
  },
  {
   "cell_type": "code",
   "execution_count": null,
   "metadata": {},
   "outputs": [],
   "source": [
    "from copy import deepcopy"
   ]
  },
  {
   "cell_type": "code",
   "execution_count": null,
   "metadata": {},
   "outputs": [],
   "source": [
    "def smooth(weights, arr):\n",
    "   return np.convolve(weights/weights.sum(), arr)"
   ]
  },
  {
   "cell_type": "code",
   "execution_count": null,
   "metadata": {},
   "outputs": [],
   "source": [
    "u_smooth = deepcopy(u)\n",
    "smooth_window_size = 20\n",
    "for i in range(u.shape[0]):\n",
    "    u_smooth[i, :] = smooth(np.hanning(smooth_window_size), u[i, :])[:-smooth_window_size+1]"
   ]
  },
  {
   "attachments": {},
   "cell_type": "markdown",
   "metadata": {},
   "source": [
    "Plot the ideal trajectory"
   ]
  },
  {
   "cell_type": "code",
   "execution_count": null,
   "metadata": {},
   "outputs": [],
   "source": [
    "plot.inputs(t, u)\n",
    "plot.inputs(t, u_smooth)"
   ]
  },
  {
   "cell_type": "code",
   "execution_count": null,
   "metadata": {},
   "outputs": [],
   "source": [
    "plt.close('all')"
   ]
  },
  {
   "attachments": {},
   "cell_type": "markdown",
   "metadata": {},
   "source": [
    "Simulate two trajectories from this: one using the smoothened inputs ($z_0$); one using the smoothened inputs but with a perturbation before starting the trajectory ($z_0+\\varepsilon$)"
   ]
  },
  {
   "cell_type": "code",
   "execution_count": null,
   "metadata": {},
   "outputs": [],
   "source": [
    "with open(join(traj_dir, \"u_ideal.pkl\"), \"wb\") as f:\n",
    "    model = pickle.dump(u_smooth, f)"
   ]
  },
  {
   "cell_type": "code",
   "execution_count": null,
   "metadata": {},
   "outputs": [],
   "source": [
    "# add perturbation to idle inputs\n",
    "perturbation = np.array([50, 0, 0, 0, 50, 0, 0, 0])\n",
    "u_perturbed = deepcopy(u_smooth)\n",
    "u_perturbed[:, 100:200] += perturbation.reshape(-1, 1)\n",
    "with open(join(traj_dir, \"u_perturbed.pkl\"), \"wb\") as f:\n",
    "    model = pickle.dump(u_perturbed, f)"
   ]
  },
  {
   "cell_type": "code",
   "execution_count": null,
   "metadata": {},
   "outputs": [],
   "source": [
    "plot.inputs(t, u_perturbed)"
   ]
  },
  {
   "attachments": {},
   "cell_type": "markdown",
   "metadata": {},
   "source": [
    "Do open-loop simulations using these two input sequences in SOFA"
   ]
  },
  {
   "attachments": {},
   "cell_type": "markdown",
   "metadata": {},
   "source": [
    "..."
   ]
  },
  {
   "attachments": {},
   "cell_type": "markdown",
   "metadata": {},
   "source": [
    "Import the resulting trajectories:\n",
    "- unperturbed: should be close to ideal\n",
    "- perturbed: ground truth; compare against advection"
   ]
  },
  {
   "cell_type": "code",
   "execution_count": null,
   "metadata": {},
   "outputs": [
    {
     "name": "stdout",
     "output_type": "stream",
     "text": [
      "y.shape: (15, 902)\n",
      "z.shape: (3, 902)\n",
      "u.shape: (8, 902)\n",
      "y.shape: (15, 902)\n",
      "z.shape: (3, 902)\n",
      "u.shape: (8, 902)\n"
     ]
    }
   ],
   "source": [
    "# unperturbed\n",
    "(t_unperturbed, z_unperturbed), u_unperturbed = utils.import_pos_data(data_dir=join(traj_dir, \"OL_sim_ideal\"),\n",
    "                                  rest_file=rest_file,\n",
    "                                  output_node=TIP_NODE, return_inputs=True, t_in=2)\n",
    "y_unperturbed = assemble_observables(z_unperturbed)\n",
    "print(\"y.shape:\", y_unperturbed.shape)\n",
    "print(\"z.shape:\", z_unperturbed.shape)\n",
    "print(\"u.shape:\", u_unperturbed.shape)\n",
    "# perturbed\n",
    "(t_perturbed, z_perturbed), u_perturbed = utils.import_pos_data(data_dir=join(traj_dir, \"OL_sim_perturbed\"),\n",
    "                                  rest_file=rest_file,\n",
    "                                  output_node=TIP_NODE, return_inputs=True, t_in=2)\n",
    "y_perturbed = assemble_observables(z_perturbed)\n",
    "print(\"y.shape:\", y_perturbed.shape)\n",
    "print(\"z.shape:\", z_perturbed.shape)\n",
    "print(\"u.shape:\", u_perturbed.shape)"
   ]
  },
  {
   "attachments": {},
   "cell_type": "markdown",
   "metadata": {},
   "source": [
    "Plot: (a) ideal target, (b) unperturbed open-loop sim, (c) perturbed open-loop sim"
   ]
  },
  {
   "cell_type": "code",
   "execution_count": null,
   "metadata": {},
   "outputs": [],
   "source": [
    "plt.close(\"all\")\n",
    "# Trajectories xyz vs. t\n",
    "axs = plot.traj_xyz_txyz(t_unperturbed,\n",
    "                         y_unperturbed[0, :], y_unperturbed[1, :], y_unperturbed[2, :],\n",
    "                         show=False)\n",
    "axs = plot.traj_xyz_txyz(t_perturbed,\n",
    "                         y_perturbed[0, :], y_perturbed[1, :], y_perturbed[2, :],\n",
    "                         color=\"tab:orange\", axs=axs, show=False)\n",
    "axs = plot.traj_xyz_txyz(t_target,\n",
    "                         z_target[:, 0], z_target[:, 1], z_target[:, 2],\n",
    "                         color=\"k\", ls=\"--\", axs=axs, show=False)\n",
    "axs[-1].legend([\"Unperturbed\", \"Perturbed\", \"Target\"])\n",
    "plt.suptitle(r\"Trajectories\")\n",
    "plt.tight_layout()\n",
    "plt.show()\n",
    "\n",
    "# Trajectories 2D (predicted vs. actual)\n",
    "ax = plot.traj_2D_xy(y_unperturbed[0, :], y_unperturbed[1, :],\n",
    "                     show=False)\n",
    "ax = plot.traj_2D_xy(y_perturbed[0, :], y_perturbed[1, :],\n",
    "                     color=\"tab:orange\", ax=ax, show=False)\n",
    "ax = plot.traj_2D_xy(z_target[:, 0], z_target[:, 1],\n",
    "                     color=\"k\", ls=\"--\", ax=ax, show=False)\n",
    "ax.legend([\"Unperturbed\", \"Perturbed\", \"Target\"])\n",
    "plt.suptitle(r\"Trajectories\")\n",
    "plt.show()"
   ]
  },
  {
   "attachments": {},
   "cell_type": "markdown",
   "metadata": {},
   "source": [
    "Then advect the perturbed case using ROM (SSMR, ASSMR)"
   ]
  },
  {
   "cell_type": "code",
   "execution_count": null,
   "metadata": {},
   "outputs": [],
   "source": [
    "t, x, y_pred, xdot, y_bar, u_bar, weights = utils.advect_adiabaticRD_with_inputs(t_unperturbed, y_perturbed[:, 0], u_unperturbed, y_unperturbed, interpolator=interpolator, know_target=True, ROMOrder=ROMOrder)"
   ]
  },
  {
   "attachments": {},
   "cell_type": "markdown",
   "metadata": {},
   "source": [
    "Compute RSME"
   ]
  },
  {
   "cell_type": "code",
   "execution_count": null,
   "metadata": {},
   "outputs": [
    {
     "name": "stdout",
     "output_type": "stream",
     "text": [
      "(15, 902)\n",
      "(15, 902)\n",
      "RMSE = nan\n"
     ]
    }
   ],
   "source": [
    "assert len(t) == len(t_perturbed)\n",
    "print(y_pred.shape)\n",
    "print(y_perturbed.shape)\n",
    "rmse = np.sum(np.sqrt(np.mean((y_pred[:3, :-1] - y_perturbed[:3, :-1])**2, axis=0))) / len(t)\n",
    "print(f\"RMSE = {rmse:.4f}\")"
   ]
  },
  {
   "attachments": {},
   "cell_type": "markdown",
   "metadata": {},
   "source": [
    "Save the predicted trajectory for these model settings. Use later to plot comparison."
   ]
  },
  {
   "cell_type": "code",
   "execution_count": null,
   "metadata": {},
   "outputs": [],
   "source": [
    "with open(join(traj_dir, \"predicted_trajectories\", f\"y_pred_{INTERPOLATION_METHOD}_ROMOrder={ROMOrder}.pkl\"), \"wb\") as f:\n",
    "    model = pickle.dump(y_pred, f)"
   ]
  },
  {
   "cell_type": "code",
   "execution_count": null,
   "metadata": {},
   "outputs": [],
   "source": [
    "plt.close('all')\n",
    "# Trajectory xyz vs. t (predicted vs. actual)\n",
    "axs = plot.traj_xyz_txyz(t,\n",
    "                         y_pred[0, :], y_pred[1, :], y_pred[2, :],\n",
    "                         show=False)\n",
    "axs = plot.traj_xyz_txyz(t_perturbed,\n",
    "                        y_perturbed[0, :], y_perturbed[1, :], y_perturbed[2, :],\n",
    "                        color=\"tab:orange\", axs=axs, show=False)\n",
    "axs[-1].legend([\"Predicted trajectory\", \"Actual trajectory\"])\n",
    "plt.suptitle(r\"Trajectory (predicted vs. actual)\")\n",
    "plt.tight_layout()\n",
    "plt.show()\n",
    "\n",
    "# Trajectory 2D (predicted vs. actual)\n",
    "ax = plot.traj_2D_xy(y_pred[0, :], y_pred[1, :],\n",
    "                     show=False)\n",
    "ax = plot.traj_2D_xy(y_perturbed[0, :], y_perturbed[1, :],\n",
    "                     color=\"tab:orange\", ax=ax, show=False)\n",
    "ax.legend([\"Predicted trajectory\", \"Actual trajectory\"])\n",
    "plt.suptitle(r\"Trajectory (predicted vs. actual)\")\n",
    "plt.show()"
   ]
  },
  {
   "attachments": {},
   "cell_type": "markdown",
   "metadata": {},
   "source": [
    "Plot comparison of different model settings"
   ]
  },
  {
   "cell_type": "code",
   "execution_count": null,
   "metadata": {},
   "outputs": [],
   "source": [
    "# plt.close('all')\n",
    "# display_names = {\n",
    "#     \"origin_only\": \"SSMR (origin only)\",\n",
    "#     \"linear\": \"ASSMR (linear)\",\n",
    "#     \"ct\": \"ASSMR (Clough-Tocher)\",\n",
    "#     \"nn\": \"ASSMR (nearest neighbor)\"\n",
    "# }\n",
    "# colors = {\n",
    "#     \"origin_only\": \"tab:blue\",\n",
    "#     \"linear\": \"tab:orange\",\n",
    "#     \"ct\": \"tab:green\",\n",
    "#     \"nn\": \"tab:purple\"\n",
    "# }\n",
    "\n",
    "# for rom_order in [1, 3]:\n",
    "#     axs = plot.traj_xyz_txyz(t_perturbed,\n",
    "#                              y_perturbed[0, :], y_perturbed[1, :], y_perturbed[2, :],\n",
    "#                             show=False, color=\"k\", ls=\"--\", label=\"True trajectory\")\n",
    "#     ax = plot.traj_2D_xy(y_perturbed[0, :], y_perturbed[1, :],\n",
    "#                          show=False, color=\"k\", ls=\"--\", label=\"True trajectory\")\n",
    "#     for interpolation_method in [\"origin_only\", \"linear\", \"ct\", \"nn\"]:\n",
    "#         # Trajectory xyz vs. t (predicted vs. actual)\n",
    "#         with open(join(traj_dir, \"predicted_trajectories\", f\"y_pred_{interpolation_method}_ROMOrder={rom_order}.pkl\"), \"rb\") as f:\n",
    "#             y_pred = pickle.load(f)\n",
    "#         axs = plot.traj_xyz_txyz(t,\n",
    "#                                 y_pred[0, :], y_pred[1, :], y_pred[2, :],\n",
    "#                                 color=colors[interpolation_method], axs=axs, show=False, label=display_names[interpolation_method])\n",
    "#         # Trajectory 2D (predicted vs. actual)\n",
    "#         ax = plot.traj_2D_xy(y_pred[0, :], y_pred[1, :],\n",
    "#                              color=colors[interpolation_method], ax=ax, show=False, label=display_names[interpolation_method])\n",
    "#     # axs[-1].legend()\n",
    "#     # axs[-1].get_figure().suptitle(rf\"Trajectories (true vs. predicted) -- ROMOrder={rom_order}\")\n",
    "#     axs[-1].get_figure().tight_layout()\n",
    "#     axs[-1].get_figure().savefig(join(traj_dir, f\"xyz_vs_t_ROMOrder={rom_order}.png\"), bbox_inches='tight')\n",
    "#     axs[-1].get_figure().show()\n",
    "#     ax.legend()\n",
    "#     # ax.get_figure().suptitle(rf\"Trajectories (true vs. predicted) -- ROMOrder={rom_order}\")\n",
    "#     ax.get_figure().savefig(join(traj_dir, f\"x_vs_y_ROMOrder={rom_order}.png\"), bbox_inches='tight')\n",
    "#     ax.get_figure().show()"
   ]
  },
  {
   "cell_type": "code",
   "execution_count": null,
   "metadata": {},
   "outputs": [],
   "source": []
  }
 ],
 "metadata": {
  "kernelspec": {
   "display_name": "soft",
   "language": "python",
   "name": "python3"
  },
  "language_info": {
   "codemirror_mode": {
    "name": "ipython",
    "version": 3
   },
   "file_extension": ".py",
   "mimetype": "text/x-python",
   "name": "python",
   "nbconvert_exporter": "python",
   "pygments_lexer": "ipython3",
   "version": "3.8.16"
  },
  "orig_nbformat": 4
 },
 "nbformat": 4,
 "nbformat_minor": 2
}
