{
 "cells": [
  {
   "attachments": {},
   "cell_type": "markdown",
   "metadata": {},
   "source": [
    "# Inspect decaying trajectories"
   ]
  },
  {
   "cell_type": "code",
   "execution_count": 7,
   "metadata": {},
   "outputs": [],
   "source": [
    "import numpy as np\n",
    "import os\n",
    "import pickle"
   ]
  },
  {
   "cell_type": "code",
   "execution_count": 8,
   "metadata": {},
   "outputs": [],
   "source": [
    "%matplotlib qt\n",
    "import matplotlib.pyplot as plt"
   ]
  },
  {
   "cell_type": "code",
   "execution_count": 9,
   "metadata": {},
   "outputs": [
    {
     "name": "stdout",
     "output_type": "stream",
     "text": [
      "The autoreload extension is already loaded. To reload it, use:\n",
      "  %reload_ext autoreload\n"
     ]
    }
   ],
   "source": [
    "%load_ext autoreload\n",
    "%autoreload 2\n",
    "import utils as utils\n",
    "import plot_utils as plot"
   ]
  },
  {
   "cell_type": "code",
   "execution_count": 13,
   "metadata": {},
   "outputs": [],
   "source": [
    "from tqdm.auto import tqdm\n",
    "from os import mkdir\n",
    "from os.path import exists, join, split\n",
    "import yaml"
   ]
  },
  {
   "attachments": {},
   "cell_type": "markdown",
   "metadata": {},
   "source": [
    "Select folder where decay trajectories (.pkl files) are located and location of rest file (containing equilibrium position)"
   ]
  },
  {
   "cell_type": "code",
   "execution_count": 11,
   "metadata": {},
   "outputs": [],
   "source": [
    "locs = [\n",
    "    \"origin\",\n",
    "    \"north\",\n",
    "    \"west\",\n",
    "    \"south\",\n",
    "    \"east\",\n",
    "    \"northwest\",\n",
    "    \"southwest\",\n",
    "    \"southeast\",\n",
    "    \"northeast\"\n",
    "]\n",
    "decayData_dir = [f\"/media/jonas/Backup Plus/jonas_soft_robot_data/trunk_adiabatic_1ms/{loc}/decay\" for loc in locs]\n",
    "\n",
    "robot_dir = \"../../../soft-robot-control/examples/trunk\"\n",
    "rest_file = os.path.join(robot_dir, 'rest_qv.pkl')\n",
    "\n",
    "output_node = 'all' # 1354 # 51 #\n",
    "TIP_NODE = 51\n",
    "t_in = 1\n",
    "t_out = 4"
   ]
  },
  {
   "attachments": {},
   "cell_type": "markdown",
   "metadata": {},
   "source": [
    "Load all trajectories"
   ]
  },
  {
   "cell_type": "code",
   "execution_count": null,
   "metadata": {},
   "outputs": [],
   "source": [
    "Data = {}\n",
    "Data['oData'] = utils.import_pos_data(decayData_dir, rest_file, output_node, t_in, t_out, return_velocity=True)"
   ]
  },
  {
   "cell_type": "code",
   "execution_count": null,
   "metadata": {},
   "outputs": [],
   "source": [
    "print(Data['oData'][0][0].shape)\n",
    "print(Data['oData'][0][1].shape)\n",
    "nTraj = len(Data['oData'])\n",
    "print(f\"nTraj: {nTraj}\")"
   ]
  },
  {
   "cell_type": "code",
   "execution_count": null,
   "metadata": {},
   "outputs": [],
   "source": [
    "with open(os.path.join(decayData_dir, \"inputs.pkl\"), \"rb\") as f:\n",
    "    inputs = pickle.load(f)\n",
    "inputs"
   ]
  },
  {
   "attachments": {},
   "cell_type": "markdown",
   "metadata": {},
   "source": [
    "Check that all the initial conditions differ"
   ]
  },
  {
   "cell_type": "code",
   "execution_count": null,
   "metadata": {},
   "outputs": [],
   "source": [
    "# equal_trajectories = []\n",
    "# for i in range(len(Data['oData'])):\n",
    "#     equal_count = 0\n",
    "#     for j in range(i, len(Data['oData'])):\n",
    "#         if i == j:\n",
    "#             continue\n",
    "#         equal = np.allclose(Data['oData'][i][1][:, 0], Data['oData'][j][1][:, 0], rtol=0, atol=0.0000001)\n",
    "#         if equal:\n",
    "#             equal_count += 1\n",
    "#             equal_trajectories.append((i, j))\n",
    "#     if equal_count > 0:\n",
    "#         print(f\"something wrong with trajectory {i}\", equal_count)\n",
    "# print(equal_trajectories)"
   ]
  },
  {
   "attachments": {},
   "cell_type": "markdown",
   "metadata": {},
   "source": [
    "Plot decay data in (x, y, z)"
   ]
  },
  {
   "cell_type": "code",
   "execution_count": null,
   "metadata": {},
   "outputs": [],
   "source": [
    "# outdofs = [0, 1, 2]\n",
    "plt.close('all')\n",
    "# plot trajectories in 3D [x, y, z] space\n",
    "plot.traj_3D(Data,\n",
    "             xyz_idx=[('oData', 0), ('oData', 1), ('oData', 2)],\n",
    "             xyz_names=[r'$x$', r'$y$', r'$z$'])\n",
    "# plot evolution of x, y and z in time, separately in 3 subplots\n",
    "highlight_traj = []\n",
    "plot.traj_xyz(Data,\n",
    "             xyz_idx=[('oData', 0), ('oData', 1), ('oData', 2)],\n",
    "             xyz_names=[r'$x$', r'$y$', r'$z$'],\n",
    "             highlight_idx=highlight_traj)\n",
    "# plot velocities\n",
    "plot.traj_xyz(Data,\n",
    "             xyz_idx=[('oData', 3), ('oData', 4), ('oData', 5)],\n",
    "             xyz_names=[r'$x$', r'$y$', r'$z$'],\n",
    "             highlight_idx=highlight_traj)"
   ]
  },
  {
   "attachments": {},
   "cell_type": "markdown",
   "metadata": {},
   "source": [
    "Determine equilibrium position under given pre-tensioning"
   ]
  },
  {
   "cell_type": "code",
   "execution_count": null,
   "metadata": {},
   "outputs": [],
   "source": [
    "# print(Data['oData'][0][1][:3, -1])\n",
    "z_eq = np.mean([Data['oData'][i][1][:3, -1] for i in range(nTraj)], axis=0)\n",
    "qv_eq = np.hstack((z_eq, np.zeros(3)))\n",
    "print(qv_eq)"
   ]
  },
  {
   "attachments": {},
   "cell_type": "markdown",
   "metadata": {},
   "source": [
    "Save equilibrium position into info.yaml dict"
   ]
  },
  {
   "cell_type": "code",
   "execution_count": null,
   "metadata": {},
   "outputs": [],
   "source": [
    "import yaml\n",
    "\n",
    "with open(os.path.join(decayData_dir, \"info.yaml\"), \"r\") as f:\n",
    "    info = yaml.safe_load(f)\n",
    "info['qv_eq'] = qv_eq.astype(float).tolist()\n",
    "with open(os.path.join(decayData_dir, \"info.yaml\"), \"w\") as f:\n",
    "    yaml.dump(info, f)"
   ]
  },
  {
   "attachments": {},
   "cell_type": "markdown",
   "metadata": {},
   "source": [
    "Save data to .csv (one file per trajectory)"
   ]
  },
  {
   "cell_type": "code",
   "execution_count": null,
   "metadata": {},
   "outputs": [],
   "source": [
    "start_at = 0\n",
    "for i, dir in enumerate(tqdm(decayData_dir[start_at:])):\n",
    "    loc = locs[start_at:][i]\n",
    "    roshan_dir = f\"{dir}/roshan_{loc}\"\n",
    "    if not exists(roshan_dir):\n",
    "        mkdir(roshan_dir)\n",
    "    oData = utils.import_pos_data(dir, rest_file, output_node, t_in, t_out, return_velocity=True)\n",
    "    for j in tqdm(range(len(oData)), leave=False):\n",
    "        if j == 0:\n",
    "            # save time array only once, as it is the same for all trajectories\n",
    "            np.savetxt(f\"{roshan_dir}/t_{loc}.csv\", oData[j][0], fmt='%.5e')\n",
    "        np.savetxt(f\"{roshan_dir}/decay_trajectory_{loc}_{j:02d}.csv\", oData[j][1], fmt='%.5e')"
   ]
  },
  {
   "attachments": {},
   "cell_type": "markdown",
   "metadata": {},
   "source": [
    "Add rest position and pre-tensioning input for each SSM location"
   ]
  },
  {
   "cell_type": "code",
   "execution_count": null,
   "metadata": {},
   "outputs": [],
   "source": [
    "import pickle\n",
    "\n",
    "decayData_dir = [f\"/media/jonas/Backup Plus/jonas_soft_robot_data/trunk_adiabatic_10ms/{loc}/decay\" for loc in locs]\n",
    "output_node\n",
    "for i, dir in enumerate(tqdm(decayData_dir)):\n",
    "    loc = locs[i]\n",
    "    roshan_dir = f\"{dir}/roshan_{loc}\"\n",
    "    if not exists(roshan_dir):\n",
    "        mkdir(roshan_dir)\n",
    "    with open(join(dir, \"..\", \"SSMmodel_delay-embedding\", \"pre-tensioned_rest_q.pkl\"), \"rb\") as f:\n",
    "        rest_q = pickle.load(f)\n",
    "    with open(join(dir, \"info.yaml\"), \"r\") as f:\n",
    "        pre_tensioning = yaml.safe_load(f)['pre_tensioning']\n",
    "    # save rest_q array to csv\n",
    "    np.savetxt(f\"{roshan_dir}/rest_pos_{loc}.csv\", rest_q, fmt='%.5e')\n",
    "    np.savetxt(f\"{roshan_dir}/pre_tensioning_u_{loc}.csv\", pre_tensioning, fmt='%.5e')"
   ]
  },
  {
   "attachments": {},
   "cell_type": "markdown",
   "metadata": {},
   "source": [
    "Compress all the data"
   ]
  },
  {
   "cell_type": "code",
   "execution_count": null,
   "metadata": {},
   "outputs": [],
   "source": [
    "import tarfile\n",
    "import os.path\n",
    "\n",
    "locs = [\"origin\"]\n",
    "decayData_dir = [f\"/media/jonas/Backup Plus/jonas_soft_robot_data/trunk_adiabatic_1ms/{loc}/decay\" for loc in locs]\n",
    "out_dir = \"/media/jonas/Backup Plus/jonas_soft_robot_data/data_roshan_trunk_adiabatic_1ms\"\n",
    "if not exists(out_dir):\n",
    "    mkdir(out_dir)\n",
    "for i, dir in enumerate(tqdm(decayData_dir)):\n",
    "    loc = locs[i]\n",
    "    roshan_dir = f\"{dir}/roshan_{loc}\"\n",
    "    with tarfile.open(join(out_dir, f\"{loc}.tar.gz\"), \"w:gz\") as tar:\n",
    "        tar.add(roshan_dir, arcname=os.path.basename(roshan_dir))"
   ]
  },
  {
   "attachments": {},
   "cell_type": "markdown",
   "metadata": {},
   "source": [
    "Export open-loop circle trajectories to .csv for Roshan"
   ]
  },
  {
   "cell_type": "code",
   "execution_count": 15,
   "metadata": {},
   "outputs": [
    {
     "data": {
      "application/vnd.jupyter.widget-view+json": {
       "model_id": "ca52a26425974ff99e77fbc962bc5cdb",
       "version_major": 2,
       "version_minor": 0
      },
      "text/plain": [
       "  0%|          | 0/2 [00:00<?, ?it/s]"
      ]
     },
     "metadata": {},
     "output_type": "display_data"
    }
   ],
   "source": [
    "traj_dirs = [\n",
    "    \"/media/jonas/Backup Plus/jonas_soft_robot_data/autonomous_ASSM_tests/OL_sim_ideal\",\n",
    "    \"/media/jonas/Backup Plus/jonas_soft_robot_data/autonomous_ASSM_tests/OL_sim_perturbed\"\n",
    "]\n",
    "output_node = TIP_NODE\n",
    "for i, dir in enumerate(tqdm(traj_dirs)):\n",
    "    roshan_dir = f\"{dir}/roshan\"\n",
    "    if not exists(roshan_dir):\n",
    "        mkdir(roshan_dir)\n",
    "    oData = utils.import_pos_data(dir, rest_file, output_node, t_in=2, return_velocity=True)\n",
    "    np.savetxt(f\"{roshan_dir}/t.csv\", oData[0], fmt='%.5e')\n",
    "    np.savetxt(f\"{roshan_dir}/{split(dir)[1]}.csv\", oData[1], fmt='%.5e')"
   ]
  },
  {
   "cell_type": "code",
   "execution_count": null,
   "metadata": {},
   "outputs": [],
   "source": []
  }
 ],
 "metadata": {
  "kernelspec": {
   "display_name": "soft",
   "language": "python",
   "name": "python3"
  },
  "language_info": {
   "codemirror_mode": {
    "name": "ipython",
    "version": 3
   },
   "file_extension": ".py",
   "mimetype": "text/x-python",
   "name": "python",
   "nbconvert_exporter": "python",
   "pygments_lexer": "ipython3",
   "version": "3.8.16"
  },
  "orig_nbformat": 4
 },
 "nbformat": 4,
 "nbformat_minor": 2
}
