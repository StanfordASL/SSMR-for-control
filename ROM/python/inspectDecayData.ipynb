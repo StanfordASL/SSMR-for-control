{
 "cells": [
  {
   "attachments": {},
   "cell_type": "markdown",
   "metadata": {},
   "source": [
    "# Inspect decaying trajectories"
   ]
  },
  {
   "cell_type": "code",
   "execution_count": 1,
   "metadata": {},
   "outputs": [],
   "source": [
    "import numpy as np\n",
    "import os"
   ]
  },
  {
   "cell_type": "code",
   "execution_count": 2,
   "metadata": {},
   "outputs": [],
   "source": [
    "%matplotlib qt\n",
    "import matplotlib.pyplot as plt"
   ]
  },
  {
   "cell_type": "code",
   "execution_count": 5,
   "metadata": {},
   "outputs": [
    {
     "name": "stdout",
     "output_type": "stream",
     "text": [
      "The autoreload extension is already loaded. To reload it, use:\n",
      "  %reload_ext autoreload\n"
     ]
    }
   ],
   "source": [
    "%load_ext autoreload\n",
    "%autoreload 2\n",
    "import utils as utils\n",
    "import plot_utils as plot"
   ]
  },
  {
   "attachments": {},
   "cell_type": "markdown",
   "metadata": {},
   "source": [
    "Select folder where decay trajectories (.pkl files) are located and location of rest file (containing equilibrium position)"
   ]
  },
  {
   "cell_type": "code",
   "execution_count": 6,
   "metadata": {},
   "outputs": [],
   "source": [
    "diamond_dir = \"../../../soft-robot-control/examples/diamond\"\n",
    "decayData_dir = os.path.join(diamond_dir, \"dataCollection/pre-tensioned\")\n",
    "rest_file = os.path.join(diamond_dir, 'rest.pkl')"
   ]
  },
  {
   "attachments": {},
   "cell_type": "markdown",
   "metadata": {},
   "source": [
    "Load all trajectories"
   ]
  },
  {
   "cell_type": "code",
   "execution_count": 9,
   "metadata": {},
   "outputs": [],
   "source": [
    "output_node = 1354\n",
    "t_in = 0\n",
    "t_out = 5\n",
    "\n",
    "oData = utils.import_pos_data(decayData_dir, rest_file, output_node, t_in, t_out, return_velocity=True)\n",
    "Data = {}\n",
    "Data['oData'] = oData"
   ]
  },
  {
   "attachments": {},
   "cell_type": "markdown",
   "metadata": {},
   "source": [
    "Plot decay data in (x, y, z)"
   ]
  },
  {
   "cell_type": "code",
   "execution_count": 10,
   "metadata": {},
   "outputs": [
    {
     "ename": "ValueError",
     "evalue": "x and y must have same first dimension, but have shapes (500,) and (1000,)",
     "output_type": "error",
     "traceback": [
      "\u001b[0;31m---------------------------------------------------------------------------\u001b[0m",
      "\u001b[0;31mValueError\u001b[0m                                Traceback (most recent call last)",
      "Cell \u001b[0;32mIn[10], line 9\u001b[0m\n\u001b[1;32m      7\u001b[0m \u001b[39m# plot evolution of x, y and z in time, separately in 3 subplots\u001b[39;00m\n\u001b[1;32m      8\u001b[0m highlight_traj \u001b[39m=\u001b[39m []\n\u001b[0;32m----> 9\u001b[0m plot\u001b[39m.\u001b[39;49mtraj_xyz(Data,\n\u001b[1;32m     10\u001b[0m              xyz_idx\u001b[39m=\u001b[39;49m[(\u001b[39m'\u001b[39;49m\u001b[39moData\u001b[39;49m\u001b[39m'\u001b[39;49m, \u001b[39m0\u001b[39;49m), (\u001b[39m'\u001b[39;49m\u001b[39moData\u001b[39;49m\u001b[39m'\u001b[39;49m, \u001b[39m1\u001b[39;49m), (\u001b[39m'\u001b[39;49m\u001b[39moData\u001b[39;49m\u001b[39m'\u001b[39;49m, \u001b[39m2\u001b[39;49m)],\n\u001b[1;32m     11\u001b[0m              xyz_names\u001b[39m=\u001b[39;49m[\u001b[39mr\u001b[39;49m\u001b[39m'\u001b[39;49m\u001b[39m$x$\u001b[39;49m\u001b[39m'\u001b[39;49m, \u001b[39mr\u001b[39;49m\u001b[39m'\u001b[39;49m\u001b[39m$y$\u001b[39;49m\u001b[39m'\u001b[39;49m, \u001b[39mr\u001b[39;49m\u001b[39m'\u001b[39;49m\u001b[39m$z$\u001b[39;49m\u001b[39m'\u001b[39;49m],\n\u001b[1;32m     12\u001b[0m              highlight_idx\u001b[39m=\u001b[39;49mhighlight_traj)\n\u001b[1;32m     13\u001b[0m \u001b[39m# plot velocities\u001b[39;00m\n\u001b[1;32m     14\u001b[0m plot\u001b[39m.\u001b[39mtraj_xyz(Data,\n\u001b[1;32m     15\u001b[0m              xyz_idx\u001b[39m=\u001b[39m[(\u001b[39m'\u001b[39m\u001b[39moData\u001b[39m\u001b[39m'\u001b[39m, \u001b[39m3\u001b[39m), (\u001b[39m'\u001b[39m\u001b[39moData\u001b[39m\u001b[39m'\u001b[39m, \u001b[39m4\u001b[39m), (\u001b[39m'\u001b[39m\u001b[39moData\u001b[39m\u001b[39m'\u001b[39m, \u001b[39m5\u001b[39m)],\n\u001b[1;32m     16\u001b[0m              xyz_names\u001b[39m=\u001b[39m[\u001b[39mr\u001b[39m\u001b[39m'\u001b[39m\u001b[39m$x$\u001b[39m\u001b[39m'\u001b[39m, \u001b[39mr\u001b[39m\u001b[39m'\u001b[39m\u001b[39m$y$\u001b[39m\u001b[39m'\u001b[39m, \u001b[39mr\u001b[39m\u001b[39m'\u001b[39m\u001b[39m$z$\u001b[39m\u001b[39m'\u001b[39m],\n\u001b[1;32m     17\u001b[0m              highlight_idx\u001b[39m=\u001b[39mhighlight_traj)\n",
      "File \u001b[0;32m~/Projects/stanford/SSMR-for-control/ROM/python/plot_utils.py:88\u001b[0m, in \u001b[0;36mtraj_xyz\u001b[0;34m(Data, xyz_idx, xyz_names, traj_idx, axs, ls, color, show, highlight_idx)\u001b[0m\n\u001b[1;32m     85\u001b[0m \u001b[39mfor\u001b[39;00m coord, ax \u001b[39min\u001b[39;00m \u001b[39menumerate\u001b[39m(axs):\n\u001b[1;32m     86\u001b[0m     \u001b[39mfor\u001b[39;00m i, traj \u001b[39min\u001b[39;00m \u001b[39menumerate\u001b[39m(traj_idx):\n\u001b[1;32m     87\u001b[0m         \u001b[39m# plot(t, x/y/z)\u001b[39;00m\n\u001b[0;32m---> 88\u001b[0m         ax\u001b[39m.\u001b[39;49mplot(Data[xyz_idx[coord][\u001b[39m0\u001b[39;49m]][traj][\u001b[39m0\u001b[39;49m],\n\u001b[1;32m     89\u001b[0m                 Data[xyz_idx[coord][\u001b[39m0\u001b[39;49m]][traj][\u001b[39m1\u001b[39;49m][xyz_idx[coord][\u001b[39m1\u001b[39;49m], :],\n\u001b[1;32m     90\u001b[0m                 color\u001b[39m=\u001b[39;49mcolors[i], ls\u001b[39m=\u001b[39;49mls, lw\u001b[39m=\u001b[39;49mTRAJ_LINEWIDTH)\n\u001b[1;32m     91\u001b[0m     \u001b[39mfor\u001b[39;00m idx \u001b[39min\u001b[39;00m highlight_idx:\n\u001b[1;32m     92\u001b[0m         ax\u001b[39m.\u001b[39mplot(Data[xyz_idx[coord][\u001b[39m0\u001b[39m]][idx][\u001b[39m0\u001b[39m],\n\u001b[1;32m     93\u001b[0m                 Data[xyz_idx[coord][\u001b[39m0\u001b[39m]][idx][\u001b[39m1\u001b[39m][xyz_idx[coord][\u001b[39m1\u001b[39m], :],\n\u001b[1;32m     94\u001b[0m                 color\u001b[39m=\u001b[39m\u001b[39m'\u001b[39m\u001b[39mtab:green\u001b[39m\u001b[39m'\u001b[39m, ls\u001b[39m=\u001b[39mls, lw\u001b[39m=\u001b[39mTRAJ_LINEWIDTH\u001b[39m*\u001b[39m\u001b[39m1.2\u001b[39m)\n",
      "File \u001b[0;32m~/miniconda3/envs/soft/lib/python3.8/site-packages/matplotlib/axes/_axes.py:1688\u001b[0m, in \u001b[0;36mAxes.plot\u001b[0;34m(self, scalex, scaley, data, *args, **kwargs)\u001b[0m\n\u001b[1;32m   1445\u001b[0m \u001b[39m\"\"\"\u001b[39;00m\n\u001b[1;32m   1446\u001b[0m \u001b[39mPlot y versus x as lines and/or markers.\u001b[39;00m\n\u001b[1;32m   1447\u001b[0m \n\u001b[0;32m   (...)\u001b[0m\n\u001b[1;32m   1685\u001b[0m \u001b[39m(``'green'``) or hex strings (``'#008000'``).\u001b[39;00m\n\u001b[1;32m   1686\u001b[0m \u001b[39m\"\"\"\u001b[39;00m\n\u001b[1;32m   1687\u001b[0m kwargs \u001b[39m=\u001b[39m cbook\u001b[39m.\u001b[39mnormalize_kwargs(kwargs, mlines\u001b[39m.\u001b[39mLine2D)\n\u001b[0;32m-> 1688\u001b[0m lines \u001b[39m=\u001b[39m [\u001b[39m*\u001b[39m\u001b[39mself\u001b[39m\u001b[39m.\u001b[39m_get_lines(\u001b[39m*\u001b[39margs, data\u001b[39m=\u001b[39mdata, \u001b[39m*\u001b[39m\u001b[39m*\u001b[39mkwargs)]\n\u001b[1;32m   1689\u001b[0m \u001b[39mfor\u001b[39;00m line \u001b[39min\u001b[39;00m lines:\n\u001b[1;32m   1690\u001b[0m     \u001b[39mself\u001b[39m\u001b[39m.\u001b[39madd_line(line)\n",
      "File \u001b[0;32m~/miniconda3/envs/soft/lib/python3.8/site-packages/matplotlib/axes/_base.py:311\u001b[0m, in \u001b[0;36m_process_plot_var_args.__call__\u001b[0;34m(self, data, *args, **kwargs)\u001b[0m\n\u001b[1;32m    309\u001b[0m     this \u001b[39m+\u001b[39m\u001b[39m=\u001b[39m args[\u001b[39m0\u001b[39m],\n\u001b[1;32m    310\u001b[0m     args \u001b[39m=\u001b[39m args[\u001b[39m1\u001b[39m:]\n\u001b[0;32m--> 311\u001b[0m \u001b[39myield from\u001b[39;00m \u001b[39mself\u001b[39;49m\u001b[39m.\u001b[39;49m_plot_args(\n\u001b[1;32m    312\u001b[0m     this, kwargs, ambiguous_fmt_datakey\u001b[39m=\u001b[39;49mambiguous_fmt_datakey)\n",
      "File \u001b[0;32m~/miniconda3/envs/soft/lib/python3.8/site-packages/matplotlib/axes/_base.py:504\u001b[0m, in \u001b[0;36m_process_plot_var_args._plot_args\u001b[0;34m(self, tup, kwargs, return_kwargs, ambiguous_fmt_datakey)\u001b[0m\n\u001b[1;32m    501\u001b[0m     \u001b[39mself\u001b[39m\u001b[39m.\u001b[39maxes\u001b[39m.\u001b[39myaxis\u001b[39m.\u001b[39mupdate_units(y)\n\u001b[1;32m    503\u001b[0m \u001b[39mif\u001b[39;00m x\u001b[39m.\u001b[39mshape[\u001b[39m0\u001b[39m] \u001b[39m!=\u001b[39m y\u001b[39m.\u001b[39mshape[\u001b[39m0\u001b[39m]:\n\u001b[0;32m--> 504\u001b[0m     \u001b[39mraise\u001b[39;00m \u001b[39mValueError\u001b[39;00m(\u001b[39mf\u001b[39m\u001b[39m\"\u001b[39m\u001b[39mx and y must have same first dimension, but \u001b[39m\u001b[39m\"\u001b[39m\n\u001b[1;32m    505\u001b[0m                      \u001b[39mf\u001b[39m\u001b[39m\"\u001b[39m\u001b[39mhave shapes \u001b[39m\u001b[39m{\u001b[39;00mx\u001b[39m.\u001b[39mshape\u001b[39m}\u001b[39;00m\u001b[39m and \u001b[39m\u001b[39m{\u001b[39;00my\u001b[39m.\u001b[39mshape\u001b[39m}\u001b[39;00m\u001b[39m\"\u001b[39m)\n\u001b[1;32m    506\u001b[0m \u001b[39mif\u001b[39;00m x\u001b[39m.\u001b[39mndim \u001b[39m>\u001b[39m \u001b[39m2\u001b[39m \u001b[39mor\u001b[39;00m y\u001b[39m.\u001b[39mndim \u001b[39m>\u001b[39m \u001b[39m2\u001b[39m:\n\u001b[1;32m    507\u001b[0m     \u001b[39mraise\u001b[39;00m \u001b[39mValueError\u001b[39;00m(\u001b[39mf\u001b[39m\u001b[39m\"\u001b[39m\u001b[39mx and y can be no greater than 2D, but have \u001b[39m\u001b[39m\"\u001b[39m\n\u001b[1;32m    508\u001b[0m                      \u001b[39mf\u001b[39m\u001b[39m\"\u001b[39m\u001b[39mshapes \u001b[39m\u001b[39m{\u001b[39;00mx\u001b[39m.\u001b[39mshape\u001b[39m}\u001b[39;00m\u001b[39m and \u001b[39m\u001b[39m{\u001b[39;00my\u001b[39m.\u001b[39mshape\u001b[39m}\u001b[39;00m\u001b[39m\"\u001b[39m)\n",
      "\u001b[0;31mValueError\u001b[0m: x and y must have same first dimension, but have shapes (500,) and (1000,)"
     ]
    }
   ],
   "source": [
    "# outdofs = [0, 1, 2]\n",
    "plt.close('all')\n",
    "# plot trajectories in 3D [x, y, z] space\n",
    "plot.traj_3D(Data,\n",
    "             xyz_idx=[('oData', 0), ('oData', 1), ('oData', 2)],\n",
    "             xyz_names=[r'$x$', r'$y$', r'$z$'])\n",
    "# plot evolution of x, y and z in time, separately in 3 subplots\n",
    "highlight_traj = []\n",
    "plot.traj_xyz(Data,\n",
    "             xyz_idx=[('oData', 0), ('oData', 1), ('oData', 2)],\n",
    "             xyz_names=[r'$x$', r'$y$', r'$z$'],\n",
    "             highlight_idx=highlight_traj)\n",
    "# plot velocities\n",
    "plot.traj_xyz(Data,\n",
    "             xyz_idx=[('oData', 3), ('oData', 4), ('oData', 5)],\n",
    "             xyz_names=[r'$x$', r'$y$', r'$z$'],\n",
    "             highlight_idx=highlight_traj)"
   ]
  },
  {
   "cell_type": "code",
   "execution_count": null,
   "metadata": {},
   "outputs": [],
   "source": [
    "# print(Data['oData'][0][0])\n",
    "print(Data['oData'][0][1][:, -1])"
   ]
  },
  {
   "cell_type": "code",
   "execution_count": null,
   "metadata": {},
   "outputs": [],
   "source": [
    "for i in range(len(Data['oData'])):\n",
    "    np.savetxt(f\"data_roshan/decayTraj_pre-tensioned_{i:02d}.csv\", Data['oData'][i][1])\n"
   ]
  }
 ],
 "metadata": {
  "kernelspec": {
   "display_name": "soft",
   "language": "python",
   "name": "python3"
  },
  "language_info": {
   "codemirror_mode": {
    "name": "ipython",
    "version": 3
   },
   "file_extension": ".py",
   "mimetype": "text/x-python",
   "name": "python",
   "nbconvert_exporter": "python",
   "pygments_lexer": "ipython3",
   "version": "3.8.16"
  },
  "orig_nbformat": 4
 },
 "nbformat": 4,
 "nbformat_minor": 2
}
