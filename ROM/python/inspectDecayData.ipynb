{
 "cells": [
  {
   "attachments": {},
   "cell_type": "markdown",
   "metadata": {},
   "source": [
    "# Inspect decaying trajectories"
   ]
  },
  {
   "cell_type": "code",
   "execution_count": 1,
   "metadata": {},
   "outputs": [],
   "source": [
    "import numpy as np\n",
    "import os\n",
    "import pickle"
   ]
  },
  {
   "cell_type": "code",
   "execution_count": 2,
   "metadata": {},
   "outputs": [],
   "source": [
    "%matplotlib qt\n",
    "import matplotlib.pyplot as plt"
   ]
  },
  {
   "cell_type": "code",
   "execution_count": 3,
   "metadata": {},
   "outputs": [],
   "source": [
    "%load_ext autoreload\n",
    "%autoreload 2\n",
    "import utils as utils\n",
    "import plot_utils as plot"
   ]
  },
  {
   "attachments": {},
   "cell_type": "markdown",
   "metadata": {},
   "source": [
    "Select folder where decay trajectories (.pkl files) are located and location of rest file (containing equilibrium position)"
   ]
  },
  {
   "cell_type": "code",
   "execution_count": 4,
   "metadata": {},
   "outputs": [],
   "source": [
    "decayData_dir = \"/media/jonas/Backup Plus/jonas_soft_robot_data/trunk_adiabatic/north\"\n",
    "\n",
    "robot_dir = \"../../../soft-robot-control/examples/trunk\"\n",
    "rest_file = os.path.join(robot_dir, 'rest_qv.pkl')\n",
    "\n",
    "output_node = 51 # 'all' # 1354 # \n",
    "t_in = 1\n",
    "t_out = 5"
   ]
  },
  {
   "attachments": {},
   "cell_type": "markdown",
   "metadata": {},
   "source": [
    "Load all trajectories"
   ]
  },
  {
   "cell_type": "code",
   "execution_count": 18,
   "metadata": {},
   "outputs": [],
   "source": [
    "Data = {}\n",
    "Data['oData'] = utils.import_pos_data(decayData_dir, rest_file, output_node, t_in, t_out, return_velocity=True)"
   ]
  },
  {
   "cell_type": "code",
   "execution_count": 23,
   "metadata": {},
   "outputs": [
    {
     "name": "stdout",
     "output_type": "stream",
     "text": [
      "(400,)\n",
      "(6, 400)\n",
      "nTraj: 40\n"
     ]
    }
   ],
   "source": [
    "print(Data['oData'][0][0].shape)\n",
    "print(Data['oData'][0][1].shape)\n",
    "nTraj = len(Data['oData'])\n",
    "print(f\"nTraj: {nTraj}\")"
   ]
  },
  {
   "cell_type": "code",
   "execution_count": 20,
   "metadata": {},
   "outputs": [
    {
     "data": {
      "text/plain": [
       "[array([800.,   0.,   0., 800., 800.,   0.,   0.,   0.]),\n",
       " array([  0.,   0., 800.,   0., 800., 800.,   0., 800.]),\n",
       " array([800., 800.,   0., 800.,   0.,   0.,   0., 800.]),\n",
       " array([800.,   0.,   0., 800., 800.,   0.,   0., 800.]),\n",
       " array([800., 800., 800., 800.,   0.,   0., 800., 800.]),\n",
       " array([  0., 800., 800., 800., 800.,   0., 800.,   0.]),\n",
       " array([800., 800.,   0.,   0.,   0.,   0.,   0., 800.]),\n",
       " array([  0.,   0.,   0.,   0., 800.,   0., 800.,   0.]),\n",
       " array([800.,   0.,   0.,   0.,   0.,   0.,   0.,   0.]),\n",
       " array([800.,   0., 800., 800., 800.,   0.,   0., 800.]),\n",
       " array([800.,   0., 800., 800.,   0., 800., 800.,   0.]),\n",
       " array([800.,   0.,   0., 800., 800.,   0., 800.,   0.]),\n",
       " array([800., 800.,   0.,   0., 800., 800., 800., 800.]),\n",
       " array([  0.,   0., 800., 800.,   0., 800.,   0.,   0.]),\n",
       " array([800., 800.,   0.,   0., 800.,   0., 800.,   0.]),\n",
       " array([  0., 800., 800.,   0., 800., 800.,   0., 800.]),\n",
       " array([800., 800., 800., 800., 800.,   0.,   0., 800.]),\n",
       " array([800., 800., 800., 800., 800.,   0., 800., 800.]),\n",
       " array([800., 800., 800., 800.,   0., 800., 800., 800.]),\n",
       " array([  0., 800., 800.,   0., 800., 800.,   0.,   0.]),\n",
       " array([  0., 800.,   0., 800.,   0., 800., 800., 800.]),\n",
       " array([800., 800., 800., 800., 800., 800.,   0., 800.]),\n",
       " array([  0.,   0., 800.,   0., 800., 800.,   0.,   0.]),\n",
       " array([800.,   0.,   0.,   0., 800., 800.,   0.,   0.]),\n",
       " array([800., 800.,   0.,   0., 800., 800.,   0., 800.]),\n",
       " array([800., 800.,   0., 800.,   0.,   0., 800.,   0.]),\n",
       " array([800.,   0., 800., 800., 800., 800.,   0., 800.]),\n",
       " array([  0.,   0., 800.,   0., 800.,   0.,   0.,   0.]),\n",
       " array([  0.,   0.,   0.,   0., 800.,   0.,   0.,   0.]),\n",
       " array([  0.,   0.,   0., 800., 800.,   0.,   0.,   0.]),\n",
       " array([800.,   0., 800., 800.,   0., 800., 800., 800.]),\n",
       " array([  0., 800., 800.,   0.,   0., 800.,   0., 800.]),\n",
       " array([800.,   0.,   0., 800., 800.,   0., 800., 800.]),\n",
       " array([800., 800.,   0.,   0.,   0.,   0., 800., 800.]),\n",
       " array([800., 800., 800.,   0.,   0., 800.,   0.,   0.]),\n",
       " array([  0.,   0.,   0.,   0.,   0., 800., 800.,   0.]),\n",
       " array([800.,   0., 800.,   0., 800., 800., 800.,   0.]),\n",
       " array([  0.,   0., 800., 800.,   0., 800., 800.,   0.]),\n",
       " array([800., 800.,   0., 800.,   0., 800.,   0.,   0.]),\n",
       " array([800.,   0.,   0., 800.,   0.,   0., 800., 800.])]"
      ]
     },
     "execution_count": 20,
     "metadata": {},
     "output_type": "execute_result"
    }
   ],
   "source": [
    "with open(os.path.join(decayData_dir, \"inputs.pkl\"), \"rb\") as f:\n",
    "    inputs = pickle.load(f)\n",
    "inputs"
   ]
  },
  {
   "attachments": {},
   "cell_type": "markdown",
   "metadata": {},
   "source": [
    "Check that all the initial conditions differ"
   ]
  },
  {
   "cell_type": "code",
   "execution_count": 8,
   "metadata": {},
   "outputs": [],
   "source": [
    "# equal_trajectories = []\n",
    "# for i in range(len(Data['oData'])):\n",
    "#     equal_count = 0\n",
    "#     for j in range(i, len(Data['oData'])):\n",
    "#         if i == j:\n",
    "#             continue\n",
    "#         equal = np.allclose(Data['oData'][i][1][:, 0], Data['oData'][j][1][:, 0], rtol=0, atol=0.0000001)\n",
    "#         if equal:\n",
    "#             equal_count += 1\n",
    "#             equal_trajectories.append((i, j))\n",
    "#     if equal_count > 0:\n",
    "#         print(f\"something wrong with trajectory {i}\", equal_count)\n",
    "# print(equal_trajectories)"
   ]
  },
  {
   "attachments": {},
   "cell_type": "markdown",
   "metadata": {},
   "source": [
    "Plot decay data in (x, y, z)"
   ]
  },
  {
   "cell_type": "code",
   "execution_count": 21,
   "metadata": {},
   "outputs": [],
   "source": [
    "# outdofs = [0, 1, 2]\n",
    "plt.close('all')\n",
    "# plot trajectories in 3D [x, y, z] space\n",
    "plot.traj_3D(Data,\n",
    "             xyz_idx=[('oData', 0), ('oData', 1), ('oData', 2)],\n",
    "             xyz_names=[r'$x$', r'$y$', r'$z$'])\n",
    "# plot evolution of x, y and z in time, separately in 3 subplots\n",
    "highlight_traj = []\n",
    "plot.traj_xyz(Data,\n",
    "             xyz_idx=[('oData', 0), ('oData', 1), ('oData', 2)],\n",
    "             xyz_names=[r'$x$', r'$y$', r'$z$'],\n",
    "             highlight_idx=highlight_traj)\n",
    "# plot velocities\n",
    "plot.traj_xyz(Data,\n",
    "             xyz_idx=[('oData', 3), ('oData', 4), ('oData', 5)],\n",
    "             xyz_names=[r'$x$', r'$y$', r'$z$'],\n",
    "             highlight_idx=highlight_traj)"
   ]
  },
  {
   "attachments": {},
   "cell_type": "markdown",
   "metadata": {},
   "source": [
    "Determine equilibrium position under given pre-tensioning"
   ]
  },
  {
   "cell_type": "code",
   "execution_count": 32,
   "metadata": {},
   "outputs": [
    {
     "name": "stdout",
     "output_type": "stream",
     "text": [
      "[ 0.53263634 35.64735958 -6.36639933  0.          0.          0.        ]\n"
     ]
    }
   ],
   "source": [
    "# print(Data['oData'][0][1][:3, -1])\n",
    "z_eq = np.mean([Data['oData'][i][1][:3, -1] for i in range(nTraj)], axis=0)\n",
    "qv_eq = np.hstack((z_eq, np.zeros(3)))\n",
    "print(qv_eq)"
   ]
  },
  {
   "attachments": {},
   "cell_type": "markdown",
   "metadata": {},
   "source": [
    "Save equilibrium position into info.yaml dict"
   ]
  },
  {
   "cell_type": "code",
   "execution_count": 36,
   "metadata": {},
   "outputs": [],
   "source": [
    "import yaml\n",
    "\n",
    "with open(os.path.join(decayData_dir, \"info.yaml\"), \"r\") as f:\n",
    "    info = yaml.safe_load(f)\n",
    "info['qv_eq'] = qv_eq.astype(float).tolist()\n",
    "with open(os.path.join(decayData_dir, \"info.yaml\"), \"w\") as f:\n",
    "    yaml.dump(info, f)"
   ]
  },
  {
   "attachments": {},
   "cell_type": "markdown",
   "metadata": {},
   "source": [
    "Save data to .csv (one file per trajectory)"
   ]
  },
  {
   "cell_type": "code",
   "execution_count": 12,
   "metadata": {},
   "outputs": [
    {
     "name": "stderr",
     "output_type": "stream",
     "text": [
      "100%|██████████| 1/1 [00:23<00:00, 23.53s/it]\n"
     ]
    }
   ],
   "source": [
    "# from tqdm import tqdm\n",
    "\n",
    "# for i in tqdm(range(1)): # range(len(Data['oData']))[0:1]:\n",
    "#     oData = utils.import_pos_data(decayData_dir, rest_file, output_node, t_in, t_out, return_velocity=True, traj_index=i)\n",
    "#     np.savetxt(f\"/media/jonas/Backup Plus/jonas_soft_robot_data/data_roshan/decayTraj_pre-tensioned_{i:02d}.csv\", oData[1], fmt='%.5e')"
   ]
  },
  {
   "attachments": {},
   "cell_type": "markdown",
   "metadata": {},
   "source": [
    "Save time array (only once, as it is the same for all trajectories)"
   ]
  },
  {
   "cell_type": "code",
   "execution_count": null,
   "metadata": {},
   "outputs": [],
   "source": [
    "# oData = utils.import_pos_data(decayData_dir, rest_file, output_node, t_in, t_out, return_velocity=False, traj_index=0)\n",
    "# np.savetxt(f\"/media/jonas/Backup Plus/jonas_soft_robot_data/data_roshan/pre-tensioned_t.csv\", oData[0], fmt='%.5e')"
   ]
  }
 ],
 "metadata": {
  "kernelspec": {
   "display_name": "soft",
   "language": "python",
   "name": "python3"
  },
  "language_info": {
   "codemirror_mode": {
    "name": "ipython",
    "version": 3
   },
   "file_extension": ".py",
   "mimetype": "text/x-python",
   "name": "python",
   "nbconvert_exporter": "python",
   "pygments_lexer": "ipython3",
   "version": "3.8.16"
  },
  "orig_nbformat": 4
 },
 "nbformat": 4,
 "nbformat_minor": 2
}
