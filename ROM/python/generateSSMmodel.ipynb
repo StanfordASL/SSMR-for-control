{
 "cells": [
  {
   "attachments": {},
   "cell_type": "markdown",
   "metadata": {},
   "source": [
    "# SSMR: generate SSM model from trajectory data"
   ]
  },
  {
   "cell_type": "code",
   "execution_count": null,
   "metadata": {},
   "outputs": [],
   "source": [
    "import numpy as np\n",
    "from scipy.io import loadmat\n"
   ]
  },
  {
   "cell_type": "code",
   "execution_count": null,
   "metadata": {},
   "outputs": [],
   "source": [
    "%load_ext autoreload\n",
    "%autoreload 2\n",
    "%matplotlib qt\n",
    "import plot_utils as plot\n",
    "import matplotlib.pyplot as plt\n",
    "import utils as utils\n"
   ]
  },
  {
   "attachments": {},
   "cell_type": "markdown",
   "metadata": {},
   "source": [
    "## Import and inspect data\n",
    "See mat file in URL"
   ]
  },
  {
   "cell_type": "code",
   "execution_count": null,
   "metadata": {},
   "outputs": [],
   "source": [
    "Data = {}"
   ]
  },
  {
   "cell_type": "code",
   "execution_count": null,
   "metadata": {},
   "outputs": [],
   "source": [
    "dataDecayObs = loadmat(\"../dataDecayObs.mat\", simplify_cells=True)\n",
    "\n",
    "Data['oData'] = dataDecayObs['oData']\n",
    "Data['yData'] = dataDecayObs['yData']\n",
    "\n",
    "Xsnapshots = dataDecayObs['Xsnapshots']\n",
    "\n",
    "H = np.array(dataDecayObs['H'])\n",
    "V = np.array(dataDecayObs['V'])\n",
    "M = np.array(dataDecayObs['M'])\n",
    "\n",
    "# oData = dataDecayObs['oData']\n",
    "# yData = dataDecayObs['yData']\n",
    "\n",
    "rDOF = 3\n",
    "oDOF = 3\n",
    "nTRAJ = Data['oData'].shape[0]\n",
    "nDOF = Xsnapshots.shape[0]//2"
   ]
  },
  {
   "cell_type": "code",
   "execution_count": null,
   "metadata": {},
   "outputs": [],
   "source": [
    "print(Data['oData'].shape)\n",
    "print(Data['oData'][0, 1].shape)\n",
    "print(Data['oData'][:, 1].shape)"
   ]
  },
  {
   "attachments": {},
   "cell_type": "markdown",
   "metadata": {},
   "source": [
    "### Plot trajectories in an observable of interest"
   ]
  },
  {
   "cell_type": "code",
   "execution_count": null,
   "metadata": {},
   "outputs": [],
   "source": [
    "outdofs = [0, 1, 2]\n",
    "plt.close('all')\n",
    "# plot trajectories in 3D [x, y, z] space\n",
    "plot.traj_3D(Data,\n",
    "             xyz_idx=[('oData', 0), ('oData', 1), ('oData', 2)],\n",
    "             xyz_names=[r'$x$', r'$y$', r'$z$'])\n",
    "# plot evolution of x, y and z in time, separately in 3 subplots\n",
    "plot.traj_xyz(Data,\n",
    "             xyz_idx=[('oData', 0), ('oData', 1), ('oData', 2)],\n",
    "             xyz_names=[r'$x$', r'$y$', r'$z$'])\n",
    "# plot trajectories in 3D [x, x_dot, z] space / NB: x_dot = v_x\n",
    "plot.traj_3D(Data,\n",
    "             xyz_idx=[('oData', 0), ('oData', 0+oDOF), ('oData', 2)],\n",
    "             xyz_names=[r'$x$', r'$\\dot{x}$', r'$z$'])"
   ]
  },
  {
   "attachments": {},
   "cell_type": "markdown",
   "metadata": {},
   "source": [
    "### Show PCA infos\n",
    "Modes were already computed to get yData"
   ]
  },
  {
   "cell_type": "code",
   "execution_count": null,
   "metadata": {},
   "outputs": [],
   "source": [
    "# Perform SVD on displacement field\n",
    "svd = np.linalg.svd\n",
    "s = svd(Xsnapshots[0:nDOF, :], compute_uv=False)\n",
    "l2vals = s**2"
   ]
  },
  {
   "cell_type": "code",
   "execution_count": null,
   "metadata": {},
   "outputs": [],
   "source": [
    "# Plot variance description: we expect three modes to capture almost all variance.\n",
    "# Note we assume data centered around the origin, which is the fixed point of our system.\n",
    "plt.close('all')\n",
    "plot.pca_modes(l2vals, up_to_mode=9)"
   ]
  },
  {
   "attachments": {},
   "cell_type": "markdown",
   "metadata": {},
   "source": [
    "## Obtain reduced-order coordinates"
   ]
  },
  {
   "cell_type": "code",
   "execution_count": null,
   "metadata": {},
   "outputs": [],
   "source": [
    "plt.close('all')\n",
    "# plot trajectories in 3D [x1_bar, x1_bar_dot, y] space\n",
    "plot.traj_3D(Data,\n",
    "             xyz_idx=[('yData', 0), ('yData', 0+rDOF), ('oData', 1)],\n",
    "             xyz_names=[r'$\\bar{x}_1$', r'$\\dot{\\bar{x}}_1$', r'$y$'])\n",
    "# plot evolution of x, y and z in time, separately in 3 subplots\n",
    "plot.traj_xyz(Data,\n",
    "              xyz_idx=[('yData', 0), ('yData', 1), ('yData', 2)],\n",
    "              xyz_names=[r'$u_1$', r'$u_2$', r'$u_3$'])"
   ]
  },
  {
   "attachments": {},
   "cell_type": "markdown",
   "metadata": {},
   "source": [
    "### Train and test data (train/test split)"
   ]
  },
  {
   "cell_type": "code",
   "execution_count": null,
   "metadata": {},
   "outputs": [],
   "source": [
    "indTest = [0, 2, 4, 6, 8, 10, 12, 14]\n",
    "indTrain = [i for i in range(nTRAJ) if i not in indTest]"
   ]
  },
  {
   "attachments": {},
   "cell_type": "markdown",
   "metadata": {},
   "source": [
    "### Truncate trajectories"
   ]
  },
  {
   "cell_type": "code",
   "execution_count": null,
   "metadata": {},
   "outputs": [],
   "source": [
    "t_interval = [0.14, 2.6]\n",
    "Data['oDataTrunc'] = utils.slice_trajectories(Data['oData'], t_interval)\n",
    "Data['yDataTrunc'] = utils.slice_trajectories(Data['yData'], t_interval)"
   ]
  },
  {
   "cell_type": "code",
   "execution_count": null,
   "metadata": {},
   "outputs": [],
   "source": [
    "print(Data['oDataTrunc'][0, 0].shape)\n",
    "print(Data['oDataTrunc'][0, 1].shape)"
   ]
  },
  {
   "attachments": {},
   "cell_type": "markdown",
   "metadata": {},
   "source": [
    "Visualize truncated trajectories"
   ]
  },
  {
   "cell_type": "code",
   "execution_count": null,
   "metadata": {},
   "outputs": [],
   "source": [
    "plt.close('all')\n",
    "plot.traj_3D(Data,\n",
    "             xyz_idx=[('yDataTrunc', 0), ('yDataTrunc', 0+rDOF), ('oDataTrunc', 1)],\n",
    "             xyz_names=[r'$\\bar{x}_1$', r'$\\dot{\\bar{x}}_1$', r'$y$'])"
   ]
  },
  {
   "cell_type": "code",
   "execution_count": null,
   "metadata": {},
   "outputs": [],
   "source": [
    "plt.close('all')"
   ]
  },
  {
   "attachments": {},
   "cell_type": "markdown",
   "metadata": {},
   "source": [
    "## Use Matlab engine to evoke SSMLearn"
   ]
  },
  {
   "attachments": {},
   "cell_type": "markdown",
   "metadata": {},
   "source": [
    "Start Matlab engine and install/run SSMLearn"
   ]
  },
  {
   "cell_type": "code",
   "execution_count": null,
   "metadata": {},
   "outputs": [],
   "source": [
    "import matlab.engine\n",
    "eng = matlab.engine.start_matlab()\n",
    "eng.cd(\"../..\", nargout=0)\n",
    "eng.install(nargout=0)\n",
    "eng.cd(\"ROM/\")"
   ]
  },
  {
   "attachments": {},
   "cell_type": "markdown",
   "metadata": {},
   "source": [
    "Bring data in a format that is accepted by the (slightly modified) version of SSMLearn (requires a specific cell array structure for input data)"
   ]
  },
  {
   "cell_type": "code",
   "execution_count": null,
   "metadata": {},
   "outputs": [],
   "source": [
    "# make data ready for Matlab\n",
    "oDataTruncTrain_matlab = [[], []]\n",
    "yDataTruncTrain_matlab = [[], []]\n",
    "for i in range(len(indTrain)):\n",
    "    oDataTruncTrain_matlab[0].append(matlab.double(initializer=Data['oDataTrunc'][indTrain, :][i, 0].tolist()))\n",
    "    oDataTruncTrain_matlab[1].append(matlab.double(initializer=Data['oDataTrunc'][indTrain, :][i, 1].tolist()))\n",
    "    yDataTruncTrain_matlab[0].append(matlab.double(initializer=Data['yDataTrunc'][indTrain, :][i, 0].tolist()))\n",
    "    yDataTruncTrain_matlab[1].append(matlab.double(initializer=Data['yDataTrunc'][indTrain, :][i, 1].tolist()))\n"
   ]
  },
  {
   "attachments": {},
   "cell_type": "markdown",
   "metadata": {},
   "source": [
    "### Learn geometry of the SSM"
   ]
  },
  {
   "attachments": {},
   "cell_type": "markdown",
   "metadata": {},
   "source": [
    "Find parametrization of SSM using SSMLearn"
   ]
  },
  {
   "cell_type": "code",
   "execution_count": null,
   "metadata": {},
   "outputs": [],
   "source": [
    "SSMDim = 2*rDOF\n",
    "obsDim = 2*oDOF\n",
    "SSMOrder = 3\n",
    "\n",
    "IMInfo = eng.IMGeometry(oDataTruncTrain_matlab, SSMDim, SSMOrder,\n",
    "                        'reducedCoordinates', yDataTruncTrain_matlab)\n",
    "IMInfoInv = eng.IMGeometry(yDataTruncTrain_matlab, obsDim, SSMOrder,\n",
    "                           'reducedCoordinates', oDataTruncTrain_matlab)\n"
   ]
  },
  {
   "attachments": {},
   "cell_type": "markdown",
   "metadata": {},
   "source": [
    "### Learn dynamics on the SSM (reduced dynamics)"
   ]
  },
  {
   "attachments": {},
   "cell_type": "markdown",
   "metadata": {},
   "source": [
    "Find parametrization of reduced dynamics using SSMLearn"
   ]
  },
  {
   "cell_type": "code",
   "execution_count": null,
   "metadata": {},
   "outputs": [],
   "source": [
    "ROMOrder = 3\n",
    "RDInfo = eng.IMDynamicsFlow(yDataTruncTrain_matlab, 'R_PolyOrd', ROMOrder, 'style', 'default')\n",
    "# RDInfo['eigenvaluesLinPartFlow'][0:3]\n",
    "RDInfo['conjugateDynamics']['polynomialOrder']"
   ]
  },
  {
   "attachments": {},
   "cell_type": "markdown",
   "metadata": {},
   "source": [
    "Stop Matlab engine -- not needed anymore"
   ]
  },
  {
   "cell_type": "code",
   "execution_count": null,
   "metadata": {},
   "outputs": [],
   "source": [
    "eng.quit()"
   ]
  },
  {
   "attachments": {},
   "cell_type": "markdown",
   "metadata": {},
   "source": [
    "## Analyze the obtained mappings of SSM geometry and reduced dynamics"
   ]
  },
  {
   "attachments": {},
   "cell_type": "markdown",
   "metadata": {},
   "source": [
    "### SSM geometry (parametrization)"
   ]
  },
  {
   "cell_type": "code",
   "execution_count": null,
   "metadata": {},
   "outputs": [],
   "source": [
    "oRec = {}\n",
    "errorGeo = {}\n",
    "meanErrorGeo = {}"
   ]
  },
  {
   "attachments": {},
   "cell_type": "markdown",
   "metadata": {},
   "source": [
    "#### Train error"
   ]
  },
  {
   "cell_type": "code",
   "execution_count": null,
   "metadata": {},
   "outputs": [],
   "source": [
    "oRec['Train'] = utils.lift_trajectories(IMInfo, Data['yDataTrunc'][indTrain, :])\n",
    "errorGeo['Train'] = utils.compute_trajectory_errors(oRec['Train'], Data['oDataTrunc'][indTrain, :])[0] * 100\n",
    "\n",
    "meanErrorGeo['Train'] = np.mean(errorGeo['Train'])\n",
    "print(f\"Average parametrization train error: {meanErrorGeo['Train']:.4f}\")\n"
   ]
  },
  {
   "attachments": {},
   "cell_type": "markdown",
   "metadata": {},
   "source": [
    "#### Test error"
   ]
  },
  {
   "cell_type": "code",
   "execution_count": null,
   "metadata": {},
   "outputs": [],
   "source": [
    "oRec['Test'] = utils.lift_trajectories(IMInfo, Data['yDataTrunc'][indTest, :])\n",
    "errorGeo['Test'] = utils.compute_trajectory_errors(oRec['Test'], Data['oDataTrunc'][indTest, :])[0] * 100\n",
    "\n",
    "meanErrorGeo['Test'] = np.mean(errorGeo['Test'])\n",
    "print(f\"Average parametrization test error: {meanErrorGeo['Test']:.4f}\")"
   ]
  },
  {
   "attachments": {},
   "cell_type": "markdown",
   "metadata": {},
   "source": [
    "Plot comparison of SSM-predicted vs. actual test trajectories"
   ]
  },
  {
   "cell_type": "code",
   "execution_count": null,
   "metadata": {},
   "outputs": [],
   "source": [
    "plt.close('all')\n",
    "axs = plot.traj_xyz(Data,\n",
    "                    xyz_idx=[('oData', 0), ('oData', 1), ('oData', 2)],\n",
    "                    xyz_names=[r'$x$', r'$y$', r'$z$'],\n",
    "                    traj_idx=indTest,\n",
    "                    show=False)\n",
    "plot.traj_xyz(oRec,\n",
    "              xyz_idx=[('Test', 0), ('Test', 1), ('Test', 2)],\n",
    "              xyz_names=[r'$x$', r'$y$', r'$z$'],\n",
    "              axs=axs, ls=':', color='darkblue')"
   ]
  },
  {
   "attachments": {},
   "cell_type": "markdown",
   "metadata": {},
   "source": [
    "### SSM geometry (chart)"
   ]
  },
  {
   "cell_type": "code",
   "execution_count": null,
   "metadata": {},
   "outputs": [],
   "source": [
    "yRec = {}"
   ]
  },
  {
   "attachments": {},
   "cell_type": "markdown",
   "metadata": {},
   "source": [
    "#### Train error"
   ]
  },
  {
   "cell_type": "code",
   "execution_count": null,
   "metadata": {},
   "outputs": [],
   "source": [
    "yRec['CTrain'] = utils.lift_trajectories(IMInfoInv, Data['oDataTrunc'][indTrain, :])\n",
    "errorGeo['CTrain'] = utils.compute_trajectory_errors(yRec['CTrain'], Data['yDataTrunc'][indTrain, :])[0] * 100\n",
    "\n",
    "meanErrorGeo['CTrain'] = np.mean(errorGeo['CTrain'])\n",
    "print(f\"Average chart train error: {meanErrorGeo['CTrain']:.4f}\")"
   ]
  },
  {
   "attachments": {},
   "cell_type": "markdown",
   "metadata": {},
   "source": [
    "#### Test error"
   ]
  },
  {
   "cell_type": "code",
   "execution_count": null,
   "metadata": {},
   "outputs": [],
   "source": [
    "yRec['CTest'] = utils.lift_trajectories(IMInfoInv, Data['oDataTrunc'][indTest, :])\n",
    "errorGeo['CTest'] = utils.compute_trajectory_errors(yRec['CTest'], Data['yDataTrunc'][indTest, :])[0] * 100\n",
    "\n",
    "meanErrorGeo['CTest'] = np.mean(errorGeo['CTest'])\n",
    "print(f\"Average chart test error: {meanErrorGeo['CTest']:.4f}\")"
   ]
  },
  {
   "attachments": {},
   "cell_type": "markdown",
   "metadata": {},
   "source": [
    "Plot comparison of SSM-predicted vs. actual test trajectories"
   ]
  },
  {
   "cell_type": "code",
   "execution_count": null,
   "metadata": {},
   "outputs": [],
   "source": [
    "plt.close('all')\n",
    "axs = plot.traj_xyz(Data,\n",
    "                    xyz_idx=[('yData', 0), ('yData', 1), ('yData', 2)],\n",
    "                    xyz_names=[r'$x$', r'$y$', r'$z$'],\n",
    "                    traj_idx=indTest,\n",
    "                    show=False)\n",
    "plot.traj_xyz(yRec,\n",
    "              xyz_idx=[('CTest', 0), ('CTest', 1), ('CTest', 2)],\n",
    "              xyz_names=[r'$u_1$', r'$u_2$', r'$u_3$'],\n",
    "              axs=axs, ls=':', color='darkblue')"
   ]
  },
  {
   "attachments": {},
   "cell_type": "markdown",
   "metadata": {},
   "source": [
    "Store map in the same variables"
   ]
  },
  {
   "cell_type": "code",
   "execution_count": null,
   "metadata": {},
   "outputs": [],
   "source": [
    "for key in ['map', 'polynomialOrder', 'dimension', 'nonlinearCoefficients', 'phi', 'exponents', 'H']:\n",
    "    IMInfo['chart'][key] = IMInfoInv['parametrization'][key]"
   ]
  },
  {
   "attachments": {},
   "cell_type": "markdown",
   "metadata": {},
   "source": [
    "### Reduced dynamics"
   ]
  },
  {
   "cell_type": "code",
   "execution_count": null,
   "metadata": {},
   "outputs": [],
   "source": [
    "yRec['RD'] = utils.advectRD(RDInfo, Data['yDataTrunc'])[0]\n",
    "meanErrorDyn = {}\n",
    "\n",
    "normedTrajDist = utils.compute_trajectory_errors(yRec['RD'], Data['yDataTrunc'])[0]\n",
    "meanErrorDyn['Train'] = np.mean(normedTrajDist[indTrain]) * 100\n",
    "meanErrorDyn['Test'] = np.mean(normedTrajDist[indTest]) * 100\n",
    "\n",
    "print(f\"Average dynamics train error: {meanErrorDyn['Train']:.4f}\")\n",
    "print(f\"Average dynamics test error: {meanErrorDyn['Test']:.4f}\")"
   ]
  },
  {
   "cell_type": "code",
   "execution_count": null,
   "metadata": {},
   "outputs": [],
   "source": [
    "plot_all = False\n",
    "if plot_all:\n",
    "    vPlot = range(nTRAJ)\n",
    "else:\n",
    "    vPlot = indTest\n",
    "\n",
    "plt.close('all')\n",
    "axs = plot.traj_xyz(Data,\n",
    "                    xyz_idx=[('yData', 0), ('yData', 1), ('yData', 2)],\n",
    "                    xyz_names=[r'$u_1$', r'$u_2$', r'$u_3$'],\n",
    "                    traj_idx=vPlot,\n",
    "                    show=False)\n",
    "plot.traj_xyz(yRec,\n",
    "              xyz_idx=[('RD', 0), ('RD', 1), ('RD', 2)],\n",
    "              xyz_names=[r'$u_1$', r'$u_2$', r'$u_3$'],\n",
    "              traj_idx=vPlot,\n",
    "              axs=axs, ls=':', color='darkblue')\n"
   ]
  },
  {
   "attachments": {},
   "cell_type": "markdown",
   "metadata": {},
   "source": [
    "### Global error"
   ]
  },
  {
   "cell_type": "code",
   "execution_count": null,
   "metadata": {},
   "outputs": [],
   "source": [
    "errorGlo = {}\n",
    "meanErrorGlo = {}"
   ]
  },
  {
   "attachments": {},
   "cell_type": "markdown",
   "metadata": {},
   "source": [
    "#### Train error"
   ]
  },
  {
   "cell_type": "code",
   "execution_count": null,
   "metadata": {},
   "outputs": [],
   "source": [
    "oRec['RDTrain'] = utils.lift_trajectories(IMInfo, yRec['RD'][indTrain, :])\n",
    "errorGlo['Train'] = utils.compute_trajectory_errors(oRec['RDTrain'], Data['oDataTrunc'][indTrain, :])[0] * 100\n",
    "\n",
    "meanErrorGlo['Train'] = np.mean(errorGlo['Train'])\n",
    "print(f\"Average global train error: {meanErrorGlo['Train']:.4f}\")"
   ]
  },
  {
   "attachments": {},
   "cell_type": "markdown",
   "metadata": {},
   "source": [
    "#### Test error"
   ]
  },
  {
   "cell_type": "code",
   "execution_count": null,
   "metadata": {},
   "outputs": [],
   "source": [
    "oRec['RDTest'] = utils.lift_trajectories(IMInfo, yRec['RD'][indTest, :])\n",
    "errorGlo['Test'] = utils.compute_trajectory_errors(oRec['RDTest'], Data['oDataTrunc'][indTest, :])[0] * 100\n",
    "\n",
    "meanErrorGlo['Test'] = np.mean(errorGlo['Test'])\n",
    "print(f\"Average global test error: {meanErrorGlo['Test']:.4f}\")"
   ]
  },
  {
   "cell_type": "code",
   "execution_count": null,
   "metadata": {},
   "outputs": [],
   "source": [
    "plt.close('all')\n",
    "axs = plot.traj_xyz(Data,\n",
    "                    xyz_idx=[('oData', 0), ('oData', 1), ('oData', 2)],\n",
    "                    xyz_names=[r'$x$', r'$y$', r'$z$'],\n",
    "                    traj_idx=indTest,\n",
    "                    show=False)\n",
    "plot.traj_xyz(oRec,\n",
    "              xyz_idx=[('RDTest', 0), ('RDTest', 1), ('RDTest', 2)],\n",
    "              xyz_names=[r'$x$', r'$y$', r'$z$'],\n",
    "              axs=axs, ls=':', color='darkblue')"
   ]
  },
  {
   "attachments": {},
   "cell_type": "markdown",
   "metadata": {},
   "source": [
    "### Understand which mode is responsible for what motion"
   ]
  },
  {
   "cell_type": "code",
   "execution_count": null,
   "metadata": {},
   "outputs": [],
   "source": [
    "outdofsMat = np.zeros((3, 2*nDOF))\n",
    "output_node = 1354\n",
    "outdofsPS = 3 * output_node + np.array([0, 1, 2])\n",
    "for i in range(3):\n",
    "    outdofsMat[i, outdofsPS[i]] = 1\n",
    "\n",
    "redDynLinearPart = np.array(RDInfo['reducedDynamics']['coefficients'])[:, :2*rDOF]\n",
    "redStiffnessMat = -redDynLinearPart[rDOF:, :rDOF]\n",
    "\n",
    "w2, UconsRedDyn = np.linalg.eig(redStiffnessMat)\n",
    "sorted_idx = np.argsort(w2)\n",
    "consFreqs, UconsRedDyn = np.diag(np.sqrt(w2[sorted_idx])), UconsRedDyn[:, sorted_idx]\n",
    "\n",
    "Ucons = np.kron(np.eye(2), UconsRedDyn)\n",
    "Vcons = V @ Ucons\n",
    "\n",
    "modesDir = outdofsMat @ Vcons[:, :rDOF]\n",
    "modesFreq = np.abs(RDInfo['eigenvaluesLinPartFlow']).flatten()[:3]\n",
    "\n",
    "plt.close('all')\n",
    "plot.mode_direction(modesDir, modesFreq)"
   ]
  },
  {
   "attachments": {},
   "cell_type": "markdown",
   "metadata": {},
   "source": [
    "## Control"
   ]
  },
  {
   "attachments": {},
   "cell_type": "markdown",
   "metadata": {},
   "source": [
    "$H_{red} = V^TM^{-1}H$"
   ]
  },
  {
   "cell_type": "code",
   "execution_count": null,
   "metadata": {},
   "outputs": [],
   "source": [
    "Hred = V[:nDOF, :rDOF].T @ np.linalg.solve(M, H)\n",
    "\n",
    "normsModalForcing = np.mean(Hred**2, axis=0)\n",
    "normsNonModalforcing = np.mean(((np.eye(nDOF) - V[:nDOF, :rDOF] @ V[:nDOF,:rDOF].T) @ np.linalg.solve(M, H)) ** 2, axis=0)"
   ]
  },
  {
   "cell_type": "code",
   "execution_count": null,
   "metadata": {},
   "outputs": [],
   "source": [
    "normsModalForcing"
   ]
  },
  {
   "cell_type": "code",
   "execution_count": null,
   "metadata": {},
   "outputs": [],
   "source": [
    "normsNonModalforcing"
   ]
  },
  {
   "attachments": {},
   "cell_type": "markdown",
   "metadata": {},
   "source": [
    "### Setup model for control"
   ]
  },
  {
   "cell_type": "code",
   "execution_count": null,
   "metadata": {},
   "outputs": [],
   "source": [
    "from scipy.integrate import solve_ivp\n",
    "from scipy.interpolate import interp1d "
   ]
  },
  {
   "cell_type": "code",
   "execution_count": null,
   "metadata": {},
   "outputs": [],
   "source": [
    "Rauton = utils.Rauton(RDInfo)\n",
    "C = lambda x: IMInfo['parametrization']['H'] @ utils.multivariate_polynomial(x, IMInfo['parametrization']['polynomialOrder'])\n",
    "W = lambda x: IMInfo['chart']['H'] @ utils.multivariate_polynomial(x, IMInfo['chart']['polynomialOrder'])"
   ]
  },
  {
   "attachments": {},
   "cell_type": "markdown",
   "metadata": {},
   "source": [
    "Small example"
   ]
  },
  {
   "cell_type": "code",
   "execution_count": null,
   "metadata": {},
   "outputs": [],
   "source": [
    "\n",
    "uFun = lambda t: np.array([np.arctan(t)/np.pi*2, 0, 0, 0]).reshape(-1, 1)\n",
    "R = lambda t, y: Rauton(np.atleast_2d(y)) + np.vstack([np.zeros((rDOF, Hred.shape[1])), Hred]) @ uFun(t)\n",
    "\n",
    "tTraj = np.linspace(0, 15, 1000)\n",
    "sol = solve_ivp(R,\n",
    "                t_span=[tTraj[0], tTraj[-1]],\n",
    "                t_eval=tTraj,\n",
    "                y0=np.zeros(2*rDOF),\n",
    "                method='LSODA',\n",
    "                vectorized=True,\n",
    "                rtol=1e-3,\n",
    "                atol=1e-3)\n",
    "yTraj = sol.y\n",
    "oTraj = C(yTraj)\n",
    "\n",
    "plt.close('all')\n",
    "plot.traj_xyz_txyz(tTraj,\n",
    "                   oTraj[outdofs[0], :],\n",
    "                   oTraj[outdofs[1], :],\n",
    "                   oTraj[outdofs[2], :])"
   ]
  },
  {
   "attachments": {},
   "cell_type": "markdown",
   "metadata": {},
   "source": [
    "### Integrate the model with inputs"
   ]
  },
  {
   "attachments": {},
   "cell_type": "markdown",
   "metadata": {},
   "source": [
    "#### Small inputs"
   ]
  },
  {
   "cell_type": "code",
   "execution_count": null,
   "metadata": {},
   "outputs": [],
   "source": [
    "# Load the controls and actual trajectories for figure8\n",
    "uFigureEight = np.loadtxt(\"../../system_data/u_small.csv\", delimiter=',')\n",
    "z = np.loadtxt(\"../../system_data/z_small.csv\", delimiter=',')\n",
    "z_eq = np.loadtxt(\"../../system_data/z_equilibrium.csv\", delimiter=',')\n",
    "z_eq = np.concatenate([z_eq, [0, 0, 0]])\n",
    "\n",
    "# original spacing of inputs\n",
    "T = 10.01\n",
    "dt = 0.01\n",
    "N = int(T / dt)\n",
    "t_span = np.linspace(0, T, N+1)\n",
    "z_true = z[:, 3:].T\n",
    "\n",
    "interpFun = interp1d(t_span, uFigureEight, axis=0, fill_value=\"extrapolate\")\n",
    "uFun = lambda t: interpFun(t).reshape(-1, 1)\n",
    "\n",
    "sol = solve_ivp(R,\n",
    "                t_span=[t_span[0], t_span[-1]],\n",
    "                t_eval=t_span,\n",
    "                y0=np.zeros(2*rDOF),\n",
    "                method='LSODA',\n",
    "                vectorized=True,\n",
    "                rtol=1e-3,\n",
    "                atol=1e-3)\n",
    "yTraj = sol.y\n",
    "oTraj = (C(yTraj).T + z_eq).T\n",
    "\n",
    "plt.close('all')\n",
    "ax = plot.traj_3D_xyz(oTraj[outdofs[0], :],\n",
    "                      oTraj[outdofs[1], :],\n",
    "                      oTraj[outdofs[2], :], show=False)\n",
    "plot.traj_3D_xyz(z_true[outdofs[0], :],\n",
    "                 z_true[outdofs[1], :],\n",
    "                 z_true[outdofs[2], :], color=\"tab:orange\", ax=ax)\n"
   ]
  },
  {
   "attachments": {},
   "cell_type": "markdown",
   "metadata": {},
   "source": [
    "#### Big inputs"
   ]
  },
  {
   "cell_type": "code",
   "execution_count": null,
   "metadata": {},
   "outputs": [],
   "source": [
    "# Load the controls and actual trajectories for figure8\n",
    "uFigureEight = np.loadtxt(\"../../system_data/u_big.csv\", delimiter=',')\n",
    "z = np.loadtxt(\"../../system_data/z_big.csv\", delimiter=',')\n",
    "z_eq = np.loadtxt(\"../../system_data/z_equilibrium.csv\", delimiter=',')\n",
    "z_eq = np.concatenate([z_eq, [0, 0, 0]])\n",
    "z_eight_true = np.hstack([z[:, 3:], z[:, :3]]).T\n",
    "z_eight_shift = (z_eight_true.T - z_eq).T\n",
    "U_eight = uFigureEight.T"
   ]
  },
  {
   "cell_type": "code",
   "execution_count": null,
   "metadata": {},
   "outputs": [],
   "source": [
    "plt.close('all')"
   ]
  },
  {
   "attachments": {},
   "cell_type": "markdown",
   "metadata": {},
   "source": [
    "### Learn control matrix $B$"
   ]
  },
  {
   "attachments": {},
   "cell_type": "markdown",
   "metadata": {},
   "source": [
    "Use figure8 trajectory to identify the impact of control, i.e. regress the control matrix $B$"
   ]
  },
  {
   "cell_type": "code",
   "execution_count": null,
   "metadata": {},
   "outputs": [],
   "source": [
    "diamond_train_full = loadmat(\"../diamond_train_full.mat\", simplify_cells=True)\n",
    "y, u, t = diamond_train_full['y'], diamond_train_full['u'], diamond_train_full['t']\n",
    "\n",
    "y = y.T\n",
    "U = u.T\n",
    "z_true_train = np.vstack([y[3:, :], y[:3, :]])\n",
    "z_shift_train = (z_true_train.T - z_eq).T\n",
    "t_span_train = np.hstack([t, t_span[1:] + t[-1]])\n",
    "\n",
    "# # Add test trajectory to training dataset\n",
    "# U = np.hstack([U, U_eight[:, 1:]])\n",
    "# z_shift = np.hstack([z_shift, z_eight_shift[:, 1:]])\n",
    "\n",
    "# Use only test trajectory as the training dataset --> should well overfit\n",
    "# U = U_eight[:, 1:]\n",
    "# z_shift_train = z_eight_shift[:, 1:]\n",
    "\n",
    "Xbar = np.array(IMInfo['chart']['H']) @ utils.multivariate_polynomial(z_shift_train, IMInfo['chart']['polynomialOrder'])\n",
    "dXbarDt = np.gradient(Xbar, dt, axis=1)[:, 3:-3]\n",
    "\n",
    "U = U[:, 3:-3]\n",
    "Xbar = Xbar[:, 3:-3]\n",
    "\n",
    "dXbarDt_ROM = Rauton(Xbar)"
   ]
  },
  {
   "attachments": {},
   "cell_type": "markdown",
   "metadata": {},
   "source": [
    "Learn $B$ matrix"
   ]
  },
  {
   "cell_type": "code",
   "execution_count": null,
   "metadata": {},
   "outputs": [],
   "source": [
    "from sklearn.linear_model import Ridge\n",
    "\n",
    "polyUorder = 2\n",
    "\n",
    "# X = np.vstack([U, Xbar])\n",
    "X = utils.multivariate_polynomial(U, order=polyUorder)\n",
    "print(X.shape)\n",
    "\n",
    "ridgeModel = Ridge(alpha=0, fit_intercept=False)\n",
    "# ridgeModel.fit(U.T, (dXbarDt - dXbarDt_ROM).T)\n",
    "ridgeModel.fit(X.T, (dXbarDt - dXbarDt_ROM).T)\n",
    "B_learn = ridgeModel.coef_"
   ]
  },
  {
   "cell_type": "code",
   "execution_count": null,
   "metadata": {},
   "outputs": [],
   "source": [
    "# # home-brewed ridge regression\n",
    "# l = 0\n",
    "# X, y = U.T, (dXbarDt - dXbarDt_ROM).T\n",
    "# B_learn = np.linalg.solve(X.T @ X + l * np.eye(X.shape[0]), X.T @ y)"
   ]
  },
  {
   "attachments": {},
   "cell_type": "markdown",
   "metadata": {},
   "source": [
    "### Integrate moel with inputs (big amplitude) -- and using learned influence of control"
   ]
  },
  {
   "cell_type": "code",
   "execution_count": null,
   "metadata": {},
   "outputs": [],
   "source": [
    "# original spacing of inputs\n",
    "T = 10.01\n",
    "dt = 0.01\n",
    "N = int(T / dt)\n",
    "t_span = np.linspace(0, T, N+1)\n",
    "z_true = z[:, 3:].T\n",
    "\n",
    "\n",
    "interpFun = interp1d(t_span, uFigureEight, axis=0, fill_value=\"extrapolate\")\n",
    "uFun = lambda t: interpFun(t).reshape(-1, 1)\n",
    "def R(t, y):\n",
    "    # print(y.shape)\n",
    "    return Rauton(np.atleast_2d(y)) + B_learn @ utils.multivariate_polynomial(uFun(t), order=polyUorder) #  np.vstack([np.zeros((rDOF, Hred.shape[1])), Hred]) @ uFun(t) # np.vstack([uFun(t), y])\n",
    "\n",
    "sol = solve_ivp(R,\n",
    "                t_span=[t_span[0], t_span[-1]],\n",
    "                t_eval=t_span,\n",
    "                y0=np.zeros(2*rDOF),\n",
    "                method='RK45',\n",
    "                vectorized=True,\n",
    "                rtol=1e-3,\n",
    "                atol=1e-3)\n",
    "yTraj = sol.y\n",
    "oTraj = (C(yTraj).T + z_eq).T\n",
    "\n",
    "plt.close('all')\n",
    "ax = plot.traj_3D_xyz(oTraj[outdofs[0], :],\n",
    "                      oTraj[outdofs[1], :],\n",
    "                      oTraj[outdofs[2], :], show=False)\n",
    "ax = plot.traj_3D_xyz(z_true[outdofs[0], :],\n",
    "                      z_true[outdofs[1], :],\n",
    "                      z_true[outdofs[2], :], color=\"tab:orange\", ax=ax, show=False)\n",
    "ax.legend([\"Predicted trajectory\", \"Actual trajectory\"])\n",
    "plt.show()\n"
   ]
  },
  {
   "cell_type": "code",
   "execution_count": null,
   "metadata": {},
   "outputs": [],
   "source": [
    "RMSE = np.sum(np.sqrt(np.mean((oTraj[0:3, :] - z_true)**2, axis=0))) / oTraj.shape[1]\n",
    "print(f\"RMSE = {RMSE:.4f}\")"
   ]
  }
 ],
 "metadata": {
  "kernelspec": {
   "display_name": "soft",
   "language": "python",
   "name": "python3"
  },
  "language_info": {
   "codemirror_mode": {
    "name": "ipython",
    "version": 3
   },
   "file_extension": ".py",
   "mimetype": "text/x-python",
   "name": "python",
   "nbconvert_exporter": "python",
   "pygments_lexer": "ipython3",
   "version": "3.8.16"
  },
  "orig_nbformat": 4
 },
 "nbformat": 4,
 "nbformat_minor": 2
}
