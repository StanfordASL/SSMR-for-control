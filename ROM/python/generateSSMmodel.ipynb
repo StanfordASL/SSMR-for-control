{
 "cells": [
  {
   "attachments": {},
   "cell_type": "markdown",
   "metadata": {},
   "source": [
    "# SSMR: generate SSM model from trajectory data"
   ]
  },
  {
   "cell_type": "code",
   "execution_count": 1,
   "metadata": {},
   "outputs": [],
   "source": [
    "import numpy as np\n",
    "from scipy.io import loadmat\n",
    "np.set_printoptions(linewidth=300)"
   ]
  },
  {
   "cell_type": "code",
   "execution_count": 2,
   "metadata": {},
   "outputs": [],
   "source": [
    "%load_ext autoreload\n",
    "%autoreload 2\n",
    "%matplotlib qt\n",
    "import plot_utils as plot\n",
    "import matplotlib.pyplot as plt\n",
    "import utils as utils\n"
   ]
  },
  {
   "attachments": {},
   "cell_type": "markdown",
   "metadata": {},
   "source": [
    "## Import and inspect data\n",
    "See mat file in URL"
   ]
  },
  {
   "cell_type": "code",
   "execution_count": 3,
   "metadata": {},
   "outputs": [],
   "source": [
    "Data = {}"
   ]
  },
  {
   "cell_type": "code",
   "execution_count": 4,
   "metadata": {},
   "outputs": [
    {
     "name": "stdout",
     "output_type": "stream",
     "text": [
      "[[  796.65295669   795.07763723   792.50663989   789.16914512   785.21743267]\n",
      " [ 1219.93603571  1217.83302702  1214.45166632  1210.07560584  1204.88498779]\n",
      " [ -355.12421166  -354.60665713  -353.79727792  -352.75915474  -351.52837159]\n",
      " [    0.         -1575.31945237 -2570.99734434 -3337.49477184 -3951.7124528 ]\n",
      " [    0.         -2103.00869503 -3381.3606933  -4376.06048238 -5190.61805015]\n",
      " [    0.           517.5545275    809.37920966  1038.12318649  1230.78314742]]\n",
      "(9768, 1560)\n"
     ]
    }
   ],
   "source": [
    "dataDecayObs = loadmat(\"../dataDecayObs.mat\", simplify_cells=True)\n",
    "\n",
    "Data['oData'] = dataDecayObs['oData']\n",
    "Data['yData'] = dataDecayObs['yData']\n",
    "\n",
    "print(Data['yData'][0][1][:, :5])\n",
    "\n",
    "Xsnapshots = dataDecayObs['Xsnapshots']\n",
    "print(Xsnapshots.shape)\n",
    "\n",
    "H = np.array(dataDecayObs['H'])\n",
    "V = np.array(dataDecayObs['V'])\n",
    "M = np.array(dataDecayObs['M'])\n",
    "\n",
    "rDOF = 3\n",
    "oDOF = 3\n",
    "nTRAJ = Data['oData'].shape[0]\n",
    "nDOF = Xsnapshots.shape[0]//2"
   ]
  },
  {
   "cell_type": "code",
   "execution_count": 5,
   "metadata": {},
   "outputs": [
    {
     "name": "stdout",
     "output_type": "stream",
     "text": [
      "(52, 2)\n",
      "(6, 3000)\n",
      "(52,)\n"
     ]
    }
   ],
   "source": [
    "print(Data['oData'].shape)\n",
    "print(Data['oData'][0, 1].shape)\n",
    "print(Data['oData'][:, 1].shape)"
   ]
  },
  {
   "attachments": {},
   "cell_type": "markdown",
   "metadata": {},
   "source": [
    "### Plot trajectories in an observable of interest"
   ]
  },
  {
   "cell_type": "code",
   "execution_count": 6,
   "metadata": {},
   "outputs": [],
   "source": [
    "outdofs = [0, 1, 2]\n",
    "plt.close('all')\n",
    "# plot trajectories in 3D [x, y, z] space\n",
    "plot.traj_3D(Data,\n",
    "             xyz_idx=[('oData', 0), ('oData', 1), ('oData', 2)],\n",
    "             xyz_names=[r'$x$', r'$y$', r'$z$'])\n",
    "# plot evolution of x, y and z in time, separately in 3 subplots\n",
    "plot.traj_xyz(Data,\n",
    "             xyz_idx=[('oData', 0), ('oData', 1), ('oData', 2)],\n",
    "             xyz_names=[r'$x$', r'$y$', r'$z$'])\n",
    "# plot trajectories in 3D [x, x_dot, z] space / NB: x_dot = v_x\n",
    "plot.traj_3D(Data,\n",
    "             xyz_idx=[('oData', 0), ('oData', 0+oDOF), ('oData', 2)],\n",
    "             xyz_names=[r'$x$', r'$\\dot{x}$', r'$z$'])"
   ]
  },
  {
   "attachments": {},
   "cell_type": "markdown",
   "metadata": {},
   "source": [
    "### Show PCA infos\n",
    "Modes were already computed to get yData"
   ]
  },
  {
   "cell_type": "code",
   "execution_count": 7,
   "metadata": {},
   "outputs": [],
   "source": [
    "# Perform SVD on displacement field\n",
    "svd = np.linalg.svd\n",
    "s = svd(Xsnapshots[0:nDOF, :], compute_uv=False)\n",
    "l2vals = s**2"
   ]
  },
  {
   "cell_type": "code",
   "execution_count": 9,
   "metadata": {},
   "outputs": [],
   "source": [
    "# Plot variance description: we expect three modes to capture almost all variance.\n",
    "# Note we assume data centered around the origin, which is the fixed point of our system.\n",
    "plt.close('all')\n",
    "plot.pca_modes(l2vals, up_to_mode=9)"
   ]
  },
  {
   "attachments": {},
   "cell_type": "markdown",
   "metadata": {},
   "source": [
    "## Obtain reduced-order coordinates"
   ]
  },
  {
   "cell_type": "code",
   "execution_count": 10,
   "metadata": {},
   "outputs": [],
   "source": [
    "plt.close('all')\n",
    "# plot trajectories in 3D [x1_bar, x1_bar_dot, y] space\n",
    "plot.traj_3D(Data,\n",
    "             xyz_idx=[('yData', 0), ('yData', 0+rDOF), ('oData', 1)],\n",
    "             xyz_names=[r'$\\bar{x}_1$', r'$\\dot{\\bar{x}}_1$', r'$y$'])\n",
    "# plot evolution of x, y and z in time, separately in 3 subplots\n",
    "plot.traj_xyz(Data,\n",
    "              xyz_idx=[('yData', 0), ('yData', 1), ('yData', 2)],\n",
    "              xyz_names=[r'$u_1$', r'$u_2$', r'$u_3$'])"
   ]
  },
  {
   "attachments": {},
   "cell_type": "markdown",
   "metadata": {},
   "source": [
    "### Train and test data (train/test split)"
   ]
  },
  {
   "cell_type": "code",
   "execution_count": 10,
   "metadata": {},
   "outputs": [],
   "source": [
    "indTest = [0, 4] #[0, 2, 4, 6, 8, 10, 12, 14]\n",
    "indTrain = [i for i in range(nTRAJ) if i not in indTest]"
   ]
  },
  {
   "attachments": {},
   "cell_type": "markdown",
   "metadata": {},
   "source": [
    "### Truncate trajectories"
   ]
  },
  {
   "cell_type": "code",
   "execution_count": 11,
   "metadata": {},
   "outputs": [],
   "source": [
    "t_interval = [0.14, 2.6]\n",
    "Data['oDataTrunc'] = utils.slice_trajectories(Data['oData'], t_interval)\n",
    "Data['yDataTrunc'] = utils.slice_trajectories(Data['yData'], t_interval)"
   ]
  },
  {
   "cell_type": "code",
   "execution_count": 62,
   "metadata": {},
   "outputs": [
    {
     "name": "stdout",
     "output_type": "stream",
     "text": [
      "(6, 2460)\n",
      "(6, 2460)\n"
     ]
    }
   ],
   "source": [
    "print(Data['oDataTrunc'][0, 1].shape)\n",
    "print(Data['yDataTrunc'][0, 1].shape)"
   ]
  },
  {
   "attachments": {},
   "cell_type": "markdown",
   "metadata": {},
   "source": [
    "Visualize truncated trajectories"
   ]
  },
  {
   "cell_type": "code",
   "execution_count": 13,
   "metadata": {},
   "outputs": [],
   "source": [
    "plt.close('all')\n",
    "plot.traj_3D(Data,\n",
    "             xyz_idx=[('yDataTrunc', 0), ('yDataTrunc', 0+rDOF), ('oDataTrunc', 1)],\n",
    "             xyz_names=[r'$\\bar{x}_1$', r'$\\dot{\\bar{x}}_1$', r'$y$'])"
   ]
  },
  {
   "cell_type": "code",
   "execution_count": 14,
   "metadata": {},
   "outputs": [],
   "source": [
    "plt.close('all')"
   ]
  },
  {
   "attachments": {},
   "cell_type": "markdown",
   "metadata": {},
   "source": [
    "## Use Matlab engine to evoke SSMLearn"
   ]
  },
  {
   "attachments": {},
   "cell_type": "markdown",
   "metadata": {},
   "source": [
    "Start Matlab engine and install/run SSMLearn"
   ]
  },
  {
   "cell_type": "code",
   "execution_count": 15,
   "metadata": {},
   "outputs": [
    {
     "name": "stdout",
     "output_type": "stream",
     "text": [
      "SSMLearn: Data-driven Reduced Order Models for Nonlinear Dynamical Systems\n",
      "Maintained by Mattia Cenedese (mattiac@ethz.ch) and Joar Ax\u001as (jgoeransson@ethz.ch)\n",
      "License: GNUv3.0\n",
      "Warning: Name is nonexistent or not a directory: /home/jonas/Projects/stanford/SSMR-for-control/modal_trajectory_data/check_model\n",
      "> In path (line 109)\n",
      "In addpath (line 86)\n",
      "In install (line 20)\n"
     ]
    },
    {
     "data": {
      "text/plain": [
       "'/home/jonas/Projects/stanford/SSMR-for-control'"
      ]
     },
     "execution_count": 15,
     "metadata": {},
     "output_type": "execute_result"
    }
   ],
   "source": [
    "import matlab.engine\n",
    "eng = matlab.engine.start_matlab()\n",
    "eng.cd(\"../..\", nargout=0)\n",
    "eng.install(nargout=0)\n",
    "eng.cd(\"ROM/\")"
   ]
  },
  {
   "attachments": {},
   "cell_type": "markdown",
   "metadata": {},
   "source": [
    "Bring data in a format that is accepted by the (slightly modified) version of SSMLearn (requires a specific cell array structure for input data)"
   ]
  },
  {
   "cell_type": "code",
   "execution_count": 16,
   "metadata": {},
   "outputs": [],
   "source": [
    "# make data ready for Matlab\n",
    "oDataTruncTrain_matlab = [[], []]\n",
    "yDataTruncTrain_matlab = [[], []]\n",
    "for i in range(len(indTrain)):\n",
    "    oDataTruncTrain_matlab[0].append(matlab.double(initializer=Data['oDataTrunc'][indTrain, :][i, 0].tolist()))\n",
    "    oDataTruncTrain_matlab[1].append(matlab.double(initializer=Data['oDataTrunc'][indTrain, :][i, 1].tolist()))\n",
    "    yDataTruncTrain_matlab[0].append(matlab.double(initializer=Data['yDataTrunc'][indTrain, :][i, 0].tolist()))\n",
    "    yDataTruncTrain_matlab[1].append(matlab.double(initializer=Data['yDataTrunc'][indTrain, :][i, 1].tolist()))\n"
   ]
  },
  {
   "attachments": {},
   "cell_type": "markdown",
   "metadata": {},
   "source": [
    "### Learn geometry of the SSM"
   ]
  },
  {
   "attachments": {},
   "cell_type": "markdown",
   "metadata": {},
   "source": [
    "Find parametrization of SSM using SSMLearn"
   ]
  },
  {
   "cell_type": "code",
   "execution_count": 17,
   "metadata": {},
   "outputs": [
    {
     "name": "stdout",
     "output_type": "stream",
     "text": [
      "Data seems to have been fed from Python!\n",
      "Data seems to have been fed from Python!\n"
     ]
    }
   ],
   "source": [
    "obsDim = 2*oDOF\n",
    "SSMOrder = 3\n",
    "\n",
    "IMInfo = eng.IMGeometry(oDataTruncTrain_matlab, SSMDim, SSMOrder,\n",
    "                        'reducedCoordinates', yDataTruncTrain_matlab)\n",
    "IMInfoInv = eng.IMGeometry(yDataTruncTrain_matlab, obsDim, SSMOrder,\n",
    "                           'reducedCoordinates', oDataTruncTrain_matlab)\n"
   ]
  },
  {
   "attachments": {},
   "cell_type": "markdown",
   "metadata": {},
   "source": [
    "### Learn dynamics on the SSM (reduced dynamics)"
   ]
  },
  {
   "attachments": {},
   "cell_type": "markdown",
   "metadata": {},
   "source": [
    "Find parametrization of reduced dynamics using SSMLearn"
   ]
  },
  {
   "cell_type": "code",
   "execution_count": 18,
   "metadata": {},
   "outputs": [
    {
     "name": "stdout",
     "output_type": "stream",
     "text": [
      "Data seems to have been fed from Python!\n",
      "Estimation of the reduced dynamics... \n",
      "\b Done. \n"
     ]
    },
    {
     "data": {
      "text/plain": [
       "3.0"
      ]
     },
     "execution_count": 18,
     "metadata": {},
     "output_type": "execute_result"
    }
   ],
   "source": [
    "ROMOrder = 3\n",
    "RDInfo = eng.IMDynamicsFlow(yDataTruncTrain_matlab, 'R_PolyOrd', ROMOrder, 'style', 'default')\n",
    "# RDInfo['eigenvaluesLinPartFlow'][0:3]\n",
    "RDInfo['conjugateDynamics']['polynomialOrder']"
   ]
  },
  {
   "attachments": {},
   "cell_type": "markdown",
   "metadata": {},
   "source": [
    "Stop Matlab engine -- not needed anymore"
   ]
  },
  {
   "cell_type": "code",
   "execution_count": 19,
   "metadata": {},
   "outputs": [],
   "source": [
    "eng.quit()"
   ]
  },
  {
   "attachments": {},
   "cell_type": "markdown",
   "metadata": {},
   "source": [
    "Store map in the same variables"
   ]
  },
  {
   "cell_type": "code",
   "execution_count": 20,
   "metadata": {},
   "outputs": [],
   "source": [
    "for key in ['map', 'polynomialOrder', 'dimension', 'nonlinearCoefficients', 'phi', 'exponents', 'H']:\n",
    "    IMInfo['chart'][key] = IMInfoInv['parametrization'][key]"
   ]
  },
  {
   "attachments": {},
   "cell_type": "markdown",
   "metadata": {},
   "source": [
    "Convert all matlab double arrays to numpy arrays"
   ]
  },
  {
   "cell_type": "code",
   "execution_count": 21,
   "metadata": {},
   "outputs": [],
   "source": [
    "def convert_matlab_arrays_to_numpy_arrays(info_dict):\n",
    "  for k,v in info_dict.items():        \n",
    "     if isinstance(v, dict):\n",
    "         convert_matlab_arrays_to_numpy_arrays(v)\n",
    "     else:            \n",
    "        if isinstance(v, matlab.double):\n",
    "           info_dict[k] = np.array(v)\n",
    "\n",
    "convert_matlab_arrays_to_numpy_arrays(IMInfo)\n",
    "convert_matlab_arrays_to_numpy_arrays(RDInfo)"
   ]
  },
  {
   "attachments": {},
   "cell_type": "markdown",
   "metadata": {},
   "source": [
    "## Analyze the obtained mappings of SSM geometry and reduced dynamics"
   ]
  },
  {
   "attachments": {},
   "cell_type": "markdown",
   "metadata": {},
   "source": [
    "### SSM geometry (parametrization)"
   ]
  },
  {
   "cell_type": "code",
   "execution_count": 22,
   "metadata": {},
   "outputs": [],
   "source": [
    "oRec = {}\n",
    "errorGeo = {}\n",
    "meanErrorGeo = {}"
   ]
  },
  {
   "attachments": {},
   "cell_type": "markdown",
   "metadata": {},
   "source": [
    "#### Train error"
   ]
  },
  {
   "cell_type": "code",
   "execution_count": 23,
   "metadata": {},
   "outputs": [
    {
     "name": "stdout",
     "output_type": "stream",
     "text": [
      "Average parametrization train error: 0.2436\n"
     ]
    }
   ],
   "source": [
    "oRec['Train'] = utils.lift_trajectories(IMInfo, Data['yDataTrunc'][indTrain, :])\n",
    "errorGeo['Train'] = utils.compute_trajectory_errors(oRec['Train'], Data['oDataTrunc'][indTrain, :])[0] * 100\n",
    "\n",
    "meanErrorGeo['Train'] = np.mean(errorGeo['Train'])\n",
    "print(f\"Average parametrization train error: {meanErrorGeo['Train']:.4f}\")\n"
   ]
  },
  {
   "attachments": {},
   "cell_type": "markdown",
   "metadata": {},
   "source": [
    "#### Test error"
   ]
  },
  {
   "cell_type": "code",
   "execution_count": 24,
   "metadata": {},
   "outputs": [
    {
     "name": "stdout",
     "output_type": "stream",
     "text": [
      "Average parametrization test error: 0.1936\n"
     ]
    }
   ],
   "source": [
    "oRec['Test'] = utils.lift_trajectories(IMInfo, Data['yDataTrunc'][indTest, :])\n",
    "errorGeo['Test'] = utils.compute_trajectory_errors(oRec['Test'], Data['oDataTrunc'][indTest, :])[0] * 100\n",
    "\n",
    "meanErrorGeo['Test'] = np.mean(errorGeo['Test'])\n",
    "print(f\"Average parametrization test error: {meanErrorGeo['Test']:.4f}\")"
   ]
  },
  {
   "attachments": {},
   "cell_type": "markdown",
   "metadata": {},
   "source": [
    "Plot comparison of SSM-predicted vs. actual test trajectories"
   ]
  },
  {
   "cell_type": "code",
   "execution_count": 25,
   "metadata": {},
   "outputs": [],
   "source": [
    "plt.close('all')\n",
    "axs = plot.traj_xyz(Data,\n",
    "                    xyz_idx=[('oData', 0), ('oData', 1), ('oData', 2)],\n",
    "                    xyz_names=[r'$x$', r'$y$', r'$z$'],\n",
    "                    traj_idx=indTest,\n",
    "                    show=False)\n",
    "plot.traj_xyz(oRec,\n",
    "              xyz_idx=[('Test', 0), ('Test', 1), ('Test', 2)],\n",
    "              xyz_names=[r'$x$', r'$y$', r'$z$'],\n",
    "              axs=axs, ls=':', color='darkblue')"
   ]
  },
  {
   "attachments": {},
   "cell_type": "markdown",
   "metadata": {},
   "source": [
    "### SSM geometry (chart)"
   ]
  },
  {
   "cell_type": "code",
   "execution_count": 26,
   "metadata": {},
   "outputs": [],
   "source": [
    "yRec = {}"
   ]
  },
  {
   "attachments": {},
   "cell_type": "markdown",
   "metadata": {},
   "source": [
    "#### Train error"
   ]
  },
  {
   "cell_type": "code",
   "execution_count": 27,
   "metadata": {},
   "outputs": [
    {
     "name": "stdout",
     "output_type": "stream",
     "text": [
      "Average chart train error: 0.1925\n"
     ]
    }
   ],
   "source": [
    "yRec['CTrain'] = utils.lift_trajectories(IMInfoInv, Data['oDataTrunc'][indTrain, :])\n",
    "errorGeo['CTrain'] = utils.compute_trajectory_errors(yRec['CTrain'], Data['yDataTrunc'][indTrain, :])[0] * 100\n",
    "\n",
    "meanErrorGeo['CTrain'] = np.mean(errorGeo['CTrain'])\n",
    "print(f\"Average chart train error: {meanErrorGeo['CTrain']:.4f}\")"
   ]
  },
  {
   "attachments": {},
   "cell_type": "markdown",
   "metadata": {},
   "source": [
    "#### Test error"
   ]
  },
  {
   "cell_type": "code",
   "execution_count": 28,
   "metadata": {},
   "outputs": [
    {
     "name": "stdout",
     "output_type": "stream",
     "text": [
      "Average chart test error: 0.1536\n"
     ]
    }
   ],
   "source": [
    "yRec['CTest'] = utils.lift_trajectories(IMInfoInv, Data['oDataTrunc'][indTest, :])\n",
    "errorGeo['CTest'] = utils.compute_trajectory_errors(yRec['CTest'], Data['yDataTrunc'][indTest, :])[0] * 100\n",
    "\n",
    "meanErrorGeo['CTest'] = np.mean(errorGeo['CTest'])\n",
    "print(f\"Average chart test error: {meanErrorGeo['CTest']:.4f}\")"
   ]
  },
  {
   "attachments": {},
   "cell_type": "markdown",
   "metadata": {},
   "source": [
    "Plot comparison of SSM-predicted vs. actual test trajectories"
   ]
  },
  {
   "cell_type": "code",
   "execution_count": 29,
   "metadata": {},
   "outputs": [],
   "source": [
    "plt.close('all')\n",
    "axs = plot.traj_xyz(Data,\n",
    "                    xyz_idx=[('yData', 0), ('yData', 1), ('yData', 2)],\n",
    "                    xyz_names=[r'$x$', r'$y$', r'$z$'],\n",
    "                    traj_idx=indTest,\n",
    "                    show=False)\n",
    "plot.traj_xyz(yRec,\n",
    "              xyz_idx=[('CTest', 0), ('CTest', 1), ('CTest', 2)],\n",
    "              xyz_names=[r'$u_1$', r'$u_2$', r'$u_3$'],\n",
    "              axs=axs, ls=':', color='darkblue')"
   ]
  },
  {
   "attachments": {},
   "cell_type": "markdown",
   "metadata": {},
   "source": [
    "### Reduced dynamics"
   ]
  },
  {
   "cell_type": "code",
   "execution_count": 30,
   "metadata": {},
   "outputs": [
    {
     "name": "stdout",
     "output_type": "stream",
     "text": [
      "Average dynamics train error: 1.8632\n",
      "Average dynamics test error: 0.7939\n"
     ]
    }
   ],
   "source": [
    "yRec['RD'] = utils.advectRD(RDInfo, Data['yDataTrunc'])[0]\n",
    "meanErrorDyn = {}\n",
    "\n",
    "normedTrajDist = utils.compute_trajectory_errors(yRec['RD'], Data['yDataTrunc'])[0]\n",
    "meanErrorDyn['Train'] = np.mean(normedTrajDist[indTrain]) * 100\n",
    "meanErrorDyn['Test'] = np.mean(normedTrajDist[indTest]) * 100\n",
    "\n",
    "print(f\"Average dynamics train error: {meanErrorDyn['Train']:.4f}\")\n",
    "print(f\"Average dynamics test error: {meanErrorDyn['Test']:.4f}\")"
   ]
  },
  {
   "cell_type": "code",
   "execution_count": 31,
   "metadata": {},
   "outputs": [],
   "source": [
    "plot_all = False\n",
    "if plot_all:\n",
    "    vPlot = range(nTRAJ)\n",
    "else:\n",
    "    vPlot = indTest\n",
    "\n",
    "plt.close('all')\n",
    "axs = plot.traj_xyz(Data,\n",
    "                    xyz_idx=[('yData', 0), ('yData', 1), ('yData', 2)],\n",
    "                    xyz_names=[r'$u_1$', r'$u_2$', r'$u_3$'],\n",
    "                    traj_idx=vPlot,\n",
    "                    show=False)\n",
    "plot.traj_xyz(yRec,\n",
    "              xyz_idx=[('RD', 0), ('RD', 1), ('RD', 2)],\n",
    "              xyz_names=[r'$u_1$', r'$u_2$', r'$u_3$'],\n",
    "              traj_idx=vPlot,\n",
    "              axs=axs, ls=':', color='darkblue')\n"
   ]
  },
  {
   "attachments": {},
   "cell_type": "markdown",
   "metadata": {},
   "source": [
    "### Global error"
   ]
  },
  {
   "cell_type": "code",
   "execution_count": 32,
   "metadata": {},
   "outputs": [],
   "source": [
    "errorGlo = {}\n",
    "meanErrorGlo = {}"
   ]
  },
  {
   "attachments": {},
   "cell_type": "markdown",
   "metadata": {},
   "source": [
    "#### Train error"
   ]
  },
  {
   "cell_type": "code",
   "execution_count": 33,
   "metadata": {},
   "outputs": [
    {
     "name": "stdout",
     "output_type": "stream",
     "text": [
      "Average global train error: 1.7270\n"
     ]
    }
   ],
   "source": [
    "oRec['RDTrain'] = utils.lift_trajectories(IMInfo, yRec['RD'][indTrain, :])\n",
    "errorGlo['Train'] = utils.compute_trajectory_errors(oRec['RDTrain'], Data['oDataTrunc'][indTrain, :])[0] * 100\n",
    "\n",
    "meanErrorGlo['Train'] = np.mean(errorGlo['Train'])\n",
    "print(f\"Average global train error: {meanErrorGlo['Train']:.4f}\")"
   ]
  },
  {
   "attachments": {},
   "cell_type": "markdown",
   "metadata": {},
   "source": [
    "#### Test error"
   ]
  },
  {
   "cell_type": "code",
   "execution_count": 34,
   "metadata": {},
   "outputs": [
    {
     "name": "stdout",
     "output_type": "stream",
     "text": [
      "Average global test error: 0.8325\n"
     ]
    }
   ],
   "source": [
    "oRec['RDTest'] = utils.lift_trajectories(IMInfo, yRec['RD'][indTest, :])\n",
    "errorGlo['Test'] = utils.compute_trajectory_errors(oRec['RDTest'], Data['oDataTrunc'][indTest, :])[0] * 100\n",
    "\n",
    "meanErrorGlo['Test'] = np.mean(errorGlo['Test'])\n",
    "print(f\"Average global test error: {meanErrorGlo['Test']:.4f}\")"
   ]
  },
  {
   "cell_type": "code",
   "execution_count": 35,
   "metadata": {},
   "outputs": [],
   "source": [
    "plt.close('all')\n",
    "axs = plot.traj_xyz(Data,\n",
    "                    xyz_idx=[('oData', 0), ('oData', 1), ('oData', 2)],\n",
    "                    xyz_names=[r'$x$', r'$y$', r'$z$'],\n",
    "                    traj_idx=indTest,\n",
    "                    show=False)\n",
    "plot.traj_xyz(oRec,\n",
    "              xyz_idx=[('RDTest', 0), ('RDTest', 1), ('RDTest', 2)],\n",
    "              xyz_names=[r'$x$', r'$y$', r'$z$'],\n",
    "              axs=axs, ls=':', color='darkblue')"
   ]
  },
  {
   "attachments": {},
   "cell_type": "markdown",
   "metadata": {},
   "source": [
    "### Understand which mode is responsible for what motion"
   ]
  },
  {
   "cell_type": "code",
   "execution_count": 36,
   "metadata": {},
   "outputs": [],
   "source": [
    "outdofsMat = np.zeros((3, 2*nDOF))\n",
    "output_node = 1354\n",
    "outdofsPS = 3 * output_node + np.array([0, 1, 2])\n",
    "for i in range(3):\n",
    "    outdofsMat[i, outdofsPS[i]] = 1\n",
    "\n",
    "redDynLinearPart = np.array(RDInfo['reducedDynamics']['coefficients'])[:, :2*rDOF]\n",
    "redStiffnessMat = -redDynLinearPart[rDOF:, :rDOF]\n",
    "\n",
    "w2, UconsRedDyn = np.linalg.eig(redStiffnessMat)\n",
    "sorted_idx = np.argsort(w2)\n",
    "consFreqs, UconsRedDyn = np.diag(np.sqrt(w2[sorted_idx])), UconsRedDyn[:, sorted_idx]\n",
    "\n",
    "Ucons = np.kron(np.eye(2), UconsRedDyn)\n",
    "Vcons = V @ Ucons\n",
    "\n",
    "modesDir = outdofsMat @ Vcons[:, :rDOF]\n",
    "modesFreq = np.abs(RDInfo['eigenvaluesLinPartFlow']).flatten()[:3]\n",
    "\n",
    "plt.close('all')\n",
    "plot.mode_direction(modesDir, modesFreq)"
   ]
  },
  {
   "attachments": {},
   "cell_type": "markdown",
   "metadata": {},
   "source": [
    "## Control"
   ]
  },
  {
   "attachments": {},
   "cell_type": "markdown",
   "metadata": {},
   "source": [
    "$H_{red} = V^TM^{-1}H$"
   ]
  },
  {
   "cell_type": "code",
   "execution_count": 37,
   "metadata": {},
   "outputs": [],
   "source": [
    "Hred = V[:nDOF, :rDOF].T @ np.linalg.solve(M, H)\n",
    "\n",
    "normsModalForcing = np.mean(Hred**2, axis=0)\n",
    "normsNonModalforcing = np.mean(((np.eye(nDOF) - V[:nDOF, :rDOF] @ V[:nDOF,:rDOF].T) @ np.linalg.solve(M, H)) ** 2, axis=0)"
   ]
  },
  {
   "cell_type": "code",
   "execution_count": 38,
   "metadata": {},
   "outputs": [
    {
     "data": {
      "text/plain": [
       "array([3616.45209364, 3685.11835952, 2706.933674  , 3629.53852193])"
      ]
     },
     "execution_count": 38,
     "metadata": {},
     "output_type": "execute_result"
    }
   ],
   "source": [
    "normsModalForcing"
   ]
  },
  {
   "cell_type": "code",
   "execution_count": 39,
   "metadata": {},
   "outputs": [
    {
     "data": {
      "text/plain": [
       "array([1874.58976771, 1541.09869231, 1333.69786275, 1201.55627627])"
      ]
     },
     "execution_count": 39,
     "metadata": {},
     "output_type": "execute_result"
    }
   ],
   "source": [
    "normsNonModalforcing"
   ]
  },
  {
   "attachments": {},
   "cell_type": "markdown",
   "metadata": {},
   "source": [
    "### Setup model for control"
   ]
  },
  {
   "cell_type": "code",
   "execution_count": 40,
   "metadata": {},
   "outputs": [],
   "source": [
    "from scipy.integrate import solve_ivp\n",
    "from scipy.interpolate import interp1d"
   ]
  },
  {
   "cell_type": "code",
   "execution_count": 41,
   "metadata": {},
   "outputs": [],
   "source": [
    "# autonomous reduced dynamics R(x)\n",
    "Rauton = utils.Rauton(RDInfo)\n",
    "# y = V(x)\n",
    "Vauton = lambda x: IMInfo['parametrization']['H'] @ utils.multivariate_polynomial(x, IMInfo['parametrization']['polynomialOrder'])\n",
    "# x = W(y)\n",
    "Wauton = lambda y: IMInfo['chart']['H'] @ utils.multivariate_polynomial(y, IMInfo['chart']['polynomialOrder'])"
   ]
  },
  {
   "attachments": {},
   "cell_type": "markdown",
   "metadata": {},
   "source": [
    "Small example"
   ]
  },
  {
   "cell_type": "code",
   "execution_count": 42,
   "metadata": {},
   "outputs": [],
   "source": [
    "uFun = lambda t: np.array([np.arctan(t)/np.pi*2, 0, 0, 0]).reshape(-1, 1)\n",
    "R = lambda t, y: Rauton(np.atleast_2d(y)) + np.vstack([np.zeros((rDOF, Hred.shape[1])), Hred]) @ uFun(t)\n",
    "\n",
    "tTraj = np.linspace(0, 15, 1000)\n",
    "sol = solve_ivp(R,\n",
    "                t_span=[tTraj[0], tTraj[-1]],\n",
    "                t_eval=tTraj,\n",
    "                y0=np.zeros(2*rDOF),\n",
    "                method='LSODA',\n",
    "                vectorized=True,\n",
    "                rtol=1e-3,\n",
    "                atol=1e-3)\n",
    "xTraj = sol.y\n",
    "yTraj = Vauton(xTraj)\n",
    "\n",
    "plt.close('all')\n",
    "plot.traj_xyz_txyz(tTraj,\n",
    "                   yTraj[outdofs[0], :],\n",
    "                   yTraj[outdofs[1], :],\n",
    "                   yTraj[outdofs[2], :])"
   ]
  },
  {
   "attachments": {},
   "cell_type": "markdown",
   "metadata": {},
   "source": [
    "### Integrate the model with inputs"
   ]
  },
  {
   "attachments": {},
   "cell_type": "markdown",
   "metadata": {},
   "source": [
    "#### Small inputs"
   ]
  },
  {
   "cell_type": "code",
   "execution_count": 43,
   "metadata": {},
   "outputs": [],
   "source": [
    "# Load the controls and actual trajectories for figure8\n",
    "uFigureEight = np.loadtxt(\"../../system_data/u_small.csv\", delimiter=',')\n",
    "z = np.loadtxt(\"../../system_data/z_small.csv\", delimiter=',')\n",
    "z_eq = np.loadtxt(\"../../system_data/z_equilibrium.csv\", delimiter=',')\n",
    "z_eq = np.concatenate([z_eq, [0, 0, 0]])\n",
    "\n",
    "# original spacing of inputs\n",
    "T = 10.01\n",
    "dt = 0.01\n",
    "N = int(T / dt)\n",
    "t_span = np.linspace(0, T, N+1)\n",
    "z_true = z[:, 3:].T\n",
    "\n",
    "interpFun = interp1d(t_span, uFigureEight, axis=0, fill_value=\"extrapolate\")\n",
    "uFun = lambda t: interpFun(t).reshape(-1, 1)\n",
    "\n",
    "sol = solve_ivp(R,\n",
    "                t_span=[t_span[0], t_span[-1]],\n",
    "                t_eval=t_span,\n",
    "                y0=np.zeros(2*rDOF),\n",
    "                method='LSODA',\n",
    "                vectorized=True,\n",
    "                rtol=1e-3,\n",
    "                atol=1e-3)\n",
    "xTraj = sol.y\n",
    "yTraj = (Vauton(xTraj).T + z_eq).T\n",
    "\n",
    "plt.close('all')\n",
    "ax = plot.traj_3D_xyz(yTraj[outdofs[0], :],\n",
    "                      yTraj[outdofs[1], :],\n",
    "                      yTraj[outdofs[2], :], show=False)\n",
    "plot.traj_3D_xyz(z_true[outdofs[0], :],\n",
    "                 z_true[outdofs[1], :],\n",
    "                 z_true[outdofs[2], :], color=\"tab:orange\", ax=ax)\n"
   ]
  },
  {
   "attachments": {},
   "cell_type": "markdown",
   "metadata": {},
   "source": [
    "### Learn control matrix $B$"
   ]
  },
  {
   "attachments": {},
   "cell_type": "markdown",
   "metadata": {},
   "source": [
    "Use figure8 trajectory as the training data"
   ]
  },
  {
   "cell_type": "code",
   "execution_count": 44,
   "metadata": {},
   "outputs": [
    {
     "name": "stdout",
     "output_type": "stream",
     "text": [
      "[-7.07686434  1.2132194  97.04053866]\n"
     ]
    }
   ],
   "source": [
    "# Load the controls and actual trajectories for figure8\n",
    "u_train = np.loadtxt(\"../../system_data/u_big.csv\", delimiter=',').T\n",
    "z_train = np.loadtxt(\"../../system_data/z_big.csv\", delimiter=',').T\n",
    "z_eq_train = np.loadtxt(\"../../system_data/z_equilibrium.csv\", delimiter=',')\n",
    "print(z_eq_train)\n",
    "\n",
    "# original spacing of inputs\n",
    "dt = 0.01\n",
    "t_train = np.arange(z_train.shape[1]) * dt"
   ]
  },
  {
   "attachments": {},
   "cell_type": "markdown",
   "metadata": {},
   "source": [
    "Use randomly sampled (step) inputs as the training data"
   ]
  },
  {
   "cell_type": "code",
   "execution_count": 45,
   "metadata": {},
   "outputs": [
    {
     "name": "stdout",
     "output_type": "stream",
     "text": [
      "[-7.1324138   1.197122   96.86972983]\n"
     ]
    }
   ],
   "source": [
    "diamond_train_full = loadmat(\"../diamond_train_full.mat\", simplify_cells=True)\n",
    "z_train, u_train, _ = diamond_train_full['y'].T, diamond_train_full['u'].T, diamond_train_full['t']\n",
    "z_eq_train = z_train[3:, 0]\n",
    "print(z_eq_train)\n",
    "\n",
    "# original spacing of inputs\n",
    "dt = 0.01\n",
    "t_train = np.arange(z_train.shape[1]) * dt"
   ]
  },
  {
   "cell_type": "code",
   "execution_count": 46,
   "metadata": {},
   "outputs": [],
   "source": [
    "# tip position, normalized using resting position\n",
    "z_shift_train = (z_train[3:, :].T - z_eq_train).T\n",
    "# y_train = [pos of tip (shifted to origin), vel of tip]\n",
    "y_train = np.vstack([(z_train[3:, :].T - z_eq_train).T, z_train[:3, :]])"
   ]
  },
  {
   "attachments": {},
   "cell_type": "markdown",
   "metadata": {},
   "source": [
    "Plot the training data"
   ]
  },
  {
   "cell_type": "code",
   "execution_count": 47,
   "metadata": {},
   "outputs": [],
   "source": [
    "plt.close('all')\n",
    "plot.traj_xyz_txyz(t=t_train,\n",
    "                   x=z_shift_train[0, :], y=z_shift_train[1, :], z=z_shift_train[2, :])\n",
    "plot.inputs(t_train, u_train)"
   ]
  },
  {
   "attachments": {},
   "cell_type": "markdown",
   "metadata": {},
   "source": [
    "Compute reduced coordinates and gradient as predicted by reduced dynamics, as well as the numerical (true) gradient"
   ]
  },
  {
   "cell_type": "code",
   "execution_count": 48,
   "metadata": {},
   "outputs": [
    {
     "name": "stdout",
     "output_type": "stream",
     "text": [
      "y.shape: (6, 8692), u.shape: (4, 8692)\n",
      "(8692,)\n"
     ]
    }
   ],
   "source": [
    "print(f\"y.shape: {y_train.shape}, u.shape: {u_train.shape}\")\n",
    "# reduced coordinates\n",
    "x_train = Wauton(y_train)\n",
    "dxDt = np.gradient(x_train, dt, axis=1)\n",
    "dxDt_ROM = Rauton(x_train)\n",
    "\n",
    "# optionally, throw away some of the training data\n",
    "keep_indices = np.s_[30:-20]\n",
    "t_train_trunc = t_train[keep_indices]\n",
    "u_train_trunc = u_train[:, keep_indices]\n",
    "x_train_trunc = x_train[:, keep_indices]\n",
    "y_train_trunc = y_train[:, keep_indices]\n",
    "dxDt = dxDt[:, keep_indices]\n",
    "dxDt_ROM = dxDt_ROM[:, keep_indices]\n",
    "\n",
    "print(t_train.shape)"
   ]
  },
  {
   "cell_type": "code",
   "execution_count": 49,
   "metadata": {},
   "outputs": [],
   "source": [
    "plt.close('all')\n",
    "ax = plot.traj_3D_xyz(y_train_trunc[outdofs[0], :],\n",
    "                      y_train_trunc[outdofs[1], :],\n",
    "                      y_train_trunc[outdofs[2], :], show=True)"
   ]
  },
  {
   "cell_type": "code",
   "execution_count": 50,
   "metadata": {},
   "outputs": [],
   "source": [
    "plt.close('all')\n",
    "plot.reduced_coordinates_gradient(t_train_trunc, [dxDt, dxDt_ROM], labels=[\"true numerical\", \"predicted autonomous\"], how=\"all\")"
   ]
  },
  {
   "cell_type": "code",
   "execution_count": 51,
   "metadata": {},
   "outputs": [],
   "source": [
    "plt.close('all')\n",
    "plot.dependence_of_xdot_on_inputs(dxDt-dxDt_ROM/10, u_train_trunc)"
   ]
  },
  {
   "cell_type": "code",
   "execution_count": 52,
   "metadata": {},
   "outputs": [
    {
     "name": "stdout",
     "output_type": "stream",
     "text": [
      "B_learn.shape: (6, 4)\n"
     ]
    }
   ],
   "source": [
    "from sklearn.linear_model import Ridge\n",
    "from sklearn.preprocessing import StandardScaler\n",
    "\n",
    "polyUorder = 1\n",
    "\n",
    "X = utils.multivariate_polynomial(u_train_trunc, order=polyUorder).T\n",
    "y = (dxDt - dxDt_ROM).T\n",
    "\n",
    "ridgeModel = Ridge(alpha=0, fit_intercept=False)\n",
    "ridgeModel.fit(X, y)\n",
    "B_learn = ridgeModel.coef_\n",
    "print(\"B_learn.shape:\", B_learn.shape)"
   ]
  },
  {
   "attachments": {},
   "cell_type": "markdown",
   "metadata": {},
   "source": [
    "Frobenius norm of $B_{learn}$ to estimate how much influence inputs have on dynamics"
   ]
  },
  {
   "cell_type": "code",
   "execution_count": 53,
   "metadata": {},
   "outputs": [
    {
     "name": "stdout",
     "output_type": "stream",
     "text": [
      "Frobenius norm of B_learn: 229.6210\n"
     ]
    }
   ],
   "source": [
    "print(f\"Frobenius norm of B_learn: {np.linalg.norm(B_learn, ord='fro'):.4f}\")"
   ]
  },
  {
   "attachments": {},
   "cell_type": "markdown",
   "metadata": {},
   "source": [
    "Plot gradients again, but this time, using the learned influence of inputs for the prediction"
   ]
  },
  {
   "cell_type": "code",
   "execution_count": 54,
   "metadata": {},
   "outputs": [],
   "source": [
    "plt.close('all')\n",
    "plot_reduced_coords = [0, 1, 2, 3, 4, 5]\n",
    "plot_reduction = \"all\"\n",
    "dxDt_ROM_with_B = Rauton(x_train_trunc) + B_learn @ utils.multivariate_polynomial(u_train_trunc, order=polyUorder)\n",
    "plot.reduced_coordinates_gradient(t_train_trunc, [dxDt[plot_reduced_coords, :], dxDt_ROM_with_B[plot_reduced_coords, :]], labels=[\"true numerical\", \"predicted with inputs\"], how=plot_reduction)"
   ]
  },
  {
   "cell_type": "code",
   "execution_count": 55,
   "metadata": {},
   "outputs": [],
   "source": [
    "# # home-brewed ridge regression\n",
    "# alpha = 0\n",
    "# X, y = U.T, (dXbarDt - dXbarDt_ROM).T\n",
    "# B_learn = np.linalg.solve(X.T @ X + alpha * np.eye(X.shape[0]), X.T @ y)"
   ]
  },
  {
   "attachments": {},
   "cell_type": "markdown",
   "metadata": {},
   "source": [
    "### Integrate model with inputs (big amplitude) -- and using learned influence of control"
   ]
  },
  {
   "attachments": {},
   "cell_type": "markdown",
   "metadata": {},
   "source": [
    "Try to predict the training trajectory using reduced dynamics"
   ]
  },
  {
   "cell_type": "code",
   "execution_count": 56,
   "metadata": {},
   "outputs": [
    {
     "name": "stdout",
     "output_type": "stream",
     "text": [
      "(6, 1002)\n"
     ]
    }
   ],
   "source": [
    "# Load the controls and actual trajectories for figure8\n",
    "u_test = np.loadtxt(\"../../system_data/u_big.csv\", delimiter=',').T\n",
    "z_test = np.loadtxt(\"../../system_data/z_big.csv\", delimiter=',').T\n",
    "z_eq_test = np.loadtxt(\"../../system_data/z_equilibrium.csv\", delimiter=',')\n",
    "print(z_test.shape)\n",
    "# tip position, normalized using resting position\n",
    "y_test = np.vstack([(z_test[3:, :].T - z_eq_test).T, z_test[:3, :]])\n",
    "# reduced coordinates\n",
    "x_test = Wauton(y_test)\n",
    "\n",
    "# original spacing of inputs\n",
    "T = 10.01\n",
    "dt = 0.01\n",
    "N = int(T / dt)\n",
    "t_test = np.linspace(0, T, N+1)\n",
    "\n",
    "slice_traj = np.s_[30:-20]\n",
    "t_test = t_test[slice_traj]\n",
    "u_test = u_test[:, slice_traj]\n",
    "x_test = x_test[:, slice_traj]\n",
    "z_test = z_test[:, slice_traj]"
   ]
  },
  {
   "cell_type": "code",
   "execution_count": 57,
   "metadata": {},
   "outputs": [],
   "source": [
    "uInterpFun = interp1d(t_test, u_test, axis=1, fill_value=\"extrapolate\")\n",
    "uFun = lambda t: uInterpFun(t).reshape(-1, 1)\n",
    "# print(t_test.shape, dxDt.shape)\n",
    "# dxDtInterpFun = interp1d(t_test, dxDt_ROM_with_B, axis=1, fill_value=\"extrapolate\")\n",
    "def R(t, y):\n",
    "    return Rauton(np.atleast_2d(y)) + B_learn @ utils.multivariate_polynomial(uFun(t), order=polyUorder)\n",
    "    # return dxDtInterpFun(t)\n",
    "\n",
    "# solve IVP of reduced dynamics using open-loop figure8 inputs\n",
    "sol = solve_ivp(R,\n",
    "                t_span=[t_test[0], t_test[-1]],\n",
    "                t_eval=t_test,\n",
    "                y0=x_test[:, 0], # np.zeros(2*rDOF),\n",
    "                method='RK45',\n",
    "                vectorized=True,\n",
    "                rtol=1e-3,\n",
    "                atol=1e-3)\n",
    "# resulting (predicted) open-loop trajectory in reduced coordinates\n",
    "xTraj = sol.y\n",
    "yTraj = Vauton(xTraj)\n",
    "zTraj = (yTraj[:3, :].T + z_eq_test).T\n",
    "\n",
    "plt.close('all')\n",
    "ax = plot.traj_3D_xyz(zTraj[outdofs[0], :],\n",
    "                      zTraj[outdofs[1], :],\n",
    "                      zTraj[outdofs[2], :], show=False)\n",
    "ax = plot.traj_3D_xyz(z_test[3, :],\n",
    "                      z_test[4, :],\n",
    "                      z_test[5, :], color=\"tab:orange\", ax=ax, show=False)\n",
    "ax.legend([\"Predicted trajectory\", \"Actual trajectory\"])\n",
    "plt.show()\n"
   ]
  },
  {
   "cell_type": "code",
   "execution_count": 58,
   "metadata": {},
   "outputs": [
    {
     "name": "stdout",
     "output_type": "stream",
     "text": [
      "RMSE = 0.7199\n"
     ]
    }
   ],
   "source": [
    "RMSE = np.sum(np.sqrt(np.mean((zTraj[0:3, :] - z_test[-3:])**2, axis=0))) / zTraj.shape[1]\n",
    "print(f\"RMSE = {RMSE:.4f}\")"
   ]
  },
  {
   "attachments": {},
   "cell_type": "markdown",
   "metadata": {},
   "source": [
    "## Save SSM model"
   ]
  },
  {
   "attachments": {},
   "cell_type": "markdown",
   "metadata": {},
   "source": [
    "Continuous model"
   ]
  },
  {
   "cell_type": "code",
   "execution_count": 61,
   "metadata": {},
   "outputs": [
    {
     "name": "stdout",
     "output_type": "stream",
     "text": [
      "(6, 83)\n"
     ]
    }
   ],
   "source": [
    "SSM_model = {'model': {}, 'params': {}}\n",
    "print(IMInfo['parametrization']['H'].shape)\n",
    "SSM_model['model']['w_coeff'] = IMInfo['parametrization']['H']\n",
    "SSM_model['model']['v_coeff'] = IMInfo['chart']['H']\n",
    "SSM_model['model']['r_coeff'] = RDInfo['reducedDynamics']['coefficients'] \n",
    "SSM_model['model']['B'] = B_learn # np.zeros_like(B_learn) # np.ones_like(B_learn)\n",
    "SSM_model['model']['V'] = V\n",
    "\n",
    "SSM_model['params']['SSM_order'] = SSMOrder\n",
    "SSM_model['params']['ROM_order'] = ROMOrder\n",
    "SSM_model['params']['state_dim'] = 2 * rDOF\n",
    "SSM_model['params']['input_dim'] = H.shape[1]\n",
    "SSM_model['params']['output_dim'] = 2 * oDOF\n",
    "SSM_model['params']['delays'] = 0\n",
    "SSM_model['params']['obs_dim'] = 6"
   ]
  },
  {
   "cell_type": "code",
   "execution_count": 60,
   "metadata": {},
   "outputs": [],
   "source": [
    "import pickle\n",
    "# save dictionary to person_data.pkl file\n",
    "with open('../../../soft-robot-control/examples/hardware/SSMmodels/SSM_model.pkl', 'wb') as f:\n",
    "    pickle.dump(SSM_model, f)"
   ]
  }
 ],
 "metadata": {
  "kernelspec": {
   "display_name": "soft",
   "language": "python",
   "name": "python3"
  },
  "language_info": {
   "codemirror_mode": {
    "name": "ipython",
    "version": 3
   },
   "file_extension": ".py",
   "mimetype": "text/x-python",
   "name": "python",
   "nbconvert_exporter": "python",
   "pygments_lexer": "ipython3",
   "version": "3.8.13"
  },
  "orig_nbformat": 4
 },
 "nbformat": 4,
 "nbformat_minor": 2
}
