{
 "cells": [
  {
   "attachments": {},
   "cell_type": "markdown",
   "metadata": {},
   "source": [
    "# SSMR: generate SSM model from trajectory data"
   ]
  },
  {
   "cell_type": "code",
   "execution_count": 1,
   "metadata": {},
   "outputs": [],
   "source": [
    "import numpy as np\n",
    "from scipy.io import loadmat"
   ]
  },
  {
   "cell_type": "code",
   "execution_count": 2,
   "metadata": {},
   "outputs": [],
   "source": [
    "%load_ext autoreload\n",
    "%autoreload 2\n",
    "%matplotlib qt\n",
    "import plot_utils as plot\n",
    "import matplotlib.pyplot as plt\n",
    "import utils as utils\n"
   ]
  },
  {
   "cell_type": "code",
   "execution_count": 3,
   "metadata": {},
   "outputs": [],
   "source": [
    "use_data = \"john\" # \"john\""
   ]
  },
  {
   "cell_type": "code",
   "execution_count": null,
   "metadata": {},
   "outputs": [],
   "source": [
    "import os\n",
    "import pickle"
   ]
  },
  {
   "cell_type": "code",
   "execution_count": null,
   "metadata": {},
   "outputs": [],
   "source": [
    "diamond_dir = \"../../../soft-robot-control/examples/diamond\"\n",
    "decayData_dir = os.path.join(diamond_dir, \"dataCollection/\")\n",
    "\n",
    "OUTPUT_NODE = 1354\n",
    "t_in = 1.2\n",
    "t_out = 3.0\n",
    "\n",
    "oData = []\n",
    "\n",
    "with open(os.path.join(diamond_dir, 'rest.pkl'), 'rb') as file:\n",
    "    q_rest = np.array(pickle.load(file)['rest'])\n",
    "\n",
    "print(q_rest)\n",
    "\n",
    "decayData_files = sorted([f for f in os.listdir(decayData_dir) if '.pkl' in f]) # [0:1]\n",
    "plt.close('all')\n",
    "\n",
    "for i, traj in enumerate(decayData_files):\n",
    "    with open(os.path.join(decayData_dir, traj), 'rb') as file:\n",
    "        data = pickle.load(file)\n",
    "\n",
    "    t = np.array(data['t'])\n",
    "    q_tip = (np.array(data['q'])[:, 3*OUTPUT_NODE:3*OUTPUT_NODE+3] - q_rest[3*OUTPUT_NODE:3*OUTPUT_NODE+3]).T\n",
    "    q_dot_tip = np.gradient(q_tip, axis=1)\n",
    "\n",
    "    # remove time until t_in\n",
    "    ind = (t_in <= t) & (t <= t_out)\n",
    "    t = t[ind] - t_in\n",
    "    q_tip = q_tip[:, ind]\n",
    "    q_dot_tip = q_dot_tip[:, ind]\n",
    "\n",
    "    oData_traj = np.vstack([q_tip, q_dot_tip])\n",
    "\n",
    "    oData.append([t, oData_traj])"
   ]
  },
  {
   "cell_type": "code",
   "execution_count": null,
   "metadata": {},
   "outputs": [],
   "source": [
    "oData[0][1].shape"
   ]
  },
  {
   "attachments": {},
   "cell_type": "markdown",
   "metadata": {},
   "source": [
    "## Import and inspect data\n",
    "See mat file in URL"
   ]
  },
  {
   "cell_type": "code",
   "execution_count": 4,
   "metadata": {},
   "outputs": [
    {
     "name": "stdout",
     "output_type": "stream",
     "text": [
      "nTRAJ: 52\n",
      "(4884, 4) (9768, 6) (4884, 4884)\n"
     ]
    }
   ],
   "source": [
    "dataDecayObs = loadmat(\"../dataDecayObs.mat\") # , simplify_cells=True)\n",
    "\n",
    "\n",
    "Data = {}\n",
    "if use_data == \"john\":\n",
    "    Data['oData'] = dataDecayObs['oData'].tolist()\n",
    "    Data['yData'] = dataDecayObs['yData'].tolist()\n",
    "    Xsnapshots = dataDecayObs['Xsnapshots']\n",
    "    for i in range(len(Data['oData'])):\n",
    "        Data['oData'][i][0] = Data['oData'][i][0].squeeze()\n",
    "        Data['yData'][i][0] = Data['yData'][i][0].squeeze()\n",
    "else: # use my data\n",
    "    Data['oData'] = oData\n",
    "\n",
    "H = np.array(dataDecayObs['H'])\n",
    "V = np.array(dataDecayObs['V'])\n",
    "M = np.array(dataDecayObs['M'])\n",
    "\n",
    "# oData = dataDecayObs['oData']\n",
    "# yData = dataDecayObs['yData']\n",
    "\n",
    "rDOF = 3\n",
    "oDOF = 3\n",
    "nTRAJ = len(Data['oData'])\n",
    "nDOF = len(Xsnapshots)//2\n",
    "\n",
    "print(\"nTRAJ:\", nTRAJ)\n",
    "print(H.shape, V.shape, M.shape)"
   ]
  },
  {
   "cell_type": "code",
   "execution_count": null,
   "metadata": {},
   "outputs": [],
   "source": [
    "Xsnapshots.shape"
   ]
  },
  {
   "cell_type": "code",
   "execution_count": null,
   "metadata": {},
   "outputs": [],
   "source": [
    "samples = 0\n",
    "for i in range(nTRAJ):\n",
    "    samples += Data['oData'][i][1].shape[1]\n",
    "    # print(Data['oData'][i][1].shape[1])\n",
    "print(samples)"
   ]
  },
  {
   "cell_type": "code",
   "execution_count": null,
   "metadata": {},
   "outputs": [],
   "source": [
    "print(V[:nDOF, :rDOF].shape)\n",
    "print(Data['oData'][0][1][:3, :].shape)\n",
    "test_y = V[:nDOF, :rDOF].T @ Data['oData'][0][1][:3, :]\n",
    "print(test_y.shape)\n",
    "print(np.allclose(test_y, Data['yData'][0][1]))"
   ]
  },
  {
   "attachments": {},
   "cell_type": "markdown",
   "metadata": {},
   "source": [
    "### Plot trajectories in an observable of interest"
   ]
  },
  {
   "cell_type": "code",
   "execution_count": 5,
   "metadata": {},
   "outputs": [],
   "source": [
    "outdofs = [0, 1, 2]\n",
    "plt.close('all')\n",
    "# plot trajectories in 3D [x, y, z] space\n",
    "plot.traj_3D(Data,\n",
    "             xyz_idx=[('oData', 0), ('oData', 1), ('oData', 2)],\n",
    "             xyz_names=[r'$x$', r'$y$', r'$z$'])\n",
    "# plot evolution of x, y and z in time, separately in 3 subplots\n",
    "plot.traj_xyz(Data,\n",
    "             xyz_idx=[('oData', 0), ('oData', 1), ('oData', 2)],\n",
    "             xyz_names=[r'$x$', r'$y$', r'$z$'])\n",
    "# plot trajectories in 3D [x, x_dot, z] space / NB: x_dot = v_x\n",
    "plot.traj_3D(Data,\n",
    "             xyz_idx=[('oData', 0), ('oData', 0+oDOF), ('oData', 2)],\n",
    "             xyz_names=[r'$x$', r'$\\dot{x}$', r'$z$'])"
   ]
  },
  {
   "attachments": {},
   "cell_type": "markdown",
   "metadata": {},
   "source": [
    "### Show PCA infos\n",
    "Modes were already computed to get yData"
   ]
  },
  {
   "cell_type": "code",
   "execution_count": null,
   "metadata": {},
   "outputs": [],
   "source": [
    "oData[0][1].shape"
   ]
  },
  {
   "attachments": {},
   "cell_type": "markdown",
   "metadata": {},
   "source": [
    "Compute reduced coordinates using delay embedding on the available oData"
   ]
  },
  {
   "cell_type": "code",
   "execution_count": 6,
   "metadata": {},
   "outputs": [
    {
     "ename": "TypeError",
     "evalue": "list indices must be integers or slices, not tuple",
     "output_type": "error",
     "traceback": [
      "\u001b[0;31m---------------------------------------------------------------------------\u001b[0m",
      "\u001b[0;31mTypeError\u001b[0m                                 Traceback (most recent call last)",
      "Cell \u001b[0;32mIn[6], line 2\u001b[0m\n\u001b[1;32m      1\u001b[0m \u001b[39m# Xsnapshots = np.zeros((15, nTRAJ*3000))\u001b[39;00m\n\u001b[0;32m----> 2\u001b[0m delay_embedded_oData \u001b[39m=\u001b[39m utils\u001b[39m.\u001b[39;49mdelayEmbedding(Data[\u001b[39m'\u001b[39;49m\u001b[39moData\u001b[39;49m\u001b[39m'\u001b[39;49m], up_to_delay\u001b[39m=\u001b[39;49m\u001b[39m4\u001b[39;49m)\n\u001b[1;32m      3\u001b[0m \u001b[39mprint\u001b[39m(\u001b[39mlen\u001b[39m(delay_embedded_oData))\n\u001b[1;32m      4\u001b[0m Xsnapshots \u001b[39m=\u001b[39m np\u001b[39m.\u001b[39mhstack([oData[\u001b[39m1\u001b[39m] \u001b[39mfor\u001b[39;00m oData \u001b[39min\u001b[39;00m delay_embedded_oData])\n",
      "File \u001b[0;32m~/Projects/stanford/SSMR-for-control/ROM/python/utils.py:111\u001b[0m, in \u001b[0;36mdelayEmbedding\u001b[0;34m(undelayedData, embed_coords, up_to_delay)\u001b[0m\n\u001b[1;32m    110\u001b[0m \u001b[39mdef\u001b[39;00m \u001b[39mdelayEmbedding\u001b[39m(undelayedData, embed_coords\u001b[39m=\u001b[39m[\u001b[39m0\u001b[39m, \u001b[39m1\u001b[39m, \u001b[39m2\u001b[39m], up_to_delay\u001b[39m=\u001b[39m\u001b[39m4\u001b[39m):    \n\u001b[0;32m--> 111\u001b[0m     undelayed \u001b[39m=\u001b[39m undelayedData[embed_coords, :]\n\u001b[1;32m    112\u001b[0m     buf \u001b[39m=\u001b[39m [undelayed]\n\u001b[1;32m    113\u001b[0m     \u001b[39mfor\u001b[39;00m delta \u001b[39min\u001b[39;00m \u001b[39mlist\u001b[39m(\u001b[39mrange\u001b[39m(\u001b[39m1\u001b[39m, up_to_delay\u001b[39m+\u001b[39m\u001b[39m1\u001b[39m)):\n",
      "\u001b[0;31mTypeError\u001b[0m: list indices must be integers or slices, not tuple"
     ]
    }
   ],
   "source": [
    "# Xsnapshots = np.zeros((15, nTRAJ*3000))\n",
    "delay_embedded_oData = utils.delayEmbedding(Data['oData'], up_to_delay=4)\n",
    "print(len(delay_embedded_oData))\n",
    "Xsnapshots = np.hstack([oData[1] for oData in delay_embedded_oData])\n",
    "print(Xsnapshots.shape)\n",
    "\n",
    "Data['oData'] = delay_embedded_oData"
   ]
  },
  {
   "cell_type": "code",
   "execution_count": 7,
   "metadata": {},
   "outputs": [
    {
     "name": "stdout",
     "output_type": "stream",
     "text": [
      "[10869.94869342  7618.54613271  6721.91306322  1052.58299256\n",
      "   756.67591794   593.53431604]\n",
      "[[ 1.44855228e-01  1.90729072e-01 -3.75664223e-01 -2.59277754e-01\n",
      "   3.27386535e-01  4.31010560e-01]\n",
      " [-9.41777671e-02  4.01846948e-01  1.67795833e-01  1.89858273e-01\n",
      "   5.05943253e-01 -2.64936856e-01]\n",
      " [ 4.10759347e-01  2.48130847e-02  1.71558212e-01 -5.09685699e-01\n",
      "   2.20865683e-02 -3.28987545e-01]\n",
      " [ 1.45795055e-01  1.92024607e-01 -3.77675613e-01 -1.58728324e-01\n",
      "   2.00168942e-01  2.67661344e-01]\n",
      " [-9.49353274e-02  4.04063521e-01  1.68769066e-01  1.16163040e-01\n",
      "   3.09991785e-01 -1.64377142e-01]\n",
      " [ 4.12845990e-01  2.49181015e-02  1.71819180e-01 -3.13434103e-01\n",
      "   1.36501594e-02 -1.92550755e-01]\n",
      " [ 1.46090860e-01  1.92565973e-01 -3.78294511e-01  3.57215386e-04\n",
      "  -3.88646203e-04  5.55478980e-03]\n",
      " [-9.52480363e-02  4.04746469e-01  1.69180567e-01 -5.46691521e-04\n",
      "   2.44031854e-04 -3.17069423e-03]\n",
      " [ 4.13536171e-01  2.50411995e-02  1.71936539e-01 -3.60890041e-04\n",
      "   9.51265272e-05  1.01704047e-02]\n",
      " [ 1.45743399e-01  1.92350796e-01 -3.77514417e-01  1.58973067e-01\n",
      "  -2.00754994e-01 -2.63674102e-01]\n",
      " [-9.51155821e-02  4.03891819e-01  1.69026983e-01 -1.16983279e-01\n",
      "  -3.09619464e-01  1.62376192e-01]\n",
      " [ 4.12822865e-01  2.51815694e-02  1.71918462e-01  3.13043252e-01\n",
      "  -1.36145295e-02  1.99605781e-01]\n",
      " [ 1.44757580e-01  1.91380722e-01 -3.75336598e-01  2.58256910e-01\n",
      "  -3.27464593e-01 -4.40159125e-01]\n",
      " [-9.45406724e-02  4.01504084e-01  1.68307946e-01 -1.89902853e-01\n",
      "  -5.05882079e-01  2.70596704e-01]\n",
      " [ 4.10710513e-01  2.53377391e-02  1.71772284e-01  5.10201938e-01\n",
      "  -2.23770547e-02  3.11813753e-01]]\n"
     ]
    },
    {
     "data": {
      "text/plain": [
       "6"
      ]
     },
     "execution_count": 7,
     "metadata": {},
     "output_type": "execute_result"
    }
   ],
   "source": [
    "# Perform SVD on displacement field\n",
    "# if use_data == \"mine\":\n",
    "from scipy.sparse.linalg import svds\n",
    "\n",
    "# Xsnapshots = np.hstack([oData_traj[1][:, :] for oData_traj in Data['oData']])\n",
    "# else:\n",
    "    # compute_uv = False\n",
    "# s = np.linalg.svd(Xsnapshots[0:nDOF, :], compute_uv=False)\n",
    "v, s, _ = svds(Xsnapshots, k=6, which=\"LM\")\n",
    "ind = np.argsort(s)[::-1]\n",
    "s = s[ind]\n",
    "v = v[:, ind]\n",
    "# v, s, _ = np.linalg.svd(Xsnapshots, compute_uv=True)\n",
    "print(s)\n",
    "print(v)\n",
    "l2vals = s**2\n",
    "len(l2vals)"
   ]
  },
  {
   "cell_type": "code",
   "execution_count": 8,
   "metadata": {},
   "outputs": [
    {
     "data": {
      "text/plain": [
       "(15, 6)"
      ]
     },
     "execution_count": 8,
     "metadata": {},
     "output_type": "execute_result"
    }
   ],
   "source": [
    "v.shape"
   ]
  },
  {
   "cell_type": "code",
   "execution_count": 9,
   "metadata": {},
   "outputs": [],
   "source": [
    "# Plot variance description: we expect three modes to capture almost all variance.\n",
    "# Note we assume data centered around the origin, which is the fixed point of our system.\n",
    "plt.close('all')\n",
    "plot.pca_modes(l2vals, up_to_mode=9)"
   ]
  },
  {
   "attachments": {},
   "cell_type": "markdown",
   "metadata": {},
   "source": [
    "## Project onto {SSMDim} dominant modes to obtain yData"
   ]
  },
  {
   "cell_type": "code",
   "execution_count": 10,
   "metadata": {},
   "outputs": [
    {
     "name": "stdout",
     "output_type": "stream",
     "text": [
      "(15, 3000) (15, 6)\n",
      "(6, 3000)\n"
     ]
    }
   ],
   "source": [
    "from copy import deepcopy\n",
    "yData = deepcopy(Data['oData'])\n",
    "SSMDim = 6\n",
    "Vde = v[:, :SSMDim]\n",
    "print(Data['oData'][0][1].shape, Vde.shape)\n",
    "for i in range(nTRAJ):\n",
    "    yData[i][1] = Vde.T @ Data['oData'][i][1]\n",
    "print(yData[0][1].shape)"
   ]
  },
  {
   "cell_type": "code",
   "execution_count": null,
   "metadata": {},
   "outputs": [],
   "source": [
    "# if use_data == \"mine\":\n",
    "Data['yData'] = yData"
   ]
  },
  {
   "attachments": {},
   "cell_type": "markdown",
   "metadata": {},
   "source": [
    "## Obtain reduced-order coordinates"
   ]
  },
  {
   "cell_type": "code",
   "execution_count": 11,
   "metadata": {},
   "outputs": [],
   "source": [
    "plt.close('all')\n",
    "# plot trajectories in 3D [x1_bar, x1_bar_dot, y] space\n",
    "plot.traj_3D(Data,\n",
    "             xyz_idx=[('yData', 0), ('yData', 0+rDOF), ('oData', 1)],\n",
    "             xyz_names=[r'$\\bar{x}_1$', r'$\\dot{\\bar{x}}_1$', r'$y$'])\n",
    "# plot evolution of x, y and z in time, separately in 3 subplots\n",
    "plot.traj_xyz(Data,\n",
    "              xyz_idx=[('yData', 0), ('yData', 1), ('yData', 2)],\n",
    "              xyz_names=[r'$u_1$', r'$u_2$', r'$u_3$'])"
   ]
  },
  {
   "attachments": {},
   "cell_type": "markdown",
   "metadata": {},
   "source": [
    "### Train and test data (train/test split)"
   ]
  },
  {
   "cell_type": "code",
   "execution_count": 12,
   "metadata": {},
   "outputs": [],
   "source": [
    "if use_data == \"john\":\n",
    "    indTest = [0, 2, 4, 6, 8, 10, 12, 14]\n",
    "    indTrain = [i for i in range(nTRAJ) if i not in indTest]\n",
    "else:\n",
    "    indTest = [0, 2, 4, 6, 8]\n",
    "    indTrain = [i for i in range(nTRAJ) if i not in indTest]"
   ]
  },
  {
   "attachments": {},
   "cell_type": "markdown",
   "metadata": {},
   "source": [
    "### Truncate trajectories"
   ]
  },
  {
   "cell_type": "code",
   "execution_count": 13,
   "metadata": {},
   "outputs": [],
   "source": [
    "t_interval = [0.14, 2.6]\n",
    "Data['oDataTrunc'] = utils.slice_trajectories(Data['oData'], t_interval)\n",
    "Data['yDataTrunc'] = utils.slice_trajectories(Data['yData'], t_interval)"
   ]
  },
  {
   "cell_type": "code",
   "execution_count": null,
   "metadata": {},
   "outputs": [],
   "source": [
    "print(Data['oDataTrunc'][0][0].shape)\n",
    "print(Data['oDataTrunc'][0][1].shape)"
   ]
  },
  {
   "attachments": {},
   "cell_type": "markdown",
   "metadata": {},
   "source": [
    "Visualize truncated trajectories"
   ]
  },
  {
   "cell_type": "code",
   "execution_count": 14,
   "metadata": {},
   "outputs": [],
   "source": [
    "plt.close('all')\n",
    "plot.traj_3D(Data,\n",
    "             xyz_idx=[('yDataTrunc', 0), ('yDataTrunc', 0+rDOF), ('oDataTrunc', 1)],\n",
    "             xyz_names=[r'$\\bar{x}_1$', r'$\\dot{\\bar{x}}_1$', r'$y$'])"
   ]
  },
  {
   "cell_type": "code",
   "execution_count": 15,
   "metadata": {},
   "outputs": [],
   "source": [
    "plt.close('all')"
   ]
  },
  {
   "attachments": {},
   "cell_type": "markdown",
   "metadata": {},
   "source": [
    "## Use Matlab engine to evoke SSMLearn"
   ]
  },
  {
   "attachments": {},
   "cell_type": "markdown",
   "metadata": {},
   "source": [
    "Start Matlab engine and install/run SSMLearn"
   ]
  },
  {
   "cell_type": "code",
   "execution_count": 16,
   "metadata": {},
   "outputs": [
    {
     "name": "stdout",
     "output_type": "stream",
     "text": [
      "SSMLearn: Data-driven Reduced Order Models for Nonlinear Dynamical Systems\n",
      "Maintained by Mattia Cenedese (mattiac@ethz.ch) and Joar Ax\u001as (jgoeransson@ethz.ch)\n",
      "License: GNUv3.0\n",
      "Warning: Name is nonexistent or not a directory: /home/jonas/Projects/stanford/SSMR-for-control/modal_trajectory_data/check_model\n",
      "> In path (line 109)\n",
      "In addpath (line 86)\n",
      "In install (line 20)\n"
     ]
    },
    {
     "data": {
      "text/plain": [
       "'/home/jonas/Projects/stanford/SSMR-for-control'"
      ]
     },
     "execution_count": 16,
     "metadata": {},
     "output_type": "execute_result"
    }
   ],
   "source": [
    "import matlab.engine\n",
    "eng = matlab.engine.start_matlab()\n",
    "eng.cd(\"../..\", nargout=0)\n",
    "eng.install(nargout=0)\n",
    "eng.cd(\"ROM/\")"
   ]
  },
  {
   "attachments": {},
   "cell_type": "markdown",
   "metadata": {},
   "source": [
    "Bring data in a format that is accepted by the (slightly modified) version of SSMLearn (requires a specific cell array structure for input data)"
   ]
  },
  {
   "cell_type": "code",
   "execution_count": 17,
   "metadata": {},
   "outputs": [],
   "source": [
    "# make data ready for Matlab\n",
    "oDataTruncTrain_matlab = [[], []]\n",
    "yDataTruncTrain_matlab = [[], []]\n",
    "for i in indTrain:\n",
    "    oDataTruncTrain_matlab[0].append(matlab.double(initializer=Data['oDataTrunc'][i][0].tolist()))\n",
    "    oDataTruncTrain_matlab[1].append(matlab.double(initializer=Data['oDataTrunc'][i][1].tolist()))\n",
    "    yDataTruncTrain_matlab[0].append(matlab.double(initializer=Data['yDataTrunc'][i][0].tolist()))\n",
    "    yDataTruncTrain_matlab[1].append(matlab.double(initializer=Data['yDataTrunc'][i][1].tolist()))\n"
   ]
  },
  {
   "attachments": {},
   "cell_type": "markdown",
   "metadata": {},
   "source": [
    "### Learn geometry of the SSM"
   ]
  },
  {
   "attachments": {},
   "cell_type": "markdown",
   "metadata": {},
   "source": [
    "Find parametrization of SSM using SSMLearn"
   ]
  },
  {
   "cell_type": "code",
   "execution_count": 18,
   "metadata": {},
   "outputs": [
    {
     "name": "stdout",
     "output_type": "stream",
     "text": [
      "Data seems to have been fed from Python!\n",
      "Data seems to have been fed from Python!\n",
      "Warning: Matrix is close to singular or badly scaled. Results may be inaccurate. RCOND =  7.187320e-18.\n",
      "> In ridgeRegression (line 28)\n",
      "In IMGeometry (line 109)\n",
      "\n"
     ]
    }
   ],
   "source": [
    "SSMDim = 2*rDOF\n",
    "obsDim = 2*oDOF\n",
    "SSMOrder = 3\n",
    "\n",
    "IMInfo = eng.IMGeometry(oDataTruncTrain_matlab, SSMDim, SSMOrder,\n",
    "                        'reducedCoordinates', yDataTruncTrain_matlab)\n",
    "IMInfoInv = eng.IMGeometry(yDataTruncTrain_matlab, obsDim, SSMOrder,\n",
    "                           'reducedCoordinates', oDataTruncTrain_matlab)\n"
   ]
  },
  {
   "cell_type": "code",
   "execution_count": null,
   "metadata": {},
   "outputs": [],
   "source": [
    "IMInfo"
   ]
  },
  {
   "attachments": {},
   "cell_type": "markdown",
   "metadata": {},
   "source": [
    "### Learn dynamics on the SSM (reduced dynamics)"
   ]
  },
  {
   "attachments": {},
   "cell_type": "markdown",
   "metadata": {},
   "source": [
    "Find parametrization of reduced dynamics using SSMLearn"
   ]
  },
  {
   "cell_type": "code",
   "execution_count": 19,
   "metadata": {},
   "outputs": [
    {
     "name": "stdout",
     "output_type": "stream",
     "text": [
      "Data seems to have been fed from Python!\n",
      "Estimation of the reduced dynamics... \n",
      "\b Done. \n"
     ]
    },
    {
     "data": {
      "text/plain": [
       "3.0"
      ]
     },
     "execution_count": 19,
     "metadata": {},
     "output_type": "execute_result"
    }
   ],
   "source": [
    "ROMOrder = 3\n",
    "RDInfo = eng.IMDynamicsFlow(yDataTruncTrain_matlab, 'R_PolyOrd', ROMOrder, 'style', 'default')\n",
    "# RDInfo['eigenvaluesLinPartFlow'][0:3]\n",
    "RDInfo['conjugateDynamics']['polynomialOrder']"
   ]
  },
  {
   "attachments": {},
   "cell_type": "markdown",
   "metadata": {},
   "source": [
    "Stop Matlab engine -- not needed anymore"
   ]
  },
  {
   "cell_type": "code",
   "execution_count": 20,
   "metadata": {},
   "outputs": [],
   "source": [
    "eng.quit()"
   ]
  },
  {
   "attachments": {},
   "cell_type": "markdown",
   "metadata": {},
   "source": [
    "## Analyze the obtained mappings of SSM geometry and reduced dynamics"
   ]
  },
  {
   "attachments": {},
   "cell_type": "markdown",
   "metadata": {},
   "source": [
    "### SSM geometry (parametrization)"
   ]
  },
  {
   "cell_type": "code",
   "execution_count": 21,
   "metadata": {},
   "outputs": [],
   "source": [
    "oRec = {}\n",
    "errorGeo = {}\n",
    "meanErrorGeo = {}"
   ]
  },
  {
   "attachments": {},
   "cell_type": "markdown",
   "metadata": {},
   "source": [
    "#### Train error"
   ]
  },
  {
   "cell_type": "code",
   "execution_count": 22,
   "metadata": {},
   "outputs": [
    {
     "name": "stdout",
     "output_type": "stream",
     "text": [
      "Average parametrization train error: 0.0725\n"
     ]
    }
   ],
   "source": [
    "oRec['Train'] = utils.lift_trajectories(IMInfo, [Data['yDataTrunc'][i] for i in indTrain])\n",
    "errorGeo['Train'] = utils.compute_trajectory_errors(oRec['Train'], [Data['oDataTrunc'][i] for i in indTrain])[0] * 100\n",
    "\n",
    "meanErrorGeo['Train'] = np.mean(errorGeo['Train'])\n",
    "print(f\"Average parametrization train error: {meanErrorGeo['Train']:.4f}\")"
   ]
  },
  {
   "attachments": {},
   "cell_type": "markdown",
   "metadata": {},
   "source": [
    "#### Test error"
   ]
  },
  {
   "cell_type": "code",
   "execution_count": 23,
   "metadata": {},
   "outputs": [
    {
     "name": "stdout",
     "output_type": "stream",
     "text": [
      "Average parametrization test error: 0.0716\n"
     ]
    }
   ],
   "source": [
    "oRec['Test'] = utils.lift_trajectories(IMInfo, [Data['yDataTrunc'][i] for i in indTest])\n",
    "errorGeo['Test'] = utils.compute_trajectory_errors(oRec['Test'], [Data['oDataTrunc'][i] for i in indTest])[0] * 100\n",
    "\n",
    "meanErrorGeo['Test'] = np.mean(errorGeo['Test'])\n",
    "print(f\"Average parametrization test error: {meanErrorGeo['Test']:.4f}\")"
   ]
  },
  {
   "attachments": {},
   "cell_type": "markdown",
   "metadata": {},
   "source": [
    "Plot comparison of SSM-predicted vs. actual test trajectories"
   ]
  },
  {
   "cell_type": "code",
   "execution_count": 24,
   "metadata": {},
   "outputs": [],
   "source": [
    "plt.close('all')\n",
    "axs = plot.traj_xyz(Data,\n",
    "                    xyz_idx=[('oData', 0), ('oData', 1), ('oData', 2)],\n",
    "                    xyz_names=[r'$x$', r'$y$', r'$z$'],\n",
    "                    traj_idx=indTest,\n",
    "                    show=False)\n",
    "plot.traj_xyz(oRec,\n",
    "              xyz_idx=[('Test', 0), ('Test', 1), ('Test', 2)],\n",
    "              xyz_names=[r'$x$', r'$y$', r'$z$'],\n",
    "              axs=axs, ls=':', color='darkblue')"
   ]
  },
  {
   "attachments": {},
   "cell_type": "markdown",
   "metadata": {},
   "source": [
    "### SSM geometry (chart)"
   ]
  },
  {
   "cell_type": "code",
   "execution_count": 25,
   "metadata": {},
   "outputs": [],
   "source": [
    "yRec = {}"
   ]
  },
  {
   "cell_type": "code",
   "execution_count": 30,
   "metadata": {},
   "outputs": [
    {
     "data": {
      "text/plain": [
       "(6, 83)"
      ]
     },
     "execution_count": 30,
     "metadata": {},
     "output_type": "execute_result"
    }
   ],
   "source": [
    "IMInfoInv\n",
    "np.array(IMInfoInv['parametrization']['H']).shape"
   ]
  },
  {
   "cell_type": "code",
   "execution_count": 31,
   "metadata": {},
   "outputs": [
    {
     "data": {
      "text/plain": [
       "(15, 83)"
      ]
     },
     "execution_count": 31,
     "metadata": {},
     "output_type": "execute_result"
    }
   ],
   "source": [
    "IMInfo\n",
    "np.array(IMInfo['parametrization']['H']).shape"
   ]
  },
  {
   "attachments": {},
   "cell_type": "markdown",
   "metadata": {},
   "source": [
    "#### Train error"
   ]
  },
  {
   "cell_type": "code",
   "execution_count": 26,
   "metadata": {},
   "outputs": [
    {
     "ename": "ValueError",
     "evalue": "matmul: Input operand 1 has a mismatch in its core dimension 0, with gufunc signature (n?,k),(k,m?)->(n?,m?) (size 815 is different from 83)",
     "output_type": "error",
     "traceback": [
      "\u001b[0;31m---------------------------------------------------------------------------\u001b[0m",
      "\u001b[0;31mValueError\u001b[0m                                Traceback (most recent call last)",
      "Cell \u001b[0;32mIn[26], line 1\u001b[0m\n\u001b[0;32m----> 1\u001b[0m yRec[\u001b[39m'\u001b[39m\u001b[39mCTrain\u001b[39m\u001b[39m'\u001b[39m] \u001b[39m=\u001b[39m utils\u001b[39m.\u001b[39;49mlift_trajectories(IMInfoInv, [Data[\u001b[39m'\u001b[39;49m\u001b[39moDataTrunc\u001b[39;49m\u001b[39m'\u001b[39;49m][i] \u001b[39mfor\u001b[39;49;00m i \u001b[39min\u001b[39;49;00m indTrain])\n\u001b[1;32m      2\u001b[0m errorGeo[\u001b[39m'\u001b[39m\u001b[39mCTrain\u001b[39m\u001b[39m'\u001b[39m] \u001b[39m=\u001b[39m utils\u001b[39m.\u001b[39mcompute_trajectory_errors(yRec[\u001b[39m'\u001b[39m\u001b[39mCTrain\u001b[39m\u001b[39m'\u001b[39m], [Data[\u001b[39m'\u001b[39m\u001b[39myDataTrunc\u001b[39m\u001b[39m'\u001b[39m][i] \u001b[39mfor\u001b[39;00m i \u001b[39min\u001b[39;00m indTrain])[\u001b[39m0\u001b[39m] \u001b[39m*\u001b[39m \u001b[39m100\u001b[39m\n\u001b[1;32m      4\u001b[0m meanErrorGeo[\u001b[39m'\u001b[39m\u001b[39mCTrain\u001b[39m\u001b[39m'\u001b[39m] \u001b[39m=\u001b[39m np\u001b[39m.\u001b[39mmean(errorGeo[\u001b[39m'\u001b[39m\u001b[39mCTrain\u001b[39m\u001b[39m'\u001b[39m])\n",
      "File \u001b[0;32m~/Projects/stanford/SSMR-for-control/ROM/python/utils.py:32\u001b[0m, in \u001b[0;36mlift_trajectories\u001b[0;34m(IMInfo, etaData)\u001b[0m\n\u001b[1;32m     30\u001b[0m phi \u001b[39m=\u001b[39m \u001b[39mlambda\u001b[39;00m x: multivariate_polynomial(x, SSMOrder)\n\u001b[1;32m     31\u001b[0m \u001b[39mmap\u001b[39m \u001b[39m=\u001b[39m \u001b[39mlambda\u001b[39;00m x: H \u001b[39m@\u001b[39m phi(x)\n\u001b[0;32m---> 32\u001b[0m \u001b[39mreturn\u001b[39;00m transform_trajectories(\u001b[39mmap\u001b[39;49m, etaData)\n",
      "File \u001b[0;32m~/Projects/stanford/SSMR-for-control/ROM/python/utils.py:40\u001b[0m, in \u001b[0;36mtransform_trajectories\u001b[0;34m(map, inData)\u001b[0m\n\u001b[1;32m     37\u001b[0m outData \u001b[39m=\u001b[39m deepcopy(inData)\n\u001b[1;32m     38\u001b[0m \u001b[39mfor\u001b[39;00m i \u001b[39min\u001b[39;00m \u001b[39mrange\u001b[39m(nTraj):\n\u001b[1;32m     39\u001b[0m     \u001b[39m# outData[0][i] = inData[0][i];\u001b[39;00m\n\u001b[0;32m---> 40\u001b[0m     outData[i][\u001b[39m1\u001b[39m] \u001b[39m=\u001b[39m \u001b[39mmap\u001b[39;49m(inData[i][\u001b[39m1\u001b[39;49m])\n\u001b[1;32m     41\u001b[0m \u001b[39mreturn\u001b[39;00m outData\n",
      "File \u001b[0;32m~/Projects/stanford/SSMR-for-control/ROM/python/utils.py:31\u001b[0m, in \u001b[0;36mlift_trajectories.<locals>.<lambda>\u001b[0;34m(x)\u001b[0m\n\u001b[1;32m     29\u001b[0m SSMOrder \u001b[39m=\u001b[39m IMInfo[\u001b[39m'\u001b[39m\u001b[39mparametrization\u001b[39m\u001b[39m'\u001b[39m][\u001b[39m'\u001b[39m\u001b[39mpolynomialOrder\u001b[39m\u001b[39m'\u001b[39m]\n\u001b[1;32m     30\u001b[0m phi \u001b[39m=\u001b[39m \u001b[39mlambda\u001b[39;00m x: multivariate_polynomial(x, SSMOrder)\n\u001b[0;32m---> 31\u001b[0m \u001b[39mmap\u001b[39m \u001b[39m=\u001b[39m \u001b[39mlambda\u001b[39;00m x: H \u001b[39m@\u001b[39;49m phi(x)\n\u001b[1;32m     32\u001b[0m \u001b[39mreturn\u001b[39;00m transform_trajectories(\u001b[39mmap\u001b[39m, etaData)\n",
      "\u001b[0;31mValueError\u001b[0m: matmul: Input operand 1 has a mismatch in its core dimension 0, with gufunc signature (n?,k),(k,m?)->(n?,m?) (size 815 is different from 83)"
     ]
    }
   ],
   "source": [
    "yRec['CTrain'] = utils.lift_trajectories(IMInfoInv, [Data['oDataTrunc'][i] for i in indTrain])\n",
    "errorGeo['CTrain'] = utils.compute_trajectory_errors(yRec['CTrain'], [Data['yDataTrunc'][i] for i in indTrain])[0] * 100\n",
    "\n",
    "meanErrorGeo['CTrain'] = np.mean(errorGeo['CTrain'])\n",
    "print(f\"Average chart train error: {meanErrorGeo['CTrain']:.4f}\")"
   ]
  },
  {
   "attachments": {},
   "cell_type": "markdown",
   "metadata": {},
   "source": [
    "#### Test error"
   ]
  },
  {
   "cell_type": "code",
   "execution_count": null,
   "metadata": {},
   "outputs": [],
   "source": [
    "yRec['CTest'] = utils.lift_trajectories(IMInfoInv, [Data['oDataTrunc'][i] for i in indTest])\n",
    "errorGeo['CTest'] = utils.compute_trajectory_errors(yRec['CTest'], [Data['yDataTrunc'][i] for i in indTest])[0] * 100\n",
    "\n",
    "meanErrorGeo['CTest'] = np.mean(errorGeo['CTest'])\n",
    "print(f\"Average chart test error: {meanErrorGeo['CTest']:.4f}\")"
   ]
  },
  {
   "attachments": {},
   "cell_type": "markdown",
   "metadata": {},
   "source": [
    "Plot comparison of SSM-predicted vs. actual test trajectories"
   ]
  },
  {
   "cell_type": "code",
   "execution_count": null,
   "metadata": {},
   "outputs": [],
   "source": [
    "plt.close('all')\n",
    "axs = plot.traj_xyz(Data,\n",
    "                    xyz_idx=[('yData', 0), ('yData', 1), ('yData', 2)],\n",
    "                    xyz_names=[r'$x$', r'$y$', r'$z$'],\n",
    "                    traj_idx=indTest,\n",
    "                    show=False)\n",
    "plot.traj_xyz(yRec,\n",
    "              xyz_idx=[('CTest', 0), ('CTest', 1), ('CTest', 2)],\n",
    "              xyz_names=[r'$u_1$', r'$u_2$', r'$u_3$'],\n",
    "              axs=axs, ls=':', color='darkblue')"
   ]
  },
  {
   "attachments": {},
   "cell_type": "markdown",
   "metadata": {},
   "source": [
    "Store map in the same variables"
   ]
  },
  {
   "cell_type": "code",
   "execution_count": null,
   "metadata": {},
   "outputs": [],
   "source": [
    "for key in ['map', 'polynomialOrder', 'dimension', 'nonlinearCoefficients', 'phi', 'exponents', 'H']:\n",
    "    IMInfo['chart'][key] = IMInfoInv['parametrization'][key]"
   ]
  },
  {
   "attachments": {},
   "cell_type": "markdown",
   "metadata": {},
   "source": [
    "### Reduced dynamics"
   ]
  },
  {
   "cell_type": "code",
   "execution_count": 32,
   "metadata": {},
   "outputs": [
    {
     "name": "stdout",
     "output_type": "stream",
     "text": [
      "Average dynamics train error: 1.8632\n",
      "Average dynamics test error: 0.7939\n"
     ]
    }
   ],
   "source": [
    "yRec['RD'] = utils.advectRD(RDInfo, Data['yDataTrunc'])[0]\n",
    "meanErrorDyn = {}\n",
    "\n",
    "normedTrajDist = utils.compute_trajectory_errors(yRec['RD'], Data['yDataTrunc'])[0]\n",
    "meanErrorDyn['Train'] = np.mean(normedTrajDist[indTrain]) * 100\n",
    "meanErrorDyn['Test'] = np.mean(normedTrajDist[indTest]) * 100\n",
    "\n",
    "print(f\"Average dynamics train error: {meanErrorDyn['Train']:.4f}\")\n",
    "print(f\"Average dynamics test error: {meanErrorDyn['Test']:.4f}\")"
   ]
  },
  {
   "cell_type": "code",
   "execution_count": 33,
   "metadata": {},
   "outputs": [],
   "source": [
    "plot_all = False\n",
    "if plot_all:\n",
    "    vPlot = range(nTRAJ)\n",
    "else:\n",
    "    vPlot = indTest\n",
    "\n",
    "plt.close('all')\n",
    "axs = plot.traj_xyz(Data,\n",
    "                    xyz_idx=[('yData', 0), ('yData', 1), ('yData', 2)],\n",
    "                    xyz_names=[r'$u_1$', r'$u_2$', r'$u_3$'],\n",
    "                    traj_idx=vPlot,\n",
    "                    show=False)\n",
    "plot.traj_xyz(yRec,\n",
    "              xyz_idx=[('RD', 0), ('RD', 1), ('RD', 2)],\n",
    "              xyz_names=[r'$u_1$', r'$u_2$', r'$u_3$'],\n",
    "              traj_idx=vPlot,\n",
    "              axs=axs, ls=':', color='darkblue')\n"
   ]
  },
  {
   "attachments": {},
   "cell_type": "markdown",
   "metadata": {},
   "source": [
    "### Global error"
   ]
  },
  {
   "cell_type": "code",
   "execution_count": 34,
   "metadata": {},
   "outputs": [],
   "source": [
    "errorGlo = {}\n",
    "meanErrorGlo = {}"
   ]
  },
  {
   "attachments": {},
   "cell_type": "markdown",
   "metadata": {},
   "source": [
    "#### Train error"
   ]
  },
  {
   "cell_type": "code",
   "execution_count": 35,
   "metadata": {},
   "outputs": [
    {
     "name": "stdout",
     "output_type": "stream",
     "text": [
      "Average global train error: 1.0815\n"
     ]
    }
   ],
   "source": [
    "oRec['RDTrain'] = utils.lift_trajectories(IMInfo, [yRec['RD'][i] for i in indTrain])\n",
    "errorGlo['Train'] = utils.compute_trajectory_errors(oRec['RDTrain'], [Data['oDataTrunc'][i] for i in indTrain])[0] * 100\n",
    "\n",
    "meanErrorGlo['Train'] = np.mean(errorGlo['Train'])\n",
    "print(f\"Average global train error: {meanErrorGlo['Train']:.4f}\")"
   ]
  },
  {
   "attachments": {},
   "cell_type": "markdown",
   "metadata": {},
   "source": [
    "#### Test error"
   ]
  },
  {
   "cell_type": "code",
   "execution_count": 36,
   "metadata": {},
   "outputs": [
    {
     "name": "stdout",
     "output_type": "stream",
     "text": [
      "Average global test error: 0.7062\n"
     ]
    }
   ],
   "source": [
    "oRec['RDTest'] = utils.lift_trajectories(IMInfo, [yRec['RD'][i] for i in indTest])\n",
    "errorGlo['Test'] = utils.compute_trajectory_errors(oRec['RDTest'], [Data['oDataTrunc'][i] for i in indTest])[0] * 100\n",
    "\n",
    "meanErrorGlo['Test'] = np.mean(errorGlo['Test'])\n",
    "print(f\"Average global test error: {meanErrorGlo['Test']:.4f}\")"
   ]
  },
  {
   "cell_type": "code",
   "execution_count": 37,
   "metadata": {},
   "outputs": [],
   "source": [
    "plt.close('all')\n",
    "axs = plot.traj_xyz(Data,\n",
    "                    xyz_idx=[('oData', 0), ('oData', 1), ('oData', 2)],\n",
    "                    xyz_names=[r'$x$', r'$y$', r'$z$'],\n",
    "                    traj_idx=indTest,\n",
    "                    show=False)\n",
    "plot.traj_xyz(oRec,\n",
    "              xyz_idx=[('RDTest', 0), ('RDTest', 1), ('RDTest', 2)],\n",
    "              xyz_names=[r'$x$', r'$y$', r'$z$'],\n",
    "              axs=axs, ls=':', color='darkblue')"
   ]
  },
  {
   "cell_type": "code",
   "execution_count": null,
   "metadata": {},
   "outputs": [],
   "source": [
    "RDInfo['reducedDynamics']['coefficients']"
   ]
  },
  {
   "attachments": {},
   "cell_type": "markdown",
   "metadata": {},
   "source": [
    "### Understand which mode is responsible for what motion"
   ]
  },
  {
   "cell_type": "code",
   "execution_count": 38,
   "metadata": {},
   "outputs": [
    {
     "name": "stdout",
     "output_type": "stream",
     "text": [
      "[351.48229067 293.93793445 306.45403062]\n"
     ]
    },
    {
     "data": {
      "text/plain": [
       "array([[ 0.03813484,  0.01939068, -0.01825275],\n",
       "       [ 0.01420079, -0.04024069, -0.00616473],\n",
       "       [ 0.02167104,  0.00492282,  0.04446898]])"
      ]
     },
     "execution_count": 38,
     "metadata": {},
     "output_type": "execute_result"
    }
   ],
   "source": [
    "outdofsMat = np.zeros((3, 2*nDOF))\n",
    "output_node = 1354\n",
    "outdofsPS = 3 * output_node + np.array([0, 1, 2])\n",
    "for i in range(3):\n",
    "    outdofsMat[i, outdofsPS[i]] = 1\n",
    "\n",
    "redDynLinearPart = np.array(RDInfo['reducedDynamics']['coefficients'])[:, :2*rDOF]\n",
    "redStiffnessMat = -redDynLinearPart[rDOF:, :rDOF]\n",
    "\n",
    "w2, UconsRedDyn = np.linalg.eig(redStiffnessMat)\n",
    "sorted_idx = np.argsort(w2)\n",
    "print(w2)\n",
    "consFreqs, UconsRedDyn = np.diag(np.sqrt(w2[sorted_idx])), UconsRedDyn[:, sorted_idx]\n",
    "\n",
    "Ucons = np.kron(np.eye(2), UconsRedDyn)\n",
    "Vcons = V @ Ucons\n",
    "\n",
    "modesDir = outdofsMat @ Vcons[:, :rDOF]\n",
    "modesFreq = np.abs(RDInfo['eigenvaluesLinPartFlow']).flatten()[:3]\n",
    "\n",
    "plt.close('all')\n",
    "plot.mode_direction(modesDir, modesFreq)\n",
    "modesDir"
   ]
  },
  {
   "attachments": {},
   "cell_type": "markdown",
   "metadata": {},
   "source": [
    "## Control"
   ]
  },
  {
   "attachments": {},
   "cell_type": "markdown",
   "metadata": {},
   "source": [
    "$H_{red} = V^TM^{-1}H$"
   ]
  },
  {
   "cell_type": "code",
   "execution_count": 39,
   "metadata": {},
   "outputs": [],
   "source": [
    "Hred = V[:nDOF, :rDOF].T @ np.linalg.solve(M, H)\n",
    "\n",
    "normsModalForcing = np.mean(Hred**2, axis=0)\n",
    "normsNonModalforcing = np.mean(((np.eye(nDOF) - V[:nDOF, :rDOF] @ V[:nDOF,:rDOF].T) @ np.linalg.solve(M, H)) ** 2, axis=0)"
   ]
  },
  {
   "cell_type": "code",
   "execution_count": 40,
   "metadata": {},
   "outputs": [
    {
     "data": {
      "text/plain": [
       "array([3616.45209364, 3685.11835952, 2706.933674  , 3629.53852193])"
      ]
     },
     "execution_count": 40,
     "metadata": {},
     "output_type": "execute_result"
    }
   ],
   "source": [
    "normsModalForcing"
   ]
  },
  {
   "cell_type": "code",
   "execution_count": 41,
   "metadata": {},
   "outputs": [
    {
     "data": {
      "text/plain": [
       "array([1874.58976771, 1541.09869231, 1333.69786275, 1201.55627627])"
      ]
     },
     "execution_count": 41,
     "metadata": {},
     "output_type": "execute_result"
    }
   ],
   "source": [
    "normsNonModalforcing"
   ]
  },
  {
   "attachments": {},
   "cell_type": "markdown",
   "metadata": {},
   "source": [
    "### Setup model for control"
   ]
  },
  {
   "cell_type": "code",
   "execution_count": 42,
   "metadata": {},
   "outputs": [],
   "source": [
    "from scipy.integrate import solve_ivp\n",
    "from scipy.interpolate import interp1d "
   ]
  },
  {
   "cell_type": "code",
   "execution_count": 43,
   "metadata": {},
   "outputs": [
    {
     "ename": "KeyError",
     "evalue": "'H'",
     "output_type": "error",
     "traceback": [
      "\u001b[0;31m---------------------------------------------------------------------------\u001b[0m",
      "\u001b[0;31mKeyError\u001b[0m                                  Traceback (most recent call last)",
      "Cell \u001b[0;32mIn[43], line 2\u001b[0m\n\u001b[1;32m      1\u001b[0m np\u001b[39m.\u001b[39marray(IMInfo[\u001b[39m'\u001b[39m\u001b[39mparametrization\u001b[39m\u001b[39m'\u001b[39m][\u001b[39m'\u001b[39m\u001b[39mH\u001b[39m\u001b[39m'\u001b[39m])\u001b[39m.\u001b[39mshape\n\u001b[0;32m----> 2\u001b[0m np\u001b[39m.\u001b[39marray(IMInfo[\u001b[39m'\u001b[39;49m\u001b[39mchart\u001b[39;49m\u001b[39m'\u001b[39;49m][\u001b[39m'\u001b[39;49m\u001b[39mH\u001b[39;49m\u001b[39m'\u001b[39;49m])\u001b[39m.\u001b[39mshape\n",
      "\u001b[0;31mKeyError\u001b[0m: 'H'"
     ]
    }
   ],
   "source": [
    "np.array(IMInfo['parametrization']['H']).shape\n",
    "np.array(IMInfo['chart']['H']).shape"
   ]
  },
  {
   "cell_type": "code",
   "execution_count": 137,
   "metadata": {},
   "outputs": [],
   "source": [
    "Rauton = utils.Rauton(RDInfo)\n",
    "C = lambda x: IMInfo['parametrization']['H'] @ utils.multivariate_polynomial(x, IMInfo['parametrization']['polynomialOrder'])\n",
    "W = lambda x: IMInfo['chart']['H'] @ utils.multivariate_polynomial(x, IMInfo['chart']['polynomialOrder'])"
   ]
  },
  {
   "attachments": {},
   "cell_type": "markdown",
   "metadata": {},
   "source": [
    "Small example"
   ]
  },
  {
   "cell_type": "code",
   "execution_count": 138,
   "metadata": {},
   "outputs": [
    {
     "name": "stdout",
     "output_type": "stream",
     "text": [
      "0.0\n",
      "0.0\n",
      "13.931243309570654\n",
      "0.0\n",
      "0.928156452349539\n",
      "0.192747031483198\n",
      "0.0\n",
      "0.05826362142622365\n",
      "0.046217503304057106\n",
      "0.0\n",
      "0.0036424762332300715\n",
      "0.0\n",
      "0.00190233904013724\n",
      "0.0036622375966743844\n",
      "0.005464227569526993\n",
      "0.015918025934738605\n",
      "0.015714085715573332\n",
      "0.0324249186367721\n",
      "0.03201697954799346\n",
      "0.05377756968793556\n",
      "0.053283243985518224\n",
      "0.12455360318835618\n",
      "0.12259894110640614\n",
      "0.19721986745595396\n",
      "0.19770066426089658\n",
      "0.2636432560466361\n",
      "0.26418917798220476\n",
      "0.30582384170935983\n",
      "0.3081438781758471\n",
      "0.31194076392185555\n",
      "0.3119357567444737\n",
      "0.31483570174787645\n",
      "0.31485302199543547\n",
      "0.31738867132712967\n",
      "0.3173883386145724\n",
      "0.31966702040790246\n",
      "0.31966740025324736\n",
      "0.32151562814241236\n",
      "0.3215167280404704\n",
      "0.3229384989594017\n",
      "0.32294032974529147\n",
      "0.32387777458541506\n",
      "0.32387984279724114\n",
      "0.32446531040258575\n",
      "0.32446780754231463\n",
      "0.3247076000209288\n",
      "0.32471056649600955\n",
      "0.32374538503380884\n",
      "0.323786804150253\n",
      "0.32067406783858926\n",
      "0.32074600300633754\n",
      "0.31568313064362186\n",
      "0.31577185031202054\n",
      "0.3028134739271701\n",
      "0.30323662528858625\n",
      "0.2862591361811128\n",
      "0.2868515333977001\n",
      "0.2672833241040957\n",
      "0.26793135535479523\n",
      "0.21731159314594967\n",
      "0.21905813513351668\n",
      "0.18281383916983118\n",
      "0.18042707873983296\n",
      "0.16134996388243197\n",
      "0.15960054616999195\n",
      "0.16404019152093746\n",
      "0.16039969387437455\n",
      "0.16834946485155758\n",
      "0.16789381872553602\n",
      "0.17973939410541648\n",
      "0.17890017595128502\n",
      "0.1922317048786246\n",
      "0.1914962772159475\n",
      "0.21949272902498007\n",
      "0.2179986243814693\n",
      "0.2307465341311496\n",
      "0.23392378816592568\n",
      "0.23478646020066274\n",
      "0.23656399535780379\n",
      "0.22219146647315044\n",
      "0.22589143234206913\n",
      "0.21343304456946005\n",
      "0.2144165886046463\n",
      "0.20188611204360327\n",
      "0.20370289993981006\n",
      "0.1954786969940589\n",
      "0.1965161890884182\n",
      "0.19254553682523673\n",
      "0.19338226391820476\n",
      "0.19473084302540233\n",
      "0.19471868985634733\n",
      "0.19968969195606062\n",
      "0.19915173056200047\n",
      "0.20142423977797255\n",
      "0.2013445402392465\n",
      "0.20400066795481345\n",
      "0.20389898724466046\n",
      "0.20646026850699864\n",
      "0.20639042123816675\n",
      "0.2146949688501841\n",
      "0.21259172017968528\n",
      "0.21549219647526657\n",
      "0.21474739305211693\n",
      "0.21554785518293706\n",
      "0.2139753073124346\n",
      "0.2132812862035414\n",
      "0.2143486346740698\n",
      "0.21310583473390327\n",
      "0.2131606221410913\n",
      "0.21187540910078018\n",
      "0.21205025715382086\n",
      "0.2110365708124542\n",
      "0.21111284965159957\n",
      "0.21030443364647497\n",
      "0.21041757960532018\n",
      "0.2102225112792278\n",
      "0.21029377211128544\n",
      "0.2107265358035123\n",
      "0.2107533590757015\n",
      "0.21160876257160585\n",
      "0.2115969425542109\n",
      "0.2128053821249167\n",
      "0.212771208064628\n",
      "0.21420541887079553\n",
      "0.2141574320373427\n",
      "0.21546402440105963\n",
      "0.21542785230724776\n",
      "0.21673742678561153\n",
      "0.21670345827645707\n",
      "0.21795154812702494\n",
      "0.21792222698946837\n",
      "0.22044723352305495\n",
      "0.22024087894647962\n",
      "0.2220002664655008\n",
      "0.22192547507017302\n",
      "0.2230643331043609\n",
      "0.2230999725821274\n",
      "0.2236543536759078\n",
      "0.22368637600682093\n",
      "0.22415135234087602\n",
      "0.22419352190349187\n",
      "0.22471949113055528\n",
      "0.22475446193438386\n",
      "0.22560919200412866\n",
      "0.22566724553115866\n",
      "0.2267475265483325\n",
      "0.22677604892770542\n",
      "0.22805846930621448\n",
      "0.22806090083153407\n",
      "0.2288723662930019\n",
      "0.22886701642032664\n",
      "0.22972302038429157\n",
      "0.2297150898943025\n",
      "0.23057869703703626\n",
      "0.23057048832864735\n",
      "0.23161456139856118\n",
      "0.23160165719836062\n",
      "0.23260714109331088\n",
      "0.23259636116171803\n",
      "0.23354804188046255\n",
      "0.2335409276411139\n",
      "0.23534189084223708\n",
      "0.23532588987315411\n",
      "0.23694272911332961\n",
      "0.23697670873135893\n",
      "0.2385056056400599\n",
      "0.23854859833909509\n",
      "0.23936359018402378\n",
      "0.2393713401558196\n",
      "0.2401917121817514\n",
      "0.24020237335345593\n",
      "0.24104859058579986\n",
      "0.2410514247913481\n",
      "0.24190440197705176\n",
      "0.24190525092501167\n",
      "0.24587343411603318\n",
      "0.24587343296963102\n",
      "0.2458734321189524\n",
      "0.24587343425406902\n",
      "0.24587343397613295\n",
      "0.2458734338866892\n",
      "0.24587343412906987\n",
      "0.24565752127146487\n",
      "0.24939557327023995\n",
      "0.2524774278745752\n",
      "0.2592927679751071\n",
      "0.25929276671814966\n",
      "0.25929276578401345\n",
      "0.2592927681269878\n",
      "0.25929276787880995\n",
      "0.2592927678161053\n",
      "0.25929276798363965\n",
      "0.2594367056042527\n",
      "0.25758229053455317\n",
      "0.25784969277108283\n",
      "0.2632374734240683\n",
      "0.2720571948956614\n",
      "0.2720571935629608\n",
      "0.27205719257277683\n",
      "0.27205719505655557\n",
      "0.2720571948076087\n",
      "0.27205719475344464\n",
      "0.27205719490288066\n",
      "0.2697310540810421\n",
      "0.2770194203134594\n",
      "0.2827146811947063\n",
      "0.28667944829943154\n",
      "0.2912090421805624\n",
      "0.29342891336300636\n",
      "0.29634997127783896\n",
      "0.30139657048477797\n",
      "0.30569602551618763\n",
      "0.30401637051678376\n",
      "0.3056869430025887\n",
      "0.3063309492816764\n",
      "0.3089255166418513\n",
      "0.31284798123905155\n",
      "0.3128479796581026\n",
      "0.31284797848305296\n",
      "0.3128479814300802\n",
      "0.31284798118853363\n",
      "0.31284798115937945\n",
      "0.3128479812426836\n",
      "0.3122344861597399\n",
      "0.31472888062664944\n",
      "0.3168747480612164\n",
      "0.3195942421002547\n",
      "0.3195942404801054\n",
      "0.3195942392759243\n",
      "0.31959424229602196\n",
      "0.31959424205374504\n",
      "0.3195942420278009\n",
      "0.31959424210336945\n",
      "0.32014122602051304\n",
      "(15, 1000)\n"
     ]
    }
   ],
   "source": [
    "uFun = lambda t: np.array([np.arctan(t)/np.pi*2, 0, 0, 0]).reshape(-1, 1)\n",
    "def R(t, y):\n",
    "    print(np.linalg.norm(y))\n",
    "    return Rauton(np.atleast_2d(y)) + np.vstack([np.zeros((rDOF, Hred.shape[1])), Hred]) @ uFun(t)\n",
    "\n",
    "tTraj = np.linspace(0, 15, 1000)\n",
    "sol = solve_ivp(R,\n",
    "                t_span=[tTraj[0], tTraj[-1]],\n",
    "                t_eval=tTraj,\n",
    "                y0=np.zeros(2*rDOF),\n",
    "                method='LSODA',\n",
    "                vectorized=True,\n",
    "                rtol=1e-3,\n",
    "                atol=1e-3)\n",
    "yTraj = sol.y\n",
    "oTraj = C(yTraj)\n",
    "\n",
    "print(oTraj.shape)\n",
    "\n",
    "plt.close('all')\n",
    "plot.traj_xyz_txyz(tTraj,\n",
    "                   oTraj[outdofs[0], :],\n",
    "                   oTraj[outdofs[1], :],\n",
    "                   oTraj[outdofs[2], :])"
   ]
  },
  {
   "attachments": {},
   "cell_type": "markdown",
   "metadata": {},
   "source": [
    "### Integrate the model with inputs"
   ]
  },
  {
   "attachments": {},
   "cell_type": "markdown",
   "metadata": {},
   "source": [
    "#### Small inputs"
   ]
  },
  {
   "cell_type": "code",
   "execution_count": 175,
   "metadata": {},
   "outputs": [],
   "source": [
    "# Load the controls and actual trajectories for figure8\n",
    "uFigureEight = np.loadtxt(\"../../system_data/u_small.csv\", delimiter=',')\n",
    "z = np.loadtxt(\"../../system_data/z_small.csv\", delimiter=',')\n",
    "z_eq = np.loadtxt(\"../../system_data/z_equilibrium.csv\", delimiter=',')\n",
    "z_eq = np.concatenate([z_eq, np.zeros(3*4)])\n",
    "\n",
    "# original spacing of inputs\n",
    "T = 10.01\n",
    "dt = 0.01\n",
    "N = int(T / dt)\n",
    "t_span = np.linspace(0, T, N+1)\n",
    "z_true = z[:, 3:].T\n",
    "\n",
    "interpFun = interp1d(t_span, uFigureEight, axis=0, fill_value=\"extrapolate\")\n",
    "uFun = lambda t: interpFun(t).reshape(-1, 1)\n",
    "R = lambda t, y: Rauton(np.atleast_2d(y)) + np.vstack([np.zeros((rDOF, Hred.shape[1])), Hred]) @ uFun(t)\n",
    "\n",
    "sol = solve_ivp(R,\n",
    "                t_span=[t_span[0], t_span[-1]],\n",
    "                t_eval=t_span,\n",
    "                y0=np.zeros(2*rDOF),\n",
    "                method='LSODA',\n",
    "                vectorized=True,\n",
    "                rtol=1e-3,\n",
    "                atol=1e-3)\n",
    "yTraj = sol.y\n",
    "oTraj = (C(yTraj).T + z_eq).T\n",
    "\n",
    "plt.close('all')\n",
    "ax = plot.traj_3D_xyz(oTraj[outdofs[0], :],\n",
    "                      oTraj[outdofs[1], :],\n",
    "                      oTraj[outdofs[2], :], show=False)\n",
    "plot.traj_3D_xyz(z_true[outdofs[0], :],\n",
    "                 z_true[outdofs[1], :],\n",
    "                 z_true[outdofs[2], :], color=\"tab:orange\", ax=ax)\n"
   ]
  },
  {
   "attachments": {},
   "cell_type": "markdown",
   "metadata": {},
   "source": [
    "#### Big inputs"
   ]
  },
  {
   "cell_type": "code",
   "execution_count": 222,
   "metadata": {},
   "outputs": [
    {
     "name": "stdout",
     "output_type": "stream",
     "text": [
      "[-7.07686434  1.2132194  97.04053866  0.          0.          0.        ]\n"
     ]
    }
   ],
   "source": [
    "# Load the controls and actual trajectories for figure8\n",
    "uFigureEight = np.loadtxt(\"../../system_data/u_big.csv\", delimiter=',')\n",
    "z = np.loadtxt(\"../../system_data/z_big.csv\", delimiter=',')\n",
    "z_eq = np.loadtxt(\"../../system_data/z_equilibrium.csv\", delimiter=',')\n",
    "z_eq = np.concatenate([z_eq, np.zeros(3)])\n",
    "print(z_eq)"
   ]
  },
  {
   "cell_type": "code",
   "execution_count": 223,
   "metadata": {},
   "outputs": [],
   "source": [
    "plt.close('all')"
   ]
  },
  {
   "attachments": {},
   "cell_type": "markdown",
   "metadata": {},
   "source": [
    "### Learn control matrix $B$"
   ]
  },
  {
   "attachments": {},
   "cell_type": "markdown",
   "metadata": {},
   "source": [
    "Use figure8 trajectory to identify the impact of control, i.e. regress the control matrix $B$"
   ]
  },
  {
   "cell_type": "code",
   "execution_count": 224,
   "metadata": {},
   "outputs": [
    {
     "name": "stdout",
     "output_type": "stream",
     "text": [
      "(8692, 6)\n",
      "(6, 8692)\n",
      "(15, 6)\n",
      "(4, 8692)\n"
     ]
    }
   ],
   "source": [
    "diamond_train_full = loadmat(\"../diamond_train_full.mat\", simplify_cells=True)\n",
    "y, u, t = diamond_train_full['y'], diamond_train_full['u'], diamond_train_full['t']\n",
    "\n",
    "print(y.shape)\n",
    "\n",
    "y = y.T\n",
    "U = u.T\n",
    "\n",
    "z_true_train = np.vstack([y[3:, :], y[:3, :]])\n",
    "print(z_true_train.shape)\n",
    "z_shift_train = (z_true_train.T - z_eq).T\n",
    "z_shift_train = utils.delayEmbedding(z_shift_train)\n",
    "\n",
    "# z_shift_train = z_true_train\n",
    "t_span_train = np.hstack([t, t_span[1:] + t[-1]])\n",
    "\n",
    "# # Add test trajectory to training dataset\n",
    "# U = np.hstack([U, U_eight[:, 1:]])\n",
    "# z_shift = np.hstack([z_shift, z_eight_shift[:, 1:]])\n",
    "\n",
    "# Use only test trajectory as the training dataset --> should well overfit\n",
    "# U = U_eight[:, 1:]\n",
    "# z_shift_train = z_eight_shift[:, 1:]\n",
    "\n",
    "# Xbar = np.array(IMInfo['chart']['H']) @ utils.multivariate_polynomial(z_shift_train, IMInfo['chart']['polynomialOrder'])\n",
    "print(Vde.shape)\n",
    "Xbar = Vde.T @ z_shift_train\n",
    "dXbarDt = np.gradient(Xbar, dt, axis=1)[:, 10:-10]\n",
    "\n",
    "print(U.shape)\n",
    "U = U[:, 10:-10]\n",
    "Xbar = Xbar[:, 10:-10]\n",
    "\n",
    "dXbarDt_ROM = Rauton(Xbar)"
   ]
  },
  {
   "cell_type": "code",
   "execution_count": 225,
   "metadata": {},
   "outputs": [],
   "source": [
    "plt.close('all')\n",
    "ax = plot.traj_3D_xyz(z_true_train[outdofs[0], :],\n",
    "                      z_true_train[outdofs[1], :],\n",
    "                      z_true_train[outdofs[2], :], show=True)"
   ]
  },
  {
   "attachments": {},
   "cell_type": "markdown",
   "metadata": {},
   "source": [
    "Learn $B$ matrix"
   ]
  },
  {
   "cell_type": "code",
   "execution_count": 226,
   "metadata": {},
   "outputs": [
    {
     "name": "stdout",
     "output_type": "stream",
     "text": [
      "(4, 8672)\n",
      "(6, 4)\n"
     ]
    }
   ],
   "source": [
    "from sklearn.linear_model import Ridge\n",
    "\n",
    "polyUorder = 1\n",
    "\n",
    "# X = np.vstack([U, Xbar])\n",
    "X = utils.multivariate_polynomial(U, order=polyUorder)\n",
    "print(X.shape)\n",
    "\n",
    "ridgeModel = Ridge(alpha=0, fit_intercept=False)\n",
    "# ridgeModel.fit(U.T, (dXbarDt - dXbarDt_ROM).T)\n",
    "ridgeModel.fit(X.T, (dXbarDt - dXbarDt_ROM).T)\n",
    "B_learn = ridgeModel.coef_\n",
    "print(B_learn.shape)"
   ]
  },
  {
   "cell_type": "code",
   "execution_count": 181,
   "metadata": {},
   "outputs": [],
   "source": [
    "# # home-brewed ridge regression\n",
    "# l = 0\n",
    "# X, y = U.T, (dXbarDt - dXbarDt_ROM).T\n",
    "# B_learn = np.linalg.solve(X.T @ X + l * np.eye(X.shape[0]), X.T @ y)"
   ]
  },
  {
   "attachments": {},
   "cell_type": "markdown",
   "metadata": {},
   "source": [
    "### Integrate moel with inputs (big amplitude) -- and using learned influence of control"
   ]
  },
  {
   "cell_type": "code",
   "execution_count": 228,
   "metadata": {},
   "outputs": [],
   "source": [
    "# original spacing of inputs\n",
    "T = 10.01\n",
    "dt = 0.01\n",
    "N = int(T / dt)\n",
    "t_span = np.linspace(0, T, N+1)\n",
    "z_true = z[:, 3:].T\n",
    "\n",
    "\n",
    "interpFun = interp1d(t_span, uFigureEight, axis=0, fill_value=\"extrapolate\")\n",
    "uFun = lambda t: interpFun(t).reshape(-1, 1)\n",
    "def R(t, y):\n",
    "    # print(y.shape)\n",
    "    return Rauton(np.atleast_2d(y)) + B_learn @ utils.multivariate_polynomial(uFun(t), order=polyUorder) #  np.vstack([np.zeros((rDOF, Hred.shape[1])), Hred]) @ uFun(t) # np.vstack([uFun(t), y])\n",
    "\n",
    "sol = solve_ivp(R,\n",
    "                t_span=[t_span[0], t_span[-1]],\n",
    "                t_eval=t_span,\n",
    "                y0=np.zeros(2*rDOF),\n",
    "                method='RK45',\n",
    "                vectorized=True,\n",
    "                rtol=1e-3,\n",
    "                atol=1e-3)\n",
    "yTraj = sol.y\n",
    "# oTraj = (C(yTraj).T + z_eq).T\n",
    "oTraj = C(yTraj)\n",
    "\n",
    "plt.close('all')\n",
    "ax = plot.traj_3D_xyz(oTraj[outdofs[0], :],\n",
    "                      oTraj[outdofs[1], :],\n",
    "                      oTraj[outdofs[2], :], show=False)\n",
    "ax = plot.traj_3D_xyz(z_true[outdofs[0], :],\n",
    "                      z_true[outdofs[1], :],\n",
    "                      z_true[outdofs[2], :], color=\"tab:orange\", ax=ax, show=False)\n",
    "ax.legend([\"Predicted trajectory\", \"Actual trajectory\"])\n",
    "plt.show()\n"
   ]
  },
  {
   "cell_type": "code",
   "execution_count": 210,
   "metadata": {},
   "outputs": [
    {
     "name": "stdout",
     "output_type": "stream",
     "text": [
      "RMSE = 68.3634\n"
     ]
    }
   ],
   "source": [
    "RMSE = np.sum(np.sqrt(np.mean((oTraj[0:3, :] - z_true)**2, axis=0))) / oTraj.shape[1]\n",
    "print(f\"RMSE = {RMSE:.4f}\")"
   ]
  }
 ],
 "metadata": {
  "kernelspec": {
   "display_name": "soft",
   "language": "python",
   "name": "python3"
  },
  "language_info": {
   "codemirror_mode": {
    "name": "ipython",
    "version": 3
   },
   "file_extension": ".py",
   "mimetype": "text/x-python",
   "name": "python",
   "nbconvert_exporter": "python",
   "pygments_lexer": "ipython3",
   "version": "3.8.16"
  },
  "orig_nbformat": 4
 },
 "nbformat": 4,
 "nbformat_minor": 2
}
