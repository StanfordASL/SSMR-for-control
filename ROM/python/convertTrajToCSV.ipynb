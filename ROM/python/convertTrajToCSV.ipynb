{
 "cells": [
  {
   "attachments": {},
   "cell_type": "markdown",
   "metadata": {},
   "source": [
    "# Convert trajectories to .csv files"
   ]
  },
  {
   "cell_type": "code",
   "execution_count": 1,
   "metadata": {},
   "outputs": [],
   "source": [
    "import numpy as np\n",
    "import os\n",
    "import pickle"
   ]
  },
  {
   "cell_type": "code",
   "execution_count": 2,
   "metadata": {},
   "outputs": [],
   "source": [
    "%matplotlib qt\n",
    "import matplotlib.pyplot as plt"
   ]
  },
  {
   "cell_type": "code",
   "execution_count": 3,
   "metadata": {},
   "outputs": [],
   "source": [
    "%load_ext autoreload\n",
    "%autoreload 2\n",
    "import utils as utils\n",
    "import plot_utils as plot"
   ]
  },
  {
   "cell_type": "code",
   "execution_count": 4,
   "metadata": {},
   "outputs": [],
   "source": [
    "from tqdm.auto import tqdm\n",
    "from os import mkdir\n",
    "from os.path import exists, join, split\n",
    "import yaml"
   ]
  },
  {
   "attachments": {},
   "cell_type": "markdown",
   "metadata": {},
   "source": [
    "Select folder where decay trajectories (.pkl files) are located and location of rest file (containing equilibrium position)"
   ]
  },
  {
   "cell_type": "code",
   "execution_count": 5,
   "metadata": {},
   "outputs": [],
   "source": [
    "# 000, 001, 002, ...\n",
    "locs = [f\"{i:03d}\" for i in range(100)]\n",
    "decayData_dir = [f\"/media/jonas/Backup Plus/jonas_soft_robot_data/trunk_adiabatic_10ms_N=100/{loc}/decay\" for loc in locs]\n",
    "\n",
    "robot_dir = \"../../../soft-robot-control/examples/trunk\"\n",
    "rest_file = os.path.join(robot_dir, 'rest_qv.pkl')\n",
    "\n",
    "output_node = 'all' # 1354 # 51 #\n",
    "TIP_NODE = 51\n",
    "t_in = 1\n",
    "t_out = 4"
   ]
  },
  {
   "attachments": {},
   "cell_type": "markdown",
   "metadata": {},
   "source": [
    "Save data to .csv (one file per trajectory)"
   ]
  },
  {
   "cell_type": "code",
   "execution_count": 12,
   "metadata": {},
   "outputs": [
    {
     "data": {
      "application/vnd.jupyter.widget-view+json": {
       "model_id": "c010e8428c1a46ae887b2cb241dbe6ec",
       "version_major": 2,
       "version_minor": 0
      },
      "text/plain": [
       "  0%|          | 0/1 [00:00<?, ?it/s]"
      ]
     },
     "metadata": {},
     "output_type": "display_data"
    },
    {
     "data": {
      "application/vnd.jupyter.widget-view+json": {
       "model_id": "8575ebff352a4ba88d126c9ca83d72be",
       "version_major": 2,
       "version_minor": 0
      },
      "text/plain": [
       "  0%|          | 0/40 [00:00<?, ?it/s]"
      ]
     },
     "metadata": {},
     "output_type": "display_data"
    }
   ],
   "source": [
    "start_at = 0\n",
    "end_at = 1\n",
    "for i, dir in enumerate(tqdm(decayData_dir[start_at:end_at])):\n",
    "    loc = locs[start_at:end_at][i]\n",
    "    roshan_dir = f\"{dir}/roshan_{loc}\"\n",
    "    if not exists(roshan_dir):\n",
    "        mkdir(roshan_dir)\n",
    "    oData = utils.import_pos_data(dir, rest_file=rest_file, output_node=output_node, t_in=t_in, t_out=t_out, return_velocity=True)\n",
    "    for j in tqdm(range(len(oData)), leave=False):\n",
    "        if j == 0:\n",
    "            # save time array only once, as it is the same for all trajectories\n",
    "            np.savetxt(f\"{roshan_dir}/t_{loc}.csv\", oData[j][0], fmt='%.5e')\n",
    "        np.savetxt(f\"{roshan_dir}/decay_trajectory_{loc}_{j:02d}.csv\", oData[j][1], fmt='%.5e')"
   ]
  },
  {
   "attachments": {},
   "cell_type": "markdown",
   "metadata": {},
   "source": [
    "Add rest position and pre-tensioning input for each SSM location"
   ]
  },
  {
   "cell_type": "code",
   "execution_count": 8,
   "metadata": {},
   "outputs": [
    {
     "data": {
      "application/vnd.jupyter.widget-view+json": {
       "model_id": "0673ec1010b44f42af4a5a45c4ad0c40",
       "version_major": 2,
       "version_minor": 0
      },
      "text/plain": [
       "  0%|          | 0/100 [00:00<?, ?it/s]"
      ]
     },
     "metadata": {},
     "output_type": "display_data"
    }
   ],
   "source": [
    "for i, dir in enumerate(tqdm(decayData_dir)):\n",
    "    loc = locs[i]\n",
    "    roshan_dir = f\"{dir}/roshan_{loc}\"\n",
    "    if not exists(roshan_dir):\n",
    "        mkdir(roshan_dir)\n",
    "    with open(join(dir, \"..\", \"rest_q.pkl\"), \"rb\") as f:\n",
    "        rest_q = pickle.load(f)\n",
    "    with open(join(dir, \"..\", \"pre_tensioning.pkl\"), \"rb\") as f:\n",
    "        pre_tensioning = pickle.load(f)\n",
    "    # save rest_q array to csv\n",
    "    np.savetxt(f\"{roshan_dir}/rest_pos_{loc}.csv\", rest_q, fmt='%.5e')\n",
    "    np.savetxt(f\"{roshan_dir}/pre_tensioning_u_{loc}.csv\", pre_tensioning, fmt='%.5e')"
   ]
  },
  {
   "attachments": {},
   "cell_type": "markdown",
   "metadata": {},
   "source": [
    "Compress all the data"
   ]
  },
  {
   "cell_type": "code",
   "execution_count": 13,
   "metadata": {},
   "outputs": [
    {
     "data": {
      "application/vnd.jupyter.widget-view+json": {
       "model_id": "8c6bca612f744ba78f7e866d0cdde922",
       "version_major": 2,
       "version_minor": 0
      },
      "text/plain": [
       "  0%|          | 0/1 [00:00<?, ?it/s]"
      ]
     },
     "metadata": {},
     "output_type": "display_data"
    }
   ],
   "source": [
    "import tarfile\n",
    "import os.path\n",
    "\n",
    "out_dir = \"/media/jonas/Backup Plus/jonas_soft_robot_data/data_roshan_trunk_adiabatic_10ms_N=100\"\n",
    "if not exists(out_dir):\n",
    "    mkdir(out_dir)\n",
    "start_at = 0\n",
    "end_at = 1\n",
    "for i, dir in enumerate(tqdm(decayData_dir[start_at:end_at])):\n",
    "    loc = locs[start_at:end_at][i]\n",
    "    roshan_dir = f\"{dir}/roshan_{loc}\"\n",
    "    with tarfile.open(join(out_dir, f\"{loc}.tar.gz\"), \"w:gz\") as tar:\n",
    "        tar.add(roshan_dir, arcname=os.path.basename(roshan_dir))"
   ]
  },
  {
   "attachments": {},
   "cell_type": "markdown",
   "metadata": {},
   "source": [
    "Export open-loop circle trajectories to .csv for Roshan"
   ]
  },
  {
   "cell_type": "code",
   "execution_count": null,
   "metadata": {},
   "outputs": [],
   "source": [
    "traj_dirs = [\n",
    "    \"/media/jonas/Backup Plus/jonas_soft_robot_data/autonomous_ASSM_tests/OL_sim_ideal\",\n",
    "    \"/media/jonas/Backup Plus/jonas_soft_robot_data/autonomous_ASSM_tests/OL_sim_perturbed\"\n",
    "]\n",
    "alphas = [0.1, 0.2, 0.4, 0.7, 1.0, 1.5, 2.0, 3.0]\n",
    "output_node = 'all' # TIP_NODE\n",
    "for i, dir in enumerate(tqdm(traj_dirs)):\n",
    "    for alpha in tqdm(alphas):\n",
    "        dir_alpha = join(dir, f\"alpha={alpha:.1f}\")\n",
    "        roshan_dir = join(dir_alpha, \"roshan\")\n",
    "        if not exists(roshan_dir):\n",
    "            mkdir(roshan_dir)\n",
    "        oData = utils.import_pos_data(dir_alpha, rest_file, output_node=output_node, t_in=3, return_velocity=True)\n",
    "        np.savetxt(f\"{roshan_dir}/t.csv\", oData[0], fmt='%.5e')\n",
    "        np.savetxt(f\"{roshan_dir}/{split(dir)[1]}.csv\", oData[1], fmt='%.5e')"
   ]
  },
  {
   "cell_type": "code",
   "execution_count": null,
   "metadata": {},
   "outputs": [],
   "source": []
  }
 ],
 "metadata": {
  "kernelspec": {
   "display_name": "soft",
   "language": "python",
   "name": "python3"
  },
  "language_info": {
   "codemirror_mode": {
    "name": "ipython",
    "version": 3
   },
   "file_extension": ".py",
   "mimetype": "text/x-python",
   "name": "python",
   "nbconvert_exporter": "python",
   "pygments_lexer": "ipython3",
   "version": "3.8.16"
  },
  "orig_nbformat": 4
 },
 "nbformat": 4,
 "nbformat_minor": 2
}
