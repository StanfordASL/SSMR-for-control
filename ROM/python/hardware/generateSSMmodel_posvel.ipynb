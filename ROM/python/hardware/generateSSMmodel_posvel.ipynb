{
 "cells": [
  {
   "attachments": {},
   "cell_type": "markdown",
   "metadata": {},
   "source": [
    "# SSMR: generate SSM model from trajectory data"
   ]
  },
  {
   "cell_type": "code",
   "execution_count": 37,
   "metadata": {},
   "outputs": [],
   "source": [
    "import numpy as np\n",
    "from copy import deepcopy\n",
    "from os.path import join\n",
    "import pickle\n",
    "from os.path import dirname, abspath, join\n",
    "import sys\n",
    "from os import listdir, mkdir, getcwd\n",
    "from os.path import join, exists, isdir"
   ]
  },
  {
   "cell_type": "code",
   "execution_count": 38,
   "metadata": {},
   "outputs": [],
   "source": [
    "%matplotlib qt\n",
    "import matplotlib.pyplot as plt"
   ]
  },
  {
   "cell_type": "code",
   "execution_count": 39,
   "metadata": {},
   "outputs": [
    {
     "name": "stdout",
     "output_type": "stream",
     "text": [
      "The autoreload extension is already loaded. To reload it, use:\n",
      "  %reload_ext autoreload\n"
     ]
    }
   ],
   "source": [
    "%load_ext autoreload\n",
    "%autoreload 2\n",
    "import ROM.python.utils as utils\n",
    "import plot_utils as plot"
   ]
  },
  {
   "cell_type": "code",
   "execution_count": 40,
   "metadata": {},
   "outputs": [],
   "source": [
    "np.set_printoptions(linewidth=300)\n",
    "path = getcwd()\n",
    "root = dirname(path)\n",
    "sys.path.append(root)"
   ]
  },
  {
   "attachments": {},
   "cell_type": "markdown",
   "metadata": {},
   "source": [
    "## Settings for SSM model"
   ]
  },
  {
   "cell_type": "code",
   "execution_count": 41,
   "metadata": {},
   "outputs": [
    {
     "name": "stdout",
     "output_type": "stream",
     "text": [
      "[]\n"
     ]
    }
   ],
   "source": [
    "SETTINGS = {\n",
    "    'observables': \"delay-embedding\", # \"pos-vel\", # \"delay-embedding\"\n",
    "    'reduced_coordinates': \"local\", # \"global\" # \"local\"\n",
    "    'control_observables': \"pos-vel\",\n",
    "    'use_ssmlearn': \"matlab\", # \"matlab\", \"py\"\n",
    "\n",
    "    'tip_node': 1354,\n",
    "    'n_nodes': 1628,\n",
    "    'input_dim': 4,\n",
    "    \n",
    "    'dt': 0.01,\n",
    "    'subsample': 1,\n",
    "\n",
    "    'rDOF': 3,\n",
    "    'oDOF': 3,\n",
    "    'n_delay': 6,\n",
    "    'SSMDim': 6,\n",
    "    'SSMOrder': 3,\n",
    "    'ROMOrder': 3,\n",
    "    'RDType': \"flow\",\n",
    "    'ridge_alpha': {\n",
    "        'manifold': 0., # 1.,\n",
    "        'reduced_dynamics': 0., # 100.,\n",
    "        'B': 0. # 1.\n",
    "    },\n",
    "    'custom_delay': None, # Specify a custom delay embedding for the SSM\n",
    "\n",
    "    'data_dir': \"/home/jalora/SSMR-for-control/ROM/python/hardware\",\n",
    "    # 'data_dir': \"/home/jalora/Desktop/diamond_origin\",\n",
    "    'data_subdirs': False,\n",
    "    'decay_dir': \"decay/\",\n",
    "    'rest_file': \"rest_qv.pkl\",\n",
    "    'model_save_dir': \"SSMmodelsPy/\",\n",
    "\n",
    "    't_decay': [1, 4],\n",
    "    't_truncate': [0.25, np.inf],\n",
    "\n",
    "    'decay_test_set': [18, 19, 33],\n",
    "    'decay_holdout_set': [11],\n",
    "\n",
    "    'traj_test_set': [],\n",
    "    'traj_holdout_set': [0, 1, 2],\n",
    "\n",
    "    'poly_u_order': 1,\n",
    "    'input_train_data_dir': \"open-loop\",\n",
    "    'input_test_data_dir': [],\n",
    "    'input_train_ratio': 0.8 # 0.8\n",
    "}\n",
    "SETTINGS['data_subdirs'] = sorted([dir for dir in listdir(SETTINGS['data_dir']) if isdir(join(SETTINGS['data_dir'], dir)) and\n",
    "                                   'decay' in listdir(join(SETTINGS['data_dir'], dir)) and\n",
    "                                   'open-loop' in listdir(join(SETTINGS['data_dir'], dir))])\n",
    "print(SETTINGS['data_subdirs'])\n",
    "PLOTS = \"show\""
   ]
  },
  {
   "attachments": {},
   "cell_type": "markdown",
   "metadata": {},
   "source": [
    "## Import and inspect decay data"
   ]
  },
  {
   "cell_type": "code",
   "execution_count": 42,
   "metadata": {},
   "outputs": [
    {
     "name": "stdout",
     "output_type": "stream",
     "text": [
      "====== Import decay trajectories ======\n",
      "34\n"
     ]
    }
   ],
   "source": [
    "# create a new directory into which the new model will be saved and get the equilibrium state\n",
    "model_save_dir = path\n",
    "decay_data_dir = path\n",
    "q_eq = np.zeros(SETTINGS['oDOF'])\n",
    "u_eq = np.zeros(4)\n",
    "\n",
    "obsNodes = [12, 13, 14, 27, 28, 29]\n",
    "outdofs = [3, 4, 5] # TODO: Figure out where this goes\n",
    "idxTrajRegressC = 10\n",
    "\n",
    "# ====== Import decay trajectories -- oData ====== #\n",
    "print(\"====== Import decay trajectories ======\")    \n",
    "Data = {}\n",
    "# For /home/jjalora/Desktop/Diamond\n",
    "Data['oData'] = utils.import_pos_data(decay_data_dir, \n",
    "                                        q_rest=q_eq, \n",
    "                                        output_node=obsNodes, \n",
    "                                        file_type='mat', \n",
    "                                        return_velocity=False,\n",
    "                                        hardware=True)\n",
    "nTRAJ = len(Data['oData'])\n",
    "print(nTRAJ)"
   ]
  },
  {
   "attachments": {},
   "cell_type": "markdown",
   "metadata": {},
   "source": [
    "## Observables"
   ]
  },
  {
   "attachments": {},
   "cell_type": "markdown",
   "metadata": {},
   "source": [
    "EITHER compute reduced coordinates using delay embedding on the available oData OR use position and velocity of all nodes as observables"
   ]
  },
  {
   "cell_type": "code",
   "execution_count": 43,
   "metadata": {},
   "outputs": [],
   "source": [
    "def assemble_observables(oData):\n",
    "    return utils.delayEmbedding(oData, embed_coords=np.arange(3), up_to_delay=SETTINGS['n_delay'])"
   ]
  },
  {
   "attachments": {},
   "cell_type": "markdown",
   "metadata": {},
   "source": [
    "Compute observables"
   ]
  },
  {
   "cell_type": "code",
   "execution_count": 44,
   "metadata": {},
   "outputs": [],
   "source": [
    "Data['yData'] = deepcopy(Data['oData'])\n",
    "for i in range(nTRAJ):\n",
    "    Data['yData'][i][1] = assemble_observables(Data['oData'][i][1])"
   ]
  },
  {
   "attachments": {},
   "cell_type": "markdown",
   "metadata": {},
   "source": [
    "### Plot observables of interest"
   ]
  },
  {
   "cell_type": "code",
   "execution_count": 46,
   "metadata": {},
   "outputs": [],
   "source": [
    "outdofs = [0, 1, 2]\n",
    "plt.close('all')\n",
    "# plot trajectories in 3D [x, y, z] space\n",
    "plot.traj_3D(Data,\n",
    "             xyz_idx=[('oData', outdofs[0]), ('yData', outdofs[1]), ('yData', outdofs[2])],\n",
    "             xyz_names=[r'$x$ [mm]', r'$y$ [mm]', r'$z$ [mm]'])\n",
    "# plot evolution of x, y and z in time, separately in 3 subplots\n",
    "highlight_traj = [] # [14, 16, 18, 31, 35, 44] # []\n",
    "plot.traj_xyz(Data,\n",
    "             xyz_idx=[('oData', outdofs[0]), ('yData', outdofs[1]), ('yData', outdofs[2])],\n",
    "             xyz_names=[r'$x$ [mm]', r'$y$ [mm]', r'$z$ [mm]'],\n",
    "             highlight_idx=highlight_traj)"
   ]
  },
  {
   "attachments": {},
   "cell_type": "markdown",
   "metadata": {},
   "source": [
    "Slice trajectories, i.e. remove time before they converge with SSM and cut off the end after complete decay"
   ]
  },
  {
   "cell_type": "code",
   "execution_count": 47,
   "metadata": {},
   "outputs": [],
   "source": [
    "Data['oDataTrunc'] = utils.slice_trajectories(Data['oData'], SETTINGS['t_truncate'], t_shift=SETTINGS['n_delay'] * SETTINGS['dt'])\n",
    "Data['yDataTrunc'] = utils.slice_trajectories(Data['yData'], SETTINGS['t_truncate'], t_shift=SETTINGS['n_delay'] * SETTINGS['dt'])"
   ]
  },
  {
   "attachments": {},
   "cell_type": "markdown",
   "metadata": {},
   "source": [
    "## Obtain reduced-order coordinates"
   ]
  },
  {
   "attachments": {},
   "cell_type": "markdown",
   "metadata": {},
   "source": [
    "### Perform PCA on delay-embedded coordinates to obtain reduced coordinates"
   ]
  },
  {
   "cell_type": "code",
   "execution_count": 56,
   "metadata": {},
   "outputs": [],
   "source": [
    "svd_data = 'yDataTrunc'\n",
    "Data['etaDataTrunc'] = deepcopy(Data['oDataTrunc'])\n",
    "show_modes = 9\n",
    "Xsnapshots = np.hstack([DataTrunc[1] for DataTrunc in Data[svd_data]])\n",
    "\n",
    "v, s = utils.sparse_svd(Xsnapshots, up_to_mode=max(SETTINGS['SSMDim'], show_modes))\n",
    "Vde = v[:, :SETTINGS['SSMDim']]\n",
    "\n",
    "for i in range(nTRAJ):\n",
    "    Data['etaDataTrunc'][i][1] = Vde.T @ Data[svd_data][i][1]\n",
    "\n",
    "# Plot variance description: we expect three modes to capture almost all variance.\n",
    "# Note we assume data centered around the origin, which is the fixed point of our system.\n",
    "plt.close('all')\n",
    "plot.pca_modes(s**2, up_to_mode=show_modes)"
   ]
  },
  {
   "cell_type": "code",
   "execution_count": 57,
   "metadata": {},
   "outputs": [],
   "source": [
    "plt.close('all')\n",
    "# plot first three reduced coordinates\n",
    "plot.traj_xyz(Data,\n",
    "              xyz_idx=[('etaDataTrunc', 0), ('etaDataTrunc', 1), ('etaDataTrunc', 2)],\n",
    "              xyz_names=[r'$x_1$', r'$x_2$', r'$x_3$'])"
   ]
  },
  {
   "attachments": {},
   "cell_type": "markdown",
   "metadata": {},
   "source": [
    "### Train and test data (train/test split)"
   ]
  },
  {
   "cell_type": "code",
   "execution_count": 58,
   "metadata": {},
   "outputs": [],
   "source": [
    "indTest = SETTINGS['decay_test_set']\n",
    "indHoldout = SETTINGS['decay_holdout_set']\n",
    "indTrain = [i for i in range(nTRAJ) if i not in [*indTest, *indHoldout]]"
   ]
  },
  {
   "attachments": {},
   "cell_type": "markdown",
   "metadata": {},
   "source": [
    "## SSMLearnPy"
   ]
  },
  {
   "cell_type": "code",
   "execution_count": 59,
   "metadata": {},
   "outputs": [],
   "source": [
    "from ssmlearnpy import SSMLearn"
   ]
  },
  {
   "attachments": {},
   "cell_type": "markdown",
   "metadata": {},
   "source": [
    "Use SSMLearnPy package to find parametrization of SSM (graph style) and reduced dynamics on the SSM."
   ]
  },
  {
   "cell_type": "code",
   "execution_count": 60,
   "metadata": {},
   "outputs": [
    {
     "name": "stderr",
     "output_type": "stream",
     "text": [
      "INFO   2023-09-13 08:28:28 ridge Transforming data\n",
      "INFO   2023-09-13 08:28:28 ridge Skipping CV on ridge regression\n",
      "INFO   2023-09-13 08:28:28 ridge Fitting regression model\n"
     ]
    },
    {
     "name": "stderr",
     "output_type": "stream",
     "text": [
      "INFO   2023-09-13 08:28:29 ridge Transforming data\n",
      "INFO   2023-09-13 08:28:29 ridge Skipping CV on ridge regression\n",
      "INFO   2023-09-13 08:28:29 ridge Fitting regression model\n"
     ]
    }
   ],
   "source": [
    "from scipy.linalg import orth\n",
    "\n",
    "# Regress current reduced coordinates with new observable (used to infer the linear part of manifold, i.e., tangent space)\n",
    "ssm_paramonly = SSMLearn(\n",
    "t=[Data['oDataTrunc'][i][0] for i in indTrain], \n",
    "x=[Data['oDataTrunc'][i][1] for i in indTrain], \n",
    "reduced_coordinates=[Data['etaDataTrunc'][i][1] for i in indTrain],\n",
    "ssm_dim=SETTINGS[\"SSMDim\"], \n",
    "dynamics_type=SETTINGS[\"RDType\"]\n",
    ")\n",
    "ssm_paramonly.get_parametrization(poly_degree=SETTINGS[\"SSMOrder\"], alpha=SETTINGS[\"ridge_alpha\"]['manifold'])\n",
    "\n",
    "# # Rotation of coordinates\n",
    "# # Calculate tangent space at origin and orthogonalize\n",
    "# tanspace0_not_orth = ssm_paramonly.decoder.map_info['coefficients'][:SSMDim, :SSMDim]\n",
    "# tanspace0 = orth(tanspace0_not_orth)\n",
    "\n",
    "# # Change reduced coordinates and repopulate eta\n",
    "# Data['etaDataTruncNew'] = deepcopy(Data['etaDataTrunc'])\n",
    "# for iTraj in range(len(Data['etaDataTruncNew'])):\n",
    "#     Data['etaDataTruncNew'][iTraj][1] = np.transpose(tanspace0) @ tanspace0_not_orth @ Data['etaDataTrunc'][iTraj][1]\n",
    "# Data['etaDataTrunc'] = deepcopy(Data['etaDataTruncNew'])\n",
    "# Data.pop('etaDataTruncNew', None)\n",
    "\n",
    "# # Regress the new reduced coordinates with the new observable (used to infer the nonlinear part of manifold)\n",
    "# # Get the parameterization\n",
    "# ssm_paramonly = SSMLearn(\n",
    "# t=[Data['yDataTrunc'][i][0] for i in indTrain], \n",
    "# x=[Data['yDataTrunc'][i][1] for i in indTrain], \n",
    "# reduced_coordinates=[Data['etaDataTrunc'][i][1] for i in indTrain],\n",
    "# ssm_dim=SSMDim, \n",
    "# dynamics_type=RDType\n",
    "# )\n",
    "# ssm_paramonly.get_parametrization(poly_degree=SSMOrder, alpha=ridge_alpha['manifold'])\n",
    "\n",
    "# Construct the chart\n",
    "ssm_chartonly = SSMLearn(\n",
    "    t=[Data['etaDataTrunc'][i][0] for i in indTrain], \n",
    "    x=[Data['etaDataTrunc'][i][1] for i in indTrain], \n",
    "    reduced_coordinates=[Data['oDataTrunc'][i][1] for i in indTrain],\n",
    "    ssm_dim=SETTINGS[\"SSMDim\"],\n",
    "    dynamics_type=SETTINGS[\"RDType\"],\n",
    ")\n",
    "ssm_chartonly.get_parametrization(poly_degree=SETTINGS[\"SSMOrder\"], alpha=SETTINGS[\"ridge_alpha\"]['manifold'])\n",
    "\n",
    "# Reassign to get new rotated reduced dynamics\n",
    "ssm = ssm_paramonly"
   ]
  },
  {
   "cell_type": "code",
   "execution_count": 61,
   "metadata": {},
   "outputs": [
    {
     "name": "stderr",
     "output_type": "stream",
     "text": [
      "INFO   2023-09-13 08:28:35 ridge Transforming data\n",
      "INFO   2023-09-13 08:28:35 ridge Skipping CV on ridge regression\n",
      "INFO   2023-09-13 08:28:35 ridge Fitting regression model\n"
     ]
    },
    {
     "name": "stderr",
     "output_type": "stream",
     "text": [
      "INFO   2023-09-13 08:28:35 ridge Transforming data\n",
      "INFO   2023-09-13 08:28:35 ridge Skipping CV on ridge regression\n",
      "INFO   2023-09-13 08:28:35 ridge Fitting regression model\n"
     ]
    }
   ],
   "source": [
    "ssm.get_parametrization(poly_degree=SETTINGS[\"SSMOrder\"], alpha=SETTINGS[\"ridge_alpha\"]['manifold'])    \n",
    "ssm.get_reduced_dynamics(poly_degree=SETTINGS[\"ROMOrder\"], alpha=SETTINGS[\"ridge_alpha\"]['reduced_dynamics'])"
   ]
  },
  {
   "attachments": {},
   "cell_type": "markdown",
   "metadata": {},
   "source": [
    "Save the relevant coefficents and parameters into dictionairies which resemble the outputs of the Matlab SSMLearn package."
   ]
  },
  {
   "cell_type": "code",
   "execution_count": 62,
   "metadata": {},
   "outputs": [],
   "source": [
    "IMInfo = {'parametrization': {}, 'chart': {}}\n",
    "IMInfo['parametrization']['polynomialOrder'] = SETTINGS[\"SSMOrder\"]\n",
    "IMInfo['parametrization']['H'] = ssm.decoder.map_info['coefficients']\n",
    "RDInfo = {'reducedDynamics': {}}\n",
    "RDInfo['reducedDynamics']['polynomialOrder'] = SETTINGS[\"ROMOrder\"]\n",
    "RDInfo['reducedDynamics']['coefficients'] = ssm.reduced_dynamics.map_info['coefficients']\n",
    "RDInfo['eigenvaluesLinPartFlow'] = ssm.reduced_dynamics.map_info['eigenvalues_lin_part']\n",
    "RDInfo['dynamicsType'] = SETTINGS[\"RDType\"]"
   ]
  },
  {
   "cell_type": "code",
   "execution_count": 63,
   "metadata": {},
   "outputs": [],
   "source": [
    "IMInfo['chart']['polynomialOrder'] = SETTINGS[\"SSMOrder\"]\n",
    "IMInfo['chart']['H'] = ssm_chartonly.decoder.map_info['coefficients']"
   ]
  },
  {
   "attachments": {},
   "cell_type": "markdown",
   "metadata": {},
   "source": [
    "## SSMLearn (Matlab)"
   ]
  },
  {
   "attachments": {},
   "cell_type": "markdown",
   "metadata": {},
   "source": [
    "Start Matlab engine and install/run SSMLearn"
   ]
  },
  {
   "cell_type": "code",
   "execution_count": 181,
   "metadata": {},
   "outputs": [],
   "source": [
    "# ssm = utils.start_matlab_ssmlearn(\"/home/jonas/Projects/stanford/SSMR-for-control\")"
   ]
  },
  {
   "attachments": {},
   "cell_type": "markdown",
   "metadata": {},
   "source": [
    "Bring data in a format that is accepted by the (slightly modified) version of SSMLearn (requires a specific cell array structure for input data)"
   ]
  },
  {
   "cell_type": "code",
   "execution_count": 182,
   "metadata": {},
   "outputs": [],
   "source": [
    "# yDataTruncTrain_matlab = utils.numpy_to_matlab([Data['yDataTrunc'][i] for i in indTrain])\n",
    "# etaDataTruncTrain_matlab = utils.numpy_to_matlab([Data['etaDataTrunc'][i] for i in indTrain])"
   ]
  },
  {
   "attachments": {},
   "cell_type": "markdown",
   "metadata": {},
   "source": [
    "### Learn geometry of the SSM"
   ]
  },
  {
   "attachments": {},
   "cell_type": "markdown",
   "metadata": {},
   "source": [
    "Find parametrization of SSM using SSMLearn"
   ]
  },
  {
   "cell_type": "code",
   "execution_count": 183,
   "metadata": {},
   "outputs": [],
   "source": [
    "# IMInfo = ssm.IMGeometry(yDataTruncTrain_matlab, SSMDim, SSMOrder,\n",
    "#                         'reducedCoordinates', etaDataTruncTrain_matlab, 'l_vals', 0.)\n",
    "# if observables == \"pos-vel\":\n",
    "#     IMInfoInv = ssm.IMGeometry(etaDataTruncTrain_matlab, obsDim, SSMOrder,\n",
    "#                             'reducedCoordinates', yDataTruncTrain_matlab)\n",
    "#     for key in ['map', 'polynomialOrder', 'dimension', 'nonlinearCoefficients', 'phi', 'exponents', 'H']:\n",
    "#         IMInfo['chart'][key] = IMInfoInv['parametrization'][key]"
   ]
  },
  {
   "attachments": {},
   "cell_type": "markdown",
   "metadata": {},
   "source": [
    "### Learn dynamics on the SSM (reduced dynamics)"
   ]
  },
  {
   "attachments": {},
   "cell_type": "markdown",
   "metadata": {},
   "source": [
    "Find parametrization of reduced dynamics using SSMLearn"
   ]
  },
  {
   "cell_type": "code",
   "execution_count": 184,
   "metadata": {},
   "outputs": [],
   "source": [
    "# RDInfo = ssm.IMDynamicsFlow(etaDataTruncTrain_matlab, 'R_PolyOrd', ROMOrder, 'style', 'default', 'l_vals', 0.)"
   ]
  },
  {
   "attachments": {},
   "cell_type": "markdown",
   "metadata": {},
   "source": [
    "Stop Matlab engine -- not needed anymore"
   ]
  },
  {
   "cell_type": "code",
   "execution_count": 185,
   "metadata": {},
   "outputs": [],
   "source": [
    "# ssm.quit()"
   ]
  },
  {
   "attachments": {},
   "cell_type": "markdown",
   "metadata": {},
   "source": [
    "Convert all matlab double arrays to numpy arrays"
   ]
  },
  {
   "cell_type": "code",
   "execution_count": 186,
   "metadata": {},
   "outputs": [],
   "source": [
    "# utils.matlab_info_dict_to_numpy(IMInfo)\n",
    "# utils.matlab_info_dict_to_numpy(RDInfo)"
   ]
  },
  {
   "attachments": {},
   "cell_type": "markdown",
   "metadata": {},
   "source": [
    "Stability analysis of reduced dynamics"
   ]
  },
  {
   "cell_type": "code",
   "execution_count": 187,
   "metadata": {},
   "outputs": [],
   "source": [
    "# # assert np.all(np.real(RDInfo['eigenvaluesLinPartFlow']) < 0)\n",
    "# RDInfo['eigenvaluesLinPartFlow']"
   ]
  },
  {
   "attachments": {},
   "cell_type": "markdown",
   "metadata": {},
   "source": [
    "## Analyze the obtained mappings of SSM geometry and reduced dynamics"
   ]
  },
  {
   "attachments": {},
   "cell_type": "markdown",
   "metadata": {},
   "source": [
    "### SSM geometry (parametrization)"
   ]
  },
  {
   "cell_type": "code",
   "execution_count": 65,
   "metadata": {},
   "outputs": [
    {
     "name": "stdout",
     "output_type": "stream",
     "text": [
      "Average parametrization train error: 1.3364e+00\n",
      "Average parametrization test error: 1.4711e+00\n"
     ]
    }
   ],
   "source": [
    "trajRec = {}\n",
    "# geometry error\n",
    "meanErrorGeo = {}\n",
    "trajRec['geo'] = utils.lift_trajectories(IMInfo, Data['etaDataTrunc'])\n",
    "normedTrajDist = utils.compute_trajectory_errors(trajRec['geo'], Data['oDataTrunc'])[0] * 100\n",
    "meanErrorGeo['Train'] = np.mean(normedTrajDist[indTrain])\n",
    "meanErrorGeo['Test'] = np.mean(normedTrajDist[indTest])\n",
    "print(f\"Average parametrization train error: {meanErrorGeo['Train']:.4e}\")\n",
    "print(f\"Average parametrization test error: {meanErrorGeo['Test']:.4e}\")"
   ]
  },
  {
   "cell_type": "code",
   "execution_count": 67,
   "metadata": {},
   "outputs": [],
   "source": [
    "# plot comparison of SSM-predicted vs. actual test trajectories\n",
    "plt.close('all')\n",
    "axs = plot.traj_xyz(Data,\n",
    "                    xyz_idx=[('oData', 0), ('oData', 1), ('oData', 2)],\n",
    "                    xyz_names=[r'$x$ [mm]', r'$y$ [mm]', r'$z$ [mm]'],\n",
    "                    traj_idx=indTest,\n",
    "                    show=False)\n",
    "plot.traj_xyz(trajRec,\n",
    "            xyz_idx=[('geo', 0), ('geo', 1), ('geo', 2)],\n",
    "            xyz_names=[r'$x$ [mm]', r'$y$ [mm]', r'$z$ [mm]'],\n",
    "            traj_idx=indTest,\n",
    "            axs=axs, ls=':', color='darkblue')"
   ]
  },
  {
   "attachments": {},
   "cell_type": "markdown",
   "metadata": {},
   "source": [
    "### Reduced dynamics"
   ]
  },
  {
   "cell_type": "code",
   "execution_count": 68,
   "metadata": {},
   "outputs": [
    {
     "name": "stdout",
     "output_type": "stream",
     "text": [
      "Average dynamics train error: 5.2354\n",
      "Average dynamics test error: inf\n"
     ]
    }
   ],
   "source": [
    "# reduced dynamics error\n",
    "meanErrorDyn = {}\n",
    "trajRec['rd'] = utils.advectRD(RDInfo, Data['etaDataTrunc'])[0]\n",
    "normedTrajDist = utils.compute_trajectory_errors(trajRec['rd'], Data['etaDataTrunc'])[0] * 100\n",
    "meanErrorDyn['Train'] = np.mean(normedTrajDist[indTrain])\n",
    "meanErrorDyn['Test'] = np.mean(normedTrajDist[indTest])\n",
    "print(f\"Average dynamics train error: {meanErrorDyn['Train']:.4f}\")\n",
    "print(f\"Average dynamics test error: {meanErrorDyn['Test']:.4f}\")"
   ]
  },
  {
   "cell_type": "code",
   "execution_count": 69,
   "metadata": {},
   "outputs": [],
   "source": [
    "axs = plot.traj_xyz(Data,\n",
    "                    xyz_idx=[('etaDataTrunc', 0), ('etaDataTrunc', 1), ('etaDataTrunc', 2)],\n",
    "                    xyz_names=[r'$x_1$', r'$x_2$', r'$x_3$'],\n",
    "                    traj_idx=indTest,\n",
    "                    show=False)\n",
    "plot.traj_xyz(trajRec,\n",
    "            xyz_idx=[('rd', 0), ('rd', 1), ('rd', 2)],\n",
    "            xyz_names=[r'$x_1$', r'$x_2$', r'$x_3$'],\n",
    "            traj_idx=indTest,\n",
    "            axs=axs, ls=':', color='darkblue')"
   ]
  },
  {
   "attachments": {},
   "cell_type": "markdown",
   "metadata": {},
   "source": [
    "### Global error"
   ]
  },
  {
   "cell_type": "code",
   "execution_count": 71,
   "metadata": {},
   "outputs": [
    {
     "name": "stdout",
     "output_type": "stream",
     "text": [
      "Average global train error: 4.3995\n",
      "Average global test error: inf\n"
     ]
    }
   ],
   "source": [
    "# global error\n",
    "meanErrorGlo = {}\n",
    "trajRec['glob'] = utils.lift_trajectories(IMInfo, trajRec['rd'])\n",
    "normedTrajDist = utils.compute_trajectory_errors(trajRec['glob'], Data['oDataTrunc'])[0] * 100\n",
    "meanErrorGlo['Train'] = np.mean(normedTrajDist[indTrain])\n",
    "meanErrorGlo['Test'] = np.mean(normedTrajDist[indTest])\n",
    "print(f\"Average global train error: {meanErrorGlo['Train']:.4f}\")\n",
    "print(f\"Average global test error: {meanErrorGlo['Test']:.4f}\")"
   ]
  },
  {
   "cell_type": "code",
   "execution_count": 72,
   "metadata": {},
   "outputs": [],
   "source": [
    "axs = plot.traj_xyz(Data,\n",
    "                    xyz_idx=[('yData', 0), ('yData', 1), ('yData', 2)],\n",
    "                    xyz_names=[r'$x$', r'$y$', r'$z$'],\n",
    "                    traj_idx=indTest,\n",
    "                    show=False)\n",
    "plot.traj_xyz(trajRec,\n",
    "            xyz_idx=[('glob', 0), ('glob', 1), ('glob', 2)],\n",
    "            xyz_names=[r'$x$', r'$y$', r'$z$'],\n",
    "            traj_idx=indTest,\n",
    "            axs=axs, ls=':', color='darkblue')"
   ]
  },
  {
   "attachments": {},
   "cell_type": "markdown",
   "metadata": {},
   "source": [
    "## Control"
   ]
  },
  {
   "attachments": {},
   "cell_type": "markdown",
   "metadata": {},
   "source": [
    "### Setup model for control"
   ]
  },
  {
   "cell_type": "code",
   "execution_count": 81,
   "metadata": {},
   "outputs": [],
   "source": [
    "Rauton = lambda x: RDInfo['reducedDynamics']['coefficients'] @ utils.phi(x, RDInfo['reducedDynamics']['polynomialOrder'])\n",
    "Vauton = lambda x: IMInfo['parametrization']['H'] @ utils.phi(x, IMInfo['parametrization']['polynomialOrder'])\n",
    "Wauton = lambda y: IMInfo['chart']['H'] @ utils.phi(y, IMInfo['chart']['polynomialOrder'])"
   ]
  },
  {
   "attachments": {},
   "cell_type": "markdown",
   "metadata": {},
   "source": [
    "### Learn control matrix $B$"
   ]
  },
  {
   "attachments": {},
   "cell_type": "markdown",
   "metadata": {},
   "source": [
    "Use randomly sampled inputs as the training and test data"
   ]
  },
  {
   "cell_type": "code",
   "execution_count": 76,
   "metadata": {},
   "outputs": [],
   "source": [
    "outData, inputData = utils.import_traj_data(join(path, SETTINGS['input_train_data_dir']), obsNodes)"
   ]
  },
  {
   "attachments": {},
   "cell_type": "markdown",
   "metadata": {},
   "source": [
    "Compute observables and reduced coordinates"
   ]
  },
  {
   "cell_type": "code",
   "execution_count": 77,
   "metadata": {},
   "outputs": [],
   "source": [
    "y = outData\n",
    "for i in range(len(outData)):\n",
    "    y[i][1] = outData[i][1]\n",
    "\n",
    "indCntrlTest = SETTINGS['traj_test_set']\n",
    "indCntrlHoldout = SETTINGS['traj_holdout_set']\n",
    "indCntrlTrain = [i for i in range(np.shape(outData)[0]) if i not in [*indCntrlTest, *indCntrlHoldout]]"
   ]
  },
  {
   "attachments": {},
   "cell_type": "markdown",
   "metadata": {},
   "source": [
    "Train/test split"
   ]
  },
  {
   "cell_type": "code",
   "execution_count": 83,
   "metadata": {},
   "outputs": [],
   "source": [
    "zData, yData, uData = [], [], []\n",
    "for iTraj in indCntrlTrain:\n",
    "    yData.append(y[iTraj][1])\n",
    "    uData.append(inputData[iTraj][1])\n",
    "    zData.append(outData[iTraj][1])\n",
    "\n",
    "yDataFull = np.concatenate(yData, axis=1)\n",
    "uDataFull = np.concatenate(uData, axis=1)\n",
    "zDataFull = np.concatenate(zData, axis=1)\n",
    "xFull = Wauton(yDataFull)\n",
    "tFull = np.arange(0, np.shape(yDataFull)[1]*SETTINGS['dt'], SETTINGS['dt'])"
   ]
  },
  {
   "attachments": {},
   "cell_type": "markdown",
   "metadata": {},
   "source": [
    "Control Data train/test split"
   ]
  },
  {
   "cell_type": "code",
   "execution_count": 84,
   "metadata": {},
   "outputs": [],
   "source": [
    "split_idx = int(SETTINGS['input_train_ratio'] * len(tFull))\n",
    "t_train, t_test = tFull[:split_idx], tFull[split_idx:]\n",
    "_, z_test = zDataFull[:, :split_idx], zDataFull[:, split_idx:]\n",
    "# y_train, y_test = y[:, :split_idx], y[:, split_idx:]\n",
    "u_train, u_test = uDataFull[:, :split_idx], uDataFull[:, split_idx:]\n",
    "x_train, x_test = xFull[:, :split_idx], xFull[:, split_idx:]\n",
    "\n",
    "controlData = {'t_train': t_train, 't_test': t_test, 'z_test': z_test, 'u_train': u_train, 'u_test': u_test, \n",
    "        'x_train': x_train, 'x_test': x_test, 'dxdt': np.gradient(x_train, SETTINGS['dt'], axis=1), 'dxdt_ROM': Rauton(x_train)}"
   ]
  },
  {
   "attachments": {},
   "cell_type": "markdown",
   "metadata": {},
   "source": [
    "Learn $B$ matrix"
   ]
  },
  {
   "cell_type": "code",
   "execution_count": 86,
   "metadata": {},
   "outputs": [
    {
     "name": "stdout",
     "output_type": "stream",
     "text": [
      "Frobenius norm of B_learn: 2527.0689\n"
     ]
    }
   ],
   "source": [
    "Br = utils.fitControlMatrix(Rauton, x_train, u_train, SETTINGS['dt'], alpha=SETTINGS['ridge_alpha']['B'])\n",
    "\n",
    "R = lambda x, u: Rauton(np.atleast_2d(x)) + Br @ utils.phi(u, 1)"
   ]
  },
  {
   "attachments": {},
   "cell_type": "markdown",
   "metadata": {},
   "source": [
    "### Integrate model with inputs using learned influence of control (open-loop prediction)"
   ]
  },
  {
   "attachments": {},
   "cell_type": "markdown",
   "metadata": {},
   "source": [
    "Test open-loop prediction capabalities of SSM model"
   ]
  },
  {
   "cell_type": "code",
   "execution_count": 87,
   "metadata": {},
   "outputs": [
    {
     "name": "stdout",
     "output_type": "stream",
     "text": [
      "(like training data): RMSE = 4.3733\n",
      "(overall): RMSE = 4.3733\n"
     ]
    }
   ],
   "source": [
    "# Consolidate Test Data\n",
    "zDataTest, yDataTest, uDataTest, tDataTest = [], [], [], []\n",
    "for iTraj in indCntrlTest:\n",
    "    tDataTest.append(y[iTraj][0])\n",
    "    zDataTest.append(outData[iTraj][1])\n",
    "    yDataTest.append(y[iTraj][1])\n",
    "    uDataTest.append(inputData[iTraj][1])\n",
    "\n",
    "test_data = (tDataTest, zDataTest, yDataTest, uDataTest)\n",
    "traj_outDofs = [0, 1, 2]\n",
    "test_results = utils.analyze_open_loop(test_data, model_save_dir, controlData, Wauton, R, Vauton, embed_coords=traj_outDofs, \n",
    "                        traj_coords=[0, 1, 2], PLOTS='save')"
   ]
  },
  {
   "cell_type": "markdown",
   "metadata": {},
   "source": [
    "Plot Gradients"
   ]
  },
  {
   "cell_type": "code",
   "execution_count": 89,
   "metadata": {},
   "outputs": [],
   "source": [
    "dxDt_ROM_with_B = R(controlData['x_train'], controlData['u_train'])\n",
    "utils.plot_gradients(controlData['t_train'], controlData['dxdt'], controlData['dxdt_ROM'], dxDt_ROM_with_B, PLOTS, model_save_dir)"
   ]
  },
  {
   "attachments": {},
   "cell_type": "markdown",
   "metadata": {},
   "source": [
    "## Save SSM model"
   ]
  },
  {
   "cell_type": "code",
   "execution_count": 91,
   "metadata": {},
   "outputs": [
    {
     "name": "stdout",
     "output_type": "stream",
     "text": [
      "Saved SSM Model to:  /home/jalora/SSMR-for-control/ROM/python/hardware\n"
     ]
    }
   ],
   "source": [
    "utils.save_ssm_model(model_save_dir, RDInfo, IMInfo, Br, Vde, q_eq, u_eq, SETTINGS, test_results, custom_obs=True)\n",
    "\n",
    "print(\"Saved SSM Model to: \", model_save_dir)"
   ]
  }
 ],
 "metadata": {
  "kernelspec": {
   "display_name": "soft",
   "language": "python",
   "name": "python3"
  },
  "language_info": {
   "codemirror_mode": {
    "name": "ipython",
    "version": 3
   },
   "file_extension": ".py",
   "mimetype": "text/x-python",
   "name": "python",
   "nbconvert_exporter": "python",
   "pygments_lexer": "ipython3",
   "version": "3.8.13"
  },
  "orig_nbformat": 4,
  "vscode": {
   "interpreter": {
    "hash": "5103b5dc615bcda33cb54d9b91143b3686f5f995c24adceaa9e3ace35345f8c5"
   }
  }
 },
 "nbformat": 4,
 "nbformat_minor": 2
}
