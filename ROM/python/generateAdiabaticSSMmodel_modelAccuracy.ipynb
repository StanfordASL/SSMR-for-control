{
 "cells": [
  {
   "attachments": {},
   "cell_type": "markdown",
   "metadata": {},
   "source": [
    "# Adiabatic SSM model"
   ]
  },
  {
   "attachments": {},
   "cell_type": "markdown",
   "metadata": {},
   "source": [
    "## Quantifying prediction accuracy"
   ]
  },
  {
   "attachments": {},
   "cell_type": "markdown",
   "metadata": {},
   "source": [
    "This notebook quantifies the prediction of adiabatic SSM models by doing finite-horizon predictions across the robot's workspace and evaluating the corresponding prediction errors."
   ]
  },
  {
   "cell_type": "code",
   "execution_count": 1,
   "metadata": {},
   "outputs": [],
   "source": [
    "from os import listdir\n",
    "from os.path import join, split\n",
    "import pickle\n",
    "import yaml\n",
    "import numpy as np\n",
    "from numpy.random import randint\n",
    "from tqdm.auto import tqdm\n",
    "import time\n",
    "np.set_printoptions(linewidth=100)"
   ]
  },
  {
   "cell_type": "code",
   "execution_count": 2,
   "metadata": {},
   "outputs": [],
   "source": [
    "%load_ext autoreload\n",
    "%autoreload 2\n",
    "import utils as utils\n",
    "import plot_utils as plot\n",
    "from interpolators import InterpolatorFactory"
   ]
  },
  {
   "cell_type": "code",
   "execution_count": 3,
   "metadata": {},
   "outputs": [],
   "source": [
    "%matplotlib qt\n",
    "import matplotlib.pyplot as plt"
   ]
  },
  {
   "cell_type": "code",
   "execution_count": 4,
   "metadata": {},
   "outputs": [],
   "source": [
    "# Adiabatic SSM settings\n",
    "ROMOrder = 3\n",
    "INTERPOLATION_METHOD = \"nn\" #  \"idw\" # \"nn\" # \"origin_only\", \"linear\", \"ct\", \"nn\"\n",
    "ORIGIN_ONLY = (INTERPOLATION_METHOD == \"origin_only\")"
   ]
  },
  {
   "attachments": {},
   "cell_type": "markdown",
   "metadata": {},
   "source": [
    "Trunk settings"
   ]
  },
  {
   "cell_type": "code",
   "execution_count": 5,
   "metadata": {},
   "outputs": [],
   "source": [
    "observables = \"delay-embedding\" # \"pos-vel\" # \n",
    "N_DELAY = 4 # only relevant if observables is \"delay-embedding\"\n",
    "TIP_NODE = 51\n",
    "N_NODES = 709\n",
    "INPUT_DIM = 8\n",
    "DT = 0.01\n",
    "\n",
    "rDOF = 3\n",
    "oDOF = 3\n",
    "SSMDim = 6\n",
    "\n",
    "robot_dir = \"../../../soft-robot-control/examples/trunk\"\n",
    "rest_file = join(robot_dir, 'rest_qv.pkl')"
   ]
  },
  {
   "cell_type": "code",
   "execution_count": 6,
   "metadata": {},
   "outputs": [
    {
     "name": "stdout",
     "output_type": "stream",
     "text": [
      "['northwest', 'north', 'northeast', 'west', 'origin', 'east', 'southwest', 'south', 'southeast']\n"
     ]
    }
   ],
   "source": [
    "# directory containing the SSM models\n",
    "if ROMOrder == 3:\n",
    "    model_dir = \"/media/jonas/Backup Plus/jonas_soft_robot_data/trunk_adiabatic_10ms\"\n",
    "elif ROMOrder == 1:\n",
    "    model_dir = \"/media/jonas/Backup Plus/jonas_soft_robot_data/trunk_adiabatic_10ms_ROMOrder=1\"\n",
    "# model_names = sorted(listdir(model_dir))\n",
    "model_names = [\"northwest\", \"north\", \"northeast\", \"west\", \"origin\", \"east\", \"southwest\", \"south\", \"southeast\"] # [\"north\",\"west\", \"origin\", \"east\", \"south\"] # \n",
    "print(model_names)\n",
    "N_models = len(model_names)"
   ]
  },
  {
   "attachments": {},
   "cell_type": "markdown",
   "metadata": {},
   "source": [
    "Load local SSM models"
   ]
  },
  {
   "cell_type": "code",
   "execution_count": 7,
   "metadata": {},
   "outputs": [],
   "source": [
    "models = []\n",
    "observables = \"delay-embedding\"\n",
    "for model_name in model_names:\n",
    "    with open(join(model_dir, model_name, f\"SSMmodel_{observables}\", \"SSM_model.pkl\"), \"rb\") as f:\n",
    "        model = pickle.load(f)\n",
    "        models.append(model)\n",
    "V = [model['model']['V'] for model in models]\n",
    "r_coeff = [model['model']['r_coeff'] for model in models]\n",
    "w_coeff = [model['model']['w_coeff'] for model in models]\n",
    "B_r = [model['model']['B'] for model in models]\n",
    "q_bar = [model['model']['q_eq'] for model in models]\n",
    "u_bar = [model['model']['u_eq'] for model in models]\n",
    "ROMOrder = models[0]['params']['ROM_order']\n",
    "SSMOrder = models[0]['params']['SSM_order']\n",
    "for model in models:\n",
    "    assert model['params']['ROM_order'] == ROMOrder\n",
    "    assert model['params']['SSM_order'] == SSMOrder"
   ]
  },
  {
   "cell_type": "code",
   "execution_count": 8,
   "metadata": {},
   "outputs": [],
   "source": [
    "xy_rest = np.array([q_bar[i][:2] for i in range(N_models)])"
   ]
  },
  {
   "attachments": {},
   "cell_type": "markdown",
   "metadata": {},
   "source": [
    "Compute observables (delay embedding)"
   ]
  },
  {
   "cell_type": "code",
   "execution_count": 9,
   "metadata": {},
   "outputs": [],
   "source": [
    "N_DELAY = 4\n",
    "assemble_observables = lambda oData: utils.delayEmbedding(oData, up_to_delay=N_DELAY)"
   ]
  },
  {
   "attachments": {},
   "cell_type": "markdown",
   "metadata": {},
   "source": [
    "Load test trajectory (for now: sum of all trajectories used to regress B matrices)"
   ]
  },
  {
   "cell_type": "code",
   "execution_count": 10,
   "metadata": {},
   "outputs": [],
   "source": [
    "# test_trajectory_dir = \"open-loop\"\n",
    "test_trajectories = []\n",
    "# for name in tqdm(model_names): # ['origin']: # \n",
    "traj_dir = \"/home/jonas/Projects/stanford/soft-robot-control/examples/trunk/dataCollection/open-loop_500\" # join(model_dir, name, test_trajectory_dir)\n",
    "(t, z), u = utils.import_pos_data(data_dir=traj_dir,\n",
    "                                  rest_file=rest_file,\n",
    "                                  output_node=TIP_NODE, return_inputs=True, traj_index=0)\n",
    "y = assemble_observables(z)\n",
    "test_trajectories.append({\n",
    "        'name': split(traj_dir)[-1],\n",
    "        't': t,\n",
    "        'z': z,\n",
    "        'u': u,\n",
    "        'y': y\n",
    "    })"
   ]
  },
  {
   "attachments": {},
   "cell_type": "markdown",
   "metadata": {},
   "source": [
    "Combine into one long trajectory"
   ]
  },
  {
   "cell_type": "code",
   "execution_count": 11,
   "metadata": {},
   "outputs": [],
   "source": [
    "z_tot = np.hstack([traj['z'] for traj in test_trajectories])\n",
    "y_tot = np.hstack([traj['y'] for traj in test_trajectories])\n",
    "u_tot = np.hstack([traj['u'] for traj in test_trajectories])\n",
    "t_tot = np.arange(z_tot.shape[1]) * DT"
   ]
  },
  {
   "attachments": {},
   "cell_type": "markdown",
   "metadata": {},
   "source": [
    "Interpolate local models to obtain adiabatic SSM model"
   ]
  },
  {
   "cell_type": "code",
   "execution_count": 12,
   "metadata": {},
   "outputs": [],
   "source": [
    "N_horizon = 5\n",
    "N_samples = 1000"
   ]
  },
  {
   "cell_type": "code",
   "execution_count": 13,
   "metadata": {},
   "outputs": [
    {
     "name": "stdout",
     "output_type": "stream",
     "text": [
      "(3, 20001)\n"
     ]
    }
   ],
   "source": [
    "print(z_tot.shape)\n",
    "sample_indices = randint(0, z_tot.shape[1], N_samples)"
   ]
  },
  {
   "cell_type": "code",
   "execution_count": 19,
   "metadata": {},
   "outputs": [],
   "source": [
    "interpolation_methods = [\"origin_only\", \"linear\", \"ct\", \"nn\", \"idw\", \"tps\", \"qp\", \"krg\", \"ls\"]\n",
    "coeff_dict = {\n",
    "            'w_coeff': w_coeff,\n",
    "            'V': V,\n",
    "            'r_coeff': r_coeff,\n",
    "            'B_r': B_r,\n",
    "            'u_bar': u_bar,\n",
    "            'q_bar': q_bar\n",
    "        }\n",
    "interpolators = {}\n",
    "for interpolation_method in interpolation_methods:\n",
    "    interpolators[interpolation_method] = InterpolatorFactory(interpolation_method, xy_rest, coeff_dict).get_interpolator()"
   ]
  },
  {
   "cell_type": "code",
   "execution_count": 20,
   "metadata": {},
   "outputs": [
    {
     "data": {
      "application/vnd.jupyter.widget-view+json": {
       "model_id": "42596aa8138a404b88675ae25a2ef2f8",
       "version_major": 2,
       "version_minor": 0
      },
      "text/plain": [
       "  0%|          | 0/9 [00:00<?, ?it/s]"
      ]
     },
     "metadata": {},
     "output_type": "display_data"
    },
    {
     "name": "stdout",
     "output_type": "stream",
     "text": [
      "==================== origin_only ====================\n"
     ]
    },
    {
     "data": {
      "application/vnd.jupyter.widget-view+json": {
       "model_id": "b2b7bcf8fd4a41f589cfd30fa344e8f6",
       "version_major": 2,
       "version_minor": 0
      },
      "text/plain": [
       "  0%|          | 0/1000 [00:00<?, ?it/s]"
      ]
     },
     "metadata": {},
     "output_type": "display_data"
    },
    {
     "name": "stdout",
     "output_type": "stream",
     "text": [
      "max RMSE: 1.174079487048334\n",
      "==================== linear ====================\n"
     ]
    },
    {
     "data": {
      "application/vnd.jupyter.widget-view+json": {
       "model_id": "615671c8eaaa4ad192672f266a25e70b",
       "version_major": 2,
       "version_minor": 0
      },
      "text/plain": [
       "  0%|          | 0/1000 [00:00<?, ?it/s]"
      ]
     },
     "metadata": {},
     "output_type": "display_data"
    },
    {
     "name": "stdout",
     "output_type": "stream",
     "text": [
      "max RMSE: 0.5389997560402937\n",
      "==================== ct ====================\n"
     ]
    },
    {
     "data": {
      "application/vnd.jupyter.widget-view+json": {
       "model_id": "d04dcee8f5774e508653aeb9bd9ae50f",
       "version_major": 2,
       "version_minor": 0
      },
      "text/plain": [
       "  0%|          | 0/1000 [00:00<?, ?it/s]"
      ]
     },
     "metadata": {},
     "output_type": "display_data"
    },
    {
     "name": "stdout",
     "output_type": "stream",
     "text": [
      "max RMSE: 0.5802558834841005\n",
      "==================== nn ====================\n"
     ]
    },
    {
     "data": {
      "application/vnd.jupyter.widget-view+json": {
       "model_id": "9d3dfbdd3e384c1c8cf3b89d1af4ba47",
       "version_major": 2,
       "version_minor": 0
      },
      "text/plain": [
       "  0%|          | 0/1000 [00:00<?, ?it/s]"
      ]
     },
     "metadata": {},
     "output_type": "display_data"
    },
    {
     "name": "stdout",
     "output_type": "stream",
     "text": [
      "max RMSE: 0.6438779553132553\n",
      "==================== idw ====================\n"
     ]
    },
    {
     "data": {
      "application/vnd.jupyter.widget-view+json": {
       "model_id": "2631c1890c474723854d6818911a10a7",
       "version_major": 2,
       "version_minor": 0
      },
      "text/plain": [
       "  0%|          | 0/1000 [00:00<?, ?it/s]"
      ]
     },
     "metadata": {},
     "output_type": "display_data"
    },
    {
     "name": "stdout",
     "output_type": "stream",
     "text": [
      "max RMSE: 0.6029769963707599\n",
      "==================== tps ====================\n"
     ]
    },
    {
     "data": {
      "application/vnd.jupyter.widget-view+json": {
       "model_id": "7f61094a864c45cc8fb4ed8f1a12be08",
       "version_major": 2,
       "version_minor": 0
      },
      "text/plain": [
       "  0%|          | 0/1000 [00:00<?, ?it/s]"
      ]
     },
     "metadata": {},
     "output_type": "display_data"
    },
    {
     "name": "stdout",
     "output_type": "stream",
     "text": [
      "max RMSE: 0.6018223956115992\n",
      "==================== qp ====================\n"
     ]
    },
    {
     "data": {
      "application/vnd.jupyter.widget-view+json": {
       "model_id": "56409d661b644aa89b1efde0ef679b49",
       "version_major": 2,
       "version_minor": 0
      },
      "text/plain": [
       "  0%|          | 0/1000 [00:00<?, ?it/s]"
      ]
     },
     "metadata": {},
     "output_type": "display_data"
    },
    {
     "name": "stdout",
     "output_type": "stream",
     "text": [
      "max RMSE: 0.7963039643882694\n",
      "==================== krg ====================\n"
     ]
    },
    {
     "data": {
      "application/vnd.jupyter.widget-view+json": {
       "model_id": "cc8623e611cf49f7af767c32064a6f9b",
       "version_major": 2,
       "version_minor": 0
      },
      "text/plain": [
       "  0%|          | 0/1000 [00:00<?, ?it/s]"
      ]
     },
     "metadata": {},
     "output_type": "display_data"
    },
    {
     "name": "stdout",
     "output_type": "stream",
     "text": [
      "max RMSE: 0.6660956689214603\n",
      "==================== ls ====================\n"
     ]
    },
    {
     "data": {
      "application/vnd.jupyter.widget-view+json": {
       "model_id": "e4a71978d8624644aa357ca56e3e4586",
       "version_major": 2,
       "version_minor": 0
      },
      "text/plain": [
       "  0%|          | 0/1000 [00:00<?, ?it/s]"
      ]
     },
     "metadata": {},
     "output_type": "display_data"
    },
    {
     "name": "stdout",
     "output_type": "stream",
     "text": [
      "max RMSE: 0.8676489811212884\n"
     ]
    }
   ],
   "source": [
    "for interpolation_method in tqdm(interpolation_methods, position=0):\n",
    "    print(f\"==================== {interpolation_method} ====================\")\n",
    "    q_samples = []\n",
    "    rmse_samples = []\n",
    "    advect_times = []\n",
    "    for i in tqdm(range(N_samples), position=1):\n",
    "        start_idx = sample_indices[i]\n",
    "        end_idx = start_idx + N_horizon\n",
    "        q_samples.append(z_tot[:3, start_idx])\n",
    "        # advect ASSM to obtain finite-horizon prediction\n",
    "        t0 = time.time()\n",
    "        t, _, y_pred, _, _, _, _ = utils.advect_adiabaticRD_with_inputs(t_tot[start_idx:end_idx], y_tot[:, start_idx], u_tot[:, start_idx:end_idx], y_target=y_tot[:, start_idx:end_idx], interpolator=interpolators[interpolation_method])\n",
    "        t1 = time.time()\n",
    "        # compute RMSE\n",
    "        rmse = np.sum(np.sqrt(np.mean((y_tot[:3, start_idx:end_idx] - y_pred[:3, :])**2, axis=0))) / N_horizon\n",
    "        rmse_samples.append(rmse)\n",
    "        advect_times.append(t1 - t0)\n",
    "    # max_rmse_index = np.argmax(rmse_samples)\n",
    "    print(\"max RMSE:\", np.nanmax(rmse_samples))\n",
    "    # print(\"max RMSE sample idx:\", sample_indices[max_rmse_index])\n",
    "    with open(join(traj_dir, f\"{interpolation_method}_rmse_samples.pkl\"), \"wb\") as f:\n",
    "        pickle.dump(rmse_samples, f)\n",
    "    with open(join(traj_dir, f\"{interpolation_method}_q_samples.pkl\"), \"wb\") as f:\n",
    "        pickle.dump(q_samples, f)\n",
    "    with open(join(traj_dir, f\"{interpolation_method}_advect_times.pkl\"), \"wb\") as f:\n",
    "        pickle.dump(advect_times, f)"
   ]
  },
  {
   "cell_type": "code",
   "execution_count": 21,
   "metadata": {},
   "outputs": [
    {
     "name": "stdout",
     "output_type": "stream",
     "text": [
      "q_samples.shape: (1000, 3)\n",
      "rmse_samples.shape: (1000,)\n"
     ]
    }
   ],
   "source": [
    "plt.close('all')\n",
    "q_samples = np.stack(q_samples)\n",
    "rmse_samples = np.array(rmse_samples)\n",
    "print(\"q_samples.shape:\", q_samples.shape)\n",
    "print(\"rmse_samples.shape:\", rmse_samples.shape)\n",
    "plot.prediction_accuracy_map(q_samples, rmse_samples, show=True)"
   ]
  },
  {
   "attachments": {},
   "cell_type": "markdown",
   "metadata": {},
   "source": [
    "Plot prediction accuracy maps for all the different interpolation methods"
   ]
  },
  {
   "cell_type": "code",
   "execution_count": null,
   "metadata": {},
   "outputs": [],
   "source": [
    "plt.close('all')\n",
    "display_names = {\n",
    "    \"origin_only\": \"SSMR (origin only)\",\n",
    "    \"linear\": \"ASSMR (barycentric linear)\",\n",
    "    \"ct\": \"ASSMR (Clough-Tocher)\",\n",
    "    \"nn\": \"ASSMR (nearest neighbor)\",\n",
    "    \"rbf\": \"ASSMR (RBF)\",\n",
    "    \"idw\": \"ASSMR (IDW)\",\n",
    "    \"tps\": \"ASSMR (Thin-Plate-Spline)\",\n",
    "    \"krg\": \"ASSMR (Kriging)\",\n",
    "    \"qp\": \"ASSMR (Squared regression)\",\n",
    "    \"ls\": \"ASSMR (Linear regression)\"\n",
    "}\n",
    "interpolation_methods = [\"origin_only\", \"linear\", \"ct\", \"nn\", \"idw\"] # , \"tps\", \"ls\", \"qp\"]\n",
    "\n",
    "fig, axs = plt.subplots(3, len(interpolation_methods),\n",
    "                        figsize=(4*len(interpolation_methods), 7),\n",
    "                        height_ratios=[5, 2, 2],\n",
    "                        sharey='row', sharex='row', constrained_layout=True)\n",
    "for i, interpolation_method in enumerate(interpolation_methods):\n",
    "    with open(join(traj_dir, f\"{interpolation_method}_rmse_samples.pkl\"), \"rb\") as f:\n",
    "        rmse_samples = np.array(pickle.load(f))\n",
    "    with open(join(traj_dir, f\"{interpolation_method}_q_samples.pkl\"), \"rb\") as f:\n",
    "        q_samples = np.stack(pickle.load(f))\n",
    "    with open(join(traj_dir, f\"{interpolation_method}_advect_times.pkl\"), \"rb\") as f:\n",
    "        advect_times = np.array(pickle.load(f))\n",
    "    colorbar = (i == len(interpolation_methods) - 1)\n",
    "    plot.prediction_accuracy_map(q_samples, rmse_samples, vmax=0.6, ax=axs[0, i], colorbar=colorbar, cax=axs[:, :], show=False)\n",
    "    plot.boxplot(rmse_samples, ax=axs[1, i], show=False, xlabel=\"RMSE [mm]\", vmax=None)\n",
    "    plot.boxplot(advect_times, ax=axs[2, i], show=False, xlabel=\"Advect time [s]\", vmax=None)\n",
    "    axs[0, i].set_title(display_names[interpolation_method])\n",
    "    # if i > 0:\n",
    "    #     axs[0, i].set_ylabel(\"\")\n",
    "# fig.tight_layout()\n",
    "fig.savefig(join(traj_dir, f\"prediction_accuracy.png\"), bbox_inches='tight', dpi=200)\n",
    "fig.show()"
   ]
  },
  {
   "cell_type": "code",
   "execution_count": null,
   "metadata": {},
   "outputs": [],
   "source": []
  },
  {
   "cell_type": "code",
   "execution_count": null,
   "metadata": {},
   "outputs": [],
   "source": []
  },
  {
   "cell_type": "code",
   "execution_count": null,
   "metadata": {},
   "outputs": [],
   "source": []
  },
  {
   "cell_type": "code",
   "execution_count": null,
   "metadata": {},
   "outputs": [],
   "source": []
  }
 ],
 "metadata": {
  "kernelspec": {
   "display_name": "soft",
   "language": "python",
   "name": "python3"
  },
  "language_info": {
   "codemirror_mode": {
    "name": "ipython",
    "version": 3
   },
   "file_extension": ".py",
   "mimetype": "text/x-python",
   "name": "python",
   "nbconvert_exporter": "python",
   "pygments_lexer": "ipython3",
   "version": "3.8.16"
  },
  "orig_nbformat": 4
 },
 "nbformat": 4,
 "nbformat_minor": 2
}
