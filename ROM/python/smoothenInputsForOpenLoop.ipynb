{
 "cells": [
  {
   "cell_type": "markdown",
   "metadata": {},
   "source": [
    "### Create perturbed and unperturbed trajectories"
   ]
  },
  {
   "cell_type": "code",
   "execution_count": 1,
   "metadata": {},
   "outputs": [],
   "source": [
    "from os import listdir\n",
    "from os.path import join, isdir\n",
    "import pickle\n",
    "import yaml\n",
    "import numpy as np\n",
    "np.set_printoptions(linewidth=100)"
   ]
  },
  {
   "cell_type": "code",
   "execution_count": 2,
   "metadata": {},
   "outputs": [],
   "source": [
    "%load_ext autoreload\n",
    "%autoreload 2\n",
    "import utils as utils\n",
    "import plot_utils as plot\n",
    "from interpolators import InterpolatorFactory"
   ]
  },
  {
   "cell_type": "code",
   "execution_count": 3,
   "metadata": {},
   "outputs": [],
   "source": [
    "%matplotlib qt\n",
    "import matplotlib.pyplot as plt"
   ]
  },
  {
   "cell_type": "code",
   "execution_count": 4,
   "metadata": {},
   "outputs": [],
   "source": [
    "# # Adiabatic SSM settings\n",
    "# ROMOrder = 3\n",
    "# # N_samples = 100\n",
    "# DT = 0.01\n",
    "# INTERPOLATE = \"reduced_coords\" # \"xyz\" # \"xy\" # \"reduced_coords\""
   ]
  },
  {
   "cell_type": "code",
   "execution_count": 5,
   "metadata": {},
   "outputs": [],
   "source": [
    "observables = \"delay-embedding\" # \"delay-embedding\" # \"pos-vel\" # \n",
    "N_DELAY = 4 # only relevant if observables is \"delay-embedding\"\n",
    "TIP_NODE = 51\n",
    "N_NODES = 709\n",
    "INPUT_DIM = 8\n",
    "DT = 0.01\n",
    "\n",
    "rDOF = 3\n",
    "oDOF = 3\n",
    "SSMDim = 6\n",
    "\n",
    "robot_dir = \"../../../soft-robot-control/examples/trunk\"\n",
    "rest_file = join(robot_dir, 'rest_qv.pkl')\n",
    "\n",
    "# # load rest position\n",
    "# with open(rest_file, 'rb') as f:\n",
    "#     rest_data = pickle.load(f)\n",
    "#     rest_q = rest_data['q'][0]"
   ]
  },
  {
   "cell_type": "code",
   "execution_count": 6,
   "metadata": {},
   "outputs": [],
   "source": [
    "ALPHA = 3.0"
   ]
  },
  {
   "cell_type": "markdown",
   "metadata": {},
   "source": [
    "Track an ideal circle using a previous controller (SSMR)."
   ]
  },
  {
   "cell_type": "code",
   "execution_count": 7,
   "metadata": {},
   "outputs": [
    {
     "name": "stderr",
     "output_type": "stream",
     "text": [
      "WARNING:jax._src.lib.xla_bridge:No GPU/TPU found, falling back to CPU. (Set TF_CPP_MIN_LOG_LEVEL=0 and rerun for more info.)\n"
     ]
    },
    {
     "name": "stdout",
     "output_type": "stream",
     "text": [
      "z.shape: (3, 511)\n",
      "u.shape: (8, 511)\n"
     ]
    }
   ],
   "source": [
    "traj_dir = \"/media/jonas/Backup Plus/jonas_soft_robot_data/autonomous_ASSM_tests\"\n",
    "(t, z), u = utils.import_pos_data(data_dir=join(traj_dir, \"circle_ideal_using-ssmr-controller\", f\"alpha={ALPHA:.1f}\"),\n",
    "                                  rest_file=rest_file,\n",
    "                                  output_node=TIP_NODE, return_inputs=True)\n",
    "print(\"z.shape:\", z.shape)\n",
    "print(\"u.shape:\", u.shape)"
   ]
  },
  {
   "cell_type": "markdown",
   "metadata": {},
   "source": [
    "Smoothen inputs"
   ]
  },
  {
   "cell_type": "code",
   "execution_count": 8,
   "metadata": {},
   "outputs": [],
   "source": [
    "from copy import deepcopy"
   ]
  },
  {
   "cell_type": "code",
   "execution_count": 9,
   "metadata": {},
   "outputs": [],
   "source": [
    "def smooth(weights, arr):\n",
    "   # pad with left and right values to avoid boundary effects\n",
    "   arr_padded = np.concatenate((arr[0]*np.ones(len(weights)//2), arr, arr[-1]*np.ones(len(weights)//2-1)))\n",
    "   return np.convolve(weights/weights.sum(), arr_padded, mode='valid')"
   ]
  },
  {
   "cell_type": "code",
   "execution_count": 10,
   "metadata": {},
   "outputs": [],
   "source": [
    "u_smooth = deepcopy(u)\n",
    "smooth_window_size = 20\n",
    "for i in range(u.shape[0]):\n",
    "    u_smooth[i, :] = smooth(np.hanning(smooth_window_size), u[i, :]) # [smooth_window_size//2:1-smooth_window_size//2]"
   ]
  },
  {
   "cell_type": "markdown",
   "metadata": {},
   "source": [
    "Increase sampling rate"
   ]
  },
  {
   "cell_type": "code",
   "execution_count": 11,
   "metadata": {},
   "outputs": [],
   "source": [
    "# from scipy.interpolate import interp1d\n",
    "# td = np.linspace(t[0], t[-1], len(t)*10)\n",
    "# f = interp1d(t, u_smooth, kind='linear')\n",
    "# ud_smooth = f(td)"
   ]
  },
  {
   "cell_type": "markdown",
   "metadata": {},
   "source": [
    "Plot the ideal trajectory"
   ]
  },
  {
   "cell_type": "code",
   "execution_count": 12,
   "metadata": {},
   "outputs": [],
   "source": [
    "plt.close('all')\n",
    "plot.inputs(t, u)\n",
    "plot.inputs(t, u_smooth)\n",
    "# plot.inputs(td, ud_smooth)"
   ]
  },
  {
   "cell_type": "markdown",
   "metadata": {},
   "source": [
    "Simulate two trajectories from this: one using the smoothened inputs ($z_0$); one using the smoothened inputs but with a perturbation before starting the trajectory ($z_0+\\varepsilon$)"
   ]
  },
  {
   "cell_type": "code",
   "execution_count": 13,
   "metadata": {},
   "outputs": [],
   "source": [
    "with open(join(traj_dir, \"OL_sim_ideal\", f\"alpha={ALPHA:.1f}\", \"u_ideal.pkl\"), \"wb\") as f:\n",
    "    model = pickle.dump(u_smooth, f)\n",
    "# with open(join(traj_dir, \"u_ideal_1ms.pkl\"), \"wb\") as f:\n",
    "#     model = pickle.dump(ud_smooth, f)"
   ]
  },
  {
   "cell_type": "code",
   "execution_count": 14,
   "metadata": {},
   "outputs": [],
   "source": [
    "# add perturbation to idle 10ms inputs\n",
    "perturbation = np.array([50, 0, 0, 0, 50, 0, 0, 0]).reshape(-1, 1)\n",
    "\n",
    "# 10 ms\n",
    "u_perturbed = deepcopy(u_smooth)\n",
    "u_perturbed[:, 100:300] += perturbation\n",
    "with open(join(traj_dir, \"OL_sim_perturbed\", f\"alpha={ALPHA:.1f}\", \"u_perturbed.pkl\"), \"wb\") as f:\n",
    "    model = pickle.dump(u_perturbed, f)\n",
    "    \n",
    "# # 1ms\n",
    "# ud_perturbed = deepcopy(ud_smooth)\n",
    "# ud_perturbed[:, 1000:2000] += perturbation\n",
    "# with open(join(traj_dir, \"u_perturbed_1ms.pkl\"), \"wb\") as f:\n",
    "#     model = pickle.dump(ud_perturbed, f)"
   ]
  },
  {
   "cell_type": "code",
   "execution_count": 15,
   "metadata": {},
   "outputs": [],
   "source": [
    "plt.close('all')\n",
    "plot.inputs(t, u_perturbed)\n",
    "plot.inputs(t, u_smooth)\n",
    "# plot.inputs(td, ud_perturbed)"
   ]
  },
  {
   "cell_type": "markdown",
   "metadata": {},
   "source": [
    "Finally, do open-loop simulations using these two input sequences in SOFA using:\n",
    "- u_perturbed\n",
    "- u_ideal\n",
    "\n",
    "Save as OL_sim_ideal_snapshots in the correct folders corresponding to the given alpha value."
   ]
  }
 ],
 "metadata": {
  "kernelspec": {
   "display_name": "soft",
   "language": "python",
   "name": "python3"
  },
  "language_info": {
   "codemirror_mode": {
    "name": "ipython",
    "version": 3
   },
   "file_extension": ".py",
   "mimetype": "text/x-python",
   "name": "python",
   "nbconvert_exporter": "python",
   "pygments_lexer": "ipython3",
   "version": "3.8.16"
  },
  "orig_nbformat": 4
 },
 "nbformat": 4,
 "nbformat_minor": 2
}
