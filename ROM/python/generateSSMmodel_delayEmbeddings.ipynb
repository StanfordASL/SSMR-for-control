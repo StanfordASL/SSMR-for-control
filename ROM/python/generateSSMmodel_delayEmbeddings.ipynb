{
 "cells": [
  {
   "attachments": {},
   "cell_type": "markdown",
   "metadata": {},
   "source": [
    "# SSMR: generate SSM model from trajectory data"
   ]
  },
  {
   "cell_type": "code",
   "execution_count": 1,
   "metadata": {},
   "outputs": [],
   "source": [
    "import numpy as np\n",
    "from scipy.io import loadmat\n",
    "from copy import deepcopy"
   ]
  },
  {
   "cell_type": "code",
   "execution_count": 2,
   "metadata": {},
   "outputs": [],
   "source": [
    "%matplotlib qt\n",
    "import matplotlib.pyplot as plt"
   ]
  },
  {
   "cell_type": "code",
   "execution_count": 3,
   "metadata": {},
   "outputs": [],
   "source": [
    "%load_ext autoreload\n",
    "%autoreload 2\n",
    "import utils as utils\n",
    "import plot_utils as plot"
   ]
  },
  {
   "cell_type": "code",
   "execution_count": 4,
   "metadata": {},
   "outputs": [],
   "source": [
    "np.set_printoptions(linewidth=300)"
   ]
  },
  {
   "cell_type": "code",
   "execution_count": 5,
   "metadata": {},
   "outputs": [],
   "source": [
    "use_data = \"john\" # \"john\""
   ]
  },
  {
   "cell_type": "code",
   "execution_count": 6,
   "metadata": {},
   "outputs": [],
   "source": [
    "# import os\n",
    "# import pickle\n",
    "\n",
    "# diamond_dir = \"../../../soft-robot-control/examples/diamond\"\n",
    "# decayData_dir = os.path.join(diamond_dir, \"dataCollection/\")\n",
    "\n",
    "# OUTPUT_NODE = 1354\n",
    "# t_in = 1.2\n",
    "# t_out = 3.0\n",
    "\n",
    "# oData = []\n",
    "\n",
    "# with open(os.path.join(diamond_dir, 'rest.pkl'), 'rb') as file:\n",
    "#     q_rest = np.array(pickle.load(file)['rest'])\n",
    "\n",
    "# print(q_rest)\n",
    "\n",
    "# decayData_files = sorted([f for f in os.listdir(decayData_dir) if '.pkl' in f]) # [0:1]\n",
    "# plt.close('all')\n",
    "\n",
    "# for i, traj in enumerate(decayData_files):\n",
    "#     with open(os.path.join(decayData_dir, traj), 'rb') as file:\n",
    "#         data = pickle.load(file)\n",
    "\n",
    "#     t = np.array(data['t'])\n",
    "#     q_tip = (np.array(data['q'])[:, 3*OUTPUT_NODE:3*OUTPUT_NODE+3] - q_rest[3*OUTPUT_NODE:3*OUTPUT_NODE+3]).T\n",
    "#     q_dot_tip = np.gradient(q_tip, axis=1)\n",
    "\n",
    "#     # remove time until t_in\n",
    "#     ind = (t_in <= t) & (t <= t_out)\n",
    "#     t = t[ind] - t_in\n",
    "#     q_tip = q_tip[:, ind]\n",
    "#     q_dot_tip = q_dot_tip[:, ind]\n",
    "\n",
    "#     oData_traj = np.vstack([q_tip, q_dot_tip])\n",
    "\n",
    "#     oData.append([t, oData_traj])"
   ]
  },
  {
   "attachments": {},
   "cell_type": "markdown",
   "metadata": {},
   "source": [
    "## Import and inspect data\n",
    "See mat file in URL"
   ]
  },
  {
   "cell_type": "code",
   "execution_count": 7,
   "metadata": {},
   "outputs": [
    {
     "name": "stdout",
     "output_type": "stream",
     "text": [
      "nTRAJ: 52\n",
      "(4884, 4) (9768, 6) (4884, 4884)\n"
     ]
    }
   ],
   "source": [
    "dataDecayObs = loadmat(\"../dataDecayObs.mat\") # , simplify_cells=True)\n",
    "\n",
    "\n",
    "Data = {}\n",
    "if use_data == \"john\":\n",
    "    Data['oData'] = dataDecayObs['oData'].tolist()\n",
    "    # Data['yData'] = dataDecayObs['yData'].tolist()\n",
    "    # Xsnapshots = dataDecayObs['Xsnapshots']\n",
    "    for i in range(len(Data['oData'])):\n",
    "        Data['oData'][i][0] = Data['oData'][i][0].squeeze()\n",
    "        # Data['yData'][i][0] = Data['yData'][i][0].squeeze()\n",
    "else: # use my data\n",
    "    Data['oData'] = oData\n",
    "\n",
    "H = np.array(dataDecayObs['H'])\n",
    "V = np.array(dataDecayObs['V'])\n",
    "M = np.array(dataDecayObs['M'])\n",
    "\n",
    "# oData = dataDecayObs['oData']\n",
    "# yData = dataDecayObs['yData']\n",
    "\n",
    "rDOF = 3\n",
    "oDOF = 3\n",
    "nTRAJ = len(Data['oData'])\n",
    "# nDOF = len(Xsnapshots)//2\n",
    "\n",
    "print(\"nTRAJ:\", nTRAJ)\n",
    "print(H.shape, V.shape, M.shape)"
   ]
  },
  {
   "cell_type": "code",
   "execution_count": 8,
   "metadata": {},
   "outputs": [],
   "source": [
    "# print(V[:nDOF, :rDOF].shape)\n",
    "# print(Data['oData'][0][1][:3, :].shape)\n",
    "# test_y = V[:nDOF, :rDOF].T @ Data['oData'][0][1][:3, :]\n",
    "# print(test_y.shape)\n",
    "# print(np.allclose(test_y, Data['yData'][0][1]))"
   ]
  },
  {
   "attachments": {},
   "cell_type": "markdown",
   "metadata": {},
   "source": [
    "### Plot trajectories in an observable of interest"
   ]
  },
  {
   "cell_type": "code",
   "execution_count": 9,
   "metadata": {},
   "outputs": [],
   "source": [
    "outdofs = [0, 1, 2]\n",
    "plt.close('all')\n",
    "# plot trajectories in 3D [x, y, z] space\n",
    "plot.traj_3D(Data,\n",
    "             xyz_idx=[('oData', 0), ('oData', 1), ('oData', 2)],\n",
    "             xyz_names=[r'$x$', r'$y$', r'$z$'])\n",
    "# plot evolution of x, y and z in time, separately in 3 subplots\n",
    "plot.traj_xyz(Data,\n",
    "             xyz_idx=[('oData', 0), ('oData', 1), ('oData', 2)],\n",
    "             xyz_names=[r'$x$', r'$y$', r'$z$'])\n",
    "# plot trajectories in 3D [x, x_dot, z] space / NB: x_dot = v_x\n",
    "plot.traj_3D(Data,\n",
    "             xyz_idx=[('oData', 0), ('oData', 0+oDOF), ('oData', 2)],\n",
    "             xyz_names=[r'$x$', r'$\\dot{x}$', r'$z$'])"
   ]
  },
  {
   "attachments": {},
   "cell_type": "markdown",
   "metadata": {},
   "source": [
    "Compute reduced coordinates using delay embedding on the available oData"
   ]
  },
  {
   "cell_type": "code",
   "execution_count": 10,
   "metadata": {},
   "outputs": [],
   "source": [
    "Data['yData'] = deepcopy(Data['oData'])\n",
    "for i in range(nTRAJ):\n",
    "    delay_embedded_traj = utils.delayEmbedding(Data['oData'][i][1], up_to_delay=4)\n",
    "    Data['yData'][i][1] = delay_embedded_traj[:, :-4]\n",
    "    Data['yData'][i][0] = Data['yData'][i][0][4:]"
   ]
  },
  {
   "cell_type": "code",
   "execution_count": 11,
   "metadata": {},
   "outputs": [],
   "source": [
    "# Data['oData'][0][1][:, :10]"
   ]
  },
  {
   "cell_type": "code",
   "execution_count": 12,
   "metadata": {},
   "outputs": [],
   "source": [
    "# print(Data['yData'][0][0].shape, Data['yData'][0][1].shape)\n",
    "# Data['yData'][0][1][:, :5]"
   ]
  },
  {
   "cell_type": "code",
   "execution_count": 13,
   "metadata": {},
   "outputs": [],
   "source": [
    "t_interval = [0.14, 2.6]\n",
    "Data['oDataTrunc'] = utils.slice_trajectories(Data['oData'], t_interval)\n",
    "Data['yDataTrunc'] = utils.slice_trajectories(Data['yData'], t_interval)"
   ]
  },
  {
   "cell_type": "code",
   "execution_count": 14,
   "metadata": {},
   "outputs": [],
   "source": [
    "# print(Data['yDataTrunc'][0][1].shape)\n",
    "# Data['yDataTrunc'][0][1][:, :5]"
   ]
  },
  {
   "attachments": {},
   "cell_type": "markdown",
   "metadata": {},
   "source": [
    "## Obtain reduced-order coordinates"
   ]
  },
  {
   "attachments": {},
   "cell_type": "markdown",
   "metadata": {},
   "source": [
    "### Perform PCA on delay-embedded coordinates to obtain reduced coordinates"
   ]
  },
  {
   "cell_type": "code",
   "execution_count": 15,
   "metadata": {},
   "outputs": [],
   "source": [
    "# Perform SVD on displacement field\n",
    "# if use_data == \"mine\":\n",
    "from scipy.sparse.linalg import svds\n",
    "\n",
    "Xsnapshots = np.hstack([yDataTrunc[1] for yDataTrunc in Data['yDataTrunc']])\n",
    "# subsample dt=0.01\n",
    "Xsnapshots = Xsnapshots[:, ::10]\n",
    "\n",
    "# print(Xsnapshots.shape)\n",
    "# print(Xsnapshots[:, 0:10])\n",
    "\n",
    "v, s, u = svds(Xsnapshots, k=6, which=\"LM\")\n",
    "ind = np.argsort(s)[::-1]\n",
    "s = s[ind]\n",
    "v = v[:, ind]\n",
    "# v, s, _ = np.linalg.svd(Xsnapshots, compute_uv=True)\n",
    "# print(s)\n",
    "# print(v)\n",
    "l2vals = s**2"
   ]
  },
  {
   "cell_type": "code",
   "execution_count": 16,
   "metadata": {},
   "outputs": [
    {
     "data": {
      "text/plain": [
       "array([[ 1.01956581e-01, -9.21880467e-02,  4.27299700e-01,  2.13248182e-01, -1.67898979e-01,  5.72452508e-01],\n",
       "       [-5.14517774e-02, -4.38339866e-01, -8.20352879e-02, -1.15774514e-01, -6.07938090e-01, -1.35280273e-01],\n",
       "       [ 4.35592362e-01, -3.05694648e-02, -1.11320517e-01,  5.84687146e-01, -5.87505828e-02, -2.34401638e-01],\n",
       "       [ 1.01611316e-01, -9.17293617e-02,  4.26754308e-01,  1.05955097e-01, -8.32876082e-02,  2.83397760e-01],\n",
       "       [-5.09870215e-02, -4.37703315e-01, -8.18118697e-02, -5.76689907e-02, -3.01049375e-01, -6.71567748e-02],\n",
       "       [ 4.34221307e-01, -3.01021336e-02, -1.10247266e-01,  2.88597027e-01, -2.93481965e-02, -1.15966258e-01],\n",
       "       [ 1.01239240e-01, -9.12439610e-02,  4.26078570e-01, -5.22574245e-04,  6.74482547e-04, -3.62501323e-03],\n",
       "       [-5.05078877e-02, -4.36935324e-01, -8.15658025e-02, -4.65884478e-05,  3.66973277e-03,  5.60147181e-04],\n",
       "       [ 4.32758271e-01, -2.96354305e-02, -1.09162807e-01, -5.02678210e-03, -5.13895911e-05,  1.51310995e-03],\n",
       "       [ 1.00840653e-01, -9.07322467e-02,  4.25273692e-01, -1.06162198e-01,  8.39659739e-02, -2.88535184e-01],\n",
       "       [-5.00146425e-02, -4.36037118e-01, -8.12973008e-02,  5.70778638e-02,  3.06139148e-01,  6.78517358e-02],\n",
       "       [ 4.31204294e-01, -2.91694130e-02, -1.08067465e-01, -2.96115802e-01,  2.91323403e-02,  1.18003467e-01],\n",
       "       [ 1.00415869e-01, -9.01946241e-02,  4.24340911e-01, -2.10941566e-01,  1.66565923e-01, -5.71253461e-01],\n",
       "       [-4.95076226e-02, -4.35009967e-01, -8.10065739e-02,  1.13690598e-01,  6.06280246e-01,  1.34699664e-01],\n",
       "       [ 4.29560515e-01, -2.87041224e-02, -1.06961577e-01, -5.84603861e-01,  5.81952555e-02,  2.33472184e-01]])"
      ]
     },
     "execution_count": 16,
     "metadata": {},
     "output_type": "execute_result"
    }
   ],
   "source": [
    "v"
   ]
  },
  {
   "cell_type": "code",
   "execution_count": 17,
   "metadata": {},
   "outputs": [],
   "source": [
    "# Plot variance description: we expect three modes to capture almost all variance.\n",
    "# Note we assume data centered around the origin, which is the fixed point of our system.\n",
    "plt.close('all')\n",
    "plot.pca_modes(l2vals, up_to_mode=9)"
   ]
  },
  {
   "attachments": {},
   "cell_type": "markdown",
   "metadata": {},
   "source": [
    "### Project delay-embedded data onto dominant modes"
   ]
  },
  {
   "cell_type": "code",
   "execution_count": 18,
   "metadata": {},
   "outputs": [],
   "source": [
    "from copy import deepcopy\n",
    "Data['etaDataTrunc'] = deepcopy(Data['yDataTrunc'])\n",
    "SSMDim = 6\n",
    "Vde = v[:, :SSMDim]\n",
    "for i in range(nTRAJ):\n",
    "    Data['etaDataTrunc'][i][1] = Vde.T @ Data['yDataTrunc'][i][1]"
   ]
  },
  {
   "cell_type": "code",
   "execution_count": 19,
   "metadata": {},
   "outputs": [
    {
     "data": {
      "text/plain": [
       "array([[25.74353323, 26.01548912, 26.2751917 , 26.52269308, 26.75804898],\n",
       "       [44.48464414, 45.45355914, 46.40124784, 47.32755067, 48.23231777],\n",
       "       [ 4.11636981,  4.28676953,  4.45619188,  4.62458428,  4.79189481],\n",
       "       [-0.54500073, -0.52583341, -0.5066859 , -0.48756475, -0.46847626],\n",
       "       [-1.5101942 , -1.48439876, -1.45829789, -1.43190461, -1.40523194],\n",
       "       [-0.24783287, -0.24749892, -0.24707771, -0.24657   , -0.24597661]])"
      ]
     },
     "execution_count": 19,
     "metadata": {},
     "output_type": "execute_result"
    }
   ],
   "source": [
    "Data['etaDataTrunc'][0][1][:, :5]"
   ]
  },
  {
   "cell_type": "code",
   "execution_count": 20,
   "metadata": {},
   "outputs": [],
   "source": [
    "plt.close('all')\n",
    "# plot first three reduced coordinates\n",
    "plot.traj_xyz(Data,\n",
    "              xyz_idx=[('etaDataTrunc', 0), ('etaDataTrunc', 1), ('etaDataTrunc', 2)],\n",
    "              xyz_names=[r'$u_1$', r'$u_2$', r'$u_3$'])"
   ]
  },
  {
   "attachments": {},
   "cell_type": "markdown",
   "metadata": {},
   "source": [
    "### Train and test data (train/test split)"
   ]
  },
  {
   "cell_type": "code",
   "execution_count": 21,
   "metadata": {},
   "outputs": [],
   "source": [
    "indTest = [0, 2, 4, 6, 8, 10, 12, 14]\n",
    "indTrain = [i for i in range(nTRAJ) if i not in indTest]"
   ]
  },
  {
   "attachments": {},
   "cell_type": "markdown",
   "metadata": {},
   "source": [
    "## SSMLearn"
   ]
  },
  {
   "attachments": {},
   "cell_type": "markdown",
   "metadata": {},
   "source": [
    "Start Matlab engine and install/run SSMLearn"
   ]
  },
  {
   "cell_type": "code",
   "execution_count": 22,
   "metadata": {},
   "outputs": [
    {
     "name": "stdout",
     "output_type": "stream",
     "text": [
      "SSMLearn: Data-driven Reduced Order Models for Nonlinear Dynamical Systems\n",
      "Maintained by Mattia Cenedese (mattiac@ethz.ch) and Joar Ax\u001as (jgoeransson@ethz.ch)\n",
      "License: GNUv3.0\n",
      "Warning: Name is nonexistent or not a directory: /home/jonas/Projects/stanford/SSMR-for-control/modal_trajectory_data/check_model\n",
      "> In path (line 109)\n",
      "In addpath (line 86)\n",
      "In install (line 20)\n"
     ]
    },
    {
     "data": {
      "text/plain": [
       "'/home/jonas/Projects/stanford/SSMR-for-control'"
      ]
     },
     "execution_count": 22,
     "metadata": {},
     "output_type": "execute_result"
    }
   ],
   "source": [
    "import matlab.engine\n",
    "eng = matlab.engine.start_matlab()\n",
    "eng.cd(\"../..\", nargout=0)\n",
    "eng.install(nargout=0)\n",
    "eng.cd(\"ROM/\")"
   ]
  },
  {
   "attachments": {},
   "cell_type": "markdown",
   "metadata": {},
   "source": [
    "Bring data in a format that is accepted by the (slightly modified) version of SSMLearn (requires a specific cell array structure for input data)"
   ]
  },
  {
   "cell_type": "code",
   "execution_count": 23,
   "metadata": {},
   "outputs": [],
   "source": [
    "# make data ready for Matlab\n",
    "yDataTruncTrain_matlab = [[], []]\n",
    "etaDataTruncTrain_matlab = [[], []]\n",
    "for i in indTrain:\n",
    "    yDataTruncTrain_matlab[0].append(matlab.double(initializer=Data['yDataTrunc'][i][0].tolist()))\n",
    "    yDataTruncTrain_matlab[1].append(matlab.double(initializer=Data['yDataTrunc'][i][1].tolist()))\n",
    "    etaDataTruncTrain_matlab[0].append(matlab.double(initializer=Data['etaDataTrunc'][i][0].tolist()))\n",
    "    etaDataTruncTrain_matlab[1].append(matlab.double(initializer=Data['etaDataTrunc'][i][1].tolist()))\n"
   ]
  },
  {
   "attachments": {},
   "cell_type": "markdown",
   "metadata": {},
   "source": [
    "### Learn geometry of the SSM"
   ]
  },
  {
   "attachments": {},
   "cell_type": "markdown",
   "metadata": {},
   "source": [
    "Find parametrization of SSM using SSMLearn"
   ]
  },
  {
   "cell_type": "code",
   "execution_count": 24,
   "metadata": {},
   "outputs": [
    {
     "name": "stdout",
     "output_type": "stream",
     "text": [
      "Data seems to have been fed from Python!\n"
     ]
    }
   ],
   "source": [
    "SSMDim = 2*rDOF\n",
    "obsDim = 2*oDOF\n",
    "SSMOrder = 3\n",
    "\n",
    "IMInfo = eng.IMGeometry(yDataTruncTrain_matlab, SSMDim, SSMOrder,\n",
    "                        'reducedCoordinates', etaDataTruncTrain_matlab)\n",
    "# IMInfoInv = eng.IMGeometry(yDataTruncTrain_matlab, obsDim, SSMOrder,\n",
    "#                            'reducedCoordinates', oDataTruncTrain_matlab)\n"
   ]
  },
  {
   "cell_type": "code",
   "execution_count": 25,
   "metadata": {},
   "outputs": [
    {
     "data": {
      "text/plain": [
       "array([[ 1.01962690e-01, -9.21911874e-02,  4.27302257e-01, ...,  4.09101164e-05,  1.18111170e-04,  5.08472336e-06],\n",
       "       [-5.14511687e-02, -4.38344048e-01, -8.20357237e-02, ...,  4.59872975e-05, -2.70030467e-04, -4.77358599e-05],\n",
       "       [ 4.35551032e-01, -3.05669371e-02, -1.11295195e-01, ..., -7.55447305e-05, -2.76211344e-05, -1.03964633e-04],\n",
       "       ...,\n",
       "       [ 1.00421994e-01, -9.01977590e-02,  4.24343482e-01, ...,  3.82420130e-05,  1.14311338e-04,  5.65031151e-06],\n",
       "       [-4.95069574e-02, -4.35014138e-01, -8.10070339e-02, ...,  4.44543349e-05, -2.67704996e-04, -4.72408097e-05],\n",
       "       [ 4.29518860e-01, -2.87015513e-02, -1.06936054e-01, ..., -7.69554606e-05, -2.05630754e-05, -1.05206974e-04]])"
      ]
     },
     "execution_count": 25,
     "metadata": {},
     "output_type": "execute_result"
    }
   ],
   "source": [
    "np.array(IMInfo['parametrization']['H'])"
   ]
  },
  {
   "attachments": {},
   "cell_type": "markdown",
   "metadata": {},
   "source": [
    "### Learn dynamics on the SSM (reduced dynamics)"
   ]
  },
  {
   "attachments": {},
   "cell_type": "markdown",
   "metadata": {},
   "source": [
    "Find parametrization of reduced dynamics using SSMLearn"
   ]
  },
  {
   "cell_type": "code",
   "execution_count": 26,
   "metadata": {},
   "outputs": [
    {
     "name": "stdout",
     "output_type": "stream",
     "text": [
      "Data seems to have been fed from Python!\n",
      "Estimation of the reduced dynamics... \n",
      "\b Done. \n"
     ]
    }
   ],
   "source": [
    "ROMOrder = 3\n",
    "RDInfo = eng.IMDynamicsFlow(etaDataTruncTrain_matlab, 'R_PolyOrd', ROMOrder, 'style', 'default')"
   ]
  },
  {
   "cell_type": "code",
   "execution_count": 27,
   "metadata": {},
   "outputs": [
    {
     "data": {
      "text/plain": [
       "array([[-3.57556301e+00,  1.05104875e+00,  1.91750494e+00, -7.00281632e+02,  2.89090674e+01,  9.12651121e+01,  1.61445958e-05,  6.23093123e-08, -5.44146863e-06, -5.61675794e-05,  1.39556888e-04, -2.99683097e-04, -1.40229187e-07,  1.04653519e-06, -3.17041143e-04, -2.08483271e-04, -4.29764136e-05,\n",
       "        -9.01717098e-08, -1.56027807e-04,  3.52283347e-04,  2.13908148e-05,  2.08613666e-03,  2.94487445e-03, -3.37538704e-03, -8.36837172e-04, -6.18240489e-03,  7.64772492e-04,  6.73024810e-08,  1.09547951e-07,  3.73182196e-10, -4.58934045e-06, -1.56122993e-05, -5.61625275e-06, -6.45350860e-08,\n",
       "        -1.48039001e-07,  2.11327087e-05, -6.23310903e-06,  3.55877007e-05, -5.43204206e-08,  8.54705455e-06, -3.90749998e-05,  4.28403101e-07, -1.15896229e-04,  3.51695771e-04,  6.98767688e-04,  7.10300821e-04, -5.34009507e-04, -1.51819901e-04, -5.15829150e-08,  8.16491424e-09,  7.51549379e-06,\n",
       "        -2.44781280e-06,  6.44595051e-06,  6.58614133e-08, -8.44284942e-06, -4.95477809e-06, -1.98033174e-05, -2.53556134e-04, -3.21443401e-04, -5.14126934e-04, -6.73430443e-05, -1.62501056e-03, -1.80389006e-05, -4.25520131e-09, -2.32698703e-06,  2.75614639e-05,  9.69097688e-08,  1.11874308e-04,\n",
       "         2.87641522e-04, -5.58551854e-05,  1.23959724e-03,  4.51212406e-04, -3.66512691e-04,  3.36600107e-03,  1.41740097e-04,  8.88535323e-03, -6.23123257e-03, -1.02202299e-02, -7.21604618e-03, -1.10465812e-03, -7.35324598e-04,  1.02867131e-02, -4.42047665e-04],\n",
       "       [-6.62713854e-01, -2.11181561e+00, -3.85930151e-01, -3.35822011e+01, -7.05171705e+02, -3.43191253e+01, -2.28750786e-06,  6.25495724e-06,  1.73716246e-07,  7.30990610e-05, -5.84958953e-05, -2.40245872e-05,  1.09576961e-06, -4.08908143e-06, -6.35082404e-05,  8.99090915e-05, -2.52472836e-04,\n",
       "         1.03592977e-07,  7.88316117e-05,  3.14321129e-04,  3.04527298e-05, -8.36349840e-04, -1.82053348e-02,  1.07538885e-03,  1.16878511e-03,  1.29644164e-02, -1.13625231e-03, -5.76023556e-09, -2.22888102e-08, -2.06490968e-09,  5.07420552e-07,  6.10718626e-06,  1.24129685e-07, -2.67449971e-08,\n",
       "         2.50202680e-08, -1.08949533e-05, -2.07851788e-06, -1.35685438e-05,  2.92190982e-08, -4.41644257e-07,  2.16743576e-05, -2.26590414e-07,  3.71339568e-05,  1.18649949e-04, -7.55186461e-05,  3.38679842e-04,  8.01621767e-05, -4.93791607e-05,  6.41438249e-09,  9.67378746e-09,  7.46319925e-07,\n",
       "         1.79670849e-06, -1.19676277e-06,  8.23802185e-09,  3.89106277e-07, -1.72610633e-06,  1.42697372e-06,  1.32915091e-04, -3.80545671e-04, -4.94353167e-04, -2.66802666e-05, -4.03051776e-04,  1.16258923e-03, -1.25198451e-09,  1.08933757e-06,  3.71780046e-07,  5.79525078e-07, -7.87718894e-06,\n",
       "         3.69323364e-04, -2.82077646e-05,  4.34034559e-04, -1.15245946e-03, -8.48300222e-06,  2.37477000e-04, -2.49988992e-03, -8.40602466e-04,  3.95107912e-03,  1.09977462e-02,  2.65745207e-03,  3.45614641e-03,  6.63229742e-03, -1.15880224e-02, -2.98428453e-03],\n",
       "       [-1.96769681e-01,  4.67397119e-01, -2.27184679e+00, -8.96547753e+01,  3.83429209e+01, -7.00042896e+02, -7.99102671e-06, -2.15248620e-06,  8.81311795e-06, -8.25182854e-05, -8.05228707e-05, -9.33688810e-05, -1.75292765e-07, -1.73282797e-06,  3.96263337e-05,  1.13940420e-04, -2.54791495e-04,\n",
       "        -2.60797630e-06,  2.58470229e-04,  1.19644384e-04, -9.68713068e-06, -7.55167002e-03, -4.04408664e-03, -1.56530498e-02, -8.74875439e-04,  3.18339562e-03,  1.03408339e-02, -3.36267993e-08, -1.98072829e-08, -5.11498571e-08,  1.75566354e-07,  2.86353268e-06,  6.19031508e-06,  7.54951461e-08,\n",
       "         7.12374652e-08,  2.80860220e-06,  5.68971940e-06,  2.40839975e-06, -2.14706578e-08, -9.08534029e-06, -5.63124595e-07, -3.40604577e-06,  1.34000440e-04, -4.49820082e-04,  1.58308923e-04, -3.86330020e-04, -1.04840501e-04,  5.55629652e-04,  1.15601733e-08, -5.02886671e-09,  1.11223818e-06,\n",
       "        -2.01123642e-06,  1.38750425e-05, -7.26221408e-08,  1.99744902e-07, -1.56965763e-05,  2.22741599e-05,  7.14123327e-04,  4.25084733e-04,  2.02703109e-03, -3.03459706e-05,  2.16187642e-03,  4.05993417e-04,  2.19321879e-08,  2.52558869e-06, -2.50075250e-05, -1.17979686e-06,  6.99954799e-05,\n",
       "        -1.83679872e-03, -9.98053239e-04, -2.21958071e-03, -6.05396066e-04,  6.26961740e-05, -2.75762228e-03,  9.27307506e-04, -6.82873962e-04,  1.24696477e-02,  2.98259717e-03,  1.90174961e-02,  7.22416212e-03, -6.65444968e-03, -1.89940821e-02, -7.32405685e-05],\n",
       "       [ 4.35109204e-01,  3.49198570e-02,  2.47668854e-02, -3.54222229e+00, -1.26271828e+00, -2.24211688e+00,  1.63812398e-03,  5.79138759e-06, -9.82846396e-04, -4.46725261e-02,  7.44335838e-03, -7.18186959e-03, -2.63274581e-04, -4.94190901e-05, -1.74663634e-03, -5.63868051e-03,  3.33566074e-02,\n",
       "        -1.93837747e-04,  3.03563605e-03, -2.35371923e-02,  6.46485891e-03,  7.36280281e-01,  2.12038726e-01, -3.35280727e-01,  3.74431860e-01, -4.26690179e-01,  2.35824720e-01,  3.63683218e-06,  2.22675572e-06,  8.05913300e-06, -5.00075308e-04, -8.51819964e-05, -1.91369611e-04,  8.79078018e-06,\n",
       "        -9.69028682e-06, -1.21480009e-04, -3.56949531e-04, -3.31990526e-04,  1.84759083e-07,  1.17081996e-03, -1.02298213e-04,  1.29454243e-04, -1.82748900e-03,  5.01417623e-02,  3.32897369e-02, -4.04106654e-03, -1.19143551e-02,  1.14386940e-02, -6.51222268e-06, -3.63223963e-06,  1.58252201e-03,\n",
       "        -3.37797922e-04,  2.10638708e-03,  4.85498021e-06, -4.49154510e-04, -2.57448393e-03,  3.25425773e-05, -5.89109528e-02,  4.90528055e-02, -1.53008335e-01, -5.69063251e-03,  6.14699617e-02, -4.75421148e-03, -3.38777343e-06, -2.10923283e-04,  3.89722575e-04, -2.80176330e-04,  2.41895809e-02,\n",
       "         1.34173735e-01, -1.76373625e-02, -7.95067873e-02,  1.99586507e-02, -1.49332383e-02, -3.05450220e-01, -2.47507612e-01, -5.83278010e-02, -2.83693954e-01,  8.71273356e-01,  3.69478187e-01,  1.96949577e-01,  2.42986464e-01, -2.39415843e-01,  2.53332420e-01],\n",
       "       [-6.44962935e-03,  4.07924310e-01, -2.74878923e-02,  5.48826621e-01, -5.02752435e+00,  4.83582913e-01, -9.73844628e-05, -1.40949782e-05, -1.25847380e-05,  5.16879356e-03, -2.94818826e-02,  4.53030559e-03,  1.63276214e-04, -8.22654886e-05, -1.97523519e-02, -2.78021115e-04,  1.92336555e-02,\n",
       "         4.81402420e-06,  1.78003710e-03,  9.85786678e-03, -5.13901851e-04, -1.11843320e-01, -7.47649742e-01, -5.06076305e-02,  6.47074069e-02,  4.75782283e-01, -1.30070581e-01, -3.36990075e-07,  7.94315386e-07, -3.90689492e-07,  6.69807097e-05,  1.18239722e-04,  5.38955183e-05, -2.14212992e-06,\n",
       "         3.14791982e-06, -5.98660766e-05,  3.49796620e-04, -7.35922501e-04,  5.73290701e-07, -1.67127759e-04,  1.11659125e-03, -1.37364583e-04,  9.67411018e-04, -9.98920264e-03, -3.29441367e-03,  1.95473782e-02,  3.42085442e-03,  2.15746962e-03,  1.53572715e-06, -6.20340458e-07, -2.71251527e-04,\n",
       "         6.00353415e-05, -8.28244188e-05, -1.03402941e-07,  7.00806451e-06,  8.27875599e-05,  9.49569737e-04,  3.19714406e-02, -1.66898897e-02,  4.28466459e-02,  2.74472176e-03, -9.12618776e-03,  5.85418373e-02, -7.23542680e-07,  4.00658811e-05, -1.10168848e-03, -4.77741012e-05, -6.73809489e-03,\n",
       "        -4.50886398e-02, -5.28760553e-03,  2.40737006e-02, -8.05177639e-02, -4.86798228e-03, -4.77165024e-02, -4.80596789e-01,  1.13225495e-01,  2.21953832e-01,  8.52870162e-01,  2.05516991e-01,  2.13475693e-01,  1.37044619e-01, -7.27861500e-01, -1.63028577e-01],\n",
       "       [-8.76957413e-02,  1.90749583e-02,  4.27736356e-01,  1.66197473e-01, -2.87158391e-01, -4.84594149e+00, -8.86094069e-04, -1.73509958e-05,  3.09016145e-04,  1.55824916e-02, -7.31405178e-03, -1.04430948e-02,  7.14780692e-05, -9.50901097e-05,  2.95973371e-03,  5.74723499e-03, -3.19348679e-03,\n",
       "         1.29197858e-04, -3.06815993e-02,  1.34097885e-03,  1.16795718e-02, -3.78081268e-01, -2.45896905e-01, -5.35621323e-01, -1.70704158e-01,  1.19918116e-01,  4.09401017e-01, -2.15397895e-06,  4.46049812e-06, -3.18604941e-06,  3.27869623e-04, -7.10831299e-04,  4.48704168e-04,  6.30565356e-08,\n",
       "         7.26692557e-07,  1.37466627e-03,  2.84372907e-04,  3.05702530e-03, -2.75538464e-06, -5.29766782e-04, -3.71734062e-03,  9.94347912e-05,  7.58810449e-03, -3.44074516e-02, -1.14516184e-02, -1.46359618e-02, -1.13634247e-02,  2.28132352e-02,  3.46543470e-06, -2.11999138e-07, -8.80562710e-04,\n",
       "         1.27461311e-04, -3.14210954e-04, -5.55955211e-06,  6.99985581e-04,  2.66828112e-04,  9.09763412e-04,  3.86980727e-02, -1.29050324e-06,  1.15314369e-01,  8.57082403e-03,  2.18603428e-02,  2.99826768e-02,  2.64974258e-06, -4.31492665e-04, -1.05849373e-03, -5.75791592e-05,  2.84571153e-03,\n",
       "        -9.27795230e-02, -1.57375921e-02, -3.68552624e-02, -5.93491939e-02,  9.69729901e-03, -1.65794080e-01,  1.38730838e-01, -4.83068056e-01,  5.72156346e-01, -1.89504974e-01,  6.55289126e-01,  8.38577682e-02, -1.72374583e-01, -4.87561143e-01, -1.42127044e-01]])"
      ]
     },
     "execution_count": 27,
     "metadata": {},
     "output_type": "execute_result"
    }
   ],
   "source": [
    "np.array(RDInfo['reducedDynamics']['coefficients'])"
   ]
  },
  {
   "attachments": {},
   "cell_type": "markdown",
   "metadata": {},
   "source": [
    "Stop Matlab engine -- not needed anymore"
   ]
  },
  {
   "cell_type": "code",
   "execution_count": 28,
   "metadata": {},
   "outputs": [],
   "source": [
    "eng.quit()"
   ]
  },
  {
   "attachments": {},
   "cell_type": "markdown",
   "metadata": {},
   "source": [
    "## Analyze the obtained mappings of SSM geometry and reduced dynamics"
   ]
  },
  {
   "attachments": {},
   "cell_type": "markdown",
   "metadata": {},
   "source": [
    "### SSM geometry (parametrization)"
   ]
  },
  {
   "cell_type": "code",
   "execution_count": 29,
   "metadata": {},
   "outputs": [],
   "source": [
    "yRec = {}\n",
    "errorGeo = {}\n",
    "meanErrorGeo = {}"
   ]
  },
  {
   "attachments": {},
   "cell_type": "markdown",
   "metadata": {},
   "source": [
    "#### Train error"
   ]
  },
  {
   "cell_type": "code",
   "execution_count": 30,
   "metadata": {},
   "outputs": [
    {
     "name": "stdout",
     "output_type": "stream",
     "text": [
      "Average parametrization train error: 1.1909e-04\n"
     ]
    }
   ],
   "source": [
    "yRec['Train'] = utils.lift_trajectories(IMInfo, [Data['etaDataTrunc'][i] for i in indTrain])\n",
    "errorGeo['Train'] = utils.compute_trajectory_errors(yRec['Train'], [Data['yDataTrunc'][i] for i in indTrain])[0] * 100\n",
    "\n",
    "meanErrorGeo['Train'] = np.mean(errorGeo['Train'])\n",
    "print(f\"Average parametrization train error: {meanErrorGeo['Train']:.4e}\")"
   ]
  },
  {
   "attachments": {},
   "cell_type": "markdown",
   "metadata": {},
   "source": [
    "#### Test error"
   ]
  },
  {
   "cell_type": "code",
   "execution_count": 31,
   "metadata": {},
   "outputs": [
    {
     "name": "stdout",
     "output_type": "stream",
     "text": [
      "Average parametrization test error: 1.0340e-04\n"
     ]
    }
   ],
   "source": [
    "yRec['Test'] = utils.lift_trajectories(IMInfo, [Data['etaDataTrunc'][i] for i in indTest])\n",
    "errorGeo['Test'] = utils.compute_trajectory_errors(yRec['Test'], [Data['yDataTrunc'][i] for i in indTest])[0] * 100\n",
    "\n",
    "meanErrorGeo['Test'] = np.mean(errorGeo['Test'])\n",
    "print(f\"Average parametrization test error: {meanErrorGeo['Test']:.4e}\")"
   ]
  },
  {
   "attachments": {},
   "cell_type": "markdown",
   "metadata": {},
   "source": [
    "Plot comparison of SSM-predicted vs. actual test trajectories"
   ]
  },
  {
   "cell_type": "code",
   "execution_count": 32,
   "metadata": {},
   "outputs": [
    {
     "name": "stdout",
     "output_type": "stream",
     "text": [
      "(15, 2996)\n",
      "(15, 2460)\n"
     ]
    }
   ],
   "source": [
    "print(Data['yData'][0][1].shape)\n",
    "print(yRec['Test'][0][1].shape)"
   ]
  },
  {
   "cell_type": "code",
   "execution_count": 33,
   "metadata": {},
   "outputs": [],
   "source": [
    "plt.close('all')\n",
    "axs = plot.traj_xyz(Data,\n",
    "                    xyz_idx=[('yData', 0), ('yData', 1), ('yData', 2)],\n",
    "                    xyz_names=[r'$x$', r'$y$', r'$z$'],\n",
    "                    traj_idx=indTest,\n",
    "                    show=False)\n",
    "plot.traj_xyz(yRec,\n",
    "              xyz_idx=[('Test', 0), ('Test', 1), ('Test', 2)],\n",
    "              xyz_names=[r'$x$', r'$y$', r'$z$'],\n",
    "              axs=axs, ls=':', color='darkblue')"
   ]
  },
  {
   "attachments": {},
   "cell_type": "markdown",
   "metadata": {},
   "source": [
    "### Reduced dynamics"
   ]
  },
  {
   "cell_type": "code",
   "execution_count": 34,
   "metadata": {},
   "outputs": [
    {
     "name": "stdout",
     "output_type": "stream",
     "text": [
      "Average dynamics train error: 0.8390\n",
      "Average dynamics test error: 0.6147\n"
     ]
    }
   ],
   "source": [
    "etaRec = {}\n",
    "etaRec['RD'] = utils.advectRD(RDInfo, Data['etaDataTrunc'])[0]\n",
    "meanErrorDyn = {}\n",
    "\n",
    "normedTrajDist = utils.compute_trajectory_errors(etaRec['RD'], Data['etaDataTrunc'])[0]\n",
    "meanErrorDyn['Train'] = np.mean(normedTrajDist[indTrain]) * 100\n",
    "meanErrorDyn['Test'] = np.mean(normedTrajDist[indTest]) * 100\n",
    "\n",
    "print(f\"Average dynamics train error: {meanErrorDyn['Train']:.4f}\")\n",
    "print(f\"Average dynamics test error: {meanErrorDyn['Test']:.4f}\")"
   ]
  },
  {
   "cell_type": "code",
   "execution_count": 35,
   "metadata": {},
   "outputs": [],
   "source": [
    "plot_all = False\n",
    "if plot_all:\n",
    "    vPlot = range(nTRAJ)\n",
    "else:\n",
    "    vPlot = indTest\n",
    "\n",
    "plt.close('all')\n",
    "axs = plot.traj_xyz(Data,\n",
    "                    xyz_idx=[('etaDataTrunc', 0), ('etaDataTrunc', 1), ('etaDataTrunc', 2)],\n",
    "                    xyz_names=[r'$u_1$', r'$u_2$', r'$u_3$'],\n",
    "                    traj_idx=vPlot,\n",
    "                    show=False)\n",
    "plot.traj_xyz(etaRec,\n",
    "              xyz_idx=[('RD', 0), ('RD', 1), ('RD', 2)],\n",
    "              xyz_names=[r'$u_1$', r'$u_2$', r'$u_3$'],\n",
    "              traj_idx=vPlot,\n",
    "              axs=axs, ls=':', color='darkblue')\n"
   ]
  },
  {
   "attachments": {},
   "cell_type": "markdown",
   "metadata": {},
   "source": [
    "### Global error"
   ]
  },
  {
   "cell_type": "code",
   "execution_count": 36,
   "metadata": {},
   "outputs": [],
   "source": [
    "errorGlo = {}\n",
    "meanErrorGlo = {}"
   ]
  },
  {
   "attachments": {},
   "cell_type": "markdown",
   "metadata": {},
   "source": [
    "#### Train error"
   ]
  },
  {
   "cell_type": "code",
   "execution_count": 37,
   "metadata": {},
   "outputs": [
    {
     "name": "stdout",
     "output_type": "stream",
     "text": [
      "Average global train error: 0.8390\n"
     ]
    }
   ],
   "source": [
    "yRec['RDTrain'] = utils.lift_trajectories(IMInfo, [etaRec['RD'][i] for i in indTrain])\n",
    "errorGlo['Train'] = utils.compute_trajectory_errors(yRec['RDTrain'], [Data['yDataTrunc'][i] for i in indTrain])[0] * 100\n",
    "\n",
    "meanErrorGlo['Train'] = np.mean(errorGlo['Train'])\n",
    "print(f\"Average global train error: {meanErrorGlo['Train']:.4f}\")"
   ]
  },
  {
   "attachments": {},
   "cell_type": "markdown",
   "metadata": {},
   "source": [
    "#### Test error"
   ]
  },
  {
   "cell_type": "code",
   "execution_count": 38,
   "metadata": {},
   "outputs": [
    {
     "name": "stdout",
     "output_type": "stream",
     "text": [
      "Average global test error: 0.6147\n"
     ]
    }
   ],
   "source": [
    "yRec['RDTest'] = utils.lift_trajectories(IMInfo, [etaRec['RD'][i] for i in indTest])\n",
    "errorGlo['Test'] = utils.compute_trajectory_errors(yRec['RDTest'], [Data['yDataTrunc'][i] for i in indTest])[0] * 100\n",
    "\n",
    "meanErrorGlo['Test'] = np.mean(errorGlo['Test'])\n",
    "print(f\"Average global test error: {meanErrorGlo['Test']:.4f}\")"
   ]
  },
  {
   "cell_type": "code",
   "execution_count": 39,
   "metadata": {},
   "outputs": [],
   "source": [
    "plt.close('all')\n",
    "axs = plot.traj_xyz(Data,\n",
    "                    xyz_idx=[('yData', 0), ('yData', 1), ('yData', 2)],\n",
    "                    xyz_names=[r'$x$', r'$y$', r'$z$'],\n",
    "                    traj_idx=indTest,\n",
    "                    show=False)\n",
    "plot.traj_xyz(yRec,\n",
    "              xyz_idx=[('RDTest', 0), ('RDTest', 1), ('RDTest', 2)],\n",
    "              xyz_names=[r'$x$', r'$y$', r'$z$'],\n",
    "              axs=axs, ls=':', color='darkblue')"
   ]
  },
  {
   "attachments": {},
   "cell_type": "markdown",
   "metadata": {},
   "source": [
    "## Control"
   ]
  },
  {
   "attachments": {},
   "cell_type": "markdown",
   "metadata": {},
   "source": [
    "### Setup model for control"
   ]
  },
  {
   "cell_type": "code",
   "execution_count": 40,
   "metadata": {},
   "outputs": [],
   "source": [
    "from scipy.integrate import solve_ivp\n",
    "from scipy.interpolate import interp1d "
   ]
  },
  {
   "cell_type": "code",
   "execution_count": 77,
   "metadata": {},
   "outputs": [],
   "source": [
    "Rauton = utils.Rauton(RDInfo)\n",
    "Vauton = lambda x: IMInfo['parametrization']['H'] @ utils.multivariate_polynomial(x, IMInfo['parametrization']['polynomialOrder'])"
   ]
  },
  {
   "attachments": {},
   "cell_type": "markdown",
   "metadata": {},
   "source": [
    "### Learn control matrix $B$"
   ]
  },
  {
   "attachments": {},
   "cell_type": "markdown",
   "metadata": {},
   "source": [
    "Use figure8 trajectory as the training data"
   ]
  },
  {
   "cell_type": "code",
   "execution_count": 75,
   "metadata": {},
   "outputs": [
    {
     "name": "stdout",
     "output_type": "stream",
     "text": [
      "[-7.07686434  1.2132194  97.04053866]\n"
     ]
    }
   ],
   "source": [
    "# Load the controls and actual trajectories for figure8\n",
    "u_train = np.loadtxt(\"../../system_data/u_big.csv\", delimiter=',').T\n",
    "z_train = np.loadtxt(\"../../system_data/z_big.csv\", delimiter=',').T\n",
    "z_eq_train = np.loadtxt(\"../../system_data/z_equilibrium.csv\", delimiter=',')\n",
    "print(z_eq_train)\n",
    "\n",
    "# tip position, normalized using resting position\n",
    "z_shift_train = (z_train[-3:, :].T - z_eq_train).T\n",
    "\n",
    "# original spacing of inputs\n",
    "T = 10.01\n",
    "dt = 0.01\n",
    "N = int(T / dt)\n",
    "t_train = np.linspace(0, T, N+1)"
   ]
  },
  {
   "attachments": {},
   "cell_type": "markdown",
   "metadata": {},
   "source": [
    "Use randomly sampled (step) inputs as the training data"
   ]
  },
  {
   "cell_type": "code",
   "execution_count": 43,
   "metadata": {},
   "outputs": [],
   "source": [
    "# diamond_train_full = loadmat(\"../diamond_train_full.mat\", simplify_cells=True)\n",
    "# z_train, u_train, _ = diamond_train_full['y'].T, diamond_train_full['u'].T, diamond_train_full['t']\n",
    "# print(z_train.shape)\n",
    "\n",
    "# # tip position, normalized using resting position\n",
    "# z_shift_train = (z_train[-3:, :].T - z_train[-3:, -1]).T\n",
    "# dt = 0.01\n",
    "# t_train = np.arange(z_train.shape[1]) * dt"
   ]
  },
  {
   "attachments": {},
   "cell_type": "markdown",
   "metadata": {},
   "source": [
    "Plot the training data"
   ]
  },
  {
   "cell_type": "code",
   "execution_count": 76,
   "metadata": {},
   "outputs": [],
   "source": [
    "plt.close('all')\n",
    "plot.traj_xyz_txyz(t=t_train,\n",
    "                   x=z_shift_train[0, :], y=z_shift_train[1, :], z=z_shift_train[2, :])\n",
    "plot.inputs(t_train, u_train)"
   ]
  },
  {
   "attachments": {},
   "cell_type": "markdown",
   "metadata": {},
   "source": [
    "Do delay embedding on the tip position (and optionally, on the inputs). Then, compute reduced coordinates and gradient as predicted by reduced dynamics, as well as the numerical (true) gradient"
   ]
  },
  {
   "cell_type": "code",
   "execution_count": 65,
   "metadata": {},
   "outputs": [
    {
     "name": "stdout",
     "output_type": "stream",
     "text": [
      "y.shape: (15, 1002), u.shape: (4, 1002)\n",
      "[0.   0.01 0.02 0.03 0.04]\n",
      "[1.26993504 2.14181405 3.22675802 4.47443942 5.84008615]\n",
      "(1002,)\n"
     ]
    }
   ],
   "source": [
    "# delay-embed tip position (as well as inputs?)\n",
    "y_train = utils.delayEmbedding(z_shift_train)\n",
    "# u = utils.delayEmbedding(u, embed_coords=[0, 1, 2, 3], up_to_delay=4)\n",
    "print(f\"y.shape: {y_train.shape}, u.shape: {u_train.shape}\")\n",
    "# reduced coordinates\n",
    "print(t_train[:5])\n",
    "x_train = Vde.T @ y_train\n",
    "print(x_train[0, :5])\n",
    "dxDt = np.gradient(x_train, dt, axis=1)\n",
    "dxDt_ROM = Rauton(x_train)\n",
    "\n",
    "# optionally, throw away some of the training data\n",
    "# keep_indices = np.s_[4000:-100]\n",
    "keep_indices = np.s_[30:-20]\n",
    "t_train_trunc = t_train[keep_indices]\n",
    "u_train_trunc = u_train[:, keep_indices]\n",
    "x_train_trunc = x_train[:, keep_indices]\n",
    "y_train_trunc = y_train[:, keep_indices]\n",
    "dxDt = dxDt[:, keep_indices]\n",
    "dxDt_ROM = dxDt_ROM[:, keep_indices]\n",
    "\n",
    "print(t_train.shape)"
   ]
  },
  {
   "cell_type": "code",
   "execution_count": 46,
   "metadata": {},
   "outputs": [],
   "source": [
    "plt.close('all')\n",
    "ax = plot.traj_3D_xyz(y_train_trunc[outdofs[0], :],\n",
    "                      y_train_trunc[outdofs[1], :],\n",
    "                      y_train_trunc[outdofs[2], :], show=True)"
   ]
  },
  {
   "attachments": {},
   "cell_type": "markdown",
   "metadata": {},
   "source": [
    "Plot gradients (numerical differentiation and reduced dynamics)"
   ]
  },
  {
   "cell_type": "code",
   "execution_count": 78,
   "metadata": {},
   "outputs": [
    {
     "name": "stdout",
     "output_type": "stream",
     "text": [
      "(6, 1)\n",
      "(6, 952)\n"
     ]
    }
   ],
   "source": [
    "plt.close('all')\n",
    "scales_of_coordinates = np.ones(dxDt.shape[0])\n",
    "# scales_of_coordinats = np.amax(np.abs(dxDt), axis=1).reshape(-1, 1)\n",
    "# scales_of_coordinats = np.mean(dxDt, axis=1)\n",
    "scales_of_coordinates = scales_of_coordinates.reshape(-1, 1)\n",
    "print(scales_of_coordinates.shape)\n",
    "dxDt = dxDt / scales_of_coordinates\n",
    "dxDt_ROM = dxDt_ROM / scales_of_coordinates\n",
    "print(dxDt.shape)\n",
    "plot.reduced_coordinates_gradient(t_train_trunc, [dxDt, dxDt_ROM], labels=[\"true numerical\", \"predicted autonomous\"], how=\"all\")"
   ]
  },
  {
   "attachments": {},
   "cell_type": "markdown",
   "metadata": {},
   "source": [
    "Learn $B$ matrix"
   ]
  },
  {
   "cell_type": "code",
   "execution_count": 79,
   "metadata": {},
   "outputs": [
    {
     "name": "stdout",
     "output_type": "stream",
     "text": [
      "(4, 952)\n",
      "(6, 4)\n"
     ]
    }
   ],
   "source": [
    "from sklearn.linear_model import Ridge, Lasso\n",
    "\n",
    "polyUorder = 1\n",
    "\n",
    "# X = np.vstack([U, Xbar])\n",
    "U = utils.multivariate_polynomial(u_train_trunc, order=polyUorder)\n",
    "print(U.shape)\n",
    "\n",
    "ridgeModel = Ridge(alpha=0, fit_intercept=False)\n",
    "ridgeModel.fit(U.T, (dxDt - dxDt_ROM).T)\n",
    "B_learn = ridgeModel.coef_\n",
    "print(B_learn.shape)"
   ]
  },
  {
   "attachments": {},
   "cell_type": "markdown",
   "metadata": {},
   "source": [
    "Frobenius norm of $B_{learn}$ to estimate how much influence inputs have on dynamics"
   ]
  },
  {
   "cell_type": "code",
   "execution_count": 83,
   "metadata": {},
   "outputs": [
    {
     "name": "stdout",
     "output_type": "stream",
     "text": [
      "Frobenius norm of B_learn: 0.0033\n"
     ]
    }
   ],
   "source": [
    "print(f\"Frobenius norm of B_learn: {np.linalg.norm(B_learn, ord='fro'):.4f}\")"
   ]
  },
  {
   "attachments": {},
   "cell_type": "markdown",
   "metadata": {},
   "source": [
    "Plot gradients again, but this time, using the learned influence of inputs for the prediction"
   ]
  },
  {
   "cell_type": "code",
   "execution_count": 82,
   "metadata": {},
   "outputs": [],
   "source": [
    "plt.close('all')\n",
    "plot_reduced_coords = [3, 4, 5]\n",
    "dxDt_ROM_with_B = Rauton(x_train_trunc) / scales_of_coordinates + B_learn @ utils.multivariate_polynomial(u_train_trunc, order=polyUorder)\n",
    "plot.reduced_coordinates_gradient(t_train_trunc, [dxDt[plot_reduced_coords, :], dxDt_ROM[plot_reduced_coords, :], dxDt_ROM_with_B[plot_reduced_coords, :]], labels=[\"true numerical\", \"predicted autonomous\", \"predicted with inputs\"], how=\"all\")"
   ]
  },
  {
   "cell_type": "code",
   "execution_count": 51,
   "metadata": {},
   "outputs": [],
   "source": [
    "# # home-brewed ridge regression\n",
    "# alpha = 0\n",
    "# X, y = U.T, (dXbarDt - dXbarDt_ROM).T\n",
    "# B_learn = np.linalg.solve(X.T @ X + alpha * np.eye(X.shape[0]), X.T @ y)"
   ]
  },
  {
   "attachments": {},
   "cell_type": "markdown",
   "metadata": {},
   "source": [
    "### Integrate model with inputs (big amplitude) -- and using learned influence of control"
   ]
  },
  {
   "attachments": {},
   "cell_type": "markdown",
   "metadata": {},
   "source": [
    "Try to predict the training trajectory using reduced dynamics"
   ]
  },
  {
   "cell_type": "code",
   "execution_count": 52,
   "metadata": {},
   "outputs": [
    {
     "name": "stdout",
     "output_type": "stream",
     "text": [
      "(6, 1002)\n"
     ]
    }
   ],
   "source": [
    "# Load the controls and actual trajectories for figure8\n",
    "u_test = np.loadtxt(\"../../system_data/u_big.csv\", delimiter=',').T\n",
    "z_test = np.loadtxt(\"../../system_data/z_big.csv\", delimiter=',').T\n",
    "z_eq_test = np.loadtxt(\"../../system_data/z_equilibrium.csv\", delimiter=',')\n",
    "print(z_test.shape)\n",
    "# tip position, normalized using resting position\n",
    "z_shift_test = (z_test[-3:, :].T - z_eq_test).T\n",
    "# delay-embed tip position (as well as inputs?)\n",
    "y_test = utils.delayEmbedding(z_shift_test)\n",
    "# reduced coordinates\n",
    "x_test = Vde.T @ y_test\n",
    "\n",
    "# original spacing of inputs\n",
    "T = 10.01\n",
    "dt = 0.01\n",
    "N = int(T / dt)\n",
    "t_test = np.linspace(0, T, N+1)\n",
    "\n",
    "slice_traj = np.s_[30:-20]\n",
    "t_test = t_test[slice_traj]\n",
    "u_test = u_test[:, slice_traj]\n",
    "x_test = x_test[:, slice_traj]\n",
    "z_test = z_test[:, slice_traj]"
   ]
  },
  {
   "cell_type": "code",
   "execution_count": 53,
   "metadata": {},
   "outputs": [],
   "source": [
    "x_test[:, 0]\n",
    "\n",
    "uInterpFun = interp1d(t_test, u_test, axis=1, fill_value=\"extrapolate\")\n",
    "uFun = lambda t: uInterpFun(t).reshape(-1, 1)\n",
    "# print(t_test.shape, dxDt.shape)\n",
    "# dxDtInterpFun = interp1d(t_test, dxDt_ROM_with_B, axis=1, fill_value=\"extrapolate\")\n",
    "def R(t, y):\n",
    "    return Rauton(np.atleast_2d(y)) + B_learn @ utils.multivariate_polynomial(uFun(t), order=polyUorder)\n",
    "    # return dxDtInterpFun(t)\n",
    "\n",
    "# solve IVP of reduced dynamics using open-loop figure8 inputs\n",
    "sol = solve_ivp(R,\n",
    "                t_span=[t_test[0], t_test[-1]],\n",
    "                t_eval=t_test,\n",
    "                y0=x_test[:, 0], # np.zeros(2*rDOF),\n",
    "                method='RK45',\n",
    "                vectorized=True,\n",
    "                rtol=1e-3,\n",
    "                atol=1e-3)\n",
    "# resulting (predicted) open-loop trajectory in reduced coordinates\n",
    "xTraj = sol.y\n",
    "yTraj = Vauton(xTraj)\n",
    "zTraj = (yTraj[:3, :].T + z_eq_test).T\n",
    "\n",
    "plt.close('all')\n",
    "ax = plot.traj_3D_xyz(zTraj[outdofs[0], :],\n",
    "                      zTraj[outdofs[1], :],\n",
    "                      zTraj[outdofs[2], :], show=False)\n",
    "ax = plot.traj_3D_xyz(z_test[3, :],\n",
    "                      z_test[4, :],\n",
    "                      z_test[5, :], color=\"tab:orange\", ax=ax, show=False)\n",
    "ax.legend([\"Predicted trajectory\", \"Actual trajectory\"])\n",
    "plt.show()\n"
   ]
  },
  {
   "cell_type": "code",
   "execution_count": 54,
   "metadata": {},
   "outputs": [
    {
     "name": "stdout",
     "output_type": "stream",
     "text": [
      "RMSE = 2.4964\n"
     ]
    }
   ],
   "source": [
    "RMSE = np.sum(np.sqrt(np.mean((zTraj[0:3, :] - z_test[-3:])**2, axis=0))) / zTraj.shape[1]\n",
    "print(f\"RMSE = {RMSE:.4f}\")"
   ]
  },
  {
   "attachments": {},
   "cell_type": "markdown",
   "metadata": {},
   "source": [
    "## Save SSM model"
   ]
  },
  {
   "attachments": {},
   "cell_type": "markdown",
   "metadata": {},
   "source": [
    "Continuous model"
   ]
  },
  {
   "cell_type": "code",
   "execution_count": 55,
   "metadata": {},
   "outputs": [],
   "source": [
    "SSM_model = {'model': {}, 'params': {}}\n",
    "\n",
    "SSM_model['model']['w_coeff'] = IMInfo['parametrization']['H']\n",
    "SSM_model['model']['v_coeff'] = Vde # IMInfo['chart']['H']\n",
    "SSM_model['model']['r_coeff'] = RDInfo['reducedDynamics']['coefficients'] \n",
    "SSM_model['model']['B'] = B_learn\n",
    "SSM_model['model']['V'] = Vde\n",
    "\n",
    "SSM_model['params']['SSM_order'] = SSMOrder\n",
    "SSM_model['params']['ROM_order'] = ROMOrder\n",
    "SSM_model['params']['state_dim'] = 2 * rDOF\n",
    "SSM_model['params']['input_dim'] = H.shape[1]\n",
    "SSM_model['params']['output_dim'] = 2 * oDOF\n",
    "# SSM_model['params']['delays'] = \n",
    "# SSM_model['params']['obs_dim'] = "
   ]
  },
  {
   "cell_type": "code",
   "execution_count": 56,
   "metadata": {},
   "outputs": [],
   "source": [
    "import pickle\n",
    "# save dictionary to person_data.pkl file\n",
    "with open('../../../soft-robot-control/examples/hardware/SSMmodels/SSM_model.pkl', 'wb') as f:\n",
    "    pickle.dump(SSM_model, f)"
   ]
  },
  {
   "cell_type": "code",
   "execution_count": null,
   "metadata": {},
   "outputs": [],
   "source": []
  }
 ],
 "metadata": {
  "kernelspec": {
   "display_name": "soft",
   "language": "python",
   "name": "python3"
  },
  "language_info": {
   "codemirror_mode": {
    "name": "ipython",
    "version": 3
   },
   "file_extension": ".py",
   "mimetype": "text/x-python",
   "name": "python",
   "nbconvert_exporter": "python",
   "pygments_lexer": "ipython3",
   "version": "3.8.16"
  },
  "orig_nbformat": 4,
  "vscode": {
   "interpreter": {
    "hash": "5103b5dc615bcda33cb54d9b91143b3686f5f995c24adceaa9e3ace35345f8c5"
   }
  }
 },
 "nbformat": 4,
 "nbformat_minor": 2
}
