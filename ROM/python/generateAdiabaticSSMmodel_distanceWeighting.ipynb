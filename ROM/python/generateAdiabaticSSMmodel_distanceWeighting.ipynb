{
 "cells": [
  {
   "cell_type": "markdown",
   "metadata": {},
   "source": [
    "# Adiabatic SSM model"
   ]
  },
  {
   "attachments": {},
   "cell_type": "markdown",
   "metadata": {},
   "source": [
    "## 1. Distance weighting"
   ]
  },
  {
   "attachments": {},
   "cell_type": "markdown",
   "metadata": {},
   "source": [
    "This notebook takes multiple local SSM models which have been identified at pre-tensioned equilibria and interpolates them using distance weighting to obtain one adiabatic SSM model. The model performance is evaluated by its ability to predict open-loop trajectories."
   ]
  },
  {
   "cell_type": "code",
   "execution_count": null,
   "metadata": {},
   "outputs": [],
   "source": [
    "from os import listdir\n",
    "from os.path import join\n",
    "import pickle\n",
    "import yaml\n",
    "import numpy as np\n",
    "np.set_printoptions(linewidth=100)"
   ]
  },
  {
   "cell_type": "code",
   "execution_count": null,
   "metadata": {},
   "outputs": [],
   "source": [
    "%load_ext autoreload\n",
    "%autoreload 2\n",
    "import utils as utils\n",
    "import plot_utils as plot"
   ]
  },
  {
   "cell_type": "code",
   "execution_count": null,
   "metadata": {},
   "outputs": [],
   "source": [
    "# %matplotlib qt\n",
    "import matplotlib.pyplot as plt"
   ]
  },
  {
   "attachments": {},
   "cell_type": "markdown",
   "metadata": {},
   "source": [
    "Import local SSM models"
   ]
  },
  {
   "cell_type": "code",
   "execution_count": null,
   "metadata": {},
   "outputs": [],
   "source": [
    "# directory containing the SSM models\n",
    "model_dir = \"/media/jonas/Backup Plus/jonas_soft_robot_data/trunk_adiabatic\"\n",
    "# model_names = sorted(listdir(model_dir))\n",
    "model_names = [\"north\",\"west\", \"origin\", \"east\", \"south\"] # \n",
    "print(model_names)\n",
    "N_models = len(model_names)"
   ]
  },
  {
   "attachments": {},
   "cell_type": "markdown",
   "metadata": {},
   "source": [
    "Load the pre-tensioned equilibrium of each model and plot adiabatic SSM map"
   ]
  },
  {
   "cell_type": "code",
   "execution_count": null,
   "metadata": {},
   "outputs": [],
   "source": [
    "q_eq, u_eq = [], []\n",
    "for model in model_names:\n",
    "    with open(join(model_dir, model, \"SSMmodel\", \"pre-tensioned_rest_q.pkl\"), \"rb\") as f:\n",
    "        q_eq.append(pickle.load(f))\n",
    "    with open(join(model_dir, model, \"decay\", \"info.yaml\"), \"r\") as f:\n",
    "        info = yaml.safe_load(f)\n",
    "    u_eq.append(np.array(info['pre_tensioning']))\n",
    "print(q_eq)\n",
    "print(u_eq)\n",
    "xy_rest = np.array([q_eq[i][:2] for i in range(N_models)])"
   ]
  },
  {
   "cell_type": "code",
   "execution_count": null,
   "metadata": {},
   "outputs": [],
   "source": [
    "import matplotlib.pyplot as plt\n",
    "\n",
    "fig, ax = plt.subplots(1, 1, dpi=120)\n",
    "\n",
    "for i, model in enumerate(model_names):\n",
    "    ax.plot(q_eq[i][0], q_eq[i][1], marker=\"D\", markersize=8, ls=\"\", label=model)\n",
    "ax.axhline(0, ls='--', color='grey', zorder=1, alpha=.6, lw=0.5)\n",
    "ax.axvline(0, ls='--', color='grey', zorder=1, alpha=.6, lw=0.5)\n",
    "ax.set_xlabel(r\"$x$ [mm]\")\n",
    "ax.set_ylabel(r\"$y$ [mm]\")\n",
    "ax.set_aspect(\"equal\")\n",
    "ax.legend()\n",
    "plt.show()"
   ]
  },
  {
   "attachments": {},
   "cell_type": "markdown",
   "metadata": {},
   "source": [
    "### Model weighting"
   ]
  },
  {
   "cell_type": "code",
   "execution_count": null,
   "metadata": {},
   "outputs": [],
   "source": [
    "DECAY_EXP = 2"
   ]
  },
  {
   "cell_type": "code",
   "execution_count": null,
   "metadata": {},
   "outputs": [],
   "source": [
    "import matplotlib as mpl\n",
    "\n",
    "nx, ny = (100, 100)\n",
    "grid_lims = (-50, 50)\n",
    "x = np.linspace(grid_lims[0], grid_lims[1], nx)\n",
    "y = np.linspace(grid_lims[0], grid_lims[1], ny)\n",
    "xv, yv = np.meshgrid(x, y, sparse=False)\n",
    "\n",
    "model_weights = None\n",
    "colormaps = ['Blues', 'Oranges', 'Greens', 'Reds', 'Purples']\n",
    "\n",
    "xy_rest = np.array([q_eq[i][:2] for i in range(len(model_names))])\n",
    "\n",
    "if DECAY_EXP == np.inf:\n",
    "    model_weights = np.zeros((len(model_names), nx, ny))\n",
    "    active_model = np.argmin(np.linalg.norm(np.stack([xy_rest[i, :] - np.stack((xv, yv), axis=-1) for i in range(len(model_names))]), axis=-1), axis=0)\n",
    "    for i in range(nx):\n",
    "        for j in range(ny):\n",
    "            model_weights[active_model[i, j], i, j] = 1\n",
    "    \n",
    "else:\n",
    "    model_weights = 1 / np.linalg.norm(np.stack([xy_rest[i, :] - np.stack((xv, yv), axis=-1) for i in range(len(model_names))]), axis=-1) ** DECAY_EXP\n",
    "    model_weights /= np.sum(model_weights, axis=0)\n",
    "\n",
    "fig, axs = plt.subplots(1, len(model_names), figsize=(16, 3), dpi=150, sharey=True, constrained_layout=True)\n",
    "im = None\n",
    "for i, model in enumerate(model_names):\n",
    "    ax = axs[i]\n",
    "    im = ax.contourf(x, y, model_weights[i, :, :],\n",
    "                    vmin=0, vmax=1, levels=10) # cmap=mpl.colormaps[colormaps[i]])\n",
    "    ax.set_title(model)\n",
    "    ax.set_xlabel(r\"$x$ [mm]\")\n",
    "    ax.set_aspect(\"equal\")\n",
    "axs[0].set_ylabel(r\"$y$ [mm]\")\n",
    "fig.colorbar(im, ax=axs.ravel().tolist())\n",
    "plt.show()"
   ]
  },
  {
   "cell_type": "code",
   "execution_count": null,
   "metadata": {},
   "outputs": [],
   "source": [
    "def interpolate_coeffs(xy, coeffs: list):\n",
    "    # print(xy.ndim)\n",
    "    if xy.ndim > 1:\n",
    "        weights = np.stack([1 / np.linalg.norm(xy_rest - xy[:, i], axis=1) ** DECAY_EXP for i in range(xy.shape[1])]).T\n",
    "        weights /= np.sum(weights, axis=0)\n",
    "        return np.tensordot(weights.T, np.stack(coeffs), axes=1)\n",
    "    else:\n",
    "        if DECAY_EXP == np.inf:\n",
    "            weights = np.zeros(len(model_names))\n",
    "            active_model = np.argmin(np.linalg.norm(xy_rest - xy, axis=1))\n",
    "            weights[active_model] = 1\n",
    "        else:\n",
    "            weights = 1 / np.linalg.norm(xy_rest - xy, axis=1) ** DECAY_EXP\n",
    "            weights /= np.sum(weights)\n",
    "        return np.sum([coeffs[i] * weights[i] for i in range(len(coeffs))], axis=0), weights\n",
    "    # return coeffs[2] # use only model from origin\n",
    "\n",
    "# coeffs = [np.random.random((7, 12)) for i in range(5)]\n",
    "# print(interpolate_coeffs(np.zeros((2, 4)), coeffs).shape)"
   ]
  },
  {
   "attachments": {},
   "cell_type": "markdown",
   "metadata": {},
   "source": [
    "Define mappings of adiabatic SSM"
   ]
  },
  {
   "cell_type": "code",
   "execution_count": null,
   "metadata": {},
   "outputs": [],
   "source": [
    "models = []\n",
    "for model_name in model_names:\n",
    "    with open(join(model_dir, model_name, \"SSMmodel\", \"SSM_model.pkl\"), \"rb\") as f:\n",
    "        model = pickle.load(f)\n",
    "        models.append(model)\n",
    "Vde = [model['model']['V'] for model in models]\n",
    "r_coeff = [model['model']['r_coeff'] for model in models]\n",
    "w_coeff = [model['model']['w_coeff'] for model in models]\n",
    "B = [model['model']['B'] for model in models]\n",
    "ROMOrder = [model['params']['ROM_order'] for model in models]\n",
    "SSMOrder = [model['params']['SSM_order'] for model in models]"
   ]
  },
  {
   "cell_type": "code",
   "execution_count": null,
   "metadata": {},
   "outputs": [],
   "source": [
    "print(w_coeff[0].shape)"
   ]
  },
  {
   "attachments": {},
   "cell_type": "markdown",
   "metadata": {},
   "source": [
    "#### Prediction of open-loop trajectories"
   ]
  },
  {
   "cell_type": "code",
   "execution_count": null,
   "metadata": {},
   "outputs": [],
   "source": [
    "observables = \"delay-embedding\" # \"pos-vel\" # \n",
    "N_DELAY = 4 # only relevant if observables is \"delay-embedding\"\n",
    "TIP_NODE = 51\n",
    "N_NODES = 709\n",
    "INPUT_DIM = 8\n",
    "DT = 0.01\n",
    "\n",
    "rDOF = 3\n",
    "oDOF = 3\n",
    "SSMDim = 6\n",
    "\n",
    "robot_dir = \"../../../soft-robot-control/examples/trunk\"\n",
    "data_dir = \"/media/jonas/Backup Plus/jonas_soft_robot_data/trunk_adiabatic/origin\"\n",
    "rest_file = join(robot_dir, 'rest_qv.pkl')"
   ]
  },
  {
   "attachments": {},
   "cell_type": "markdown",
   "metadata": {},
   "source": [
    "Compute observables (delay embedding)"
   ]
  },
  {
   "cell_type": "code",
   "execution_count": null,
   "metadata": {},
   "outputs": [],
   "source": [
    "N_DELAY = 4\n",
    "assemble_observables = lambda oData: utils.delayEmbedding(oData, up_to_delay=N_DELAY)"
   ]
  },
  {
   "attachments": {},
   "cell_type": "markdown",
   "metadata": {},
   "source": [
    "Predict open-loop trajectories using the interpolated adiabatic SSM model"
   ]
  },
  {
   "cell_type": "code",
   "execution_count": null,
   "metadata": {},
   "outputs": [],
   "source": [
    "test_results = {}\n",
    "test_trajectory_folders = ['open-loop_circle']\n",
    "test_trajectories = []\n",
    "for test_traj in test_trajectory_folders:\n",
    "    traj_dir = join(robot_dir, \"dataCollection\", test_traj)\n",
    "    (t, z), u = utils.import_pos_data(data_dir=traj_dir,\n",
    "                                      rest_file=rest_file,\n",
    "                                      output_node=TIP_NODE, return_inputs=True, traj_index=0)\n",
    "    # z = (z.T - q_eq).T\n",
    "    # u = (u.T - u_eq).T\n",
    "    y = assemble_observables(z)\n",
    "    print(\"y.shape:\", y.shape)\n",
    "    print(\"u.shape:\", u.shape)\n",
    "\n",
    "    test_trajectories.append({\n",
    "            'name': test_traj,\n",
    "            't': t,\n",
    "            'z': z,\n",
    "            'u': u,\n",
    "            'y': y\n",
    "        })"
   ]
  },
  {
   "cell_type": "code",
   "execution_count": null,
   "metadata": {},
   "outputs": [],
   "source": [
    "def advect_adiabaticRD_with_inputs(t, y0, u, y, know_target=True):\n",
    "    dt = 0.01\n",
    "    N = len(t)-1\n",
    "    x = np.zeros((6, N+1))\n",
    "    x[:, 0] = [5, 5, 5, 0, 0, 0]\n",
    "    y_pred = np.zeros((15, N+1))\n",
    "    if not know_target:\n",
    "        y = y_pred\n",
    "    y_bar = np.zeros((15, N+1))\n",
    "    u_bar = np.zeros((8, N+1))\n",
    "    xdot = np.zeros((6, N+1))\n",
    "    y_pred[:, 0] = y0\n",
    "    weights = np.zeros((len(model_names), N+1))\n",
    "    for i in range(N):\n",
    "        try:\n",
    "            weights[:, i] = interpolate_coeffs(y[:2, i], [1])[1]\n",
    "            # y_bar[:, i] = np.tile(interpolate_coeffs(y[:2, i], q_eq)[0], 5)\n",
    "            # u_bar[:, i] = interpolate_coeffs(y[:2, i], u_eq)[0]\n",
    "            # print(y[:2, i])\n",
    "            # x[:, i] = interpolate_coeffs(y[:2, i], Vde)[0].T @ (y_pred[:, i].T - y_bar[:, i])\n",
    "            # print(\"B @ u.shape:\", (interpolate_coeffs(y[:2, i], B) @ u[:, i]).shape)\n",
    "            xdot[:, i] = -0.5 * np.eye(6) @ x[:, i] # (interpolate_coeffs(y[:2, i], r_coeff)[0] @ utils.phi(x[:, i].reshape(-1, 1), ROMOrder[0])).flatten() # + interpolate_coeffs(y[:2, i], B)[0] @ (u[:, i] - u_bar[:, i])\n",
    "            x[:, i+1] = x[:, i] + dt * xdot[:, i]\n",
    "            y_pred[:, i+1] = (interpolate_coeffs(y[:2, i], w_coeff)[0] @ utils.phi(x[:, i+1].reshape(-1, 1), SSMOrder[0])).T + y[:, i] # y_bar[:, i]\n",
    "        except Exception as e:\n",
    "            print(e)\n",
    "            break\n",
    "    return x, y_pred, xdot, y_bar, u_bar, weights"
   ]
  },
  {
   "cell_type": "code",
   "execution_count": null,
   "metadata": {},
   "outputs": [],
   "source": [
    "traj = test_trajectories[0]\n",
    "print(traj['name'])\n",
    "x, y, xdot, y_bar, u_bar, weights = advect_adiabaticRD_with_inputs(traj['t'], traj['y'][:, 0], traj['u'], traj['y'], know_target=True)"
   ]
  },
  {
   "cell_type": "code",
   "execution_count": null,
   "metadata": {},
   "outputs": [],
   "source": [
    "plt.close('all')\n",
    "# Trajectory xyz vs. t (predicted vs. actual)\n",
    "axs = plot.traj_xyz_txyz(traj['t'],\n",
    "                            y[0, :], y[1, :], y[2, :],\n",
    "                            show=False)\n",
    "axs = plot.traj_xyz_txyz(traj['t'],\n",
    "                        traj['z'][0, :], traj['z'][1, :], traj['z'][2, :],\n",
    "                        color=\"tab:orange\", axs=axs, show=False)\n",
    "axs[-1].legend([\"Predicted trajectory\", \"Actual trajectory\"])\n",
    "# for ax in axs:\n",
    "#     ax.set_ylim(-35, 35)\n",
    "plt.suptitle(r\"Trajectory (predicted vs. actual)\")\n",
    "plt.show()\n",
    "\n",
    "# Trajectory 2D (predicted vs. actual)\n",
    "ax = plot.traj_2D_xy(y[0, :], y[1, :],\n",
    "                      show=False)\n",
    "ax = plot.traj_2D_xy(traj['z'][0, :], traj['z'][1, :],\n",
    "                        color=\"tab:orange\", ax=ax, show=False)\n",
    "ax.legend([\"Predicted trajectory\", \"Actual trajectory\"])\n",
    "# ax.set_xlim(-35, 35)\n",
    "# ax.set_ylim(-35, 35)\n",
    "plt.suptitle(r\"Trajectory (predicted vs. actual)\")\n",
    "plt.show()\n",
    "\n",
    "# weights\n",
    "axs = plot.adiabatic_model_weights(traj['t'], weights, model_names)\n",
    "\n",
    "# y_bar\n",
    "axs = plot.traj_xyz_txyz(traj['t'],\n",
    "                            y_bar[0, :], y_bar[1, :], y_bar[2, :],\n",
    "                            xyz_names=[r\"$\\bar{y_1}$\", r\"$\\bar{y_2}$\", r\"$\\bar{y_3}$\"],\n",
    "                            show=False)\n",
    "plt.suptitle(r\"$\\bar{y}}$\")\n",
    "plt.show()\n"
   ]
  },
  {
   "cell_type": "markdown",
   "metadata": {},
   "source": [
    "### 2. Scattered interpolation"
   ]
  },
  {
   "cell_type": "code",
   "execution_count": null,
   "metadata": {},
   "outputs": [],
   "source": [
    "# directory containing the SSM models\n",
    "model_dir = \"/media/jonas/Backup Plus/jonas_soft_robot_data/trunk_adiabatic\"\n",
    "# model_names = sorted(listdir(model_dir))\n",
    "model_names = [\"northwest\", \"north\", \"northeast\", \"west\", \"origin\", \"east\", \"southwest\", \"south\", \"southeast\"] # [\"north\",\"west\", \"origin\", \"east\", \"south\"] # \n",
    "print(model_names)\n",
    "N_models = len(model_names)"
   ]
  },
  {
   "cell_type": "markdown",
   "metadata": {},
   "source": [
    "Load the pre-tensioned equilibrium of each model and plot adiabatic SSM map"
   ]
  },
  {
   "cell_type": "code",
   "execution_count": null,
   "metadata": {},
   "outputs": [],
   "source": [
    "q_eq, u_eq = [], []\n",
    "for model in model_names:\n",
    "    with open(join(model_dir, model, \"SSMmodel\", \"pre-tensioned_rest_q.pkl\"), \"rb\") as f:\n",
    "        q_eq.append(pickle.load(f))\n",
    "    with open(join(model_dir, model, \"decay\", \"info.yaml\"), \"r\") as f:\n",
    "        info = yaml.safe_load(f)\n",
    "    u_eq.append(np.array(info['pre_tensioning']))\n",
    "print(q_eq)\n",
    "print(u_eq)\n",
    "xy_rest = np.array([q_eq[i][:2] for i in range(N_models)])"
   ]
  },
  {
   "cell_type": "code",
   "execution_count": null,
   "metadata": {},
   "outputs": [],
   "source": [
    "models = []\n",
    "for model_name in model_names:\n",
    "    with open(join(model_dir, model_name, \"SSMmodel\", \"SSM_model.pkl\"), \"rb\") as f:\n",
    "        model = pickle.load(f)\n",
    "        models.append(model)\n",
    "Vde = [model['model']['V'] for model in models]\n",
    "r_coeff = [model['model']['r_coeff'] for model in models]\n",
    "w_coeff = [model['model']['w_coeff'] for model in models]\n",
    "B = [model['model']['B'] for model in models]\n",
    "ROMOrder = [model['params']['ROM_order'] for model in models]\n",
    "SSMOrder = [model['params']['SSM_order'] for model in models]"
   ]
  },
  {
   "attachments": {},
   "cell_type": "markdown",
   "metadata": {},
   "source": [
    "Compute interpolations: Delaunay triangulation, Barycentric linear interpolation"
   ]
  },
  {
   "cell_type": "code",
   "execution_count": null,
   "metadata": {},
   "outputs": [],
   "source": [
    "from scipy.interpolate import NearestNDInterpolator\n",
    "from scipy.interpolate import LinearNDInterpolator\n",
    "from scipy.interpolate import CloughTocher2DInterpolator\n",
    "from scipy.spatial import Delaunay\n",
    "\n",
    "interpolator = LinearNDInterpolator\n",
    "\n",
    "# xy_rest[0][0] -= 2\n",
    "\n",
    "# compute delauny triangulation attached to the pre-tensioned equilibria\n",
    "tri = Delaunay(xy_rest)\n",
    "# create interpolants for the different coefficient matrices\n",
    "interpolation = {}\n",
    "for name, coeffs in [('W', w_coeff), ('V', Vde), ('R', r_coeff), ('B', B), ('u_bar', u_eq), ('q_bar', q_eq)]:\n",
    "    interpolation[name] = interpolator(tri, coeffs)"
   ]
  },
  {
   "cell_type": "markdown",
   "metadata": {},
   "source": [
    "Visualize the interpolation scheme"
   ]
  },
  {
   "cell_type": "code",
   "execution_count": null,
   "metadata": {},
   "outputs": [],
   "source": [
    "fig, ax = plt.subplots(1, 1, dpi=150)\n",
    "ax.triplot(xy_rest[:,0], xy_rest[:,1], tri.simplices.copy(), color=\"black\", ls=\"-\", lw=0.8)\n",
    "for i in range(N_models):\n",
    "    ax.plot(xy_rest[i,0], xy_rest[i,1], marker=\"D\", markersize=8, ls=\"\", color=\"tab:blue\")\n",
    "ax.set_aspect(\"equal\")\n",
    "ax.set_xlabel(r\"$x$ [mm]\")\n",
    "ax.set_ylabel(r\"$y$ [mm]\")\n",
    "# fig.suptitle(\"Delaunay triangulation\")\n",
    "plt.show()"
   ]
  },
  {
   "cell_type": "code",
   "execution_count": null,
   "metadata": {},
   "outputs": [],
   "source": [
    "nx, ny = (100, 100)\n",
    "grid_lims = (-40, 40)\n",
    "x = np.linspace(grid_lims[0], grid_lims[1], nx)\n",
    "y = np.linspace(grid_lims[0], grid_lims[1], ny)\n",
    "# xv, yv = np.meshgrid(x, y, sparse=False)\n",
    "\n",
    "model_weights = np.zeros((N_models, nx, ny))\n",
    "for i in range(nx):\n",
    "    for j in range(ny):\n",
    "        p = [x[i], y[j]]\n",
    "        simplex = tri.find_simplex(p)\n",
    "        if simplex == -1:\n",
    "            # extrapolation would be necessary\n",
    "            model_weights[:, j, i] = np.nan\n",
    "        else:\n",
    "            b = tri.transform[simplex,:2] @ (p - tri.transform[simplex,2])\n",
    "            c = np.r_[b, 1 - b.sum()]\n",
    "            point_idx = tri.simplices[simplex]\n",
    "            model_weights[point_idx, j, i] = c"
   ]
  },
  {
   "cell_type": "code",
   "execution_count": null,
   "metadata": {},
   "outputs": [],
   "source": [
    "model_weights.shape"
   ]
  },
  {
   "cell_type": "code",
   "execution_count": null,
   "metadata": {},
   "outputs": [],
   "source": [
    "fig, axs = plt.subplots(3, 3, figsize=(10, 10), dpi=100, sharey=True, sharex=True, constrained_layout=True)\n",
    "im = None\n",
    "axs = axs.ravel()\n",
    "for i, model in enumerate(model_names):\n",
    "    ax = axs[i]\n",
    "    im = ax.contourf(x, y, model_weights[i, :, :],\n",
    "                    vmin=0, vmax=1, levels=100) # cmap=mpl.colormaps[colormaps[i]])\n",
    "    # ax.set_title(model)\n",
    "    ax.set_xlabel(r\"$x$ [mm]\")\n",
    "    ax.set_aspect(\"equal\")\n",
    "for ax in axs[[0, 3, 6]]:\n",
    "    ax.set_ylabel(r\"$y$ [mm]\")\n",
    "fig.colorbar(im, ax=axs.ravel().tolist(), fraction=0.03, aspect=35)\n",
    "plt.show()"
   ]
  },
  {
   "cell_type": "code",
   "execution_count": null,
   "metadata": {},
   "outputs": [],
   "source": [
    "observables = \"delay-embedding\" # \"pos-vel\" # \n",
    "N_DELAY = 4 # only relevant if observables is \"delay-embedding\"\n",
    "TIP_NODE = 51\n",
    "N_NODES = 709\n",
    "INPUT_DIM = 8\n",
    "DT = 0.01\n",
    "\n",
    "rDOF = 3\n",
    "oDOF = 3\n",
    "SSMDim = 6\n",
    "\n",
    "robot_dir = \"../../../soft-robot-control/examples/trunk\"\n",
    "data_dir = \"/media/jonas/Backup Plus/jonas_soft_robot_data/trunk_adiabatic/origin\"\n",
    "rest_file = join(robot_dir, 'rest_qv.pkl')"
   ]
  },
  {
   "cell_type": "markdown",
   "metadata": {},
   "source": [
    "Compute observables (delay embedding)"
   ]
  },
  {
   "cell_type": "code",
   "execution_count": null,
   "metadata": {},
   "outputs": [],
   "source": [
    "N_DELAY = 4\n",
    "assemble_observables = lambda oData: utils.delayEmbedding(oData, up_to_delay=N_DELAY)"
   ]
  },
  {
   "cell_type": "markdown",
   "metadata": {},
   "source": [
    "Predict open-loop trajectories using the interpolated adiabatic SSM model"
   ]
  },
  {
   "cell_type": "code",
   "execution_count": null,
   "metadata": {},
   "outputs": [],
   "source": [
    "test_results = {}\n",
    "test_trajectory_folders = ['open-loop_circle']\n",
    "test_trajectories = []\n",
    "for test_traj in test_trajectory_folders:\n",
    "    traj_dir = join(robot_dir, \"dataCollection\", test_traj)\n",
    "    (t, z), u = utils.import_pos_data(data_dir=traj_dir,\n",
    "                                      rest_file=rest_file,\n",
    "                                      output_node=TIP_NODE, return_inputs=True, traj_index=0)\n",
    "    # z = (z.T - q_eq).T\n",
    "    # u = (u.T - u_eq).T\n",
    "    y = assemble_observables(z)\n",
    "    print(\"y.shape:\", y.shape)\n",
    "    print(\"u.shape:\", u.shape)\n",
    "\n",
    "    test_trajectories.append({\n",
    "            'name': test_traj,\n",
    "            't': t,\n",
    "            'z': z,\n",
    "            'u': u,\n",
    "            'y': y\n",
    "        })"
   ]
  },
  {
   "cell_type": "code",
   "execution_count": null,
   "metadata": {},
   "outputs": [],
   "source": [
    "# def interpolate_coeffs(xy, coeffs, method=\"linear\"):\n",
    "#     xy = np.stack(xy)\n",
    "#     coeffs = np.stack(coeffs)\n",
    "#     return interpolator(xy[0], xy[1])\n",
    "\n",
    "# coeffs = [np.random.random((7, 12)) for i in range(5)]\n",
    "# print(interpolate_coeffs(np.zeros((2, 4)), coeffs).shape)"
   ]
  },
  {
   "cell_type": "code",
   "execution_count": null,
   "metadata": {},
   "outputs": [],
   "source": [
    "def interpolate_coeffs(xy, coeff_name):\n",
    "    if coeff_name not in interpolation.keys():\n",
    "        raise RuntimeError(\"No interpolation available for these coefficents: {coeff_name}\")\n",
    "    # return interpolation[coeff_name](xy).squeeze()\n",
    "    if coeff_name == \"W\":\n",
    "        return w_coeff[0]\n",
    "    elif coeff_name == \"R\":\n",
    "        return r_coeff[0]\n",
    "    elif coeff_name == \"V\":\n",
    "        return Vde[0]\n",
    "    elif coeff_name == \"B\":\n",
    "        return B[0]\n",
    "    elif coeff_name == \"u_bar\":\n",
    "        return np.zeros(8)\n",
    "    elif coeff_name == \"q_bar\":\n",
    "        return np.zeros(3)\n",
    "    else:\n",
    "        raise RuntimeError(\"No interpolation available for these coefficents: {coeff_name}\")"
   ]
  },
  {
   "cell_type": "code",
   "execution_count": null,
   "metadata": {},
   "outputs": [],
   "source": [
    "def advect_adiabaticRD_with_inputs(t, y0, u, y, know_target=True):\n",
    "    # dt = 0.001\n",
    "    # uInterpFun = interp1d(t, u, axis=1, fill_value=\"extrapolate\")\n",
    "    # yInterpFun = interp1d(t, y, axis=1, fill_value=\"extrapolate\")\n",
    "    # N = int(t[-1]/dt) # len(t)-1\n",
    "    # t = np.linspace(t[0], t[-1], N+1)\n",
    "    # u = uInterpFun(t)\n",
    "    # y = yInterpFun(t)\n",
    "    # print(\"u.shape:\", u.shape)\n",
    "    dt = 0.01\n",
    "    N = len(t)-1\n",
    "    x = np.full((6, N+1), np.nan)\n",
    "    y_pred = np.full((15, N+1), np.nan)\n",
    "    y_pred[:, 0] = y0\n",
    "    y_bar = np.full((15, N+1), np.nan)\n",
    "    u_bar = np.full((8, N+1), np.nan)\n",
    "    xdot = np.full((6, N+1), np.nan)\n",
    "    weights = np.full((N_models, N+1), np.nan)\n",
    "\n",
    "    for i in range(N):\n",
    "        # compute the weights used at this timestep\n",
    "        try:\n",
    "            simplex = tri.find_simplex(y[:2, i])\n",
    "            b = tri.transform[simplex,:2] @ (y[:2, i] - tri.transform[simplex,2])\n",
    "            c = np.r_[b, 1 - b.sum()]\n",
    "            point_idx = tri.simplices[simplex]\n",
    "            weights[point_idx, i] = c\n",
    "            # assert np.all(c > 0)\n",
    "            # compute and integrate the dynamics at this timestep\n",
    "            y_bar[:, i] = np.tile(interpolate_coeffs(y[:2, i], 'q_bar'), 1 + N_DELAY)\n",
    "            u_bar[:, i] = interpolate_coeffs(y[:2, i], 'u_bar')\n",
    "            # x[i] = V[i]^T @ (y[i] - y_bar[i])\n",
    "            # if i == 0:\n",
    "            x[:, i] = interpolate_coeffs(y[:2, i], 'V').T @ (y_pred[:, i].T - y_bar[:, i]) # y[:, i]) # \n",
    "            # xdot[i] = R(x[i]) + B[i] @ (u[i] - u_bar[i])\n",
    "            xdot[:, i] = (interpolate_coeffs(y[:2, i], 'R') @ utils.phi(x[:, i].reshape(-1, 1), ROMOrder[0])).flatten() + interpolate_coeffs(y[:2, i], 'B') @ (u[:, i] - u_bar[:, i]) # -0.5 * np.eye(6) @ x[:, i] # -0.001 * np.ones(6) # \n",
    "            # forward Euler: x[i+1] = x[i] + dt * xdot[i]\n",
    "            x[:, i+1] = x[:, i] + dt * xdot[:, i]\n",
    "            # y[i+1] = W(x[i+1]) + y_bar[i]\n",
    "            y_pred[:, i+1] = (interpolate_coeffs(y[:2, i], 'W') @ utils.phi(x[:, i+1].reshape(-1, 1), SSMOrder[0])).T + y_bar[:, i]\n",
    "            if not know_target:\n",
    "                y[:, i+1] = y_pred[:, i+1]\n",
    "        except Exception as e:\n",
    "            print(\"i =\", i)\n",
    "            print(\"y_pred[i-1]:\", y_pred[:, i-1])\n",
    "            print(\"y[i-1]:\", y[:, i-1])\n",
    "            print(\"x[i-1]:\", x[:, i-1])\n",
    "            print(\"=======================================\")\n",
    "            print(\"y_pred[i]:\", y_pred[:, i])\n",
    "            print(\"y[i]:\", y[:, i])\n",
    "            print(\"x[i]:\", x[:, i])\n",
    "            print(\"=======================================\")\n",
    "            print(\"y_pred[i+1]:\", y_pred[:, i+1])\n",
    "            print(\"y[i+1]:\", y[:, i+1])\n",
    "            print(\"x[i+1]:\", x[:, i+1])\n",
    "            print(\"=======================================\")\n",
    "            print(e)\n",
    "            break\n",
    "            # raise e\n",
    "    return t, x, y_pred, xdot, y_bar, u_bar, weights"
   ]
  },
  {
   "cell_type": "code",
   "execution_count": null,
   "metadata": {},
   "outputs": [],
   "source": [
    "from scipy.interpolate import interp1d\n",
    "\n",
    "def advect_adiabaticRD_with_inputs(t, y0, u, y, know_target=True):\n",
    "    uInterpFun = interp1d(t, u, axis=1, fill_value=\"extrapolate\")\n",
    "    def R(t, x):\n",
    "        y = (interpolate_coeffs(y[:2, i], 'W') @ utils.phi(x[:, i+1].reshape(-1, 1), SSMOrder[0])).T + y_bar[:, i]\n",
    "        simplex = tri.find_simplex(y[:2])\n",
    "        b = tri.transform[simplex,:2] @ (y[:2] - tri.transform[simplex,2])\n",
    "        c = np.r_[b, 1 - b.sum()]\n",
    "        point_idx = tri.simplices[simplex]\n",
    "        weights[point_idx, i] = c\n",
    "        # compute and integrate the dynamics at this timestep\n",
    "        y_bar = np.tile(interpolate_coeffs(y[:2], 'q_bar'), 1 + N_DELAY)\n",
    "        u_bar = interpolate_coeffs(y[:2], 'u_bar')\n",
    "        # x[i] = V[i]^T @ (y[i] - y_bar[i])\n",
    "        x = interpolate_coeffs(y[:2], 'V').T @ (y[:].T - y_bar)\n",
    "        xdot = (interpolate_coeffs(y[:2], 'R') @ utils.phi(x.reshape(-1, 1), ROMOrder[0])).flatten() + interpolate_coeffs(y[:2], 'B') @ (uInterpFun(t) - u_bar)\n",
    "        return xdot"
   ]
  },
  {
   "cell_type": "code",
   "execution_count": null,
   "metadata": {},
   "outputs": [],
   "source": [
    "traj = test_trajectories[0]\n",
    "print(traj['name'])\n",
    "t, x, y_pred, xdot, y_bar, u_bar, weights = advect_adiabaticRD_with_inputs(traj['t'], traj['y'][:, 0], traj['u'], traj['y'], know_target=True)"
   ]
  },
  {
   "cell_type": "code",
   "execution_count": null,
   "metadata": {},
   "outputs": [],
   "source": [
    "plt.close('all')\n",
    "# Trajectory xyz vs. t (predicted vs. actual)\n",
    "axs = plot.traj_xyz_txyz(t,\n",
    "                            y_pred[0, :], y_pred[1, :], y_pred[2, :],\n",
    "                            show=False)\n",
    "axs = plot.traj_xyz_txyz(traj['t'],\n",
    "                        traj['z'][0, :], traj['z'][1, :], traj['z'][2, :],\n",
    "                        color=\"tab:orange\", axs=axs, show=False)\n",
    "axs[-1].legend([\"Predicted trajectory\", \"Actual trajectory\"])\n",
    "for ax in axs:\n",
    "    ax.set_ylim(-35, 35)\n",
    "plt.suptitle(r\"Trajectory (predicted vs. actual)\")\n",
    "plt.tight_layout()\n",
    "plt.show()\n",
    "\n",
    "# Trajectory 2D (predicted vs. actual)\n",
    "ax = plot.traj_2D_xy(y_pred[0, :], y_pred[1, :],\n",
    "                      show=False)\n",
    "ax = plot.traj_2D_xy(traj['z'][0, :], traj['z'][1, :],\n",
    "                        color=\"tab:orange\", ax=ax, show=False)\n",
    "ax.set_xlim(-35, 35)\n",
    "ax.set_ylim(-35, 35)\n",
    "ax.legend([\"Predicted trajectory\", \"Actual trajectory\"])\n",
    "plt.suptitle(r\"Trajectory (predicted vs. actual)\")\n",
    "plt.show()\n",
    "\n",
    "# weights\n",
    "axs = plot.adiabatic_model_weights(t, weights, model_names)\n",
    "\n",
    "# psi_bar\n",
    "axs = plot.traj_xyz_txyz(t,\n",
    "                        y_bar[0, :], y_bar[1, :], y_bar[2, :],\n",
    "                        xyz_names=[r\"$\\bar{\\psi}_1(t)$\", r\"$\\bar{\\psi}_2(t)$\", r\"$\\bar{\\psi}_3(t)$\"],\n",
    "                        show=False, rotate_yticks=True)\n",
    "plt.suptitle(r\"$\\bar{\\psi}(t)$\")\n",
    "plt.show()\n",
    "\n",
    "# xi_dot\n",
    "axs = plot.traj_xyz_txyz(t,\n",
    "                        xdot[0, :], xdot[1, :], xdot[2, :],\n",
    "                        xyz_names=[r\"$\\dot{\\xi}_1(t)$\", r\"$\\dot{\\xi}_2(t)$\", r\"$\\dot{\\xi}_3(t)$\"],\n",
    "                        show=False, rotate_yticks=True)\n",
    "# for ax in axs:\n",
    "#     ax.set_ylim(-100, 100)\n",
    "plt.suptitle(r\"$\\dot{\\xi}(t)$\")\n",
    "plt.show()\n",
    "\n",
    "# xi\n",
    "axs = plot.traj_xyz_txyz(t,\n",
    "                        x[0, :], x[1, :], x[2, :],\n",
    "                        xyz_names=[r\"$\\xi_1(t)$\", r\"$\\xi_2(t)$\", r\"$\\xi_3(t)$\"],\n",
    "                        show=False, rotate_yticks=True)\n",
    "# for ax in axs:\n",
    "#     ax.set_ylim(-100, 100)\n",
    "plt.suptitle(r\"$\\xi(t)$\")\n",
    "plt.show()\n"
   ]
  }
 ],
 "metadata": {
  "kernelspec": {
   "display_name": "soft",
   "language": "python",
   "name": "python3"
  },
  "language_info": {
   "codemirror_mode": {
    "name": "ipython",
    "version": 3
   },
   "file_extension": ".py",
   "mimetype": "text/x-python",
   "name": "python",
   "nbconvert_exporter": "python",
   "pygments_lexer": "ipython3",
   "version": "3.8.16"
  },
  "orig_nbformat": 4
 },
 "nbformat": 4,
 "nbformat_minor": 2
}
