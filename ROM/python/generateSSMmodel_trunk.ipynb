{
 "cells": [
  {
   "attachments": {},
   "cell_type": "markdown",
   "metadata": {},
   "source": [
    "# SSMR: generate SSM model from trajectory data"
   ]
  },
  {
   "cell_type": "code",
   "execution_count": 1,
   "metadata": {},
   "outputs": [],
   "source": [
    "import numpy as np\n",
    "from copy import deepcopy\n",
    "from os.path import join"
   ]
  },
  {
   "cell_type": "code",
   "execution_count": 2,
   "metadata": {},
   "outputs": [],
   "source": [
    "%matplotlib qt\n",
    "import matplotlib.pyplot as plt"
   ]
  },
  {
   "cell_type": "code",
   "execution_count": 3,
   "metadata": {},
   "outputs": [],
   "source": [
    "%load_ext autoreload\n",
    "%autoreload 2\n",
    "import utils as utils\n",
    "import plot_utils as plot"
   ]
  },
  {
   "cell_type": "code",
   "execution_count": 4,
   "metadata": {},
   "outputs": [],
   "source": [
    "np.set_printoptions(linewidth=300)"
   ]
  },
  {
   "attachments": {},
   "cell_type": "markdown",
   "metadata": {},
   "source": [
    "## Settings for SSM model"
   ]
  },
  {
   "cell_type": "code",
   "execution_count": 5,
   "metadata": {},
   "outputs": [],
   "source": [
    "observables = \"delay-embedding\" # \"pos-vel\" # \n",
    "N_DELAY = 4 # only relevant if observables is \"delay-embedding\"\n",
    "TIP_NODE = 51\n",
    "N_NODES = 709\n",
    "INPUT_DIM = 8\n",
    "DT = 0.01\n",
    "\n",
    "rDOF = 3\n",
    "oDOF = 3\n",
    "SSMDim = 6\n",
    "\n",
    "SSMOrder = 3\n",
    "obsDim = 2*oDOF\n",
    "ROMOrder = 3\n",
    "RDType = 'flow'"
   ]
  },
  {
   "attachments": {},
   "cell_type": "markdown",
   "metadata": {},
   "source": [
    "## Import and inspect decay data"
   ]
  },
  {
   "cell_type": "code",
   "execution_count": 6,
   "metadata": {},
   "outputs": [
    {
     "ename": "KeyboardInterrupt",
     "evalue": "",
     "output_type": "error",
     "traceback": [
      "\u001b[0;31m---------------------------------------------------------------------------\u001b[0m",
      "\u001b[0;31mKeyboardInterrupt\u001b[0m                         Traceback (most recent call last)",
      "Cell \u001b[0;32mIn[6], line 15\u001b[0m\n\u001b[1;32m     13\u001b[0m decayData_dir \u001b[39m=\u001b[39m  join(data_dir, \u001b[39m\"\u001b[39m\u001b[39mdecay\u001b[39m\u001b[39m\"\u001b[39m) \u001b[39m# join(robot_dir, \"dataCollection/origin\") # \u001b[39;00m\n\u001b[1;32m     14\u001b[0m Data \u001b[39m=\u001b[39m {}\n\u001b[0;32m---> 15\u001b[0m Data[\u001b[39m'\u001b[39m\u001b[39moData\u001b[39m\u001b[39m'\u001b[39m] \u001b[39m=\u001b[39m utils\u001b[39m.\u001b[39;49mimport_pos_data(decayData_dir, rest_file\u001b[39m=\u001b[39;49mrest_file, output_node\u001b[39m=\u001b[39;49moutput_node, t_in\u001b[39m=\u001b[39;49mt_in, t_out\u001b[39m=\u001b[39;49mt_out)\n\u001b[1;32m     17\u001b[0m nTRAJ \u001b[39m=\u001b[39m \u001b[39mlen\u001b[39m(Data[\u001b[39m'\u001b[39m\u001b[39moData\u001b[39m\u001b[39m'\u001b[39m])\n\u001b[1;32m     18\u001b[0m \u001b[39mprint\u001b[39m(\u001b[39m\"\u001b[39m\u001b[39mnTRAJ:\u001b[39m\u001b[39m\"\u001b[39m, nTRAJ)\n",
      "File \u001b[0;32m~/Projects/stanford/SSMR-for-control/ROM/python/utils.py:149\u001b[0m, in \u001b[0;36mimport_pos_data\u001b[0;34m(data_dir, rest_file, output_node, t_in, t_out, return_inputs, return_velocity, traj_index)\u001b[0m\n\u001b[1;32m    145\u001b[0m \u001b[39mfor\u001b[39;00m i, traj \u001b[39min\u001b[39;00m \u001b[39menumerate\u001b[39m(files):\n\u001b[1;32m    146\u001b[0m     \u001b[39m# if i % 3 != 0:\u001b[39;00m\n\u001b[1;32m    147\u001b[0m     \u001b[39m#     continue\u001b[39;00m\n\u001b[1;32m    148\u001b[0m     \u001b[39mwith\u001b[39;00m \u001b[39mopen\u001b[39m(join(data_dir, traj), \u001b[39m'\u001b[39m\u001b[39mrb\u001b[39m\u001b[39m'\u001b[39m) \u001b[39mas\u001b[39;00m file:\n\u001b[0;32m--> 149\u001b[0m         data \u001b[39m=\u001b[39m pickle\u001b[39m.\u001b[39;49mload(file)\n\u001b[1;32m    150\u001b[0m     t \u001b[39m=\u001b[39m np\u001b[39m.\u001b[39marray(data[\u001b[39m'\u001b[39m\u001b[39mt\u001b[39m\u001b[39m'\u001b[39m])\n\u001b[1;32m    151\u001b[0m     \u001b[39mif\u001b[39;00m output_node \u001b[39m==\u001b[39m \u001b[39m'\u001b[39m\u001b[39mall\u001b[39m\u001b[39m'\u001b[39m:\n",
      "File \u001b[0;32m~/.local/lib/python3.8/site-packages/numpy/core/numeric.py:1874\u001b[0m, in \u001b[0;36m_frombuffer\u001b[0;34m(buf, dtype, shape, order)\u001b[0m\n\u001b[1;32m   1866\u001b[0m     \u001b[39mreturn\u001b[39;00m function(\u001b[39m*\u001b[39margs, \u001b[39m*\u001b[39m\u001b[39m*\u001b[39mkwargs)\n\u001b[1;32m   1869\u001b[0m _fromfunction_with_like \u001b[39m=\u001b[39m array_function_dispatch(\n\u001b[1;32m   1870\u001b[0m     _fromfunction_dispatcher\n\u001b[1;32m   1871\u001b[0m )(fromfunction)\n\u001b[0;32m-> 1874\u001b[0m \u001b[39mdef\u001b[39;00m \u001b[39m_frombuffer\u001b[39m(buf, dtype, shape, order):\n\u001b[1;32m   1875\u001b[0m     \u001b[39mreturn\u001b[39;00m frombuffer(buf, dtype\u001b[39m=\u001b[39mdtype)\u001b[39m.\u001b[39mreshape(shape, order\u001b[39m=\u001b[39morder)\n\u001b[1;32m   1878\u001b[0m \u001b[39m@set_module\u001b[39m(\u001b[39m'\u001b[39m\u001b[39mnumpy\u001b[39m\u001b[39m'\u001b[39m)\n\u001b[1;32m   1879\u001b[0m \u001b[39mdef\u001b[39;00m \u001b[39misscalar\u001b[39m(element):\n",
      "\u001b[0;31mKeyboardInterrupt\u001b[0m: "
     ]
    }
   ],
   "source": [
    "if observables == \"pos-vel\":\n",
    "    output_node = 'all'\n",
    "elif observables == \"delay-embedding\":\n",
    "    output_node = TIP_NODE\n",
    "t_in = 1\n",
    "t_out = 4\n",
    "\n",
    "robot_dir = \"../../../soft-robot-control/examples/trunk\"\n",
    "data_dir = \"/media/jonas/Backup Plus/jonas_soft_robot_data/trunk_adiabatic/origin\"\n",
    "rest_file = join(robot_dir, 'rest_qv.pkl')\n",
    "\n",
    "\n",
    "decayData_dir =  join(data_dir, \"decay\") # join(robot_dir, \"dataCollection/origin\") # \n",
    "Data = {}\n",
    "Data['oData'] = utils.import_pos_data(decayData_dir, rest_file=rest_file, output_node=output_node, t_in=t_in, t_out=t_out)\n",
    "\n",
    "nTRAJ = len(Data['oData'])\n",
    "print(\"nTRAJ:\", nTRAJ)"
   ]
  },
  {
   "cell_type": "markdown",
   "metadata": {},
   "source": [
    "Mainly required for adiabatic setting: Load info.yaml to get pre-tensioning that was used to obtain the decay data as well as the resulting equilibrium position"
   ]
  },
  {
   "cell_type": "code",
   "execution_count": null,
   "metadata": {},
   "outputs": [],
   "source": [
    "import yaml\n",
    "with open(join(decayData_dir, \"info.yaml\"), \"r\") as f:\n",
    "    info = yaml.safe_load(f)\n",
    "# if 'qv_eq' in info:\n",
    "#     qv_eq = np.array(info['qv_eq'])\n",
    "#     print(f\"Loaded offset equilibrium position from info.yaml: {qv_eq}\")\n",
    "# else:\n",
    "q_eq = np.mean([Data['oData'][i][1][:, -1] for i in range(nTRAJ)], axis=0)\n",
    "u_eq = np.array(info['pre_tensioning'])\n",
    "# qv_eq = np.hstack((q_eq, np.zeros_like(q_eq)))\n",
    "# info['q_eq'] = q_eq.astype(float).tolist()\n",
    "# print(f\"Computed equilbrium position from data and saved to info.yaml: {q_eq}\")\n",
    "# with open(join(decayData_dir, \"info.yaml\"), \"w\") as f:\n",
    "#     yaml.dump(info, f, default_flow_style=True)\n",
    "print(u_eq)\n",
    "print(q_eq)"
   ]
  },
  {
   "attachments": {},
   "cell_type": "markdown",
   "metadata": {},
   "source": [
    "Change of coordinates: shift oData to the offset equilibrium position"
   ]
  },
  {
   "cell_type": "code",
   "execution_count": null,
   "metadata": {},
   "outputs": [],
   "source": [
    "# if observables == \"delay-embedding\":\n",
    "#     rest_position = q_eq[:3]\n",
    "# elif observables == \"pos-vel\":\n",
    "#     rest_position = q_eq[]\n",
    "for i in range(nTRAJ):\n",
    "    Data['oData'][i][1] = (Data['oData'][i][1].T - q_eq).T"
   ]
  },
  {
   "attachments": {},
   "cell_type": "markdown",
   "metadata": {},
   "source": [
    "## Observables"
   ]
  },
  {
   "attachments": {},
   "cell_type": "markdown",
   "metadata": {},
   "source": [
    "EITHER compute reduced coordinates using delay embedding on the available oData OR use position and velocity of all nodes as observables"
   ]
  },
  {
   "cell_type": "code",
   "execution_count": null,
   "metadata": {},
   "outputs": [],
   "source": [
    "if observables == \"delay-embedding\":\n",
    "    # observables are position of tip + n_delay delay embeddings of the tip position\n",
    "    assemble_observables = lambda oData: utils.delayEmbedding(oData, up_to_delay=N_DELAY)\n",
    "elif observables == \"pos-vel\":\n",
    "    # observables is position and velocity of tip node\n",
    "    def assemble_observables(oData):\n",
    "        if oData.shape[0] > 6:\n",
    "            tip_node_slice = np.s_[3*TIP_NODE:3*TIP_NODE+3]\n",
    "        else:\n",
    "            tip_node_slice = np.s_[:3]\n",
    "        return np.vstack((oData[tip_node_slice, :], np.gradient(oData[tip_node_slice, :], DT, axis=1)))"
   ]
  },
  {
   "attachments": {},
   "cell_type": "markdown",
   "metadata": {},
   "source": [
    "Compute observables"
   ]
  },
  {
   "cell_type": "code",
   "execution_count": null,
   "metadata": {},
   "outputs": [],
   "source": [
    "Data['yData'] = deepcopy(Data['oData'])\n",
    "for i in range(nTRAJ):\n",
    "    Data['yData'][i][1] = assemble_observables(Data['oData'][i][1])"
   ]
  },
  {
   "attachments": {},
   "cell_type": "markdown",
   "metadata": {},
   "source": [
    "### Plot observables of interest"
   ]
  },
  {
   "cell_type": "code",
   "execution_count": null,
   "metadata": {},
   "outputs": [],
   "source": [
    "outdofs = [0, 1, 2]\n",
    "plt.close('all')\n",
    "# plot trajectories in 3D [x, y, z] space\n",
    "plot.traj_3D(Data,\n",
    "             xyz_idx=[('yData', outdofs[0]), ('yData', outdofs[1]), ('yData', outdofs[2])],\n",
    "             xyz_names=[r'$x$ [mm]', r'$y$ [mm]', r'$z$ [mm]'])\n",
    "# plot evolution of x, y and z in time, separately in 3 subplots\n",
    "highlight_traj = [] # [14, 16, 18, 31, 35, 44] # []\n",
    "plot.traj_xyz(Data,\n",
    "             xyz_idx=[('yData', outdofs[0]), ('yData', outdofs[1]), ('yData', outdofs[2])],\n",
    "             xyz_names=[r'$x$ [mm]', r'$y$ [mm]', r'$z$ [mm]'],\n",
    "             highlight_idx=highlight_traj)\n",
    "if observables == \"pos-vel\":\n",
    "    # plot trajectories in 3D [x, x_dot, z] space / NB: x_dot = v_x\n",
    "    plot.traj_3D(Data,\n",
    "                xyz_idx=[('yData', outdofs[0]), ('yData', outdofs[0]+oDOF), ('yData', outdofs[2])],\n",
    "                xyz_names=[r'$x$ [mm]', r'$\\dot{x}$ [mm/s]', r'$z$ [mm]'])"
   ]
  },
  {
   "attachments": {},
   "cell_type": "markdown",
   "metadata": {},
   "source": [
    "Slice trajectories, i.e. remove time before they converge with SSM and cut off the end after complete decay"
   ]
  },
  {
   "cell_type": "code",
   "execution_count": null,
   "metadata": {},
   "outputs": [],
   "source": [
    "t_interval = [0.1, 3]\n",
    "Data['oDataTrunc'] = utils.slice_trajectories(Data['oData'], t_interval)\n",
    "Data['yDataTrunc'] = utils.slice_trajectories(Data['yData'], t_interval)"
   ]
  },
  {
   "attachments": {},
   "cell_type": "markdown",
   "metadata": {},
   "source": [
    "## Obtain reduced-order coordinates"
   ]
  },
  {
   "attachments": {},
   "cell_type": "markdown",
   "metadata": {},
   "source": [
    "### Perform PCA on delay-embedded coordinates to obtain reduced coordinates"
   ]
  },
  {
   "cell_type": "code",
   "execution_count": null,
   "metadata": {},
   "outputs": [],
   "source": [
    "if observables == \"pos-vel\":\n",
    "    svd_data = 'oDataTrunc'\n",
    "elif observables == \"delay-embedding\":\n",
    "    svd_data = 'yDataTrunc'\n",
    "\n",
    "Xsnapshots = np.hstack([yDataTrunc[1] for yDataTrunc in Data[svd_data]])\n",
    "Xsnapshots = Xsnapshots[:, :]\n",
    "\n",
    "show_modes = 9\n",
    "Xsnapshots = np.hstack([DataTrunc[1] for DataTrunc in Data[svd_data]])\n",
    "v, s = utils.sparse_svd(Xsnapshots, up_to_mode=max(SSMDim, show_modes))"
   ]
  },
  {
   "cell_type": "code",
   "execution_count": null,
   "metadata": {},
   "outputs": [],
   "source": [
    "# Plot variance description: we expect three modes to capture almost all variance.\n",
    "# Note we assume data centered around the origin, which is the fixed point of our system.\n",
    "plt.close('all')\n",
    "plot.pca_modes(s**2, up_to_mode=show_modes)"
   ]
  },
  {
   "attachments": {},
   "cell_type": "markdown",
   "metadata": {},
   "source": [
    "### Project data onto dominant modes"
   ]
  },
  {
   "cell_type": "code",
   "execution_count": null,
   "metadata": {},
   "outputs": [],
   "source": [
    "Data['etaDataTrunc'] = deepcopy(Data['oDataTrunc'])\n",
    "if observables == \"delay-embedding\":\n",
    "    Vde = v[:, :SSMDim]\n",
    "    for i in range(nTRAJ):\n",
    "        Data['etaDataTrunc'][i][1] = Vde.T @ Data[svd_data][i][1]\n",
    "elif observables == \"pos-vel\":\n",
    "    assert SSMDim % 2 == 0\n",
    "    Vde = np.kron(np.eye(2), v[:, :SSMDim//2])\n",
    "    for i in range(nTRAJ):\n",
    "        Data['etaDataTrunc'][i][1] = Vde.T @ np.vstack((Data[svd_data][i][1], np.gradient(Data[svd_data][i][1], DT, axis=1)))"
   ]
  },
  {
   "cell_type": "code",
   "execution_count": null,
   "metadata": {},
   "outputs": [],
   "source": [
    "plt.close('all')\n",
    "# plot first three reduced coordinates\n",
    "plot.traj_xyz(Data,\n",
    "              xyz_idx=[('etaDataTrunc', 0), ('etaDataTrunc', 1), ('etaDataTrunc', 2)],\n",
    "              xyz_names=[r'$x_1$', r'$x_2$', r'$x_3$'])"
   ]
  },
  {
   "attachments": {},
   "cell_type": "markdown",
   "metadata": {},
   "source": [
    "### Train and test data (train/test split)"
   ]
  },
  {
   "cell_type": "code",
   "execution_count": null,
   "metadata": {},
   "outputs": [],
   "source": [
    "indTest = [0, 8, 16, 24]\n",
    "indTrain = [i for i in range(nTRAJ) if i not in indTest]"
   ]
  },
  {
   "cell_type": "markdown",
   "metadata": {},
   "source": [
    "## SSMLearnPy"
   ]
  },
  {
   "cell_type": "code",
   "execution_count": null,
   "metadata": {},
   "outputs": [],
   "source": [
    "from ssmlearnpy import SSMLearn"
   ]
  },
  {
   "attachments": {},
   "cell_type": "markdown",
   "metadata": {},
   "source": [
    "Use SSMLearnPy package to find parametrization of SSM (graph style) and reduced dynamics on the SSM."
   ]
  },
  {
   "cell_type": "code",
   "execution_count": null,
   "metadata": {},
   "outputs": [],
   "source": [
    "ssm = SSMLearn(\n",
    "    t=[Data['oDataTrunc'][i][0] for i in indTrain], \n",
    "    x=[Data['yDataTrunc'][i][1] for i in indTrain], \n",
    "    reduced_coordinates=[Data['etaDataTrunc'][i][1] for i in indTrain],\n",
    "    ssm_dim=SSMDim, \n",
    "    dynamics_type=RDType\n",
    ")"
   ]
  },
  {
   "cell_type": "code",
   "execution_count": null,
   "metadata": {},
   "outputs": [],
   "source": [
    "ssm.get_parametrization(poly_degree=SSMOrder)    \n",
    "ssm.get_reduced_dynamics(poly_degree=ROMOrder)"
   ]
  },
  {
   "attachments": {},
   "cell_type": "markdown",
   "metadata": {},
   "source": [
    "Save the relevant coefficents and parameters into dictionairies which resemble the outputs of the Matlab SSMLearn package."
   ]
  },
  {
   "cell_type": "code",
   "execution_count": null,
   "metadata": {},
   "outputs": [],
   "source": [
    "IMInfo = {'parametrization': {}, 'chart': {}}\n",
    "IMInfo['parametrization']['polynomialOrder'] = SSMOrder\n",
    "IMInfo['parametrization']['H'] = ssm.decoder.map_info['coefficients']\n",
    "RDInfo = {'reducedDynamics': {}}\n",
    "RDInfo['reducedDynamics']['polynomialOrder'] = ROMOrder\n",
    "RDInfo['reducedDynamics']['coefficients'] = ssm.reduced_dynamics.map_info['coefficients']\n",
    "RDInfo['reducedDynamics']['eigenvaluesLinPartFlow'] = ssm.reduced_dynamics.map_info['eigenvalues_lin_part']\n",
    "RDInfo['dynamicsType'] = RDType"
   ]
  },
  {
   "attachments": {},
   "cell_type": "markdown",
   "metadata": {},
   "source": [
    "## SSMLearn (Matlab)"
   ]
  },
  {
   "attachments": {},
   "cell_type": "markdown",
   "metadata": {},
   "source": [
    "Start Matlab engine and install/run SSMLearn"
   ]
  },
  {
   "cell_type": "code",
   "execution_count": null,
   "metadata": {},
   "outputs": [],
   "source": [
    "# ssm = utils.start_matlab_ssmlearn(\"/home/jonas/Projects/stanford/SSMR-for-control\")"
   ]
  },
  {
   "attachments": {},
   "cell_type": "markdown",
   "metadata": {},
   "source": [
    "Bring data in a format that is accepted by the (slightly modified) version of SSMLearn (requires a specific cell array structure for input data)"
   ]
  },
  {
   "cell_type": "code",
   "execution_count": null,
   "metadata": {},
   "outputs": [],
   "source": [
    "# yDataTruncTrain_matlab = utils.numpy_to_matlab([Data['yDataTrunc'][i] for i in indTrain])\n",
    "# etaDataTruncTrain_matlab = utils.numpy_to_matlab([Data['etaDataTrunc'][i] for i in indTrain])"
   ]
  },
  {
   "attachments": {},
   "cell_type": "markdown",
   "metadata": {},
   "source": [
    "### Learn geometry of the SSM"
   ]
  },
  {
   "attachments": {},
   "cell_type": "markdown",
   "metadata": {},
   "source": [
    "Find parametrization of SSM using SSMLearn"
   ]
  },
  {
   "cell_type": "code",
   "execution_count": null,
   "metadata": {},
   "outputs": [],
   "source": [
    "# IMInfo = ssm.IMGeometry(yDataTruncTrain_matlab, SSMDim, SSMOrder,\n",
    "#                         'reducedCoordinates', etaDataTruncTrain_matlab, 'l_vals', 0.)\n",
    "# if observables == \"pos-vel\":\n",
    "#     IMInfoInv = ssm.IMGeometry(etaDataTruncTrain_matlab, obsDim, SSMOrder,\n",
    "#                             'reducedCoordinates', yDataTruncTrain_matlab)\n",
    "#     for key in ['map', 'polynomialOrder', 'dimension', 'nonlinearCoefficients', 'phi', 'exponents', 'H']:\n",
    "#         IMInfo['chart'][key] = IMInfoInv['parametrization'][key]"
   ]
  },
  {
   "attachments": {},
   "cell_type": "markdown",
   "metadata": {},
   "source": [
    "### Learn dynamics on the SSM (reduced dynamics)"
   ]
  },
  {
   "attachments": {},
   "cell_type": "markdown",
   "metadata": {},
   "source": [
    "Find parametrization of reduced dynamics using SSMLearn"
   ]
  },
  {
   "cell_type": "code",
   "execution_count": null,
   "metadata": {},
   "outputs": [],
   "source": [
    "# RDInfo = ssm.IMDynamicsFlow(etaDataTruncTrain_matlab, 'R_PolyOrd', ROMOrder, 'style', 'default', 'l_vals', 0.)"
   ]
  },
  {
   "attachments": {},
   "cell_type": "markdown",
   "metadata": {},
   "source": [
    "Stop Matlab engine -- not needed anymore"
   ]
  },
  {
   "cell_type": "code",
   "execution_count": null,
   "metadata": {},
   "outputs": [],
   "source": [
    "# ssm.quit()"
   ]
  },
  {
   "cell_type": "markdown",
   "metadata": {},
   "source": [
    "Convert all matlab double arrays to numpy arrays"
   ]
  },
  {
   "cell_type": "code",
   "execution_count": null,
   "metadata": {},
   "outputs": [],
   "source": [
    "# utils.matlab_info_dict_to_numpy(IMInfo)\n",
    "# utils.matlab_info_dict_to_numpy(RDInfo)"
   ]
  },
  {
   "attachments": {},
   "cell_type": "markdown",
   "metadata": {},
   "source": [
    "Stability analysis of reduced dynamics"
   ]
  },
  {
   "cell_type": "code",
   "execution_count": null,
   "metadata": {},
   "outputs": [],
   "source": [
    "# # assert np.all(np.real(RDInfo['eigenvaluesLinPartFlow']) < 0)\n",
    "# RDInfo['eigenvaluesLinPartFlow']"
   ]
  },
  {
   "attachments": {},
   "cell_type": "markdown",
   "metadata": {},
   "source": [
    "## Analyze the obtained mappings of SSM geometry and reduced dynamics"
   ]
  },
  {
   "attachments": {},
   "cell_type": "markdown",
   "metadata": {},
   "source": [
    "### SSM geometry (parametrization)"
   ]
  },
  {
   "cell_type": "code",
   "execution_count": null,
   "metadata": {},
   "outputs": [],
   "source": [
    "trajRec = {}\n",
    "# geometry error\n",
    "meanErrorGeo = {}\n",
    "trajRec['geo'] = utils.lift_trajectories(IMInfo, Data['etaDataTrunc'])\n",
    "normedTrajDist = utils.compute_trajectory_errors(trajRec['geo'], Data['yDataTrunc'])[0] * 100\n",
    "meanErrorGeo['Train'] = np.mean(normedTrajDist[indTrain])\n",
    "meanErrorGeo['Test'] = np.mean(normedTrajDist[indTest])\n",
    "print(f\"Average parametrization train error: {meanErrorGeo['Train']:.4e}\")\n",
    "print(f\"Average parametrization test error: {meanErrorGeo['Test']:.4e}\")"
   ]
  },
  {
   "cell_type": "code",
   "execution_count": null,
   "metadata": {},
   "outputs": [],
   "source": [
    "# plot comparison of SSM-predicted vs. actual test trajectories\n",
    "plt.close('all')\n",
    "axs = plot.traj_xyz(Data,\n",
    "                    xyz_idx=[('yData', 0), ('yData', 1), ('yData', 2)],\n",
    "                    xyz_names=[r'$x$ [mm]', r'$y$ [mm]', r'$z$ [mm]'],\n",
    "                    traj_idx=indTest,\n",
    "                    show=False)\n",
    "plot.traj_xyz(trajRec,\n",
    "            xyz_idx=[('geo', 0), ('geo', 1), ('geo', 2)],\n",
    "            xyz_names=[r'$x$ [mm]', r'$y$ [mm]', r'$z$ [mm]'],\n",
    "            traj_idx=indTest,\n",
    "            axs=axs, ls=':', color='darkblue')"
   ]
  },
  {
   "attachments": {},
   "cell_type": "markdown",
   "metadata": {},
   "source": [
    "### Reduced dynamics"
   ]
  },
  {
   "cell_type": "code",
   "execution_count": null,
   "metadata": {},
   "outputs": [],
   "source": [
    "# reduced dynamics error\n",
    "meanErrorDyn = {}\n",
    "trajRec['rd'] = utils.advectRD(RDInfo, Data['etaDataTrunc'])[0]\n",
    "normedTrajDist = utils.compute_trajectory_errors(trajRec['rd'], Data['etaDataTrunc'])[0] * 100\n",
    "meanErrorDyn['Train'] = np.mean(normedTrajDist[indTrain])\n",
    "meanErrorDyn['Test'] = np.mean(normedTrajDist[indTest])\n",
    "print(f\"Average dynamics train error: {meanErrorDyn['Train']:.4f}\")\n",
    "print(f\"Average dynamics test error: {meanErrorDyn['Test']:.4f}\")"
   ]
  },
  {
   "cell_type": "code",
   "execution_count": null,
   "metadata": {},
   "outputs": [],
   "source": [
    "axs = plot.traj_xyz(Data,\n",
    "                    xyz_idx=[('etaDataTrunc', 0), ('etaDataTrunc', 1), ('etaDataTrunc', 2)],\n",
    "                    xyz_names=[r'$x_1$', r'$x_2$', r'$x_3$'],\n",
    "                    traj_idx=indTest,\n",
    "                    show=False)\n",
    "plot.traj_xyz(trajRec,\n",
    "            xyz_idx=[('rd', 0), ('rd', 1), ('rd', 2)],\n",
    "            xyz_names=[r'$x_1$', r'$x_2$', r'$x_3$'],\n",
    "            traj_idx=indTest,\n",
    "            axs=axs, ls=':', color='darkblue')"
   ]
  },
  {
   "attachments": {},
   "cell_type": "markdown",
   "metadata": {},
   "source": [
    "### Global error"
   ]
  },
  {
   "cell_type": "code",
   "execution_count": null,
   "metadata": {},
   "outputs": [],
   "source": [
    "# global error\n",
    "meanErrorGlo = {}\n",
    "trajRec['glob'] = utils.lift_trajectories(IMInfo, trajRec['rd'])\n",
    "normedTrajDist = utils.compute_trajectory_errors(trajRec['glob'], Data['yDataTrunc'])[0] * 100\n",
    "meanErrorGlo['Train'] = np.mean(normedTrajDist[indTrain])\n",
    "meanErrorGlo['Test'] = np.mean(normedTrajDist[indTest])\n",
    "print(f\"Average global train error: {meanErrorGlo['Train']:.4f}\")\n",
    "print(f\"Average global test error: {meanErrorGlo['Test']:.4f}\")"
   ]
  },
  {
   "cell_type": "code",
   "execution_count": null,
   "metadata": {},
   "outputs": [],
   "source": [
    "axs = plot.traj_xyz(Data,\n",
    "                    xyz_idx=[('yData', 0), ('yData', 1), ('yData', 2)],\n",
    "                    xyz_names=[r'$x$', r'$y$', r'$z$'],\n",
    "                    traj_idx=indTest,\n",
    "                    show=False)\n",
    "plot.traj_xyz(trajRec,\n",
    "            xyz_idx=[('glob', 0), ('glob', 1), ('glob', 2)],\n",
    "            xyz_names=[r'$x$', r'$y$', r'$z$'],\n",
    "            traj_idx=indTest,\n",
    "            axs=axs, ls=':', color='darkblue')"
   ]
  },
  {
   "attachments": {},
   "cell_type": "markdown",
   "metadata": {},
   "source": [
    "## Understand which mode is responsible for what motion"
   ]
  },
  {
   "cell_type": "code",
   "execution_count": null,
   "metadata": {},
   "outputs": [],
   "source": [
    "if observables == \"pos-vel\":\n",
    "    modesDir, modesFreq = utils.dominant_displacement_modes(RDInfo, Vde, SSMDim=SSMDim, tip_node=TIP_NODE, n_nodes=N_NODES)\n",
    "    plot.mode_direction(modesDir, modesFreq)"
   ]
  },
  {
   "attachments": {},
   "cell_type": "markdown",
   "metadata": {},
   "source": [
    "## Control"
   ]
  },
  {
   "attachments": {},
   "cell_type": "markdown",
   "metadata": {},
   "source": [
    "### Setup model for control"
   ]
  },
  {
   "cell_type": "code",
   "execution_count": null,
   "metadata": {},
   "outputs": [],
   "source": [
    "Rauton = lambda x: RDInfo['reducedDynamics']['coefficients'] @ utils.phi(x, RDInfo['reducedDynamics']['polynomialOrder'])\n",
    "Vauton = lambda x: IMInfo['parametrization']['H'] @ utils.phi(x, IMInfo['parametrization']['polynomialOrder'])\n",
    "if observables == \"pos-vel\":\n",
    "    Wauton = lambda y: IMInfo['chart']['H'] @ utils.phi(y, IMInfo['chart']['polynomialOrder'])\n",
    "elif observables == \"delay-embedding\":\n",
    "    Wauton = lambda y: Vde.T @ y"
   ]
  },
  {
   "attachments": {},
   "cell_type": "markdown",
   "metadata": {},
   "source": [
    "### Learn control matrix $B$"
   ]
  },
  {
   "attachments": {},
   "cell_type": "markdown",
   "metadata": {},
   "source": [
    "Use randomly sampled inputs as the training and test data"
   ]
  },
  {
   "cell_type": "code",
   "execution_count": null,
   "metadata": {},
   "outputs": [],
   "source": [
    "inputData_dir = join(data_dir, \"open-loop\")\n",
    "(t, z), u = utils.import_pos_data(inputData_dir, rest_file, TIP_NODE, return_inputs=True)\n",
    "z = (z.T - q_eq).T\n",
    "u = (u.T - u_eq).T\n",
    "print(q_eq)"
   ]
  },
  {
   "attachments": {},
   "cell_type": "markdown",
   "metadata": {},
   "source": [
    "Compute observables and reduced coordinates"
   ]
  },
  {
   "cell_type": "code",
   "execution_count": null,
   "metadata": {},
   "outputs": [],
   "source": [
    "y = assemble_observables(z)\n",
    "x = Wauton(y)"
   ]
  },
  {
   "attachments": {},
   "cell_type": "markdown",
   "metadata": {},
   "source": [
    "Train/test split"
   ]
  },
  {
   "cell_type": "code",
   "execution_count": null,
   "metadata": {},
   "outputs": [],
   "source": [
    "train_ratio = 0.8\n",
    "split_idx = int(train_ratio * len(t))\n",
    "t_train, t_test = t[:split_idx], t[split_idx:]\n",
    "z_train, z_test = z[:, :split_idx], z[:, split_idx:]\n",
    "y_train, y_test = y[:, :split_idx], y[:, split_idx:]\n",
    "u_train, u_test = u[:, :split_idx], u[:, split_idx:]\n",
    "x_train, x_test = x[:, :split_idx], x[:, split_idx:]"
   ]
  },
  {
   "attachments": {},
   "cell_type": "markdown",
   "metadata": {},
   "source": [
    "Plot the training data"
   ]
  },
  {
   "cell_type": "code",
   "execution_count": null,
   "metadata": {},
   "outputs": [],
   "source": [
    "plt.close('all')\n",
    "plot.traj_xyz_txyz(t=t_train,\n",
    "                   x=z_train[0, :], y=z_train[1, :], z=z_train[2, :])\n",
    "plot.inputs(t_train, u_train)"
   ]
  },
  {
   "attachments": {},
   "cell_type": "markdown",
   "metadata": {},
   "source": [
    "Plot the test data"
   ]
  },
  {
   "cell_type": "code",
   "execution_count": null,
   "metadata": {},
   "outputs": [],
   "source": [
    "plt.close('all')\n",
    "plot.traj_xyz_txyz(t=t_test,\n",
    "                   x=z_test[0, :], y=z_test[1, :], z=z_test[2, :])\n",
    "plot.inputs(t_test, u_test)"
   ]
  },
  {
   "attachments": {},
   "cell_type": "markdown",
   "metadata": {},
   "source": [
    "Compute gradient as predicted by reduced dynamics as well as the numerical (true) gradient"
   ]
  },
  {
   "cell_type": "code",
   "execution_count": null,
   "metadata": {},
   "outputs": [],
   "source": [
    "dxdt = np.gradient(x_train, DT, axis=1)\n",
    "dxdt_ROM = Rauton(x_train)"
   ]
  },
  {
   "attachments": {},
   "cell_type": "markdown",
   "metadata": {},
   "source": [
    "Plot gradients (numerical differentiation and reduced dynamics)"
   ]
  },
  {
   "cell_type": "code",
   "execution_count": null,
   "metadata": {},
   "outputs": [],
   "source": [
    "plot.reduced_coordinates_gradient(t_train, [dxdt, dxdt_ROM], labels=[\"true numerical\", \"predicted autonomous\"], how=\"all\")"
   ]
  },
  {
   "cell_type": "code",
   "execution_count": null,
   "metadata": {},
   "outputs": [],
   "source": [
    "# plt.close('all')\n",
    "# plot.dependence_of_xdot_on_inputs(dxDt, u_train_trunc)"
   ]
  },
  {
   "attachments": {},
   "cell_type": "markdown",
   "metadata": {},
   "source": [
    "Learn $B$ matrix"
   ]
  },
  {
   "cell_type": "code",
   "execution_count": null,
   "metadata": {},
   "outputs": [],
   "source": [
    "from sklearn.linear_model import Ridge\n",
    "\n",
    "polyUorder = 1\n",
    "# assemble_features = lambda u, x: utils.phi(np.vstack([u, x]), order=polyUorder)\n",
    "assemble_features = lambda u, x: utils.phi(u, order=polyUorder)\n",
    "\n",
    "X = assemble_features(u_train, x_train)\n",
    "\n",
    "B_learn = utils.regress_B(X, dxdt, dxdt_ROM, alpha=0, method='ridge')\n",
    "print(f\"Frobenius norm of B_learn: {np.linalg.norm(B_learn, ord='fro'):.4f}\")"
   ]
  },
  {
   "attachments": {},
   "cell_type": "markdown",
   "metadata": {},
   "source": [
    "Plot gradients again, but this time, using the learned influence of inputs for the prediction"
   ]
  },
  {
   "cell_type": "code",
   "execution_count": null,
   "metadata": {},
   "outputs": [],
   "source": [
    "plt.close('all')\n",
    "plot_reduced_coords = np.s_[:] # [3, 4, 5]\n",
    "dxDt_ROM_with_B = Rauton(x_train) + B_learn @ assemble_features(u_train, x_train)\n",
    "plot.reduced_coordinates_gradient(t_train, [dxdt[plot_reduced_coords, :], dxdt_ROM[plot_reduced_coords, :], dxDt_ROM_with_B[plot_reduced_coords, :]], labels=[\"true numerical\", \"predicted autonomous\", \"predicted with inputs\"], how=\"all\")"
   ]
  },
  {
   "cell_type": "code",
   "execution_count": null,
   "metadata": {},
   "outputs": [],
   "source": [
    "# # home-brewed ridge regression\n",
    "# alpha = 0\n",
    "# X, y = U.T, (dXbarDt - dXbarDt_ROM).T\n",
    "# B_learn = np.linalg.solve(X.T @ X + alpha * np.eye(X.shape[0]), X.T @ y)"
   ]
  },
  {
   "attachments": {},
   "cell_type": "markdown",
   "metadata": {},
   "source": [
    "### Integrate model with inputs using learned influence of control (open-loop prediction)"
   ]
  },
  {
   "attachments": {},
   "cell_type": "markdown",
   "metadata": {},
   "source": [
    "Try to predict the different test trajectories using _non-autonomous_ reduced dynamics"
   ]
  },
  {
   "cell_type": "code",
   "execution_count": null,
   "metadata": {},
   "outputs": [],
   "source": [
    "R = lambda x, u: Rauton(np.atleast_2d(x)) + B_learn @ assemble_features(u, x)"
   ]
  },
  {
   "attachments": {},
   "cell_type": "markdown",
   "metadata": {},
   "source": [
    "Import test trajectory data"
   ]
  },
  {
   "cell_type": "code",
   "execution_count": null,
   "metadata": {},
   "outputs": [],
   "source": [
    "test_results = {}\n",
    "test_trajectory_folders = ['open-loop_circle']\n",
    "test_trajectories = [{\n",
    "        'name': \"like training data\",\n",
    "        't': t_test,\n",
    "        'z': z_test,\n",
    "        'u': u_test,\n",
    "        'x': x_test\n",
    "    }]\n",
    "for test_traj in test_trajectory_folders:\n",
    "    traj_dir = join(robot_dir, \"dataCollection\", test_traj)\n",
    "    (t, z), u = utils.import_pos_data(data_dir=traj_dir,\n",
    "                                      rest_file=rest_file,\n",
    "                                      output_node=TIP_NODE, return_inputs=True, traj_index=0)\n",
    "    z = (z.T - q_eq).T\n",
    "    u = (u.T - u_eq).T\n",
    "    y = assemble_observables(z)\n",
    "    x = Wauton(y)\n",
    "    test_trajectories.append({\n",
    "            'name': test_traj,\n",
    "            't': t,\n",
    "            'z': z,\n",
    "            'u': u,\n",
    "            'x': x\n",
    "        })"
   ]
  },
  {
   "attachments": {},
   "cell_type": "markdown",
   "metadata": {},
   "source": [
    "Do open loop prediction for all test trajectories; plot and save results"
   ]
  },
  {
   "cell_type": "code",
   "execution_count": null,
   "metadata": {},
   "outputs": [],
   "source": [
    "for traj in test_trajectories:\n",
    "    z_pred = utils.predict_open_loop(R, Vauton, traj['t'], traj['u'], x0=traj['x'][:, 0])\n",
    "    rmse = float(np.sum(np.sqrt(np.mean((z_pred[:3, :] - traj['z'][:3])**2, axis=0))) / len(traj['t']))\n",
    "    print(f\"({traj['name']}): RMSE = {rmse:.4f}\")\n",
    "    test_results[traj['name']] = {\n",
    "        'RMSE': rmse\n",
    "    }\n",
    "    axs = plot.traj_xyz_txyz(traj['t'],\n",
    "                                z_pred[0, :], z_pred[1, :], z_pred[2, :],\n",
    "                                show=False)\n",
    "    axs = plot.traj_xyz_txyz(traj['t'],\n",
    "                                traj['z'][0, :], traj['z'][1, :], traj['z'][2, :],\n",
    "                                color=\"tab:orange\", axs=axs, show=False)\n",
    "    axs[-1].legend([\"Predicted trajectory\", \"Actual trajectory\"])\n",
    "    plt.show()\n",
    "print(f\"(overall): RMSE = {np.mean([test_results[traj]['RMSE'] for traj in test_results]):.4f}\")"
   ]
  },
  {
   "attachments": {},
   "cell_type": "markdown",
   "metadata": {},
   "source": [
    "## Save SSM model"
   ]
  },
  {
   "cell_type": "code",
   "execution_count": null,
   "metadata": {},
   "outputs": [],
   "source": [
    "# settings = {\n",
    "#     'SSMDim': SSMDim,\n",
    "#     'SSMOrder': SSMOrder,\n",
    "#     'ROMOrder': ROMOrder,\n",
    "#     'observables': observables,\n",
    "#     'poly_u_order': polyUorder,\n",
    "#     'oDOF': oDOF,\n",
    "#     'input_dim': INPUT_DIM,\n",
    "#     'n_delay': N_DELAY\n",
    "# }\n",
    "# utils.save_ssm_model(join(robot_dir, \"SSMmodels\"), RDInfo, IMInfo, B_learn, Vde, settings, test_results)"
   ]
  }
 ],
 "metadata": {
  "kernelspec": {
   "display_name": "soft",
   "language": "python",
   "name": "python3"
  },
  "language_info": {
   "codemirror_mode": {
    "name": "ipython",
    "version": 3
   },
   "file_extension": ".py",
   "mimetype": "text/x-python",
   "name": "python",
   "nbconvert_exporter": "python",
   "pygments_lexer": "ipython3",
   "version": "3.8.16"
  },
  "orig_nbformat": 4,
  "vscode": {
   "interpreter": {
    "hash": "5103b5dc615bcda33cb54d9b91143b3686f5f995c24adceaa9e3ace35345f8c5"
   }
  }
 },
 "nbformat": 4,
 "nbformat_minor": 2
}
