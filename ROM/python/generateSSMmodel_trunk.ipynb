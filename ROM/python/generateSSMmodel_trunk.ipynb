{
 "cells": [
  {
   "attachments": {},
   "cell_type": "markdown",
   "metadata": {},
   "source": [
    "# SSMR: generate SSM model from trajectory data"
   ]
  },
  {
   "cell_type": "code",
   "execution_count": 1,
   "metadata": {},
   "outputs": [],
   "source": [
    "import numpy as np\n",
    "from copy import deepcopy\n",
    "import os"
   ]
  },
  {
   "cell_type": "code",
   "execution_count": 2,
   "metadata": {},
   "outputs": [],
   "source": [
    "%matplotlib qt\n",
    "import matplotlib.pyplot as plt"
   ]
  },
  {
   "cell_type": "code",
   "execution_count": 3,
   "metadata": {},
   "outputs": [],
   "source": [
    "%load_ext autoreload\n",
    "%autoreload 2\n",
    "import utils as utils\n",
    "import plot_utils as plot"
   ]
  },
  {
   "cell_type": "code",
   "execution_count": 4,
   "metadata": {},
   "outputs": [],
   "source": [
    "np.set_printoptions(linewidth=300)"
   ]
  },
  {
   "attachments": {},
   "cell_type": "markdown",
   "metadata": {},
   "source": [
    "## Settings for SSM model"
   ]
  },
  {
   "cell_type": "code",
   "execution_count": 5,
   "metadata": {},
   "outputs": [],
   "source": [
    "observables = \"delay embedding\" # \"pos-vel\"\n",
    "TIP_NODE = 51\n",
    "\n",
    "rDOF = 3\n",
    "oDOF = 3\n",
    "SSMDim = 6"
   ]
  },
  {
   "attachments": {},
   "cell_type": "markdown",
   "metadata": {},
   "source": [
    "## Import and inspect decay data"
   ]
  },
  {
   "cell_type": "code",
   "execution_count": 6,
   "metadata": {},
   "outputs": [
    {
     "name": "stdout",
     "output_type": "stream",
     "text": [
      "nTRAJ: 50\n"
     ]
    }
   ],
   "source": [
    "if observables == \"pos-vel\":\n",
    "    output_node = 'all'\n",
    "elif observables == \"delay embedding\":\n",
    "    output_node = TIP_NODE\n",
    "t_in = 1\n",
    "t_out = 4\n",
    "\n",
    "trunk_dir = \"../../../soft-robot-control/examples/trunk\"\n",
    "decayData_dir = os.path.join(trunk_dir, \"dataCollection/origin\")\n",
    "rest_file = os.path.join(trunk_dir, 'rest_qv.pkl')\n",
    "\n",
    "Data = {}\n",
    "Data['oData'] = utils.import_pos_data(decayData_dir, rest_file=rest_file, output_node=output_node, t_in=t_in, t_out=t_out)\n",
    "\n",
    "nTRAJ = len(Data['oData'])\n",
    "print(\"nTRAJ:\", nTRAJ)"
   ]
  },
  {
   "attachments": {},
   "cell_type": "markdown",
   "metadata": {},
   "source": [
    "## Observables"
   ]
  },
  {
   "attachments": {},
   "cell_type": "markdown",
   "metadata": {},
   "source": [
    "EITHER compute reduced coordinates using delay embedding on the available oData"
   ]
  },
  {
   "cell_type": "code",
   "execution_count": 7,
   "metadata": {},
   "outputs": [],
   "source": [
    "if observables == \"delay embedding\":\n",
    "    N_DELAY = 4\n",
    "    Data['yData'] = deepcopy(Data['oData'])\n",
    "    for i in range(nTRAJ):\n",
    "        delay_embedded_traj = utils.delayEmbedding(Data['oData'][i][1], up_to_delay=N_DELAY)\n",
    "        Data['yData'][i][1] = delay_embedded_traj[:, :-4]\n",
    "        Data['yData'][i][0] = Data['yData'][i][0][4:]"
   ]
  },
  {
   "attachments": {},
   "cell_type": "markdown",
   "metadata": {},
   "source": [
    "OR use position and velocity of all nodes as observables"
   ]
  },
  {
   "cell_type": "code",
   "execution_count": 8,
   "metadata": {},
   "outputs": [],
   "source": [
    "if observables == \"pos-vel\":\n",
    "    Data['yData'] = deepcopy(Data['oData'])\n",
    "    for i in range(nTRAJ):\n",
    "        # observables y are pos and vel of tip\n",
    "        Data['yData'][i][1] = np.vstack((Data['oData'][i][1][3*TIP_NODE:3*TIP_NODE+3, :], np.gradient(Data['oData'][i][1][3*TIP_NODE:3*TIP_NODE+3, :], 0.01, axis=1)))\n",
    "        # do SVD on full state + full velocity\n",
    "        # Data['oData'][i][1] = np.vstack((Data['oData'][i][1], np.gradient(Data['oData'][i][1], axis=1)))\n",
    "    print(Data['yData'][0][1].shape)"
   ]
  },
  {
   "attachments": {},
   "cell_type": "markdown",
   "metadata": {},
   "source": [
    "### Plot observables of interest"
   ]
  },
  {
   "cell_type": "code",
   "execution_count": 9,
   "metadata": {},
   "outputs": [],
   "source": [
    "outdofs = [0, 1, 2]\n",
    "plt.close('all')\n",
    "# plot trajectories in 3D [x, y, z] space\n",
    "plot.traj_3D(Data,\n",
    "             xyz_idx=[('yData', outdofs[0]), ('yData', outdofs[1]), ('yData', outdofs[2])],\n",
    "             xyz_names=[r'$x$ [mm]', r'$y$ [mm]', r'$z$ [mm]'])\n",
    "# plot evolution of x, y and z in time, separately in 3 subplots\n",
    "highlight_traj = [] # [14, 16, 18, 31, 35, 44] # []\n",
    "plot.traj_xyz(Data,\n",
    "             xyz_idx=[('yData', outdofs[0]), ('yData', outdofs[1]), ('yData', outdofs[2])],\n",
    "             xyz_names=[r'$x$ [mm]', r'$y$ [mm]', r'$z$ [mm]'],\n",
    "             highlight_idx=highlight_traj)\n",
    "# plot trajectories in 3D [x, x_dot, z] space / NB: x_dot = v_x\n",
    "plot.traj_3D(Data,\n",
    "             xyz_idx=[('yData', outdofs[0]), ('yData', outdofs[0]+oDOF), ('yData', outdofs[2])],\n",
    "             xyz_names=[r'$x$ [mm]', r'$\\dot{x}$ [mm/s]', r'$z$ [mm]'])"
   ]
  },
  {
   "attachments": {},
   "cell_type": "markdown",
   "metadata": {},
   "source": [
    "Slice trajectories, i.e. remove time before they converge with SSM and cut off the end after complete decay"
   ]
  },
  {
   "cell_type": "code",
   "execution_count": 10,
   "metadata": {},
   "outputs": [],
   "source": [
    "t_interval = [0.1, 3]\n",
    "Data['oDataTrunc'] = utils.slice_trajectories(Data['oData'], t_interval)\n",
    "Data['yDataTrunc'] = utils.slice_trajectories(Data['yData'], t_interval)"
   ]
  },
  {
   "attachments": {},
   "cell_type": "markdown",
   "metadata": {},
   "source": [
    "## Obtain reduced-order coordinates"
   ]
  },
  {
   "attachments": {},
   "cell_type": "markdown",
   "metadata": {},
   "source": [
    "### Perform PCA on delay-embedded coordinates to obtain reduced coordinates"
   ]
  },
  {
   "cell_type": "code",
   "execution_count": 11,
   "metadata": {},
   "outputs": [],
   "source": [
    "# Perform SVD on displacement field\n",
    "from scipy.sparse.linalg import svds\n",
    "\n",
    "if observables == \"pos-vel\":\n",
    "    svd_data = 'oDataTrunc'\n",
    "elif observables == \"delay embedding\":\n",
    "    svd_data = 'yDataTrunc'\n",
    "\n",
    "Xsnapshots = np.hstack([yDataTrunc[1] for yDataTrunc in Data[svd_data]])\n",
    "Xsnapshots = Xsnapshots[:, :]\n",
    "\n",
    "# print(Xsnapshots.shape)\n",
    "# print(Xsnapshots[:, 0:10])\n",
    "\n",
    "show_modes = 9\n",
    "v, s, u = svds(Xsnapshots, k=max(SSMDim, show_modes), which=\"LM\")\n",
    "ind = np.argsort(s)[::-1]\n",
    "s = s[ind]\n",
    "v = v[:, ind]\n",
    "# v, s, _ = np.linalg.svd(Xsnapshots, compute_uv=True)\n",
    "# print(s)\n",
    "# print(v)\n",
    "l2vals = s**2"
   ]
  },
  {
   "cell_type": "code",
   "execution_count": 12,
   "metadata": {},
   "outputs": [],
   "source": [
    "# Plot variance description: we expect three modes to capture almost all variance.\n",
    "# Note we assume data centered around the origin, which is the fixed point of our system.\n",
    "plt.close('all')\n",
    "plot.pca_modes(l2vals, up_to_mode=show_modes)"
   ]
  },
  {
   "attachments": {},
   "cell_type": "markdown",
   "metadata": {},
   "source": [
    "### Project delay-embedded data onto dominant modes"
   ]
  },
  {
   "cell_type": "code",
   "execution_count": 13,
   "metadata": {},
   "outputs": [],
   "source": [
    "from copy import deepcopy\n",
    "Data['etaDataTrunc'] = deepcopy(Data['oDataTrunc'])\n",
    "if observables == \"delay embedding\":\n",
    "    Vde = v[:, :SSMDim]\n",
    "    for i in range(nTRAJ):\n",
    "        Data['etaDataTrunc'][i][1] = Vde.T @ Data[svd_data][i][1]\n",
    "elif observables == \"pos-vel\":\n",
    "    assert SSMDim % 2 == 0\n",
    "    Vde = np.kron(np.eye(2), v[:, :SSMDim//2])\n",
    "    for i in range(nTRAJ):\n",
    "        Data['etaDataTrunc'][i][1] = Vde.T @ np.vstack((Data['oDataTrunc'][i][1], np.gradient(Data['oDataTrunc'][i][1], 0.01, axis=1))) # np.vstack((np.gradient(Data['oData'][i][1], axis=1), Data['oData'][i][1])) # Vde.T @ np.vstack((Data[svd_data][i][1], np.gradient(Data[svd_data][i][1], axis=1))) # "
   ]
  },
  {
   "cell_type": "code",
   "execution_count": 14,
   "metadata": {},
   "outputs": [],
   "source": [
    "plt.close('all')\n",
    "# plot first three reduced coordinates\n",
    "plot.traj_xyz(Data,\n",
    "              xyz_idx=[('etaDataTrunc', 0), ('etaDataTrunc', 1), ('etaDataTrunc', 2)],\n",
    "              xyz_names=[r'$x_1$', r'$x_2$', r'$x_3$'])"
   ]
  },
  {
   "attachments": {},
   "cell_type": "markdown",
   "metadata": {},
   "source": [
    "### Train and test data (train/test split)"
   ]
  },
  {
   "cell_type": "code",
   "execution_count": 15,
   "metadata": {},
   "outputs": [],
   "source": [
    "indTest = [0, 8, 16, 24]\n",
    "indTrain = [i for i in range(nTRAJ) if i not in indTest]"
   ]
  },
  {
   "attachments": {},
   "cell_type": "markdown",
   "metadata": {},
   "source": [
    "## SSMLearn"
   ]
  },
  {
   "attachments": {},
   "cell_type": "markdown",
   "metadata": {},
   "source": [
    "Start Matlab engine and install/run SSMLearn"
   ]
  },
  {
   "cell_type": "code",
   "execution_count": 16,
   "metadata": {},
   "outputs": [
    {
     "name": "stdout",
     "output_type": "stream",
     "text": [
      "SSMLearn: Data-driven Reduced Order Models for Nonlinear Dynamical Systems\n",
      "Maintained by Mattia Cenedese (mattiac@ethz.ch) and Joar Ax\u001as (jgoeransson@ethz.ch)\n",
      "License: GNUv3.0\n",
      "Warning: Name is nonexistent or not a directory: /home/jonas/Projects/stanford/SSMR-for-control/modal_trajectory_data/check_model\n",
      "> In path (line 109)\n",
      "In addpath (line 86)\n",
      "In install (line 20)\n"
     ]
    },
    {
     "data": {
      "text/plain": [
       "'/home/jonas/Projects/stanford/SSMR-for-control'"
      ]
     },
     "execution_count": 16,
     "metadata": {},
     "output_type": "execute_result"
    }
   ],
   "source": [
    "import matlab.engine\n",
    "eng = matlab.engine.start_matlab()\n",
    "eng.cd(\"../..\", nargout=0)\n",
    "eng.install(nargout=0)\n",
    "eng.cd(\"ROM/\")"
   ]
  },
  {
   "attachments": {},
   "cell_type": "markdown",
   "metadata": {},
   "source": [
    "Bring data in a format that is accepted by the (slightly modified) version of SSMLearn (requires a specific cell array structure for input data)"
   ]
  },
  {
   "cell_type": "code",
   "execution_count": 17,
   "metadata": {},
   "outputs": [],
   "source": [
    "# make data ready for Matlab\n",
    "yDataTruncTrain_matlab = [[], []]\n",
    "etaDataTruncTrain_matlab = [[], []]\n",
    "for i in indTrain:\n",
    "    yDataTruncTrain_matlab[0].append(matlab.double(initializer=Data['yDataTrunc'][i][0].tolist()))\n",
    "    yDataTruncTrain_matlab[1].append(matlab.double(initializer=Data['yDataTrunc'][i][1].tolist()))\n",
    "    etaDataTruncTrain_matlab[0].append(matlab.double(initializer=Data['etaDataTrunc'][i][0].tolist()))\n",
    "    etaDataTruncTrain_matlab[1].append(matlab.double(initializer=Data['etaDataTrunc'][i][1].tolist()))\n"
   ]
  },
  {
   "attachments": {},
   "cell_type": "markdown",
   "metadata": {},
   "source": [
    "### Learn geometry of the SSM"
   ]
  },
  {
   "attachments": {},
   "cell_type": "markdown",
   "metadata": {},
   "source": [
    "Find parametrization of SSM using SSMLearn"
   ]
  },
  {
   "cell_type": "code",
   "execution_count": 18,
   "metadata": {},
   "outputs": [
    {
     "name": "stdout",
     "output_type": "stream",
     "text": [
      "Data seems to have been fed from Python!\n",
      "   3\n",
      "\n"
     ]
    }
   ],
   "source": [
    "SSMOrder = 3\n",
    "obsDim = 2*oDOF\n",
    "\n",
    "IMInfo = eng.IMGeometry(yDataTruncTrain_matlab, SSMDim, SSMOrder,\n",
    "                        'reducedCoordinates', etaDataTruncTrain_matlab, 'l_vals', 0.)\n",
    "if observables == \"pos-vel\":\n",
    "    IMInfoInv = eng.IMGeometry(etaDataTruncTrain_matlab, obsDim, SSMOrder,\n",
    "                            'reducedCoordinates', yDataTruncTrain_matlab)\n",
    "    for key in ['map', 'polynomialOrder', 'dimension', 'nonlinearCoefficients', 'phi', 'exponents', 'H']:\n",
    "        IMInfo['chart'][key] = IMInfoInv['parametrization'][key]"
   ]
  },
  {
   "attachments": {},
   "cell_type": "markdown",
   "metadata": {},
   "source": [
    "### Learn dynamics on the SSM (reduced dynamics)"
   ]
  },
  {
   "attachments": {},
   "cell_type": "markdown",
   "metadata": {},
   "source": [
    "Find parametrization of reduced dynamics using SSMLearn"
   ]
  },
  {
   "cell_type": "code",
   "execution_count": 19,
   "metadata": {},
   "outputs": [
    {
     "name": "stdout",
     "output_type": "stream",
     "text": [
      "Data seems to have been fed from Python!\n",
      "   3\n",
      "\n",
      "Estimation of the reduced dynamics... \n",
      "\b Done. \n"
     ]
    }
   ],
   "source": [
    "ROMOrder = 3\n",
    "RDInfo = eng.IMDynamicsFlow(etaDataTruncTrain_matlab, 'R_PolyOrd', ROMOrder, 'style', 'default', 'l_vals', 0.)"
   ]
  },
  {
   "attachments": {},
   "cell_type": "markdown",
   "metadata": {},
   "source": [
    "Stop Matlab engine -- not needed anymore"
   ]
  },
  {
   "cell_type": "code",
   "execution_count": 20,
   "metadata": {},
   "outputs": [],
   "source": [
    "# eng.quit()"
   ]
  },
  {
   "cell_type": "markdown",
   "metadata": {},
   "source": [
    "Convert all matlab double arrays to numpy arrays"
   ]
  },
  {
   "cell_type": "code",
   "execution_count": 21,
   "metadata": {},
   "outputs": [],
   "source": [
    "def convert_matlab_arrays_to_numpy_arrays(info_dict):\n",
    "  for k,v in info_dict.items():        \n",
    "     if isinstance(v, dict):\n",
    "         convert_matlab_arrays_to_numpy_arrays(v)\n",
    "     else:            \n",
    "        if isinstance(v, matlab.double):\n",
    "           info_dict[k] = np.array(v)\n",
    "\n",
    "convert_matlab_arrays_to_numpy_arrays(IMInfo)\n",
    "convert_matlab_arrays_to_numpy_arrays(RDInfo)"
   ]
  },
  {
   "attachments": {},
   "cell_type": "markdown",
   "metadata": {},
   "source": [
    "Stability analysis of reduced dynamics"
   ]
  },
  {
   "cell_type": "code",
   "execution_count": 22,
   "metadata": {},
   "outputs": [
    {
     "data": {
      "text/plain": [
       "array([[ -1.57768344+10.78732849j],\n",
       "       [ -1.68966661+10.92975008j],\n",
       "       [-27.6672563  +0.j        ],\n",
       "       [ -8.46099166 +0.j        ],\n",
       "       [ -1.57768344-10.78732849j],\n",
       "       [ -1.68966661-10.92975008j]])"
      ]
     },
     "execution_count": 22,
     "metadata": {},
     "output_type": "execute_result"
    }
   ],
   "source": [
    "assert np.all(np.real(RDInfo['eigenvaluesLinPartFlow']) < 0)\n",
    "RDInfo['eigenvaluesLinPartFlow']"
   ]
  },
  {
   "attachments": {},
   "cell_type": "markdown",
   "metadata": {},
   "source": [
    "## Analyze the obtained mappings of SSM geometry and reduced dynamics"
   ]
  },
  {
   "attachments": {},
   "cell_type": "markdown",
   "metadata": {},
   "source": [
    "### SSM geometry (parametrization)"
   ]
  },
  {
   "cell_type": "code",
   "execution_count": 23,
   "metadata": {},
   "outputs": [],
   "source": [
    "yRec = {}\n",
    "errorGeo = {}\n",
    "meanErrorGeo = {}"
   ]
  },
  {
   "attachments": {},
   "cell_type": "markdown",
   "metadata": {},
   "source": [
    "#### Train error"
   ]
  },
  {
   "cell_type": "code",
   "execution_count": 24,
   "metadata": {},
   "outputs": [
    {
     "name": "stdout",
     "output_type": "stream",
     "text": [
      "Average parametrization train error: 1.0031e-02\n"
     ]
    }
   ],
   "source": [
    "yRec['Train'] = utils.lift_trajectories(IMInfo, [Data['etaDataTrunc'][i] for i in indTrain])\n",
    "errorGeo['Train'] = utils.compute_trajectory_errors(yRec['Train'], [Data['yDataTrunc'][i] for i in indTrain])[0] * 100\n",
    "\n",
    "meanErrorGeo['Train'] = np.mean(errorGeo['Train'])\n",
    "print(f\"Average parametrization train error: {meanErrorGeo['Train']:.4e}\")"
   ]
  },
  {
   "attachments": {},
   "cell_type": "markdown",
   "metadata": {},
   "source": [
    "#### Test error"
   ]
  },
  {
   "cell_type": "code",
   "execution_count": 25,
   "metadata": {},
   "outputs": [
    {
     "name": "stdout",
     "output_type": "stream",
     "text": [
      "Average parametrization test error: 1.0893e-02\n"
     ]
    }
   ],
   "source": [
    "yRec['Test'] = utils.lift_trajectories(IMInfo, [Data['etaDataTrunc'][i] for i in indTest])\n",
    "errorGeo['Test'] = utils.compute_trajectory_errors(yRec['Test'], [Data['yDataTrunc'][i] for i in indTest])[0] * 100\n",
    "\n",
    "meanErrorGeo['Test'] = np.mean(errorGeo['Test'])\n",
    "print(f\"Average parametrization test error: {meanErrorGeo['Test']:.4e}\")"
   ]
  },
  {
   "attachments": {},
   "cell_type": "markdown",
   "metadata": {},
   "source": [
    "Plot comparison of SSM-predicted vs. actual test trajectories"
   ]
  },
  {
   "cell_type": "code",
   "execution_count": 26,
   "metadata": {},
   "outputs": [],
   "source": [
    "plt.close('all')\n",
    "axs = plot.traj_xyz(Data,\n",
    "                    xyz_idx=[('yData', 0), ('yData', 1), ('yData', 2)],\n",
    "                    xyz_names=[r'$x$', r'$y$', r'$z$'],\n",
    "                    traj_idx=indTest,\n",
    "                    show=False)\n",
    "plot.traj_xyz(yRec,\n",
    "              xyz_idx=[('Test', 0), ('Test', 1), ('Test', 2)],\n",
    "              xyz_names=[r'$x$', r'$y$', r'$z$'],\n",
    "              axs=axs, ls=':', color='darkblue')"
   ]
  },
  {
   "attachments": {},
   "cell_type": "markdown",
   "metadata": {},
   "source": [
    "### Reduced dynamics"
   ]
  },
  {
   "cell_type": "code",
   "execution_count": 27,
   "metadata": {},
   "outputs": [
    {
     "name": "stderr",
     "output_type": "stream",
     "text": [
      "/home/jonas/miniconda3/envs/soft/lib/python3.8/site-packages/sklearn/preprocessing/_polynomial.py:440: RuntimeWarning: overflow encountered in multiply\n",
      "  np.multiply(\n",
      "/home/jonas/Projects/stanford/SSMR-for-control/ROM/python/utils.py:89: RuntimeWarning: invalid value encountered in matmul\n",
      "  N = lambda t, y: W_r @ phi(np.atleast_2d(y))\n",
      "/home/jonas/miniconda3/envs/soft/lib/python3.8/site-packages/sklearn/preprocessing/_polynomial.py:440: RuntimeWarning: overflow encountered in multiply\n",
      "  np.multiply(\n",
      "/home/jonas/Projects/stanford/SSMR-for-control/ROM/python/utils.py:89: RuntimeWarning: invalid value encountered in matmul\n",
      "  N = lambda t, y: W_r @ phi(np.atleast_2d(y))\n",
      "/home/jonas/miniconda3/envs/soft/lib/python3.8/site-packages/sklearn/preprocessing/_polynomial.py:440: RuntimeWarning: overflow encountered in multiply\n",
      "  np.multiply(\n",
      "/home/jonas/Projects/stanford/SSMR-for-control/ROM/python/utils.py:89: RuntimeWarning: invalid value encountered in matmul\n",
      "  N = lambda t, y: W_r @ phi(np.atleast_2d(y))\n"
     ]
    },
    {
     "name": "stdout",
     "output_type": "stream",
     "text": [
      "5\n",
      "10\n",
      "12\n",
      "19\n",
      "21\n",
      "22\n",
      "26\n",
      "43\n",
      "47\n",
      "49\n",
      "Average dynamics train error: inf\n",
      "Average dynamics test error: 3.8722\n"
     ]
    }
   ],
   "source": [
    "etaRec = {}\n",
    "etaRec['RD'] = utils.advectRD(RDInfo, Data['etaDataTrunc'])[0]\n",
    "meanErrorDyn = {}\n",
    "\n",
    "for i in range(nTRAJ):\n",
    "    if etaRec['RD'][i][1].shape[1] != Data['etaDataTrunc'][i][1].shape[1]:\n",
    "        print(i)\n",
    "\n",
    "normedTrajDist = utils.compute_trajectory_errors(etaRec['RD'], Data['etaDataTrunc'])[0]\n",
    "meanErrorDyn['Train'] = np.mean(normedTrajDist[indTrain]) * 100\n",
    "meanErrorDyn['Test'] = np.mean(normedTrajDist[indTest]) * 100\n",
    "\n",
    "print(f\"Average dynamics train error: {meanErrorDyn['Train']:.4f}\")\n",
    "print(f\"Average dynamics test error: {meanErrorDyn['Test']:.4f}\")"
   ]
  },
  {
   "cell_type": "code",
   "execution_count": 28,
   "metadata": {},
   "outputs": [],
   "source": [
    "plot_all = False\n",
    "if plot_all:\n",
    "    vPlot = range(nTRAJ)\n",
    "else:\n",
    "    vPlot = indTest\n",
    "\n",
    "plt.close('all')\n",
    "axs = plot.traj_xyz(Data,\n",
    "                    xyz_idx=[('etaDataTrunc', 0), ('etaDataTrunc', 1), ('etaDataTrunc', 2)],\n",
    "                    xyz_names=[r'$u_1$', r'$u_2$', r'$u_3$'],\n",
    "                    traj_idx=vPlot,\n",
    "                    show=False)\n",
    "plot.traj_xyz(etaRec,\n",
    "              xyz_idx=[('RD', 0), ('RD', 1), ('RD', 2)],\n",
    "              xyz_names=[r'$u_1$', r'$u_2$', r'$u_3$'],\n",
    "              traj_idx=vPlot,\n",
    "              axs=axs, ls=':', color='darkblue')\n"
   ]
  },
  {
   "attachments": {},
   "cell_type": "markdown",
   "metadata": {},
   "source": [
    "### Global error"
   ]
  },
  {
   "cell_type": "code",
   "execution_count": 29,
   "metadata": {},
   "outputs": [],
   "source": [
    "errorGlo = {}\n",
    "meanErrorGlo = {}"
   ]
  },
  {
   "attachments": {},
   "cell_type": "markdown",
   "metadata": {},
   "source": [
    "#### Train error"
   ]
  },
  {
   "cell_type": "code",
   "execution_count": 30,
   "metadata": {},
   "outputs": [
    {
     "name": "stdout",
     "output_type": "stream",
     "text": [
      "Average global train error: inf\n"
     ]
    }
   ],
   "source": [
    "yRec['RDTrain'] = utils.lift_trajectories(IMInfo, [etaRec['RD'][i] for i in indTrain])\n",
    "errorGlo['Train'] = utils.compute_trajectory_errors(yRec['RDTrain'], [Data['yDataTrunc'][i] for i in indTrain])[0] * 100\n",
    "\n",
    "meanErrorGlo['Train'] = np.mean(errorGlo['Train'])\n",
    "print(f\"Average global train error: {meanErrorGlo['Train']:.4f}\")"
   ]
  },
  {
   "attachments": {},
   "cell_type": "markdown",
   "metadata": {},
   "source": [
    "#### Test error"
   ]
  },
  {
   "cell_type": "code",
   "execution_count": 31,
   "metadata": {},
   "outputs": [
    {
     "name": "stdout",
     "output_type": "stream",
     "text": [
      "Average global test error: 3.8733\n"
     ]
    }
   ],
   "source": [
    "yRec['RDTest'] = utils.lift_trajectories(IMInfo, [etaRec['RD'][i] for i in indTest])\n",
    "errorGlo['Test'] = utils.compute_trajectory_errors(yRec['RDTest'], [Data['yDataTrunc'][i] for i in indTest])[0] * 100\n",
    "\n",
    "meanErrorGlo['Test'] = np.mean(errorGlo['Test'])\n",
    "print(f\"Average global test error: {meanErrorGlo['Test']:.4f}\")"
   ]
  },
  {
   "cell_type": "code",
   "execution_count": 32,
   "metadata": {},
   "outputs": [],
   "source": [
    "plt.close('all')\n",
    "axs = plot.traj_xyz(Data,\n",
    "                    xyz_idx=[('yData', 0), ('yData', 1), ('yData', 2)],\n",
    "                    xyz_names=[r'$x$', r'$y$', r'$z$'],\n",
    "                    traj_idx=indTest,\n",
    "                    show=False)\n",
    "plot.traj_xyz(yRec,\n",
    "              xyz_idx=[('RDTest', 0), ('RDTest', 1), ('RDTest', 2)],\n",
    "              xyz_names=[r'$x$', r'$y$', r'$z$'],\n",
    "              axs=axs, ls=':', color='darkblue')"
   ]
  },
  {
   "cell_type": "markdown",
   "metadata": {},
   "source": [
    "### Understand which mode is responsible for what motion"
   ]
  },
  {
   "cell_type": "code",
   "execution_count": 33,
   "metadata": {},
   "outputs": [],
   "source": [
    "if observables == \"pos-vel\":\n",
    "    nDOF = 3 * 709\n",
    "    outdofsMat = np.zeros((3, 2*nDOF))\n",
    "    outdofsPS = 3 * TIP_NODE + np.array([0, 1, 2])\n",
    "    for i in range(3):\n",
    "        outdofsMat[i, outdofsPS[i]] = 1\n",
    "\n",
    "    rDOF = SSMDim // 2\n",
    "    redDynLinearPart = np.array(RDInfo['reducedDynamics']['coefficients'])[:, :2*rDOF]\n",
    "    redStiffnessMat = -redDynLinearPart[rDOF:, :rDOF]\n",
    "    print(redStiffnessMat.shape)\n",
    "\n",
    "    w2, UconsRedDyn = np.linalg.eig(redStiffnessMat)\n",
    "    sorted_idx = np.argsort(w2)\n",
    "    consFreqs, UconsRedDyn = np.diag(np.sqrt(w2[sorted_idx])), UconsRedDyn[:, sorted_idx]\n",
    "\n",
    "    Ucons = np.kron(np.eye(2), UconsRedDyn)\n",
    "    Vcons = Vde @ Ucons\n",
    "\n",
    "    modesDir = outdofsMat @ Vcons[:, :rDOF]\n",
    "    modesFreq = np.abs(RDInfo['eigenvaluesLinPartFlow']).flatten()[:3]\n",
    "\n",
    "    plt.close('all')\n",
    "    plot.mode_direction(modesDir, modesFreq)"
   ]
  },
  {
   "attachments": {},
   "cell_type": "markdown",
   "metadata": {},
   "source": [
    "## Control"
   ]
  },
  {
   "attachments": {},
   "cell_type": "markdown",
   "metadata": {},
   "source": [
    "### Setup model for control"
   ]
  },
  {
   "cell_type": "code",
   "execution_count": 34,
   "metadata": {},
   "outputs": [],
   "source": [
    "from scipy.integrate import solve_ivp\n",
    "from scipy.interpolate import interp1d "
   ]
  },
  {
   "cell_type": "code",
   "execution_count": 35,
   "metadata": {},
   "outputs": [],
   "source": [
    "Rauton = utils.Rauton(RDInfo)\n",
    "Vauton = lambda x: IMInfo['parametrization']['H'] @ utils.multivariate_polynomial(x, IMInfo['parametrization']['polynomialOrder'])\n",
    "if observables == \"pos-vel\":\n",
    "    Wauton = lambda y: IMInfo['chart']['H'] @ utils.multivariate_polynomial(y, IMInfo['chart']['polynomialOrder'])\n",
    "elif observables == \"delay embedding\":\n",
    "    Wauton = lambda y: Vde.T @ y"
   ]
  },
  {
   "attachments": {},
   "cell_type": "markdown",
   "metadata": {},
   "source": [
    "### Learn control matrix $B$"
   ]
  },
  {
   "attachments": {},
   "cell_type": "markdown",
   "metadata": {},
   "source": [
    "Use a closed-loop figure8 from a previous test run as the training data"
   ]
  },
  {
   "cell_type": "code",
   "execution_count": 36,
   "metadata": {},
   "outputs": [],
   "source": [
    "# inputData_dir = os.path.join(trunk_dir, \"dataCollection/closed-loop\")\n",
    "# (t_train, z_shift_train), u_train = utils.import_pos_data(inputData_dir, rest_file, TIP_NODE, return_inputs=True)\n",
    "# print(z_shift_train.shape)\n",
    "# dt = 0.01"
   ]
  },
  {
   "attachments": {},
   "cell_type": "markdown",
   "metadata": {},
   "source": [
    "Use randomly sampled inputs as the training and test data"
   ]
  },
  {
   "cell_type": "code",
   "execution_count": 85,
   "metadata": {},
   "outputs": [
    {
     "name": "stdout",
     "output_type": "stream",
     "text": [
      "(3, 25001)\n"
     ]
    }
   ],
   "source": [
    "inputData_dir = os.path.join(trunk_dir, \"dataCollection/open-loop\")\n",
    "(t, z_shift), u = utils.import_pos_data(inputData_dir, rest_file, TIP_NODE, return_inputs=True)\n",
    "print(z_shift.shape)\n",
    "dt = 0.01"
   ]
  },
  {
   "attachments": {},
   "cell_type": "markdown",
   "metadata": {},
   "source": [
    "Train/test split"
   ]
  },
  {
   "cell_type": "code",
   "execution_count": 86,
   "metadata": {},
   "outputs": [],
   "source": [
    "train_ratio = 0.8\n",
    "split_idx = int(train_ratio * len(t))\n",
    "t_train, t_test = t[:split_idx], t[split_idx:]\n",
    "z_shift_train, z_shift_test = z_shift[:, :split_idx], z_shift[:, split_idx:]\n",
    "u_train, u_test = u[:, :split_idx], u[:, split_idx:]"
   ]
  },
  {
   "attachments": {},
   "cell_type": "markdown",
   "metadata": {},
   "source": [
    "Plot the training data"
   ]
  },
  {
   "cell_type": "code",
   "execution_count": 87,
   "metadata": {},
   "outputs": [],
   "source": [
    "plt.close('all')\n",
    "plot.traj_xyz_txyz(t=t_train,\n",
    "                   x=z_shift_train[0, :], y=z_shift_train[1, :], z=z_shift_train[2, :])\n",
    "plot.inputs(t_train, u_train)"
   ]
  },
  {
   "attachments": {},
   "cell_type": "markdown",
   "metadata": {},
   "source": [
    "Plot the test data"
   ]
  },
  {
   "cell_type": "code",
   "execution_count": 88,
   "metadata": {},
   "outputs": [],
   "source": [
    "plt.close('all')\n",
    "plot.traj_xyz_txyz(t=t_test,\n",
    "                   x=z_shift_test[0, :], y=z_shift_test[1, :], z=z_shift_test[2, :])\n",
    "plot.inputs(t_test, u_test)"
   ]
  },
  {
   "attachments": {},
   "cell_type": "markdown",
   "metadata": {},
   "source": [
    "Do delay embedding on the tip position. Then, compute reduced coordinates and gradient as predicted by reduced dynamics, as well as the numerical (true) gradient"
   ]
  },
  {
   "cell_type": "code",
   "execution_count": 89,
   "metadata": {},
   "outputs": [
    {
     "name": "stdout",
     "output_type": "stream",
     "text": [
      "(15, 6)\n",
      "y.shape: (15, 20000), u.shape: (8, 20000)\n",
      "(19980,)\n"
     ]
    }
   ],
   "source": [
    "if observables == \"delay embedding\":\n",
    "    # delay-embed tip position\n",
    "    y_train = utils.delayEmbedding(z_shift_train, embed_coords=[0, 1, 2], up_to_delay=N_DELAY)\n",
    "elif observables == \"pos-vel\":\n",
    "    y_train = np.vstack((z_shift_train, np.gradient(z_shift_train, dt, axis=1)))\n",
    "\n",
    "print(Vde.shape)\n",
    "print(f\"y.shape: {y_train.shape}, u.shape: {u_train.shape}\")\n",
    "# reduced coordinates\n",
    "x_train = Wauton(y_train)\n",
    "dxDt = np.gradient(x_train, dt, axis=1)\n",
    "dxDt_ROM = Rauton(x_train)\n",
    "\n",
    "# optionally, throw away some of the training data\n",
    "keep_indices = np.s_[10:-10]\n",
    "t_train_trunc = t_train[keep_indices]\n",
    "u_train_trunc = u_train[:, keep_indices]\n",
    "x_train_trunc = x_train[:, keep_indices]\n",
    "y_train_trunc = y_train[:, keep_indices]\n",
    "dxDt = dxDt[:, keep_indices]\n",
    "dxDt_ROM = dxDt_ROM[:, keep_indices]\n",
    "\n",
    "print(t_train_trunc.shape)"
   ]
  },
  {
   "cell_type": "code",
   "execution_count": 90,
   "metadata": {},
   "outputs": [],
   "source": [
    "plt.close('all')\n",
    "ax = plot.traj_3D_xyz(y_train_trunc[outdofs[0], :],\n",
    "                      y_train_trunc[outdofs[1], :],\n",
    "                      y_train_trunc[outdofs[2], :], show=True)"
   ]
  },
  {
   "attachments": {},
   "cell_type": "markdown",
   "metadata": {},
   "source": [
    "Plot gradients (numerical differentiation and reduced dynamics)"
   ]
  },
  {
   "cell_type": "code",
   "execution_count": 91,
   "metadata": {},
   "outputs": [
    {
     "name": "stdout",
     "output_type": "stream",
     "text": [
      "(6, 19980)\n"
     ]
    }
   ],
   "source": [
    "print(dxDt.shape)\n",
    "plot.reduced_coordinates_gradient(t_train_trunc, [dxDt, dxDt_ROM], labels=[\"true numerical\", \"predicted autonomous\"], how=\"all\")"
   ]
  },
  {
   "cell_type": "code",
   "execution_count": 92,
   "metadata": {},
   "outputs": [],
   "source": [
    "# plt.close('all')\n",
    "# plot.dependence_of_xdot_on_inputs(dxDt, u_train_trunc)"
   ]
  },
  {
   "attachments": {},
   "cell_type": "markdown",
   "metadata": {},
   "source": [
    "Learn $B$ matrix"
   ]
  },
  {
   "cell_type": "code",
   "execution_count": 93,
   "metadata": {},
   "outputs": [
    {
     "name": "stdout",
     "output_type": "stream",
     "text": [
      "(44, 19980)\n",
      "(6, 44)\n"
     ]
    }
   ],
   "source": [
    "from sklearn.linear_model import Ridge\n",
    "\n",
    "polyUorder = 2\n",
    "# assemble_features = lambda u, x: utils.multivariate_polynomial(np.vstack([u, x]), order=polyUorder)\n",
    "assemble_features = lambda u, x: utils.multivariate_polynomial(u, order=polyUorder)\n",
    "\n",
    "X = assemble_features(u_train_trunc, x_train_trunc)\n",
    "print(X.shape)\n",
    "\n",
    "ridgeModel = Ridge(alpha=0, fit_intercept=False)\n",
    "ridgeModel.fit(X.T, (dxDt - dxDt_ROM).T)\n",
    "B_learn = ridgeModel.coef_\n",
    "print(B_learn.shape)"
   ]
  },
  {
   "attachments": {},
   "cell_type": "markdown",
   "metadata": {},
   "source": [
    "Frobenius norm of $B_{learn}$ to estimate how much influence inputs have on dynamics"
   ]
  },
  {
   "cell_type": "code",
   "execution_count": 94,
   "metadata": {},
   "outputs": [
    {
     "name": "stdout",
     "output_type": "stream",
     "text": [
      "Frobenius norm of B_learn: 1.0037\n"
     ]
    }
   ],
   "source": [
    "print(f\"Frobenius norm of B_learn: {np.linalg.norm(B_learn, ord='fro'):.4f}\")"
   ]
  },
  {
   "attachments": {},
   "cell_type": "markdown",
   "metadata": {},
   "source": [
    "Plot gradients again, but this time, using the learned influence of inputs for the prediction"
   ]
  },
  {
   "cell_type": "code",
   "execution_count": 95,
   "metadata": {},
   "outputs": [],
   "source": [
    "plt.close('all')\n",
    "plot_reduced_coords = np.s_[:] # [3, 4, 5]\n",
    "dxDt_ROM_with_B = Rauton(x_train_trunc) + B_learn @ assemble_features(u_train_trunc, x_train_trunc) # utils.multivariate_polynomial(u_train_trunc, order=polyUorder)\n",
    "plot.reduced_coordinates_gradient(t_train_trunc, [dxDt[plot_reduced_coords, :], dxDt_ROM[plot_reduced_coords, :], dxDt_ROM_with_B[plot_reduced_coords, :]], labels=[\"true numerical\", \"predicted autonomous\", \"predicted with inputs\"], how=\"all\")"
   ]
  },
  {
   "cell_type": "code",
   "execution_count": 96,
   "metadata": {},
   "outputs": [],
   "source": [
    "# # home-brewed ridge regression\n",
    "# alpha = 0\n",
    "# X, y = U.T, (dXbarDt - dXbarDt_ROM).T\n",
    "# B_learn = np.linalg.solve(X.T @ X + alpha * np.eye(X.shape[0]), X.T @ y)"
   ]
  },
  {
   "attachments": {},
   "cell_type": "markdown",
   "metadata": {},
   "source": [
    "### Integrate model with inputs using learned influence of control (open-loop prediction)"
   ]
  },
  {
   "attachments": {},
   "cell_type": "markdown",
   "metadata": {},
   "source": [
    "Try to predict the test trajectory using reduced dynamics"
   ]
  },
  {
   "cell_type": "code",
   "execution_count": 97,
   "metadata": {},
   "outputs": [],
   "source": [
    "if observables == \"delay embedding\":\n",
    "    # delay-embed tip position\n",
    "    y_test = utils.delayEmbedding(z_shift_test, embed_coords=[0, 1, 2], up_to_delay=N_DELAY)\n",
    "elif observables == \"pos-vel\":\n",
    "    y_test = np.vstack((z_shift_test, np.gradient(z_shift_test, dt, axis=1)))\n",
    "\n",
    "# reduced coordinates\n",
    "x_test = Wauton(y_test)\n",
    "\n",
    "slice_traj = np.s_[:]\n",
    "t_test = t_test[slice_traj]\n",
    "u_test = u_test[:, slice_traj]\n",
    "x_test = x_test[:, slice_traj]\n",
    "z_shift_test = z_shift_test[:, slice_traj]"
   ]
  },
  {
   "cell_type": "code",
   "execution_count": 98,
   "metadata": {},
   "outputs": [],
   "source": [
    "plt.close('all')\n",
    "ax = plot.traj_3D_xyz(y_test[outdofs[0], :],\n",
    "                      y_test[outdofs[1], :],\n",
    "                      y_test[outdofs[2], :], show=True)"
   ]
  },
  {
   "cell_type": "code",
   "execution_count": 99,
   "metadata": {},
   "outputs": [
    {
     "name": "stdout",
     "output_type": "stream",
     "text": [
      "(3, 5001)\n"
     ]
    }
   ],
   "source": [
    "uInterpFun = interp1d(t_test, u_test, axis=1, fill_value=\"extrapolate\")\n",
    "uFun = lambda t: uInterpFun(t).reshape(-1, 1)\n",
    "# print(t_test.shape, dxDt.shape)\n",
    "# dxDtInterpFun = interp1d(t_test, dxDt_ROM, axis=1, fill_value=\"extrapolate\")\n",
    "def R(t, y):\n",
    "    return Rauton(np.atleast_2d(y)) + B_learn @ assemble_features(uFun(t), y) # utils.multivariate_polynomial(uFun(t), order=polyUorder)\n",
    "    # return dxDtInterpFun(t)\n",
    "\n",
    "# solve IVP of reduced dynamics using open-loop figure8 inputs\n",
    "sol = solve_ivp(R,\n",
    "                t_span=[t_test[0], t_test[-1]],\n",
    "                t_eval=t_test,\n",
    "                y0=x_test[:, 0], # np.zeros(2*rDOF),\n",
    "                method='RK45',\n",
    "                vectorized=True,\n",
    "                rtol=1e-3,\n",
    "                atol=1e-3)\n",
    "# resulting (predicted) open-loop trajectory in reduced coordinates\n",
    "xTraj = sol.y\n",
    "yTraj = Vauton(xTraj)\n",
    "zTraj = yTraj[:3, :]\n",
    "print(zTraj.shape)\n",
    "if zTraj.shape[1] < len(t_test):\n",
    "    zTraj = np.hstack((zTraj, np.tile(np.nan, (3, len(t_test) - zTraj.shape[1]))))\n"
   ]
  },
  {
   "cell_type": "code",
   "execution_count": 100,
   "metadata": {},
   "outputs": [],
   "source": [
    "plt.close('all')\n",
    "axs = plot.traj_xyz_txyz(   t_test,\n",
    "                            zTraj[outdofs[0], :],\n",
    "                            zTraj[outdofs[1], :],\n",
    "                            zTraj[outdofs[2], :], show=False)\n",
    "axs = plot.traj_xyz_txyz(   t_test,\n",
    "                            z_shift_test[outdofs[0], :],\n",
    "                            z_shift_test[outdofs[1], :],\n",
    "                            z_shift_test[outdofs[2], :], color=\"tab:orange\", axs=axs, show=False)\n",
    "axs[-1].legend([\"Predicted trajectory\", \"Actual trajectory\"])\n",
    "plt.show()"
   ]
  },
  {
   "cell_type": "code",
   "execution_count": 101,
   "metadata": {},
   "outputs": [
    {
     "name": "stdout",
     "output_type": "stream",
     "text": [
      "RMSE = 0.3846\n"
     ]
    }
   ],
   "source": [
    "RMSE = np.sum(np.sqrt(np.mean((zTraj[0:3, :] - z_shift_test[-3:])**2, axis=0))) / zTraj.shape[1]\n",
    "print(f\"RMSE = {RMSE:.4f}\")"
   ]
  },
  {
   "attachments": {},
   "cell_type": "markdown",
   "metadata": {},
   "source": [
    "## Save SSM model"
   ]
  },
  {
   "attachments": {},
   "cell_type": "markdown",
   "metadata": {},
   "source": [
    "Continuous model"
   ]
  },
  {
   "cell_type": "code",
   "execution_count": 102,
   "metadata": {},
   "outputs": [],
   "source": [
    "SSM_model = {'model': {}, 'params': {}}\n",
    "\n",
    "SSM_model['model']['w_coeff'] = IMInfo['parametrization']['H']\n",
    "SSM_model['model']['r_coeff'] = RDInfo['reducedDynamics']['coefficients']\n",
    "SSM_model['model']['B'] = B_learn\n",
    "\n",
    "SSM_model['params']['SSM_order'] = SSMOrder\n",
    "SSM_model['params']['ROM_order'] = ROMOrder\n",
    "SSM_model['params']['state_dim'] = SSMDim\n",
    "SSM_model['params']['u_order'] = polyUorder\n",
    "SSM_model['params']['input_dim'] = 8\n",
    "\n",
    "if observables == \"delay embedding\":\n",
    "    SSM_model['model']['V'] = Vde\n",
    "    SSM_model['model']['v_coeff'] = None\n",
    "    SSM_model['params']['delays'] = N_DELAY\n",
    "    SSM_model['params']['delay_embedding'] = True\n",
    "    SSM_model['params']['obs_dim'] = 3 * (1 + N_DELAY)\n",
    "    SSM_model['params']['output_dim'] = oDOF\n",
    "\n",
    "elif observables == \"pos-vel\":\n",
    "    SSM_model['model']['V'] = None\n",
    "    SSM_model['model']['v_coeff'] = IMInfo['chart']['H']\n",
    "    SSM_model['params']['delay_embedding'] = False\n",
    "    SSM_model['params']['delays'] = 0\n",
    "    SSM_model['params']['obs_dim'] = 6\n",
    "    SSM_model['params']['output_dim'] = 2 * oDOF\n"
   ]
  },
  {
   "cell_type": "code",
   "execution_count": 103,
   "metadata": {},
   "outputs": [],
   "source": [
    "import pickle\n",
    "# save dictionary to person_data.pkl file\n",
    "if observables == \"pos-vel\":\n",
    "    model_name = \"SSM_model.pkl\"\n",
    "elif observables == \"delay embedding\":\n",
    "    model_name = \"SSM_model.pkl\"\n",
    "\n",
    "with open(f'../../../soft-robot-control/examples/trunk/SSMmodels/{model_name}', 'wb') as f:\n",
    "    pickle.dump(SSM_model, f)"
   ]
  }
 ],
 "metadata": {
  "kernelspec": {
   "display_name": "soft",
   "language": "python",
   "name": "python3"
  },
  "language_info": {
   "codemirror_mode": {
    "name": "ipython",
    "version": 3
   },
   "file_extension": ".py",
   "mimetype": "text/x-python",
   "name": "python",
   "nbconvert_exporter": "python",
   "pygments_lexer": "ipython3",
   "version": "3.8.16"
  },
  "orig_nbformat": 4,
  "vscode": {
   "interpreter": {
    "hash": "5103b5dc615bcda33cb54d9b91143b3686f5f995c24adceaa9e3ace35345f8c5"
   }
  }
 },
 "nbformat": 4,
 "nbformat_minor": 2
}
